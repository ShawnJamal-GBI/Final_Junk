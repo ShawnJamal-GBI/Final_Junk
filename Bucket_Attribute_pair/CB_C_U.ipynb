{
 "cells": [
  {
   "cell_type": "code",
   "execution_count": 1,
   "metadata": {},
   "outputs": [],
   "source": [
    "import pandas as pd\n",
    "import re\n",
    "from ast import literal_eval\n",
    "from tqdm import tqdm\n",
    "from ftfy import fix_text\n",
    "# from util import UnitConversion, mapping_list_values, perl_to_posix\n",
    "from groupby_toolz import enrich_db, gcloud\n",
    "pd.set_option('display.max_colwidth', None)\n",
    "pd.options.display.max_columns = None\n",
    "pd.options.display.max_rows = 500\n",
    "from flashtext import KeywordProcessor\n",
    "from groupby_toolz import enrich_db, gcloud\n",
    "pd.set_option('display.max_colwidth', None)\n",
    "import ast\n",
    "import warnings\n",
    "import regex as re\n",
    "warnings.filterwarnings('ignore')\n",
    "from decimal import *\n",
    "TWOPLACES = Decimal(10) ** -2\n",
    "from natsort import natsorted\n",
    "import ast\n",
    "import time\n",
    "today = time.strftime(\"%Y_%m_%d\")\n",
    "from enrich_dimensions.rounds import rounds, rounding_inch_feet,rounding_lbs,rounding_w,rounding_oz, rounding_lb,rounding_gal, re_extract, curate, round_string_float, clean_data,reg_ex,rounding_period_after_unit \n",
    "from enrich_dimensions.params import parameters, query_from_file\n",
    "from enrich_dimensions.query_file import query_from_file \n",
    "from enrich_dimensions.custom import custom_field \n",
    "\n",
    "\n",
    "def get_unique_list(material_list):\n",
    "    unique_list = []\n",
    "    for item in material_list:\n",
    "        if isinstance(item, str) and \"[\" in item and \"]\" in item:\n",
    "            item_values = ast.literal_eval(item)\n",
    "            unique_list.extend(item_values)\n",
    "        else:\n",
    "            unique_list.append(item)\n",
    "    return sorted(list(set(unique_list)))\n",
    "\n",
    "\n",
    "\n",
    "customer_id = '11'\n",
    "customer_name='%crateandbarrel%'\n",
    "client='Crate and Barrel'"
   ]
  },
  {
   "cell_type": "code",
   "execution_count": 2,
   "metadata": {},
   "outputs": [
    {
     "name": "stdout",
     "output_type": "stream",
     "text": [
      "Start Query of Curated Data\n",
      "521037\n"
     ]
    }
   ],
   "source": [
    "dateszs='2001-08-11'\n",
    "attribut='features'\n",
    "dateszs='2001-11-01'\n",
    "curation_col = f'Q:{attribut}'\n",
    "params = {'customer_id': customer_id,\n",
    "          'customer_name':customer_name,\n",
    "         'dateszs':dateszs,\n",
    "         'attribut':attribut}\n",
    "\n",
    "print('Start Query of Curated Data')\n",
    "cb = query_from_file(file_name='query/curated_all_attributes_date_family.sql', params=params)\n",
    "print(len(cb))\n",
    "\n",
    "fill_dict = cb.groupby('external_id')['buckets'].last().to_dict()\n",
    "cb['buckets'] = cb['buckets'].fillna(cb['external_id'].map(fill_dict))"
   ]
  },
  {
   "cell_type": "markdown",
   "metadata": {},
   "source": [
    "# Check for Attribute bucket Values"
   ]
  },
  {
   "cell_type": "code",
   "execution_count": 14,
   "metadata": {},
   "outputs": [
    {
     "name": "stdout",
     "output_type": "stream",
     "text": [
      "114\n",
      "Number of attributes: 114\n",
      "\n",
      "Start Buckets\n",
      "0 Attribute: accent_chair_type\n",
      "Number of SKUs for the attribute accent_chair_type: 1365\n",
      "Start Buckets\n",
      "1 Attribute: age_group\n",
      "Number of SKUs for the attribute age_group: 503\n",
      "Start Buckets\n",
      "2 Attribute: apparel_size\n",
      "Number of SKUs for the attribute apparel_size: 15\n",
      "Start Buckets\n",
      "3 Attribute: appliance_cubic_feet\n",
      "Number of SKUs for the attribute appliance_cubic_feet: 3\n",
      "Start Buckets\n",
      "4 Attribute: arm_style\n",
      "Number of SKUs for the attribute arm_style: 657\n",
      "Start Buckets\n",
      "5 Attribute: artist\n",
      "Number of SKUs for the attribute artist: 97\n",
      "Start Buckets\n",
      "6 Attribute: artist_signature\n",
      "Number of SKUs for the attribute artist_signature: 5\n",
      "Start Buckets\n",
      "7 Attribute: bag_size\n",
      "Number of SKUs for the attribute bag_size: 29\n",
      "Start Buckets\n",
      "8 Attribute: base_color\n",
      "Number of SKUs for the attribute base_color: 578\n",
      "Buckets Effected: 1\n",
      "Number of SKUs to be wiped: 1\n",
      "\n",
      "\n",
      "Start Buckets\n",
      "9 Attribute: base_material\n",
      "Number of SKUs for the attribute base_material: 850\n",
      "Start Buckets\n",
      "10 Attribute: base_type\n",
      "Number of SKUs for the attribute base_type: 1412\n",
      "Start Buckets\n",
      "11 Attribute: bean_bag_diameter\n",
      "Number of SKUs for the attribute bean_bag_diameter: 106\n",
      "Start Buckets\n",
      "12 Attribute: bed_size\n",
      "Number of SKUs for the attribute bed_size: 1693\n",
      "Start Buckets\n",
      "13 Attribute: bed_style\n",
      "Number of SKUs for the attribute bed_style: 451\n",
      "Buckets Effected: 1\n",
      "Number of SKUs to be wiped: 6\n",
      "\n",
      "\n",
      "Start Buckets\n",
      "14 Attribute: bedding_size\n",
      "Number of SKUs for the attribute bedding_size: 1990\n",
      "Start Buckets\n",
      "15 Attribute: bedding_weight\n",
      "Number of SKUs for the attribute bedding_weight: 21\n",
      "Start Buckets\n",
      "16 Attribute: branch\n",
      "Number of SKUs for the attribute branch: 10483\n",
      "Start Buckets\n",
      "17 Attribute: brand\n",
      "Number of SKUs for the attribute brand: 2400\n",
      "Buckets Effected: 1\n",
      "Number of SKUs to be wiped: 1\n",
      "\n",
      "\n",
      "Start Buckets\n",
      "18 Attribute: candle_type\n",
      "Number of SKUs for the attribute candle_type: 313\n",
      "Start Buckets\n",
      "19 Attribute: canopy_color\n",
      "Number of SKUs for the attribute canopy_color: 9\n",
      "Start Buckets\n",
      "20 Attribute: capacity_by_ounce\n",
      "Number of SKUs for the attribute capacity_by_ounce: 240\n",
      "Start Buckets\n",
      "21 Attribute: capacity_by_quart\n",
      "Number of SKUs for the attribute capacity_by_quart: 144\n",
      "Start Buckets\n",
      "22 Attribute: capacity_range\n",
      "Number of SKUs for the attribute capacity_range: 135\n",
      "Start Buckets\n",
      "23 Attribute: care\n",
      "Number of SKUs for the attribute care: 11971\n",
      "Start Buckets\n",
      "24 Attribute: category_2\n",
      "Number of SKUs for the attribute category_2: 20503\n",
      "Start Buckets\n",
      "25 Attribute: coffee_maker_type\n",
      "Number of SKUs for the attribute coffee_maker_type: 152\n",
      "Start Buckets\n",
      "26 Attribute: collection\n",
      "Number of SKUs for the attribute collection: 11898\n",
      "Buckets Effected: 196\n",
      "Number of SKUs to be wiped: 619\n",
      "\n",
      "\n",
      "Start Buckets\n",
      "27 Attribute: color\n",
      "Number of SKUs for the attribute color: 16744\n",
      "Start Buckets\n",
      "28 Attribute: comfort_level\n",
      "Number of SKUs for the attribute comfort_level: 28\n",
      "Start Buckets\n",
      "29 Attribute: cookware_size\n",
      "Number of SKUs for the attribute cookware_size: 247\n",
      "Start Buckets\n",
      "30 Attribute: crate_dresser_chest_size\n",
      "Number of SKUs for the attribute crate_dresser_chest_size: 280\n",
      "Start Buckets\n",
      "31 Attribute: depth\n",
      "Number of SKUs for the attribute depth: 4752\n",
      "Start Buckets\n",
      "32 Attribute: design\n",
      "Number of SKUs for the attribute design: 209\n",
      "Start Buckets\n",
      "33 Attribute: desk_type\n",
      "Number of SKUs for the attribute desk_type: 21\n",
      "Start Buckets\n",
      "34 Attribute: diameter\n",
      "Number of SKUs for the attribute diameter: 297\n",
      "Start Buckets\n",
      "35 Attribute: dining_chair_type\n",
      "Number of SKUs for the attribute dining_chair_type: 87\n",
      "Start Buckets\n",
      "36 Attribute: fabric\n",
      "Number of SKUs for the attribute fabric: 12596\n",
      "Buckets Effected: 9\n",
      "Number of SKUs to be wiped: 60\n",
      "\n",
      "\n",
      "Start Buckets\n",
      "37 Attribute: features\n",
      "Number of SKUs for the attribute features: 12258\n",
      "Buckets Effected: 36\n",
      "Number of SKUs to be wiped: 226\n",
      "\n",
      "\n",
      "Start Buckets\n",
      "38 Attribute: fill\n",
      "Number of SKUs for the attribute fill: 6091\n",
      "Start Buckets\n",
      "39 Attribute: finish\n",
      "Number of SKUs for the attribute finish: 10795\n",
      "Buckets Effected: 2\n",
      "Number of SKUs to be wiped: 8\n",
      "\n",
      "\n",
      "Start Buckets\n",
      "40 Attribute: firmness_support\n",
      "Number of SKUs for the attribute firmness_support: 13\n",
      "Start Buckets\n",
      "41 Attribute: fragrance\n",
      "Number of SKUs for the attribute fragrance: 45\n",
      "Start Buckets\n",
      "42 Attribute: frame_color\n",
      "Number of SKUs for the attribute frame_color: 443\n",
      "Start Buckets\n",
      "43 Attribute: fuel_source\n",
      "Number of SKUs for the attribute fuel_source: 5\n",
      "Start Buckets\n",
      "44 Attribute: grill_type\n",
      "Number of SKUs for the attribute grill_type: 82\n",
      "Start Buckets\n",
      "45 Attribute: hanging_type\n",
      "Number of SKUs for the attribute hanging_type: 407\n",
      "Start Buckets\n",
      "46 Attribute: height\n",
      "Number of SKUs for the attribute height: 3546\n",
      "Start Buckets\n",
      "47 Attribute: held_in_1_ecommerce_warehouse\n",
      "Number of SKUs for the attribute held_in_1_ecommerce_warehouse: 26092\n",
      "Start Buckets\n",
      "48 Attribute: held_in_regional_warehouse\n",
      "Number of SKUs for the attribute held_in_regional_warehouse: 26086\n",
      "Start Buckets\n",
      "49 Attribute: holiday\n",
      "Number of SKUs for the attribute holiday: 380\n",
      "Start Buckets\n",
      "50 Attribute: knife_block_color\n",
      "Number of SKUs for the attribute knife_block_color: 165\n",
      "Start Buckets\n",
      "51 Attribute: knob_handle_type\n",
      "Number of SKUs for the attribute knob_handle_type: 218\n",
      "Start Buckets\n",
      "52 Attribute: le_creuset_color\n",
      "Number of SKUs for the attribute le_creuset_color: 419\n",
      "Buckets Effected: 7\n",
      "Number of SKUs to be wiped: 12\n",
      "\n",
      "\n",
      "Start Buckets\n",
      "53 Attribute: length\n",
      "Number of SKUs for the attribute length: 0\n",
      "Start Buckets\n",
      "54 Attribute: lifestage\n",
      "Number of SKUs for the attribute lifestage: 1673\n",
      "Start Buckets\n",
      "55 Attribute: light_filtration\n",
      "Number of SKUs for the attribute light_filtration: 439\n",
      "Start Buckets\n",
      "56 Attribute: material\n",
      "Number of SKUs for the attribute material: 12560\n",
      "Buckets Effected: 8\n",
      "Number of SKUs to be wiped: 21\n",
      "\n",
      "\n",
      "Start Buckets\n",
      "57 Attribute: material_type\n",
      "Number of SKUs for the attribute material_type: 11\n",
      "Start Buckets\n",
      "58 Attribute: mattress_type\n",
      "Number of SKUs for the attribute mattress_type: 55\n",
      "Start Buckets\n",
      "59 Attribute: maximum_television_size\n",
      "Number of SKUs for the attribute maximum_television_size: 282\n",
      "Start Buckets\n",
      "60 Attribute: maximum_wattage\n",
      "Number of SKUs for the attribute maximum_wattage: 865\n",
      "Start Buckets\n",
      "61 Attribute: metal_type\n",
      "Number of SKUs for the attribute metal_type: 47\n",
      "Start Buckets\n",
      "62 Attribute: mirror_type\n",
      "Number of SKUs for the attribute mirror_type: 148\n",
      "Start Buckets\n",
      "63 Attribute: model_type\n",
      "Number of SKUs for the attribute model_type: 16\n",
      "Start Buckets\n",
      "64 Attribute: nod_chair_size\n",
      "Number of SKUs for the attribute nod_chair_size: 23\n",
      "Start Buckets\n",
      "65 Attribute: number_of_cups\n",
      "Number of SKUs for the attribute number_of_cups: 224\n",
      "Start Buckets\n",
      "66 Attribute: number_of_drawers\n",
      "Number of SKUs for the attribute number_of_drawers: 820\n",
      "Start Buckets\n",
      "67 Attribute: number_of_shelves\n",
      "Number of SKUs for the attribute number_of_shelves: 1148\n",
      "Start Buckets\n",
      "68 Attribute: on_display_in_store\n",
      "Number of SKUs for the attribute on_display_in_store: 26098\n",
      "Start Buckets\n",
      "69 Attribute: orientation\n",
      "Number of SKUs for the attribute orientation: 999\n",
      "Start Buckets\n",
      "70 Attribute: outdoor_furniture_type\n",
      "Number of SKUs for the attribute outdoor_furniture_type: 338\n",
      "Start Buckets\n",
      "71 Attribute: oven_safe\n",
      "Number of SKUs for the attribute oven_safe: 3889\n",
      "Start Buckets\n",
      "72 Attribute: pattern\n",
      "Number of SKUs for the attribute pattern: 19043\n",
      "Start Buckets\n",
      "73 Attribute: picture_size\n",
      "Number of SKUs for the attribute picture_size: 107\n",
      "Start Buckets\n",
      "74 Attribute: pillow_size\n",
      "Number of SKUs for the attribute pillow_size: 1717\n",
      "Start Buckets\n",
      "75 Attribute: product_type\n",
      "Number of SKUs for the attribute product_type: 27188\n",
      "Buckets Effected: 46\n",
      "Number of SKUs to be wiped: 1297\n",
      "\n",
      "\n",
      "Start Buckets\n",
      "76 Attribute: refrigerator_type\n",
      "Number of SKUs for the attribute refrigerator_type: 18\n",
      "Start Buckets\n",
      "77 Attribute: rod_style\n",
      "Number of SKUs for the attribute rod_style: 107\n",
      "Start Buckets\n",
      "78 Attribute: room\n",
      "Number of SKUs for the attribute room: 11007\n",
      "Start Buckets\n",
      "79 Attribute: rug_size\n",
      "Number of SKUs for the attribute rug_size: 1133\n",
      "Start Buckets\n",
      "80 Attribute: rug_style\n",
      "Number of SKUs for the attribute rug_style: 1055\n",
      "Start Buckets\n",
      "81 Attribute: scent\n",
      "Number of SKUs for the attribute scent: 138\n",
      "Start Buckets\n",
      "82 Attribute: seasonal\n",
      "Number of SKUs for the attribute seasonal: 34326\n",
      "Start Buckets\n",
      "83 Attribute: seat_depth\n",
      "Number of SKUs for the attribute seat_depth: 782\n",
      "Start Buckets\n",
      "84 Attribute: seat_depth_numerical\n",
      "Number of SKUs for the attribute seat_depth_numerical: 147\n",
      "Start Buckets\n",
      "85 Attribute: seat_height\n",
      "Number of SKUs for the attribute seat_height: 609\n",
      "Start Buckets\n",
      "86 Attribute: seat_height_numerical\n",
      "Number of SKUs for the attribute seat_height_numerical: 274\n",
      "Start Buckets\n",
      "87 Attribute: seat_softness\n",
      "Number of SKUs for the attribute seat_softness: 624\n",
      "Start Buckets\n",
      "88 Attribute: seating_capacity\n",
      "Number of SKUs for the attribute seating_capacity: 231\n",
      "Start Buckets\n",
      "89 Attribute: sectional_shape\n",
      "Number of SKUs for the attribute sectional_shape: 1046\n",
      "Start Buckets\n",
      "90 Attribute: sectional_type\n",
      "Number of SKUs for the attribute sectional_type: 93\n",
      "Start Buckets\n",
      "91 Attribute: set_size\n",
      "Number of SKUs for the attribute set_size: 392\n",
      "Start Buckets\n",
      "92 Attribute: shade_color\n",
      "Number of SKUs for the attribute shade_color: 633\n",
      "Start Buckets\n",
      "93 Attribute: shape\n",
      "Number of SKUs for the attribute shape: 8786\n",
      "Buckets Effected: 1\n",
      "Number of SKUs to be wiped: 4\n",
      "\n",
      "\n",
      "Start Buckets\n",
      "94 Attribute: shelf_type\n",
      "Number of SKUs for the attribute shelf_type: 103\n",
      "Start Buckets\n",
      "95 Attribute: side_table_type\n",
      "Number of SKUs for the attribute side_table_type: 135\n",
      "Start Buckets\n",
      "96 Attribute: staub_color\n",
      "Number of SKUs for the attribute staub_color: 241\n",
      "Start Buckets\n",
      "97 Attribute: stoneware_type\n",
      "Number of SKUs for the attribute stoneware_type: 6\n",
      "Start Buckets\n",
      "98 Attribute: stroller_type\n",
      "Number of SKUs for the attribute stroller_type: 23\n",
      "Start Buckets\n",
      "99 Attribute: subject\n",
      "Number of SKUs for the attribute subject: 91\n",
      "Start Buckets\n",
      "100 Attribute: sustainability\n",
      "Number of SKUs for the attribute sustainability: 5644\n",
      "Start Buckets\n",
      "101 Attribute: synthetic_type\n",
      "Number of SKUs for the attribute synthetic_type: 2\n",
      "Start Buckets\n",
      "102 Attribute: table_height\n",
      "Number of SKUs for the attribute table_height: 295\n",
      "Start Buckets\n",
      "103 Attribute: table_linen_length\n",
      "Number of SKUs for the attribute table_linen_length: 40\n",
      "Start Buckets\n",
      "104 Attribute: table_linen_size\n",
      "Number of SKUs for the attribute table_linen_size: 207\n",
      "Start Buckets\n",
      "105 Attribute: table_linen_width\n",
      "Number of SKUs for the attribute table_linen_width: 33\n",
      "Start Buckets\n",
      "106 Attribute: theme\n",
      "Number of SKUs for the attribute theme: 3760\n",
      "Start Buckets\n",
      "107 Attribute: top_material\n",
      "Number of SKUs for the attribute top_material: 195\n",
      "Start Buckets\n",
      "108 Attribute: type_crate_sunbrella\n",
      "Number of SKUs for the attribute type_crate_sunbrella: 1024\n",
      "Start Buckets\n",
      "109 Attribute: umbrella_size\n",
      "Number of SKUs for the attribute umbrella_size: 66\n",
      "Start Buckets\n",
      "110 Attribute: vase_type\n",
      "Number of SKUs for the attribute vase_type: 156\n",
      "Start Buckets\n",
      "111 Attribute: width\n",
      "Number of SKUs for the attribute width: 4464\n",
      "Buckets Effected: 1\n",
      "Number of SKUs to be wiped: 1\n",
      "\n",
      "\n",
      "Start Buckets\n",
      "112 Attribute: wood_finish\n",
      "Number of SKUs for the attribute wood_finish: 66\n",
      "Start Buckets\n",
      "113 Attribute: wood_type\n",
      "Number of SKUs for the attribute wood_type: 71\n"
     ]
    }
   ],
   "source": [
    "print(len(sorted(cb['attribute'].explode().value_counts().reset_index()['index'].to_list())))\n",
    "lst_attribute=sorted(cb['attribute'].explode().value_counts().reset_index()['index'].to_list())\n",
    "print('Number of attributes: '+str(len(lst_attribute)))\n",
    "print('')\n",
    "\n",
    "# lst_attribute=['collection']\n",
    "for i in range(len(lst_attribute)):\n",
    "    attri=lst_attribute[i]\n",
    "    dateszs='2001-08-11'\n",
    "    attribut=attri\n",
    "    dateszs='2001-11-01'\n",
    "    curation_col = f'Q:{attribut}'\n",
    "    params = {'customer_id': customer_id,\n",
    "              'customer_name':customer_name,\n",
    "             'dateszs':dateszs,\n",
    "             'attribut':attribut}\n",
    "\n",
    "    print('Start Buckets')\n",
    "    print(str(i)+' Attribute: '+str(attri))\n",
    "    bucket_value = query_from_file(file_name='query/Bucket_Value_Strategy.sql', params=params)\n",
    "\n",
    "    brand=cb[(cb['value'].astype(str)!='[\"n/a\"]')&(cb['value'].astype(str)!='n/a')&(cb['attribute'].astype(str)==attri)]\n",
    "    print('Number of SKUs for the attribute '+str(attri)+': '+str(len(brand)))\n",
    "    list_of_all_buckets=sorted(list(set(bucket_value['buckets'].to_list())))\n",
    "\n",
    "    brand=cb[(cb['value'].astype(str)!='[\"n/a\"]')&(cb['value'].astype(str)!='n/a')&(cb['attribute'].astype(str)==attri)]\n",
    "#     print('Number of SKUs for the attribute '+str(attri)+': '+str(len(brand)))\n",
    "    list_of_all_buckets=sorted(list(set(bucket_value['buckets'].to_list())))\n",
    "\n",
    "    filtered_dfs = {}\n",
    "    b_lst=[]\n",
    "\n",
    "    for i in range(len(list_of_all_buckets)):\n",
    "\n",
    "        # values that are supposed to be in the buckets\n",
    "        action_bucket_values=bucket_value[bucket_value['buckets'].astype(str)==list_of_all_buckets[i]]['values'].to_list()\n",
    "\n",
    "        # values that are actually in the curation\n",
    "        action=brand[brand['buckets'].astype(str)==list_of_all_buckets[i]]['value'].to_list()\n",
    "\n",
    "        unique_values=get_unique_list(action)\n",
    "\n",
    "        target=[x for x in unique_values if x not in action_bucket_values]\n",
    "        if len(target) > 0:\n",
    "            target = target[0]\n",
    "            pat=f'''(?i)({target})|()'''\n",
    "            bucket_filtered_df=brand[brand['buckets'].astype(str)==list_of_all_buckets[i]]\n",
    "            bucket_filtered_df['match']=bucket_filtered_df['value'].apply(lambda x: re_extract(pat,str(x)))\n",
    "            fil=bucket_filtered_df[bucket_filtered_df['match'].astype(str)!='[]']\n",
    "            filtered_dfs[list_of_all_buckets[i]] = fil\n",
    "            b_lst.append(list_of_all_buckets[i])\n",
    "        else:\n",
    "            pass\n",
    "\n",
    "\n",
    "    b_lst[0:10]\n",
    "    valuez = {}\n",
    "    external_id_list=[]\n",
    "    for i in range(len(b_lst)):\n",
    "        valuez[b_lst[i]]=filtered_dfs[b_lst[i]][['external_id','value']]\n",
    "        external_id_list.append(filtered_dfs[b_lst[i]]['external_id'].tolist())\n",
    "    import itertools\n",
    "    flattened_list = list(itertools.chain.from_iterable(external_id_list))\n",
    "    if len(flattened_list)>0:\n",
    "        print('Buckets Effected: '+str(len(b_lst)))\n",
    "        df_name = f'match_{attri}'\n",
    "        data = {'external_id': flattened_list, f'Q:{attri}': '[]'}\n",
    "        df_dict = {df_name: pd.DataFrame(data)}\n",
    "        new_df = df_dict[df_name]\n",
    "        print('Number of SKUs to be wiped: '+str(len(new_df)))\n",
    "        print('')\n",
    "        print('')\n",
    "\n",
    "        def get_df_name(df):\n",
    "            name =[x for x in globals() if globals()[x] is df][0]\n",
    "            return name\n",
    "        def looks_good(customer, matches,attri): \n",
    "            drive_path = f'G:/Shared drives/GroupBy Public/Customer Success/.Enrich/Platform Upload Trail/{customer}/Ready For Upload' \n",
    "            matches.to_csv(f'{drive_path}/{client} --{get_df_name(matches)}match_{attri}-{today}.csv',index=False) \n",
    "        looks_good(client, new_df,attri) \n",
    "    else:\n",
    "        pass"
   ]
  },
  {
   "cell_type": "code",
   "execution_count": 13,
   "metadata": {},
   "outputs": [],
   "source": [
    "# cb[cb['external_id'].isin(flattened_list)]['value'].explode().value_counts()"
   ]
  },
  {
   "cell_type": "markdown",
   "metadata": {},
   "source": [
    "# Check Freetext Attributes"
   ]
  },
  {
   "cell_type": "code",
   "execution_count": 4,
   "metadata": {},
   "outputs": [],
   "source": [
    "patterns = {\n",
    "    'appliance_cubic_feet': r'(cu ft)|(n\\/a)|()',\n",
    "    'capacity_by_ounce': r'(\\d oz)|(n\\/a)|()',\n",
    "    'capacity_by_quart': r'(\\d qt)|(n\\/a)|()',\n",
    "    'depth':r'(\\d in)|(\\d ft)|(n\\/a)',\n",
    "    'diameter':r'(\\d in)|(\\d ft)|(n\\/a)',\n",
    "    'height':r'(\\d in)|(\\d ft)|(n\\/a)',\n",
    "    'length':r'(\\d in)|(\\d ft)|(n\\/a)',\n",
    "    'seat_depth_numerical':r'(\\d in)|(\\d ft)|(n\\/a)',\n",
    "    'seat_height_numerical':r'(\\d in)|(\\d ft)|(n\\/a)',\n",
    "    'table_linen_length':r'(\\d in)|(n\\/a)',\n",
    "    'table_linen_width':r'(\\d in)|(n\\/a)'\n",
    "}"
   ]
  },
  {
   "cell_type": "code",
   "execution_count": 5,
   "metadata": {},
   "outputs": [
    {
     "name": "stdout",
     "output_type": "stream",
     "text": [
      "Number of SKUs for appliance_cubic_feet: 9\n",
      "No SKUs to be wiped for appliance_cubic_feet\n",
      "Number of SKUs for capacity_by_ounce: 2427\n",
      "No SKUs to be wiped for capacity_by_ounce\n",
      "Number of SKUs for capacity_by_quart: 1485\n",
      "Number of SKUs to be wiped: 7\n",
      "\n",
      "\n",
      "Number of SKUs for depth: 7009\n",
      "Number of SKUs to be wiped: 2\n",
      "\n",
      "\n",
      "Number of SKUs for diameter: 2897\n",
      "No SKUs to be wiped for diameter\n",
      "Number of SKUs for height: 4616\n",
      "Number of SKUs to be wiped: 2\n",
      "\n",
      "\n",
      "Number of SKUs for length: 3\n",
      "No SKUs to be wiped for length\n",
      "Number of SKUs for seat_depth_numerical: 613\n",
      "No SKUs to be wiped for seat_depth_numerical\n",
      "Number of SKUs for seat_height_numerical: 1352\n",
      "No SKUs to be wiped for seat_height_numerical\n",
      "Number of SKUs for table_linen_length: 66\n",
      "No SKUs to be wiped for table_linen_length\n",
      "Number of SKUs for table_linen_width: 33\n",
      "No SKUs to be wiped for table_linen_width\n"
     ]
    }
   ],
   "source": [
    "def filter_empty_matches(dataframe, attribute, pattern):\n",
    "    matches = dataframe[dataframe['attribute'].astype(str) == attribute]['value'].apply(lambda x: re_extract(pattern,str(x)))\n",
    "    empty_matches = matches.apply(lambda x: len(x) == 0)\n",
    "    return dataframe[dataframe['attribute'].astype(str) == attribute][empty_matches]\n",
    "\n",
    "def count_empty_matches(dataframe, attribute, pattern):\n",
    "    print(f'Number of SKUs for {attribute}: '+str(len(dataframe[dataframe['attribute'].astype(str) == attribute])))\n",
    "    matches = dataframe[dataframe['attribute'].astype(str) == attribute]['value'].apply(lambda x: re_extract(pattern,str(x)))\n",
    "    return sum(len(match) == 0 for match in matches)\n",
    "\n",
    "\n",
    "filtered_dataframes = {}\n",
    "for attribute, pattern in patterns.items():\n",
    "    filtered_dataframes[attribute] = filter_empty_matches(cb, attribute, pattern)\n",
    "    \n",
    "counts = {}\n",
    "for attribute, pattern in patterns.items():\n",
    "    counts[attribute] = count_empty_matches(cb, attribute, pattern)\n",
    "#     print(f'Rows that need to be wiped for {attribute}: '+f': {counts[attribute]}')\n",
    "   \n",
    "\n",
    "    try:\n",
    "        flattened_list = filtered_dataframes[attribute]['external_id'].to_list()\n",
    "        if len(flattened_list) > 0:\n",
    "            df_name = f'match_{attribute}'\n",
    "            data = {'external_id': flattened_list, f'Q:{attribute}': '[]'}\n",
    "            df_dict = {df_name: pd.DataFrame(data)}\n",
    "            new_df = df_dict[df_name]\n",
    "            print('Number of SKUs to be wiped: ' + str(len(new_df)))\n",
    "            print('')\n",
    "            print('')\n",
    "\n",
    "            def get_df_name(df):\n",
    "                name = [x for x in globals() if globals()[x] is df][0]\n",
    "                return name\n",
    "\n",
    "            def looks_good(customer, matches, attribute):\n",
    "                today = pd.Timestamp.today().strftime(\"%Y-%m-%d\")\n",
    "                drive_path = f'G:/Shared drives/GroupBy Public/Customer Success/.Enrich/Platform Upload Trail/{customer}/Ready For Upload'\n",
    "                matches.to_csv(f'{drive_path}/{client} --{get_df_name(matches)}match_{attribute}-{today}.csv', index=False)\n",
    "            looks_good(client, new_df, attribute)\n",
    "            \n",
    "        else:\n",
    "            print('No SKUs to be wiped for ' + attribute)\n",
    "    except KeyError:\n",
    "        print('Error: DataFrame with name ' + df_name + ' does not exist')"
   ]
  },
  {
   "cell_type": "code",
   "execution_count": null,
   "metadata": {},
   "outputs": [],
   "source": []
  },
  {
   "cell_type": "code",
   "execution_count": null,
   "metadata": {},
   "outputs": [],
   "source": []
  },
  {
   "cell_type": "code",
   "execution_count": null,
   "metadata": {},
   "outputs": [],
   "source": []
  },
  {
   "cell_type": "code",
   "execution_count": null,
   "metadata": {},
   "outputs": [],
   "source": []
  },
  {
   "cell_type": "code",
   "execution_count": null,
   "metadata": {},
   "outputs": [],
   "source": []
  },
  {
   "cell_type": "code",
   "execution_count": null,
   "metadata": {},
   "outputs": [],
   "source": [
    "# width\n",
    "# depth\n",
    "# height\n",
    "# capacity_by_ounce\n",
    "# diameter\n",
    "# seat_depth_numerical"
   ]
  },
  {
   "cell_type": "code",
   "execution_count": 712,
   "metadata": {},
   "outputs": [
    {
     "name": "stdout",
     "output_type": "stream",
     "text": [
      "111\n"
     ]
    },
    {
     "data": {
      "text/plain": [
       "['type_crate_sunbrella',\n",
       " 'umbrella_size',\n",
       " 'vase_type',\n",
       " 'width',\n",
       " 'wood_finish',\n",
       " 'wood_type']"
      ]
     },
     "execution_count": 712,
     "metadata": {},
     "output_type": "execute_result"
    }
   ],
   "source": [
    "print(len(sorted(cb['attribute'].explode().value_counts().reset_index()['index'].to_list())))\n",
    "sorted(cb['attribute'].explode().value_counts().reset_index()['index'].to_list())[105:]"
   ]
  },
  {
   "cell_type": "code",
   "execution_count": 739,
   "metadata": {},
   "outputs": [
    {
     "name": "stdout",
     "output_type": "stream",
     "text": [
      "Start Buckets\n"
     ]
    }
   ],
   "source": [
    "attri='wood_type'\n",
    "dateszs='2001-08-11'\n",
    "attribut=attri\n",
    "dateszs='2001-11-01'\n",
    "curation_col = f'Q:{attribut}'\n",
    "params = {'customer_id': customer_id,\n",
    "          'customer_name':customer_name,\n",
    "         'dateszs':dateszs,\n",
    "         'attribut':attribut}\n",
    "\n",
    "print('Start Buckets')\n",
    "bucket_value = query_from_file(file_name='query/Bucket_Value_Strategy.sql', params=params)"
   ]
  },
  {
   "cell_type": "code",
   "execution_count": 740,
   "metadata": {},
   "outputs": [
    {
     "name": "stdout",
     "output_type": "stream",
     "text": [
      "72\n"
     ]
    }
   ],
   "source": [
    "brand=cb[(cb['value'].astype(str)!='[\"n/a\"]')&(cb['value'].astype(str)!='n/a')&(cb['attribute'].astype(str)==attri)]\n",
    "print(len(brand))\n",
    "list_of_all_buckets=sorted(list(set(bucket_value['buckets'].to_list())))"
   ]
  },
  {
   "cell_type": "markdown",
   "metadata": {},
   "source": [
    "# Curated"
   ]
  },
  {
   "cell_type": "code",
   "execution_count": 741,
   "metadata": {},
   "outputs": [],
   "source": [
    "filtered_dfs = {}\n",
    "b_lst=[]\n",
    "\n",
    "def get_unique_list(material_list):\n",
    "    unique_list = []\n",
    "    for item in material_list:\n",
    "        if isinstance(item, str) and \"[\" in item and \"]\" in item:\n",
    "            item_values = ast.literal_eval(item)\n",
    "            unique_list.extend(item_values)\n",
    "        else:\n",
    "            unique_list.append(item)\n",
    "    return sorted(list(set(unique_list)))\n",
    "\n",
    "\n",
    "for i in range(len(list_of_all_buckets)):\n",
    "    \n",
    "    # values that are supposed to be in the buckets\n",
    "    action_bucket_values=bucket_value[bucket_value['buckets'].astype(str)==list_of_all_buckets[i]]['values'].to_list()\n",
    "    \n",
    "    # values that are actually in the curation\n",
    "    action=brand[brand['buckets'].astype(str)==list_of_all_buckets[i]]['value'].to_list()\n",
    "    \n",
    "    unique_values=get_unique_list(action)\n",
    "    \n",
    "#     print(action_bucket_values)\n",
    "#     print(action)\n",
    "#     print(brand[brand['buckets'].astype(str)==list_of_all_buckets[i]]['buckets'])\n",
    "#     print(unique_values)\n",
    "#     print('')\n",
    "    \n",
    "    \n",
    "\n",
    "        \n",
    "    target=[x for x in unique_values if x not in action_bucket_values]\n",
    "#     print(list_of_all_buckets[i])\n",
    "#     print(target)\n",
    "#     print('')\n",
    "    if len(target) > 0:\n",
    "        target = target[0]\n",
    "        pat=f'''(?i)({target})|()'''\n",
    "        bucket_filtered_df=brand[brand['buckets'].astype(str)==list_of_all_buckets[i]]\n",
    "        bucket_filtered_df['match']=bucket_filtered_df['value'].apply(lambda x: re_extract(pat,str(x)))\n",
    "        fil=bucket_filtered_df[bucket_filtered_df['match'].astype(str)!='[]']\n",
    "        filtered_dfs[list_of_all_buckets[i]] = fil\n",
    "        b_lst.append(list_of_all_buckets[i])\n",
    "    else:\n",
    "        pass"
   ]
  },
  {
   "cell_type": "code",
   "execution_count": 742,
   "metadata": {},
   "outputs": [
    {
     "name": "stdout",
     "output_type": "stream",
     "text": [
      "0\n"
     ]
    }
   ],
   "source": [
    "print(len(b_lst))\n",
    "b_lst[0:10]\n",
    "valuez = {}\n",
    "external_id_list=[]\n",
    "for i in range(len(b_lst)):\n",
    "    valuez[b_lst[i]]=filtered_dfs[b_lst[i]][['external_id','value']]\n",
    "    external_id_list.append(filtered_dfs[b_lst[i]]['external_id'].tolist())\n",
    "import itertools\n",
    "flattened_list = list(itertools.chain.from_iterable(external_id_list))"
   ]
  },
  {
   "cell_type": "code",
   "execution_count": 743,
   "metadata": {},
   "outputs": [
    {
     "data": {
      "text/plain": [
       "Series([], Name: buckets, dtype: int64)"
      ]
     },
     "execution_count": 743,
     "metadata": {},
     "output_type": "execute_result"
    }
   ],
   "source": [
    "# print(len(brand[brand['external_id'].isin(flattened_list)]))\n",
    "brand[brand['external_id'].isin(flattened_list)]['buckets'].explode().value_counts()"
   ]
  },
  {
   "cell_type": "code",
   "execution_count": 744,
   "metadata": {},
   "outputs": [
    {
     "data": {
      "text/plain": [
       "Series([], Name: value, dtype: int64)"
      ]
     },
     "execution_count": 744,
     "metadata": {},
     "output_type": "execute_result"
    }
   ],
   "source": [
    "brand[brand['external_id'].isin(flattened_list)]['value'].explode().value_counts()"
   ]
  },
  {
   "cell_type": "code",
   "execution_count": 745,
   "metadata": {},
   "outputs": [],
   "source": [
    "# brand[brand['external_id'].isin(flattened_list)]"
   ]
  },
  {
   "cell_type": "code",
   "execution_count": null,
   "metadata": {},
   "outputs": [],
   "source": []
  },
  {
   "cell_type": "code",
   "execution_count": 597,
   "metadata": {},
   "outputs": [
    {
     "ename": "NameError",
     "evalue": "name 'err' is not defined",
     "output_type": "error",
     "traceback": [
      "\u001b[1;31m---------------------------------------------------------------------------\u001b[0m",
      "\u001b[1;31mNameError\u001b[0m                                 Traceback (most recent call last)",
      "\u001b[1;32m<ipython-input-597-ea5d7e39dd60>\u001b[0m in \u001b[0;36m<module>\u001b[1;34m\u001b[0m\n\u001b[1;32m----> 1\u001b[1;33m \u001b[0merr\u001b[0m\u001b[1;33m\u001b[0m\u001b[1;33m\u001b[0m\u001b[0m\n\u001b[0m",
      "\u001b[1;31mNameError\u001b[0m: name 'err' is not defined"
     ]
    }
   ],
   "source": [
    "err"
   ]
  },
  {
   "cell_type": "code",
   "execution_count": null,
   "metadata": {},
   "outputs": [],
   "source": []
  },
  {
   "cell_type": "code",
   "execution_count": 653,
   "metadata": {},
   "outputs": [
    {
     "name": "stdout",
     "output_type": "stream",
     "text": [
      "stroller_type\n",
      "stroller_type\n",
      "stroller_type\n"
     ]
    }
   ],
   "source": [
    "print(attri)\n",
    "print(attri)\n",
    "print(attri)"
   ]
  },
  {
   "cell_type": "code",
   "execution_count": 654,
   "metadata": {},
   "outputs": [
    {
     "name": "stdout",
     "output_type": "stream",
     "text": [
      "2\n"
     ]
    }
   ],
   "source": [
    "match_stroller_type = pd.DataFrame({'external_id': flattened_list, f'Q:{attri}': '[]'})\n",
    "print(len(match_stroller_type))"
   ]
  },
  {
   "cell_type": "code",
   "execution_count": 655,
   "metadata": {},
   "outputs": [],
   "source": [
    "def get_df_name(df):\n",
    "    name =[x for x in globals() if globals()[x] is df][0]\n",
    "    return name\n",
    "def looks_good(customer, matches): \n",
    "    drive_path = f'G:/Shared drives/GroupBy Public/Customer Success/.Enrich/Platform Upload Trail/{customer}/Ready For Upload' \n",
    "    matches.to_csv(f'{drive_path}/{client} --{get_df_name(matches)}match_stroller_type-{today}.csv',index=False) \n",
    "looks_good(client, match_stroller_type) "
   ]
  },
  {
   "cell_type": "code",
   "execution_count": null,
   "metadata": {},
   "outputs": [],
   "source": []
  },
  {
   "cell_type": "code",
   "execution_count": null,
   "metadata": {},
   "outputs": [],
   "source": []
  },
  {
   "cell_type": "code",
   "execution_count": null,
   "metadata": {},
   "outputs": [],
   "source": []
  },
  {
   "cell_type": "code",
   "execution_count": null,
   "metadata": {},
   "outputs": [],
   "source": []
  },
  {
   "cell_type": "code",
   "execution_count": null,
   "metadata": {},
   "outputs": [],
   "source": []
  },
  {
   "cell_type": "code",
   "execution_count": 751,
   "metadata": {},
   "outputs": [],
   "source": [
    "# cb[(cb['attribute'].astype(str)=='appliance_cubic_feet')&(cb['buckets'].astype(str)=='Microwaves')]['value'].explode().value_counts()"
   ]
  },
  {
   "cell_type": "code",
   "execution_count": 754,
   "metadata": {},
   "outputs": [],
   "source": [
    "# cb[(cb['attribute'].astype(str)=='brand')&(cb['buckets'].astype(str)=='Baby Jumpers, Swings, & Rockers')]#['value'].explode().value_counts()"
   ]
  },
  {
   "cell_type": "code",
   "execution_count": 755,
   "metadata": {},
   "outputs": [
    {
     "data": {
      "text/plain": [
       "Nuna          12\n",
       "Clek           4\n",
       "n/a            3\n",
       "Nuna revv™     1\n",
       "Name: value, dtype: int64"
      ]
     },
     "execution_count": 755,
     "metadata": {},
     "output_type": "execute_result"
    }
   ],
   "source": [
    "# cb[(cb['attribute'].astype(str)=='brand')&(cb['buckets'].astype(str)=='Baby Travel Seats')]['value'].explode().value_counts()"
   ]
  },
  {
   "cell_type": "code",
   "execution_count": 758,
   "metadata": {},
   "outputs": [
    {
     "data": {
      "text/plain": [
       "n/a       2184\n",
       "20 oz       13\n",
       "16 oz       11\n",
       "9 oz        11\n",
       "22 oz       10\n",
       "27 oz       10\n",
       "12 oz        8\n",
       "6.5 oz       8\n",
       "10 oz        7\n",
       "6 oz         7\n",
       "Name: value, dtype: int64"
      ]
     },
     "execution_count": 758,
     "metadata": {},
     "output_type": "execute_result"
    }
   ],
   "source": [
    "cb[(cb['attribute'].astype(str)=='capacity_by_ounce')]['value'].explode().value_counts()[0:10]"
   ]
  },
  {
   "cell_type": "code",
   "execution_count": 763,
   "metadata": {},
   "outputs": [
    {
     "name": "stdout",
     "output_type": "stream",
     "text": [
      "0\n"
     ]
    }
   ],
   "source": [
    "x=cb[(cb['attribute'].astype(str)=='capacity_by_ounce')]#['value'].explode().value_counts()\n",
    "pat='''(?i)(n\\/a)|(\\d+(?:\\.\\d+)?\\soz)|()'''\n",
    "x['match']=x['value'].apply(lambda x: re_extract(pat,str(x)))\n",
    "y=x[x['match'].astype(str)=='[]']\n",
    "print(len(y))"
   ]
  },
  {
   "cell_type": "code",
   "execution_count": 767,
   "metadata": {},
   "outputs": [],
   "source": [
    "# cb[(cb['attribute'].astype(str)=='collection')]#['buckets'].explode().value_counts()"
   ]
  },
  {
   "cell_type": "code",
   "execution_count": 769,
   "metadata": {},
   "outputs": [
    {
     "name": "stdout",
     "output_type": "stream",
     "text": [
      "1155\n"
     ]
    }
   ],
   "source": [
    "x=cb[(cb['attribute'].astype(str)=='depth')]#['value'].explode().value_counts()\n",
    "\n",
    "pat='''(?i)(n\\/a)|(\\d+(?:\\.\\d+)?\\sin)|()'''\n",
    "x['match']=x['value'].apply(lambda x: re_extract(pat,str(x)))\n",
    "y=x[x['match'].astype(str)=='[]']\n",
    "print(len(y))\n",
    "y['Q:depth']='[]'\n",
    "match_depth=y[['external_id','Q:depth']]"
   ]
  },
  {
   "cell_type": "code",
   "execution_count": 774,
   "metadata": {},
   "outputs": [],
   "source": []
  },
  {
   "cell_type": "code",
   "execution_count": 794,
   "metadata": {},
   "outputs": [],
   "source": [
    "def get_df_name(df):\n",
    "    name =[x for x in globals() if globals()[x] is df][0]\n",
    "    return name\n",
    "def looks_good(customer, matches): \n",
    "    drive_path = f'G:/Shared drives/GroupBy Public/Customer Success/.Enrich/Platform Upload Trail/{customer}/Ready For Upload' \n",
    "    matches.to_csv(f'{drive_path}/{client} --{get_df_name(matches)}match_seat_height_numerical-{today}.csv',index=False) \n",
    "looks_good(client, match_seat_height_numerical) "
   ]
  },
  {
   "cell_type": "code",
   "execution_count": 780,
   "metadata": {},
   "outputs": [
    {
     "name": "stdout",
     "output_type": "stream",
     "text": [
      "49\n"
     ]
    }
   ],
   "source": [
    "x=cb[(cb['attribute'].astype(str)=='diameter')]#['value'].explode().value_counts()\n",
    "\n",
    "pat='''(?i)(n\\/a)|(\\d+(?:\\.\\d+)?\\sin)|()'''\n",
    "x['match']=x['value'].apply(lambda x: re_extract(pat,str(x)))\n",
    "y=x[x['match'].astype(str)=='[]']\n",
    "print(len(y))\n",
    "y['Q:diameter']='[]'\n",
    "match_diameter=y[['external_id','Q:diameter']]"
   ]
  },
  {
   "cell_type": "code",
   "execution_count": 785,
   "metadata": {},
   "outputs": [
    {
     "name": "stdout",
     "output_type": "stream",
     "text": [
      "158\n"
     ]
    }
   ],
   "source": [
    "x=cb[(cb['attribute'].astype(str)=='height')]#['value'].explode().value_counts()\n",
    "\n",
    "pat='''(?i)(n\\/a)|(\\d+(?:\\.\\d+)?\\sin)|()'''\n",
    "x['match']=x['value'].apply(lambda x: re_extract(pat,str(x)))\n",
    "y=x[x['match'].astype(str)=='[]']\n",
    "print(len(y))\n",
    "y['Q:height']='[]'\n",
    "match_height=y[['external_id','Q:height']]"
   ]
  },
  {
   "cell_type": "code",
   "execution_count": 787,
   "metadata": {},
   "outputs": [
    {
     "data": {
      "text/plain": [
       "n/a    3\n",
       "Name: value, dtype: int64"
      ]
     },
     "execution_count": 787,
     "metadata": {},
     "output_type": "execute_result"
    }
   ],
   "source": [
    "cb[(cb['attribute'].astype(str)=='length')]['value'].explode().value_counts()"
   ]
  },
  {
   "cell_type": "code",
   "execution_count": 790,
   "metadata": {},
   "outputs": [
    {
     "name": "stdout",
     "output_type": "stream",
     "text": [
      "0\n"
     ]
    }
   ],
   "source": [
    "x=cb[(cb['attribute'].astype(str)=='seat_depth_numerical')]#['value'].explode().value_counts()\n",
    "\n",
    "pat='''(?i)(n\\/a)|(\\d+(?:\\.\\d+)?\\sin)|()'''\n",
    "x['match']=x['value'].apply(lambda x: re_extract(pat,str(x)))\n",
    "y=x[x['match'].astype(str)=='[]']\n",
    "print(len(y))\n",
    "# y['Q:height']='[]'\n",
    "# match_height=y[['external_id','Q:height']]"
   ]
  },
  {
   "cell_type": "code",
   "execution_count": 793,
   "metadata": {},
   "outputs": [
    {
     "name": "stdout",
     "output_type": "stream",
     "text": [
      "2\n"
     ]
    }
   ],
   "source": [
    "x=cb[(cb['attribute'].astype(str)=='seat_height_numerical')]#['value'].explode().value_counts()\n",
    "\n",
    "pat='''(?i)(n\\/a)|(\\d+(?:\\.\\d+)?\\sin)|()'''\n",
    "x['match']=x['value'].apply(lambda x: re_extract(pat,str(x)))\n",
    "y=x[x['match'].astype(str)=='[]']\n",
    "print(len(y))\n",
    "y['Q:seat_height_numerical']='[]'\n",
    "match_seat_height_numerical=y[['external_id','Q:seat_height_numerical']]"
   ]
  },
  {
   "cell_type": "code",
   "execution_count": 796,
   "metadata": {},
   "outputs": [
    {
     "name": "stdout",
     "output_type": "stream",
     "text": [
      "0\n"
     ]
    }
   ],
   "source": [
    "x=cb[(cb['attribute'].astype(str)=='table_linen_length')]#['value'].explode().value_counts()\n",
    "\n",
    "pat='''(?i)(n\\/a)|(\\d+(?:\\.\\d+)?\\sin)|()'''\n",
    "x['match']=x['value'].apply(lambda x: re_extract(pat,str(x)))\n",
    "y=x[x['match'].astype(str)=='[]']\n",
    "print(len(y))\n",
    "# y['Q:seat_height_numerical']='[]'\n",
    "# match_seat_height_numerical=y[['external_id','Q:seat_height_numerical']]"
   ]
  },
  {
   "cell_type": "code",
   "execution_count": 798,
   "metadata": {},
   "outputs": [
    {
     "name": "stdout",
     "output_type": "stream",
     "text": [
      "0\n"
     ]
    }
   ],
   "source": [
    "x=cb[(cb['attribute'].astype(str)=='width')]#['value'].explode().value_counts()\n",
    "\n",
    "pat='''(?i)(n\\/a)|(\\d+(?:\\.\\d+)?\\sin)|()'''\n",
    "x['match']=x['value'].apply(lambda x: re_extract(pat,str(x)))\n",
    "y=x[x['match'].astype(str)=='[]']\n",
    "print(len(y))\n",
    "# y['Q:seat_height_numerical']='[]'\n",
    "# match_seat_height_numerical=y[['external_id','Q:seat_height_numerical']]"
   ]
  },
  {
   "cell_type": "code",
   "execution_count": null,
   "metadata": {},
   "outputs": [],
   "source": []
  },
  {
   "cell_type": "code",
   "execution_count": null,
   "metadata": {},
   "outputs": [],
   "source": []
  },
  {
   "cell_type": "code",
   "execution_count": null,
   "metadata": {},
   "outputs": [],
   "source": []
  },
  {
   "cell_type": "code",
   "execution_count": null,
   "metadata": {},
   "outputs": [],
   "source": []
  },
  {
   "cell_type": "code",
   "execution_count": null,
   "metadata": {},
   "outputs": [],
   "source": []
  },
  {
   "cell_type": "code",
   "execution_count": null,
   "metadata": {},
   "outputs": [],
   "source": []
  },
  {
   "cell_type": "code",
   "execution_count": 27,
   "metadata": {},
   "outputs": [],
   "source": [
    "# cb['attribute'].explode().value_counts()"
   ]
  },
  {
   "cell_type": "code",
   "execution_count": 43,
   "metadata": {},
   "outputs": [],
   "source": [
    "pat='''(?i)(.{0,30}(?:green.?gold).{0,30})|()'''\n",
    "dfs['matches']=dfs['custom_fields'].apply(lambda x: re_extract(pat,str(x)))\n",
    "dfs['match']=dfs['long_desc'].apply(lambda x: re_extract(pat,str(x)))"
   ]
  },
  {
   "cell_type": "code",
   "execution_count": 44,
   "metadata": {},
   "outputs": [
    {
     "name": "stdout",
     "output_type": "stream",
     "text": [
      "0\n"
     ]
    }
   ],
   "source": [
    "# bif=dfs[(dfs['value'].astype(str)=='n/a')&((dfs['match'].astype(str)!='[]')|(dfs['matches'].astype(str)!='[]'))]\n",
    "bif=dfs[((dfs['match'].astype(str)!='[]')|(dfs['matches'].astype(str)!='[]'))]\n",
    "bif=bif[(bif['value'].astype(str)!='Greenguard Gold Certified')&(bif['value'].astype(str)!='[\"Greenguard Gold Certified\",\"Organic\"]')&(bif['value'].astype(str)!='[\"FSC® Certified\",\"Greenguard Gold Certified\"]')]\n",
    "print(len(bif))"
   ]
  },
  {
   "cell_type": "code",
   "execution_count": 45,
   "metadata": {},
   "outputs": [
    {
     "data": {
      "text/plain": [
       "Series([], Name: value, dtype: int64)"
      ]
     },
     "execution_count": 45,
     "metadata": {},
     "output_type": "execute_result"
    }
   ],
   "source": [
    "bif['value'].explode().value_counts()"
   ]
  },
  {
   "cell_type": "code",
   "execution_count": 46,
   "metadata": {},
   "outputs": [
    {
     "data": {
      "text/plain": [
       "Series([], Name: match, dtype: int64)"
      ]
     },
     "execution_count": 46,
     "metadata": {},
     "output_type": "execute_result"
    }
   ],
   "source": [
    "bif['match'].explode().value_counts()[0:500]"
   ]
  },
  {
   "cell_type": "code",
   "execution_count": null,
   "metadata": {},
   "outputs": [],
   "source": []
  },
  {
   "cell_type": "code",
   "execution_count": null,
   "metadata": {},
   "outputs": [],
   "source": []
  },
  {
   "cell_type": "code",
   "execution_count": 14,
   "metadata": {},
   "outputs": [],
   "source": [
    "fsc=bif[bif['value'].astype(str)=='FSC® Certified']\n",
    "fsc['Q:sustainability']='[\"BIFMA Certified\",\"FSC® Certified\"]'"
   ]
  },
  {
   "cell_type": "code",
   "execution_count": 15,
   "metadata": {},
   "outputs": [],
   "source": [
    "na=bif[bif['value'].astype(str)=='n/a']\n",
    "na['Q:sustainability']='[\"BIFMA Certified\"]'"
   ]
  },
  {
   "cell_type": "code",
   "execution_count": 17,
   "metadata": {},
   "outputs": [],
   "source": [
    "match__sustainability_na=na[['external_id','Q:sustainability']]\n",
    "match_sustainability_fsc=fsc[['external_id','Q:sustainability']]"
   ]
  },
  {
   "cell_type": "code",
   "execution_count": null,
   "metadata": {},
   "outputs": [],
   "source": []
  },
  {
   "cell_type": "code",
   "execution_count": 29,
   "metadata": {},
   "outputs": [],
   "source": [
    "pat='''(?i)(.{0,30}(?:wide|width|\\d+.?\".?W).{0,30})|()'''\n",
    "dfs['matches']=dfs['custom_fields'].apply(lambda x: re_extract(pat,str(x)))\n",
    "dfs['match']=dfs['long_desc'].apply(lambda x: re_extract(pat,str(x)))"
   ]
  },
  {
   "cell_type": "code",
   "execution_count": 31,
   "metadata": {},
   "outputs": [
    {
     "name": "stdout",
     "output_type": "stream",
     "text": [
      "23228\n"
     ]
    }
   ],
   "source": [
    "print(len(dfs[(dfs['matches'].astype(str)!='[]')|(dfs['match'].astype(str)!='[]')]))"
   ]
  },
  {
   "cell_type": "code",
   "execution_count": null,
   "metadata": {},
   "outputs": [],
   "source": []
  },
  {
   "cell_type": "code",
   "execution_count": null,
   "metadata": {},
   "outputs": [],
   "source": []
  },
  {
   "cell_type": "code",
   "execution_count": null,
   "metadata": {},
   "outputs": [],
   "source": []
  },
  {
   "cell_type": "code",
   "execution_count": null,
   "metadata": {},
   "outputs": [],
   "source": []
  },
  {
   "cell_type": "code",
   "execution_count": null,
   "metadata": {},
   "outputs": [],
   "source": []
  },
  {
   "cell_type": "code",
   "execution_count": null,
   "metadata": {},
   "outputs": [],
   "source": []
  },
  {
   "cell_type": "code",
   "execution_count": null,
   "metadata": {},
   "outputs": [],
   "source": []
  },
  {
   "cell_type": "code",
   "execution_count": null,
   "metadata": {},
   "outputs": [],
   "source": []
  },
  {
   "cell_type": "code",
   "execution_count": null,
   "metadata": {},
   "outputs": [],
   "source": []
  },
  {
   "cell_type": "code",
   "execution_count": null,
   "metadata": {},
   "outputs": [],
   "source": []
  },
  {
   "cell_type": "code",
   "execution_count": null,
   "metadata": {},
   "outputs": [],
   "source": []
  },
  {
   "cell_type": "code",
   "execution_count": null,
   "metadata": {},
   "outputs": [],
   "source": []
  },
  {
   "cell_type": "code",
   "execution_count": null,
   "metadata": {},
   "outputs": [],
   "source": []
  },
  {
   "cell_type": "code",
   "execution_count": null,
   "metadata": {},
   "outputs": [],
   "source": []
  },
  {
   "cell_type": "code",
   "execution_count": null,
   "metadata": {},
   "outputs": [],
   "source": []
  },
  {
   "cell_type": "code",
   "execution_count": null,
   "metadata": {},
   "outputs": [],
   "source": []
  },
  {
   "cell_type": "code",
   "execution_count": null,
   "metadata": {},
   "outputs": [],
   "source": []
  },
  {
   "cell_type": "markdown",
   "metadata": {},
   "source": [
    "# table_linen_width"
   ]
  },
  {
   "cell_type": "code",
   "execution_count": 4,
   "metadata": {},
   "outputs": [
    {
     "data": {
      "text/plain": [
       "90\" x 14\"     146\n",
       "60\" x 90\"      45\n",
       "60\" x 120\"     45\n",
       "120\" x 14\"     36\n",
       "50 x 50        10\n",
       "60\" x 144\"      9\n",
       "90 x 90         6\n",
       "60 x 60         5\n",
       "144\" x 14\"      2\n",
       "120\" x 20\"      1\n",
       "90\" x 20\"       1\n",
       "Name: match, dtype: int64"
      ]
     },
     "execution_count": 4,
     "metadata": {},
     "output_type": "execute_result"
    }
   ],
   "source": [
    "df['match']=df['value'].apply(lambda x: re.sub(r'(?i)(50\"\\s?(?:round|square))','50 x 50',str(x))).apply(lambda x: re.sub(r'(?i)(90\"\\s?(?:round|square))','90 x 90',str(x))).apply(lambda x: re.sub(r'(?i)(60\"\\s?(?:round|square))','60 x 60',str(x)))\n",
    "width=df.loc[df['value'].astype(str)!='n/a']\n",
    "width['match'].explode().value_counts()"
   ]
  },
  {
   "cell_type": "code",
   "execution_count": 7,
   "metadata": {},
   "outputs": [],
   "source": [
    "a=[]\n",
    "for i in range(len(width)):\n",
    "    x=width['match'][i]#.values\n",
    "    one,two=str(x).split(' x ')\n",
    "    one=re.findall(r'\\d+', one)\n",
    "    two=re.findall(r'\\d+', two)\n",
    "    three=one+two\n",
    "    three=[int(x) for x in three]\n",
    "#     print(three)\n",
    "#     print(max(three))\n",
    "#     print(min(three))\n",
    "#     print('')\n",
    "    a.append(min(three))\n",
    "    b=[str(x)+' in' for x in a]"
   ]
  },
  {
   "cell_type": "code",
   "execution_count": 8,
   "metadata": {},
   "outputs": [],
   "source": [
    "width['Q:table_linen_width']=b\n",
    "\n",
    "table_linen_width=width[['external_id','Q:table_linen_width']]\n",
    "# table_linen_width"
   ]
  },
  {
   "cell_type": "code",
   "execution_count": 9,
   "metadata": {},
   "outputs": [
    {
     "name": "stdout",
     "output_type": "stream",
     "text": [
      "60\n"
     ]
    }
   ],
   "source": [
    "width_na=df.loc[df['value'].astype(str)=='n/a']\n",
    "print(len(width_na))\n",
    "width_na['Q:table_linen_width']='n/a'\n",
    "table_width_na=width_na[['external_id','Q:table_linen_width']]"
   ]
  },
  {
   "cell_type": "code",
   "execution_count": 10,
   "metadata": {},
   "outputs": [
    {
     "name": "stdout",
     "output_type": "stream",
     "text": [
      "366\n"
     ]
    }
   ],
   "source": [
    "lst=width['external_id'].to_list() + width_na['external_id'].to_list()\n",
    "print(len(lst))"
   ]
  },
  {
   "cell_type": "code",
   "execution_count": 11,
   "metadata": {},
   "outputs": [
    {
     "data": {
      "text/html": [
       "<div>\n",
       "<style scoped>\n",
       "    .dataframe tbody tr th:only-of-type {\n",
       "        vertical-align: middle;\n",
       "    }\n",
       "\n",
       "    .dataframe tbody tr th {\n",
       "        vertical-align: top;\n",
       "    }\n",
       "\n",
       "    .dataframe thead th {\n",
       "        text-align: right;\n",
       "    }\n",
       "</style>\n",
       "<table border=\"1\" class=\"dataframe\">\n",
       "  <thead>\n",
       "    <tr style=\"text-align: right;\">\n",
       "      <th></th>\n",
       "      <th>attribute</th>\n",
       "      <th>buckets</th>\n",
       "      <th>bucket_id</th>\n",
       "      <th>value</th>\n",
       "      <th>customer_name</th>\n",
       "      <th>external_id</th>\n",
       "      <th>product_name</th>\n",
       "      <th>long_desc</th>\n",
       "      <th>curated_date</th>\n",
       "      <th>resolution</th>\n",
       "      <th>curation_tasks.curated_by</th>\n",
       "      <th>sku</th>\n",
       "      <th>link</th>\n",
       "      <th>class</th>\n",
       "      <th>title</th>\n",
       "      <th>height</th>\n",
       "      <th>outlet</th>\n",
       "      <th>is_kids</th>\n",
       "      <th>sequence</th>\n",
       "      <th>subgroup</th>\n",
       "      <th>alt_image</th>\n",
       "      <th>furniture</th>\n",
       "      <th>department</th>\n",
       "      <th>dimensions</th>\n",
       "      <th>price_type</th>\n",
       "      <th>description</th>\n",
       "      <th>header_name</th>\n",
       "      <th>large_image</th>\n",
       "      <th>price_range</th>\n",
       "      <th>small_image</th>\n",
       "      <th>is_drop_ship</th>\n",
       "      <th>is_exclusive</th>\n",
       "      <th>medium_image</th>\n",
       "      <th>sku_property</th>\n",
       "      <th>furniture_type</th>\n",
       "      <th>held_in_region</th>\n",
       "      <th>description_full</th>\n",
       "      <th>description_long</th>\n",
       "      <th>is_internet_only</th>\n",
       "      <th>primaryfamily_id</th>\n",
       "      <th>online_avail_code</th>\n",
       "      <th>primary_family_id</th>\n",
       "      <th>is_outlet_purchase</th>\n",
       "      <th>can_be_personalized</th>\n",
       "      <th>current_price_range</th>\n",
       "      <th>is_vendor_drop_ship</th>\n",
       "      <th>on_display_in_store</th>\n",
       "      <th>primary_category_id</th>\n",
       "      <th>regular_price_range</th>\n",
       "      <th>can_be_registered_for</th>\n",
       "      <th>current_price_message</th>\n",
       "      <th>regular_price_message</th>\n",
       "      <th>free_shipping_eligible</th>\n",
       "      <th>attribute_item_group_id</th>\n",
       "      <th>held_in_one_ecomm_location</th>\n",
       "      <th>diameter</th>\n",
       "      <th>average_rating</th>\n",
       "      <th>number_of_ratings</th>\n",
       "      <th>catalog_product_ids</th>\n",
       "      <th>new_product</th>\n",
       "      <th>crate_style</th>\n",
       "      <th>silhouette_image_untrimmed</th>\n",
       "      <th>upc</th>\n",
       "      <th>match</th>\n",
       "    </tr>\n",
       "  </thead>\n",
       "  <tbody>\n",
       "  </tbody>\n",
       "</table>\n",
       "</div>"
      ],
      "text/plain": [
       "Empty DataFrame\n",
       "Columns: [attribute, buckets, bucket_id, value, customer_name, external_id, product_name, long_desc, curated_date, resolution, curation_tasks.curated_by, sku, link, class, title, height, outlet, is_kids, sequence, subgroup, alt_image, furniture, department, dimensions, price_type, description, header_name, large_image, price_range, small_image, is_drop_ship, is_exclusive, medium_image, sku_property, furniture_type, held_in_region, description_full, description_long, is_internet_only, primaryfamily_id, online_avail_code, primary_family_id, is_outlet_purchase, can_be_personalized, current_price_range, is_vendor_drop_ship, on_display_in_store, primary_category_id, regular_price_range, can_be_registered_for, current_price_message, regular_price_message, free_shipping_eligible, attribute_item_group_id, held_in_one_ecomm_location, diameter, average_rating, number_of_ratings, catalog_product_ids, new_product, crate_style, silhouette_image_untrimmed, upc, match]\n",
       "Index: []"
      ]
     },
     "execution_count": 11,
     "metadata": {},
     "output_type": "execute_result"
    }
   ],
   "source": [
    "df.loc[~df['external_id'].isin(lst)]"
   ]
  },
  {
   "cell_type": "code",
   "execution_count": null,
   "metadata": {},
   "outputs": [],
   "source": []
  },
  {
   "cell_type": "code",
   "execution_count": 109,
   "metadata": {},
   "outputs": [],
   "source": [
    "def get_df_name(df):\n",
    "    name =[x for x in globals() if globals()[x] is df][0]\n",
    "    return name\n",
    "def looks_good(customer, matches): \n",
    "    drive_path = f'G:/Shared drives/GroupBy Public/Customer Success/.Enrich/Platform Upload Trail/{customer}/Ready For Upload' \n",
    "    matches.to_csv(f'{drive_path}/{client} --{get_df_name(matches)}match_out_of_scope_brand-{today}.csv',index=False) \n",
    "looks_good(client, match_out_of_scope_brand) \n",
    "\n",
    "def get_df_name(df):\n",
    "    name =[x for x in globals() if globals()[x] is df][0]\n",
    "    return name\n",
    "def looks_good(customer, matches): \n",
    "    drive_path = f'G:/Shared drives/GroupBy Public/Customer Success/.Enrich/Platform Upload Trail/{customer}/Ready For Upload' \n",
    "    matches.to_csv(f'{drive_path}/{client} --{get_df_name(matches)}table_linen_width-{today}.csv',index=False) \n",
    "looks_good(client, table_linen_width) "
   ]
  },
  {
   "cell_type": "code",
   "execution_count": null,
   "metadata": {},
   "outputs": [],
   "source": [
    "\n"
   ]
  },
  {
   "cell_type": "code",
   "execution_count": null,
   "metadata": {},
   "outputs": [],
   "source": []
  },
  {
   "cell_type": "code",
   "execution_count": null,
   "metadata": {},
   "outputs": [],
   "source": []
  },
  {
   "cell_type": "code",
   "execution_count": 3,
   "metadata": {},
   "outputs": [],
   "source": [
    "color=cb[cb['attribute'].astype(str)=='color']"
   ]
  },
  {
   "cell_type": "code",
   "execution_count": 6,
   "metadata": {},
   "outputs": [],
   "source": [
    "pat='''(?i)(.{0,20}Le.?Creuset.{0,20})|()'''\n",
    "color['m_name']=color['name'].apply(lambda x: re_extract(pat,str(x)))\n",
    "color['m_long']=color['long_desc'].apply(lambda x: re_extract(pat,str(x)))\n",
    "color['m_custom']=color['custom_fields'].apply(lambda x: re_extract(pat,str(x)))"
   ]
  },
  {
   "cell_type": "code",
   "execution_count": null,
   "metadata": {},
   "outputs": [],
   "source": [
    "c=color[(color['m_name'].astype(str)!='[]')|(color['m_long'].astype(str)!='[]')|(color['m_custom'].astype(str)!='[]')]\n",
    "print(len(c))"
   ]
  },
  {
   "cell_type": "code",
   "execution_count": null,
   "metadata": {},
   "outputs": [],
   "source": []
  },
  {
   "cell_type": "code",
   "execution_count": null,
   "metadata": {},
   "outputs": [],
   "source": []
  },
  {
   "cell_type": "markdown",
   "metadata": {},
   "source": [
    "# Uncurated"
   ]
  },
  {
   "cell_type": "code",
   "execution_count": null,
   "metadata": {},
   "outputs": [],
   "source": []
  },
  {
   "cell_type": "code",
   "execution_count": null,
   "metadata": {},
   "outputs": [],
   "source": [
    "# parameters\n",
    "formatted_attribute = 'sustainability'\n",
    "buckets = \"\"\"Office Chairs\"\"\"\n",
    "\n",
    "strategy_version_input=767\n",
    "attribute_id_input=2730\n",
    "\n",
    "attribute = formatted_attribute.lower().replace(' ','_').replace('-','_')\n",
    "value='%n/a%'\n",
    "params = {'customer_id': customer_id ,\n",
    "          'attribute': attribute,\n",
    "          'buckets': str(buckets.split('\\t'))[1:-1],\n",
    "          'value':value,\n",
    "          'customer_name':customer_name\n",
    "         }\n",
    "curation_col = f'Q:{attribute}'\n",
    "\n",
    "\n",
    "df = query_from_file(file_name='./query/custom_fields.sql', params=params)\n",
    "print(len(df))\n",
    "print(today)"
   ]
  },
  {
   "cell_type": "code",
   "execution_count": 113,
   "metadata": {},
   "outputs": [],
   "source": [
    "# df['external_id'].to_list()\n",
    "BIFMA|FSC.{0,5}certified|green.?guard.?gold|organic|standard.?100|OEKO.?TeX"
   ]
  },
  {
   "cell_type": "code",
   "execution_count": 2,
   "metadata": {},
   "outputs": [
    {
     "name": "stdout",
     "output_type": "stream",
     "text": [
      "216\n"
     ]
    }
   ],
   "source": [
    "pat='''(?i)(.{0,40}(?i)(?:organic).{0,40})|()'''\n",
    "df['match']=df['custom_fields'].apply(lambda x: re_extract(pat, str(x)))\n",
    "sustain=df.loc[df['match'].astype(str)!='[]'][['buckets','external_id','product_name','long_desc','match']]\n",
    "print(len(sustain))"
   ]
  },
  {
   "cell_type": "code",
   "execution_count": 4,
   "metadata": {},
   "outputs": [],
   "source": [
    "# sustain[0:500]\n",
    "#['match'].explode().value_counts()[0:500]"
   ]
  },
  {
   "cell_type": "code",
   "execution_count": 15,
   "metadata": {},
   "outputs": [
    {
     "ename": "NameError",
     "evalue": "name 'stop' is not defined",
     "output_type": "error",
     "traceback": [
      "\u001b[1;31m---------------------------------------------------------------------------\u001b[0m",
      "\u001b[1;31mNameError\u001b[0m                                 Traceback (most recent call last)",
      "\u001b[1;32m<ipython-input-15-4f76a9dad686>\u001b[0m in \u001b[0;36m<module>\u001b[1;34m\u001b[0m\n\u001b[1;32m----> 1\u001b[1;33m \u001b[0mstop\u001b[0m\u001b[1;33m\u001b[0m\u001b[1;33m\u001b[0m\u001b[0m\n\u001b[0m",
      "\u001b[1;31mNameError\u001b[0m: name 'stop' is not defined"
     ]
    }
   ],
   "source": [
    "stop"
   ]
  },
  {
   "cell_type": "markdown",
   "metadata": {},
   "source": [
    "# send to the folder for upload"
   ]
  },
  {
   "cell_type": "code",
   "execution_count": 16,
   "metadata": {},
   "outputs": [],
   "source": [
    "def get_df_name(df):\n",
    "    name =[x for x in globals() if globals()[x] is df][0]\n",
    "    return name\n",
    "\n",
    "def looks_good(customer, attribute,matches,today): \n",
    "    drive_path = f'G:/Shared drives/GroupBy Public/Customer Success/.Enrich/Platform Upload Trail/{customer}/_Ready For Upload' \n",
    "    matches.to_csv(f'{drive_path}/BBBY - {attribute}-{get_df_name(matches)}-{today}-matches.csv',index=False) \n",
    "    \n",
    "looks_good('Bed Bath & Beyond', attribute,matchesna,today)   "
   ]
  },
  {
   "cell_type": "code",
   "execution_count": 17,
   "metadata": {},
   "outputs": [],
   "source": [
    "def get_df_name(df):\n",
    "    name =[x for x in globals() if globals()[x] is df][0]\n",
    "    return name\n",
    "\n",
    "def looks_good(customer, attribute,matches,today): \n",
    "    drive_path = f'G:/Shared drives/GroupBy Public/Customer Success/.Enrich/Platform Upload Trail/{customer}/_Ready For Upload' \n",
    "    matches.to_csv(f'{drive_path}/BBBY - {attribute}-{get_df_name(matches)}-{today}-matches.csv',index=False) \n",
    "    \n",
    "looks_good('Bed Bath & Beyond', attribute,matchesdiam,today)  "
   ]
  },
  {
   "cell_type": "code",
   "execution_count": null,
   "metadata": {},
   "outputs": [],
   "source": []
  },
  {
   "cell_type": "code",
   "execution_count": null,
   "metadata": {},
   "outputs": [],
   "source": []
  },
  {
   "cell_type": "code",
   "execution_count": null,
   "metadata": {},
   "outputs": [],
   "source": []
  },
  {
   "cell_type": "code",
   "execution_count": null,
   "metadata": {},
   "outputs": [],
   "source": []
  },
  {
   "cell_type": "code",
   "execution_count": null,
   "metadata": {},
   "outputs": [],
   "source": []
  },
  {
   "cell_type": "code",
   "execution_count": null,
   "metadata": {},
   "outputs": [],
   "source": []
  }
 ],
 "metadata": {
  "kernelspec": {
   "display_name": "PythonData",
   "language": "python",
   "name": "pythondata"
  },
  "language_info": {
   "codemirror_mode": {
    "name": "ipython",
    "version": 3
   },
   "file_extension": ".py",
   "mimetype": "text/x-python",
   "name": "python",
   "nbconvert_exporter": "python",
   "pygments_lexer": "ipython3",
   "version": "3.8.5"
  }
 },
 "nbformat": 4,
 "nbformat_minor": 4
}

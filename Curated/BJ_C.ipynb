{
 "cells": [
  {
   "cell_type": "code",
   "execution_count": 1,
   "metadata": {},
   "outputs": [],
   "source": [
    "import pandas as pd\n",
    "import re\n",
    "from ast import literal_eval\n",
    "from tqdm import tqdm\n",
    "from ftfy import fix_text\n",
    "# from util import UnitConversion, mapping_list_values, perl_to_posix\n",
    "from groupby_toolz import enrich_db, gcloud\n",
    "pd.set_option('display.max_colwidth', None)\n",
    "pd.options.display.max_rows = 500\n",
    "from flashtext import KeywordProcessor\n",
    "from groupby_toolz import enrich_db, gcloud\n",
    "pd.set_option('display.max_colwidth', None)\n",
    "pd.options.display.max_columns = None\n",
    "pd.options.display.max_rows = 500\n",
    "import ast\n",
    "import warnings\n",
    "warnings.filterwarnings('ignore')\n",
    "from natsort import natsorted\n",
    "def query_from_file(file_name, params):\n",
    "    with open(f'{file_name}', mode='r') as f:\n",
    "        text = f.read()\n",
    "        query = text.format(**params)\n",
    "        return enrich_db(query)\n",
    "def re_extract(pattern, txt):\n",
    "    matches = re.findall(pattern, txt)\n",
    "    tmp_matches = []\n",
    "    for match in matches:\n",
    "        for tup in match:\n",
    "            if tup != '':\n",
    "                tmp_matches.append(tup)\n",
    "    return list(set(tmp_matches))\n",
    "import time\n",
    "today = time.strftime(\"%Y_%m_%d\")\n",
    "\n",
    "import ast\n",
    "def remove_duplicates(A):\n",
    "    [A.pop(count) for count,elem in enumerate(A) if A.count(elem)!=1]\n",
    "    return A\n",
    "\n",
    "# importing the sys module\n",
    "import sys        \n",
    " \n",
    "# appending the directory of mod.py\n",
    "# in the sys.path list\n",
    "sys.path.append('C:/Users/groupby/Documents/GitHub/SQL Extract And Apply') \n",
    "from enrich_dimensions.rounds import rounds, rounding,re_extract, curate, round_string_float,reg_ex,clean_data#,rounding_kimball\n",
    "from enrich_dimensions.params import parameters, query_from_file\n",
    "from enrich_dimensions.query_file import query_from_file \n",
    "from enrich_dimensions.custom import custom_field \n",
    "\n",
    "# Find unusual units\n",
    "def rounding_kimball(heights,col, texto):\n",
    "    regex_pattern_rounding=rf'''(?i)((?<!\\d)(?<!\\.)0(?!\\.))|(\\.0(?!\\d))|(\\.\\d0(?<!\\d))|(xa)|(\\\\)|([{texto}])|(\\')|((?<![A-z])\"\\])|(\\d(?<![A-z])\")|(\"(?<!\\d).{0,3}[A-z]\")|((?<=[A-z])\\s\")|((?<=[A-z])\\.)|((?<!\\d)000)|((?<!\\d\\s)in)|((?<!\\w)(?<!\\.)(?<!\")0(?!\\.))|((?<!\")\\,)|(\\,(?!\"))|((?<!\")\\])|((?<!\\w)(?<!\\.)(?<!\")\\d(?!.\\w)(?!\\d)(?!\\.))|(\\-|ï|¿|½)|(ft.{0,4}in)|(\\(|\\))|(\"\\]\"\\])|(\\[\"\\[\")|(in\\d+)|(?<=\\[)\"(?=\\])|((?i)inft)|((?i)ftin)|((?<=\")(?:ft|in))|(\\d+\\..{3,4}\\/)|()'''         \n",
    "    heights['rounding'] = heights[col].apply(lambda x: re_extract(regex_pattern_rounding, x))\n",
    "    print('Number of SKUs that need Rounding: '+ str(len(heights[heights['rounding'].astype(str)!='[]'])))\n",
    "    return heights[heights['rounding'].astype(str)!='[]'] "
   ]
  },
  {
   "cell_type": "markdown",
   "metadata": {},
   "source": [
    "# Curated BJs"
   ]
  },
  {
   "cell_type": "code",
   "execution_count": 2,
   "metadata": {},
   "outputs": [
    {
     "name": "stdout",
     "output_type": "stream",
     "text": [
      "384908\n"
     ]
    }
   ],
   "source": [
    "customer_id = '66'\n",
    "customer_name='%bjs%'\n",
    "\n",
    "dateszs='2001-07-01'\n",
    "dateszsz='2023-05-10'\n",
    "params = {'customer_id': customer_id,\n",
    "          'customer_name':customer_name,\n",
    "         'dateszs':dateszs,\n",
    "         'dateszsz':dateszsz}\n",
    "bj = query_from_file(file_name='../query/curated_all_attributes_date.sql', params=params)\n",
    "# dfs=dfs[dfs['resolution'].astype(str)!='rules']\n",
    "print(len(bj))"
   ]
  },
  {
   "cell_type": "code",
   "execution_count": 3,
   "metadata": {},
   "outputs": [],
   "source": [
    "del bj['customer_name']\n",
    "# del bj['time']\n",
    "# del bj['family_friendly']\n",
    "# del motion['curated_date']\n",
    "del bj['curation_tasks.curated_by']"
   ]
  },
  {
   "cell_type": "code",
   "execution_count": 11,
   "metadata": {},
   "outputs": [],
   "source": [
    "fill_dict = bj.groupby('external_id')['buckets'].last().to_dict()\n",
    "bj['buckets'] = bj['buckets'].fillna(bj['external_id'].map(fill_dict))"
   ]
  },
  {
   "cell_type": "code",
   "execution_count": 45,
   "metadata": {},
   "outputs": [],
   "source": [
    "diameter=bj[bj['attribute'].astype(str)=='diameter']"
   ]
  },
  {
   "cell_type": "code",
   "execution_count": 44,
   "metadata": {},
   "outputs": [
    {
     "data": {
      "text/plain": [
       "product_type                   56151\n",
       "search_product_type            48339\n",
       "color                          35736\n",
       "features                       24497\n",
       "fabric                         19598\n",
       "quantity                       17226\n",
       "pattern                        16352\n",
       "sleeve_length                  10781\n",
       "concern                         9573\n",
       "material                        9323\n",
       "neckline                        8452\n",
       "primary_flavor                  6801\n",
       "closure                         5923\n",
       "gender                          5437\n",
       "metal_type                      4861\n",
       "indoor_outdoor                  4651\n",
       "gold_karat                      4527\n",
       "stone_type                      4518\n",
       "pearl_type                      4487\n",
       "carat_total_weight              4486\n",
       "stone_color                     4475\n",
       "stone_shape                     4466\n",
       "height                          3994\n",
       "finish                          3892\n",
       "supplement_type                 3874\n",
       "length                          3732\n",
       "pant_style                      3569\n",
       "ring_style                      3405\n",
       "ring_occasion                   3367\n",
       "key_ingredient                  3316\n",
       "height_range                    3138\n",
       "width                           2946\n",
       "seasonal                        2855\n",
       "power_type                      2767\n",
       "length_range                    2747\n",
       "form                            2261\n",
       "bed_size                        2227\n",
       "subject                         2149\n",
       "diameter                        2047\n",
       "seat_count                      2016\n",
       "jacket_style                    1890\n",
       "width_range                     1860\n",
       "shape                           1294\n",
       "scent                           1140\n",
       "memory                           931\n",
       "resolution                       690\n",
       "mattress_firmness                686\n",
       "strength                         661\n",
       "lifestage                        652\n",
       "white_glove_delivery             635\n",
       "earring_style                    569\n",
       "tree_type                        554\n",
       "screen_size                      533\n",
       "capacity                         478\n",
       "depth                            403\n",
       "necklace_style                   397\n",
       "cubic_feet                       395\n",
       "flower_type                      359\n",
       "band_color                       335\n",
       "watch_style                      335\n",
       "watch_band_material              331\n",
       "hard_drive                       330\n",
       "wattage                          327\n",
       "bulb_type                        311\n",
       "btu_s                            310\n",
       "television_size_range            294\n",
       "depth_range                      286\n",
       "weight_capacity                  284\n",
       "shelf_count                      230\n",
       "system                           209\n",
       "format                           188\n",
       "color_temperature                176\n",
       "camera_count                     174\n",
       "channel_count                    173\n",
       "package_quantity                 172\n",
       "number_of_resistance_levels      161\n",
       "collar_style                     138\n",
       "bracelet_style                   127\n",
       "drawer_count                     119\n",
       "ink_color                         94\n",
       "bottle_count                      77\n",
       "can_count                         71\n",
       "lumens                            67\n",
       "spf                               65\n",
       "maximum_television_size           53\n",
       "battery_size                      51\n",
       "warranty_length                   33\n",
       "warranty_coverage                 33\n",
       "hair_color                        33\n",
       "wheel_bearings                    31\n",
       "oil_grade                         27\n",
       "voltage                           25\n",
       "reams                             25\n",
       "shredder_cut_style                24\n",
       "sheet_capacity                    24\n",
       "sock_style                        15\n",
       "maximum_rpm                       15\n",
       "activity                           9\n",
       "weight                             9\n",
       "botanical_type                     6\n",
       "range                              6\n",
       "membership_length                  5\n",
       "maximum_speed                      3\n",
       "size                               2\n",
       "key_count                          2\n",
       "gallons_per_flush                  2\n",
       "roll_length                        1\n",
       "display_style                      1\n",
       "Name: attribute, dtype: int64"
      ]
     },
     "execution_count": 44,
     "metadata": {},
     "output_type": "execute_result"
    }
   ],
   "source": [
    "bj['attribute'].explode().value_counts()"
   ]
  },
  {
   "cell_type": "code",
   "execution_count": null,
   "metadata": {},
   "outputs": [],
   "source": []
  },
  {
   "cell_type": "code",
   "execution_count": 12,
   "metadata": {},
   "outputs": [],
   "source": [
    "height=bj[bj['attribute'].astype(str)=='height']\n",
    "width=bj[bj['attribute'].astype(str)=='width']\n",
    "depth=bj[bj['attribute'].astype(str)=='depth']\n",
    "weight=bj[bj['attribute'].astype(str)=='weight']\n",
    "length=bj[bj['attribute'].astype(str)=='length']"
   ]
  },
  {
   "cell_type": "code",
   "execution_count": 13,
   "metadata": {},
   "outputs": [
    {
     "name": "stdout",
     "output_type": "stream",
     "text": [
      "3994\n"
     ]
    },
    {
     "data": {
      "text/plain": [
       "n/a          251\n",
       "24 in.       176\n",
       "8 in.        145\n",
       "12 in.       143\n",
       "14 in.       119\n",
       "            ... \n",
       "44.09 in.      1\n",
       "39.88 in.      1\n",
       "48.75 in.      1\n",
       "28.45 in.      1\n",
       "67.25 in.      1\n",
       "Name: value, Length: 600, dtype: int64"
      ]
     },
     "execution_count": 13,
     "metadata": {},
     "output_type": "execute_result"
    }
   ],
   "source": [
    "print(len(height))\n",
    "height['value'].explode().value_counts()"
   ]
  },
  {
   "cell_type": "code",
   "execution_count": 14,
   "metadata": {},
   "outputs": [
    {
     "name": "stdout",
     "output_type": "stream",
     "text": [
      "2946\n"
     ]
    },
    {
     "data": {
      "text/plain": [
       "n/a          145\n",
       "20 in.       104\n",
       "48 in.       103\n",
       "24 in.        83\n",
       "18 in.        66\n",
       "            ... \n",
       "5.31 in.       1\n",
       "29.8 in.       1\n",
       "7.6 in.        1\n",
       "44.25 in.      1\n",
       "6.3 in         1\n",
       "Name: value, Length: 581, dtype: int64"
      ]
     },
     "execution_count": 14,
     "metadata": {},
     "output_type": "execute_result"
    }
   ],
   "source": [
    "print(len(width))\n",
    "width['value'].explode().value_counts()"
   ]
  },
  {
   "cell_type": "code",
   "execution_count": 30,
   "metadata": {},
   "outputs": [
    {
     "name": "stdout",
     "output_type": "stream",
     "text": [
      "403\n"
     ]
    },
    {
     "data": {
      "text/plain": [
       "n/a         80\n",
       "24.5 in.    19\n",
       "28 in.      15\n",
       "31 in.      14\n",
       "16 in.      14\n",
       "18 in.      10\n",
       "27.9 in.     9\n",
       "29.9 in.     8\n",
       "33.7 in.     6\n",
       "27 in.       6\n",
       "Name: value, dtype: int64"
      ]
     },
     "execution_count": 30,
     "metadata": {},
     "output_type": "execute_result"
    }
   ],
   "source": [
    "print(len(depth))\n",
    "depth['value'].explode().value_counts()[0:10]"
   ]
  },
  {
   "cell_type": "code",
   "execution_count": 16,
   "metadata": {},
   "outputs": [
    {
     "name": "stdout",
     "output_type": "stream",
     "text": [
      "9\n"
     ]
    },
    {
     "data": {
      "text/plain": [
       "30 lbs     1\n",
       "41 lbs     1\n",
       "32 lbs     1\n",
       "110 lbs    1\n",
       "280 lbs    1\n",
       "40 lbs     1\n",
       "6 lb       1\n",
       "200 lb     1\n",
       "100 lbs    1\n",
       "Name: value, dtype: int64"
      ]
     },
     "execution_count": 16,
     "metadata": {},
     "output_type": "execute_result"
    }
   ],
   "source": [
    "print(len(weight))\n",
    "weight['value'].explode().value_counts()"
   ]
  },
  {
   "cell_type": "code",
   "execution_count": null,
   "metadata": {},
   "outputs": [],
   "source": []
  },
  {
   "cell_type": "code",
   "execution_count": null,
   "metadata": {},
   "outputs": [],
   "source": []
  },
  {
   "cell_type": "code",
   "execution_count": null,
   "metadata": {},
   "outputs": [],
   "source": []
  },
  {
   "cell_type": "code",
   "execution_count": null,
   "metadata": {},
   "outputs": [],
   "source": []
  },
  {
   "cell_type": "markdown",
   "metadata": {},
   "source": [
    "# Height"
   ]
  },
  {
   "cell_type": "code",
   "execution_count": 31,
   "metadata": {},
   "outputs": [],
   "source": [
    "pat='''(?i)(Dimensions?.{0,7}\\d+.{0,3}(?:(?:\\.|\\-|\\s)?\\d+(?:\\/\\d+)?)?.{0,3}(?:''|\"|”|in\\.?){0,3}.{0,3}x\\s?\\d+.{0,3}(?:(?:\\.|\\-|\\s)?\\d+(?:\\/\\d+)?)?.{0,3}(?:''|\"|”|in\\.?){0,3}.{0,3}x\\s?\\d+(?:(?:\\.|\\-|\\s)?\\d+(?:\\/\\d+)?)?\\s?(?:''|\"|”|in\\.){0,3}\\'?)|(7'.{0,30}christmas tree)|(\\d+(?:(?:\\.|\\-|\\s)?\\d+(?:\\/\\d+)?)?\\s?(?:''|\"|”|in\\.?){0,3}.?(?:L?(?:ength)?|d(?:epth)?)?.?x.?\\d+(?:(?:\\.|\\-|\\s)?\\d+(?:\\/\\d+)?)?\\s?(?:''|\"|”|in\\.?){0,3}.?(?:W(?:idth)?)?.?X.?\\d+(?:(?:\\.|\\-|\\s)?\\d+(?:\\/\\d+)?)?\\s?(?:''|\"|”|in\\.?){0,3}.?(?:H(?:eight|igh)?)?)|(Height.{0,19}'\\:\\s?'\\d+(?:\\.\\d+)?\")|(\\d+'\\s?x\\s?\\d+'(?!\\sx))|()'''         \n",
    "height['m_long']=height['long_desc'].apply(lambda x: re_extract(pat, str(x)))\n",
    "height['m_name']=height['product_name'].apply(lambda x: re_extract(pat, str(x)))\n",
    "height['m_custom']=height['custom_fields'].apply(lambda x: re_extract(pat, str(x)))"
   ]
  },
  {
   "cell_type": "code",
   "execution_count": 32,
   "metadata": {},
   "outputs": [
    {
     "name": "stdout",
     "output_type": "stream",
     "text": [
      "3994\n",
      "251\n",
      "11\n",
      "356\n"
     ]
    }
   ],
   "source": [
    "h=height[((height['m_long'].astype(str)!='[]')|(height['m_long'].astype(str)!='[]')|(height['m_long'].astype(str)!='[]'))&(height['value'].astype(str)=='n/a')]\n",
    "he=height[((height['m_long'].astype(str)!='[]')|(height['m_long'].astype(str)!='[]')|(height['m_long'].astype(str)!='[]'))]\n",
    "print(len(height))\n",
    "print(len(height[height['value'].astype(str)=='n/a']))\n",
    "print(len(h))\n",
    "print(len(he))"
   ]
  },
  {
   "cell_type": "code",
   "execution_count": 33,
   "metadata": {},
   "outputs": [
    {
     "name": "stdout",
     "output_type": "stream",
     "text": [
      "3398\n"
     ]
    }
   ],
   "source": [
    "hei=height[((height['m_long'].astype(str)=='[]')&(height['m_long'].astype(str)=='[]')&(height['m_long'].astype(str)=='[]'))&(height['value'].astype(str)!='n/a')]\n",
    "print(len(hei))"
   ]
  },
  {
   "cell_type": "code",
   "execution_count": 34,
   "metadata": {},
   "outputs": [
    {
     "data": {
      "text/plain": [
       "26                                                                                  [dimensions': '83.5\"L x 72\"W x 13.5\"]\n",
       "74                                                                                      [dimensions': '42\"L x 74\"W x 10\"]\n",
       "103                                                                                                                    []\n",
       "302                                                                                  [dimensions': '4.25\"L x 4.25\"W x 9\"]\n",
       "563                                                                                  [dimensions': '76\"L x 11.8\"W x 5.9\"]\n",
       "                                                               ...                                                       \n",
       "382290                                                                                      [14' x 10', 14?L x 10?W x 8?]\n",
       "382304                                                        [nual Retractable', 'Item_height': '7\"', 'Item_weight': '6]\n",
       "382314     [ '5.11\"L x 5.11\"W x 87.4\"H', 'Cvquantity': '1', of_shape': 'Arch', 'Item_height': '93.7\"', 'Item_length': '1]\n",
       "382327    [Dimensions': '27\"L x 2\"W x 56\"H,27.00\" W x 60.00\", Item_width': '2\"', 'Item_height': '56\"', 'Item_length': '2]\n",
       "382348                      [Dimensions': '81\"L x 39\"W x 23\", tem_width': '39\"', 'Item_height': '23\"', 'Item_length': '8]\n",
       "Name: custom_fields, Length: 3398, dtype: object"
      ]
     },
     "execution_count": 34,
     "metadata": {},
     "output_type": "execute_result"
    }
   ],
   "source": [
    "p='''(?i)(.{0,20}(?:(?:item|peak).?height(?:.{0,3}\\'.{0,3}\\:.{0,3}\\'.{0,3})?)\\d+(?:\\.\\d+)?\\s?(?:''|\"|”|in\\.?).{0,20})|(.{0,20}\\d+(?:(?:\\.|\\-|\\s)?\\d+(?:\\/\\d+)?)?\\s?(?:\\s?(?:''|\"|”|in\\.)\\s?H(?:igh|eight|\\\\n)?)(?! draw)(?!i density)(?!.tens)(?![A-z]).{0,20})|(height.{0,5}\\d+(?:\\.\\d+)?\\s?(?:''|\"|”|in\\.))|(\\d+'\\s?Aluminum Umbrella)|(?i)(\\d+.?(?:\\d*(?:\\/\\d+)?).?'\\s?\\:\\s?\\'?\\s?Item.?height)|(Dimensions?.{0,7}\\d+.{0,3}(?:(?:\\.|\\-|\\s)?\\d+(?:\\/\\d+)?)?.{0,3}(?:''|\"|”|in\\.?){0,3}.{0,3}x\\s?\\d+.{0,3}(?:(?:\\.|\\-|\\s)?\\d+(?:\\/\\d+)?)?.{0,3}(?:''|\"|”|in\\.?){0,3}.{0,3}x\\s?\\d+(?:(?:\\.|\\-|\\s)?\\d+(?:\\/\\d+)?)?\\s?(?:''|\"|”|in\\.){0,3}\\'?)|(7'.{0,30}christmas tree)|(\\d+(?:(?:\\.|\\-|\\s)?\\d+(?:\\/\\d+)?)?\\s?(?:''|\"|”|in\\.?){0,3}.?(?:L?(?:ength)?|d(?:epth)?)?.?x.?\\d+(?:(?:\\.|\\-|\\s)?\\d+(?:\\/\\d+)?)?\\s?(?:''|\"|”|in\\.?){0,3}.?(?:W(?:idth)?)?.?X.?\\d+(?:(?:\\.|\\-|\\s)?\\d+(?:\\/\\d+)?)?\\s?(?:''|\"|”|in\\.?){0,3}.?(?:H(?:eight|igh)?)?)|(Height.{0,19}'\\:\\s?'\\d+(?:\\.\\d+)?\")|(\\d+'\\s?x\\s?\\d+'(?!\\sx))|()'''\n",
    "hei['custom_fields'].apply(lambda x: re_extract(p,str(x)))"
   ]
  },
  {
   "cell_type": "code",
   "execution_count": 36,
   "metadata": {},
   "outputs": [],
   "source": [
    "# height['match']=height['custom_fields'].apply(lambda x: re_extract(p,str(x)))"
   ]
  },
  {
   "cell_type": "code",
   "execution_count": null,
   "metadata": {},
   "outputs": [],
   "source": [
    "# x=height[height['match'].astype(str)!='[]']\n",
    "# y=height[(height['match'].astype(str)=='[]')&(height['value'].astype(str)!='n/a')&(height['m_name'].astype(str)=='[]')&(height['m_long'].astype(str)=='[]')]\n",
    "# print(len(x))\n",
    "# print(len(y))"
   ]
  },
  {
   "cell_type": "code",
   "execution_count": null,
   "metadata": {},
   "outputs": [],
   "source": [
    "# y=height[((height['match'].astype(str)!='[]')|(height['m_name'].astype(str)!='[]')|(height['m_long'].astype(str)!='[]'))&(height['value'].astype(str)=='n/a')]"
   ]
  },
  {
   "cell_type": "code",
   "execution_count": null,
   "metadata": {},
   "outputs": [],
   "source": [
    "# print(len(y))"
   ]
  },
  {
   "cell_type": "code",
   "execution_count": null,
   "metadata": {},
   "outputs": [],
   "source": [
    "# na=height[height['value'].astype(str)=='n/a']\n",
    "# print(len(na))"
   ]
  },
  {
   "cell_type": "code",
   "execution_count": null,
   "metadata": {},
   "outputs": [],
   "source": [
    "# y[['external_id','value','m_long','m_custom','match']]"
   ]
  },
  {
   "cell_type": "code",
   "execution_count": 37,
   "metadata": {},
   "outputs": [],
   "source": [
    "pat='''(?i)([A-z])|()'''\n",
    "height['units']=height['value'].apply(lambda x: re_extract(pat,str(x)))\n",
    "units=height[height['units'].astype(str)=='[]']"
   ]
  },
  {
   "cell_type": "code",
   "execution_count": 38,
   "metadata": {},
   "outputs": [
    {
     "data": {
      "text/plain": [
       "Series([], Name: value, dtype: int64)"
      ]
     },
     "execution_count": 38,
     "metadata": {},
     "output_type": "execute_result"
    }
   ],
   "source": [
    "units['value'].explode().value_counts()"
   ]
  },
  {
   "cell_type": "code",
   "execution_count": null,
   "metadata": {},
   "outputs": [],
   "source": []
  },
  {
   "cell_type": "markdown",
   "metadata": {},
   "source": [
    "# Width"
   ]
  },
  {
   "cell_type": "code",
   "execution_count": 39,
   "metadata": {},
   "outputs": [
    {
     "data": {
      "text/plain": [
       "Series([], Name: value, dtype: int64)"
      ]
     },
     "execution_count": 39,
     "metadata": {},
     "output_type": "execute_result"
    }
   ],
   "source": [
    "pat='''(?i)([A-z])|()'''\n",
    "width['units']=width['value'].apply(lambda x: re_extract(pat,str(x)))\n",
    "unit=width[width['units'].astype(str)=='[]']\n",
    "unit['value'].explode().value_counts()"
   ]
  },
  {
   "cell_type": "code",
   "execution_count": 199,
   "metadata": {},
   "outputs": [],
   "source": [
    "p='''(?i)(.{0,20}(?:(?:item|peak).?(?:width|wide)(?:.{0,3}\\'.{0,3}\\:.{0,3}\\'.{0,3})?)\\d+(?:\\.\\d+)?\\s?(?:''|\"|”|in\\.?).{0,20})|(.{0,20}\\d+(?:(?:\\.|\\-|\\s)?\\d+(?:\\/\\d+)?)?\\s?(?:\\s?(?:''|\"|”|in\\.)\\s?W(?:idth|ide|\\\\n)?)(?! draw)(?!i density)(?!.tens)(?![A-z]).{0,20})|((?:width|wide).{0,5}\\d+(?:\\.\\d+)?\\s?(?:''|\"|”|in\\.))|(\\d+'\\s?Aluminum Umbrella)|(?i)(\\d+.?(?:\\d*(?:\\/\\d+)?).?'\\s?\\:\\s?\\'?\\s?Item.?(?:width|wide))|(Dimensions?.{0,7}\\d+.{0,3}(?:(?:\\.|\\-|\\s)?\\d+(?:\\/\\d+)?)?.{0,3}(?:''|\"|”|in\\.?){0,3}.{0,3}x\\s?\\d+.{0,3}(?:(?:\\.|\\-|\\s)?\\d+(?:\\/\\d+)?)?.{0,3}(?:''|\"|”|in\\.?){0,3}.{0,3}x\\s?\\d+(?:(?:\\.|\\-|\\s)?\\d+(?:\\/\\d+)?)?\\s?(?:''|\"|”|in\\.){0,3}\\'?)|(7'.{0,30}christmas tree)|(\\d+(?:(?:\\.|\\-|\\s)?\\d+(?:\\/\\d+)?)?\\s?(?:''|\"|”|in\\.?){0,3}.?(?:L?(?:ength)?|d(?:epth)?)?.?x.?\\d+(?:(?:\\.|\\-|\\s)?\\d+(?:\\/\\d+)?)?\\s?(?:''|\"|”|in\\.?){0,3}.?(?:W(?:idth|ide)?)?.?X.?\\d+(?:(?:\\.|\\-|\\s)?\\d+(?:\\/\\d+)?)?\\s?(?:''|\"|”|in\\.?){0,3}.?(?:H(?:eight|igh)?)?)|(Height.{0,19}'\\:\\s?'\\d+(?:\\.\\d+)?\")|(\\d+'\\s?x\\s?\\d+'(?!\\sx))|()'''         \n",
    "width['match']=width['custom_fields'].apply(lambda x: re_extract(p,str(x)))"
   ]
  },
  {
   "cell_type": "code",
   "execution_count": 226,
   "metadata": {},
   "outputs": [],
   "source": [
    "width['m_name']=width['product_name'].apply(lambda x: re_extract(p,str(x)))\n",
    "width['m_long']=width['long_desc'].apply(lambda x: re_extract(p,str(x)))"
   ]
  },
  {
   "cell_type": "code",
   "execution_count": 227,
   "metadata": {},
   "outputs": [
    {
     "name": "stdout",
     "output_type": "stream",
     "text": [
      "2944\n",
      "2714\n"
     ]
    }
   ],
   "source": [
    "print(len(width))\n",
    "x=width[width['match'].astype(str)!='[]']\n",
    "print(len(x))"
   ]
  },
  {
   "cell_type": "code",
   "execution_count": 233,
   "metadata": {},
   "outputs": [
    {
     "name": "stdout",
     "output_type": "stream",
     "text": [
      "97\n"
     ]
    }
   ],
   "source": [
    "y=width[(width['match'].astype(str)=='[]')&(width['m_long'].astype(str)=='[]')&(width['m_name'].astype(str)=='[]')&(width['value'].astype(str)!='n/a')]\n",
    "print(len(y))"
   ]
  },
  {
   "cell_type": "code",
   "execution_count": 284,
   "metadata": {},
   "outputs": [
    {
     "name": "stdout",
     "output_type": "stream",
     "text": [
      "5\n"
     ]
    }
   ],
   "source": [
    "x=width[((width['match'].astype(str)!='[]')&(width['m_long'].astype(str)!='[]')&(width['m_name'].astype(str)!='[]'))&(width['value'].astype(str)=='n/a')]\n",
    "print(len(x))"
   ]
  },
  {
   "cell_type": "code",
   "execution_count": 287,
   "metadata": {},
   "outputs": [],
   "source": [
    "x['Q:width']='[]'\n",
    "match_width_wipe=x[['external_id','Q:width']]"
   ]
  },
  {
   "cell_type": "code",
   "execution_count": 239,
   "metadata": {},
   "outputs": [
    {
     "data": {
      "text/plain": [
       "2989        30 in.\n",
       "6249        16 in.\n",
       "12140       30 in.\n",
       "16179       94 in.\n",
       "22036    27.75 in.\n",
       "53670      9.5 in.\n",
       "66424    15.25 in.\n",
       "96430       18 in.\n",
       "96596       15 in.\n",
       "96680       18 in.\n",
       "96781       20 in.\n",
       "96984       18 in.\n",
       "97012       16 in.\n",
       "97117       18 in.\n",
       "97155       16 in.\n",
       "Name: value, dtype: object"
      ]
     },
     "execution_count": 239,
     "metadata": {},
     "output_type": "execute_result"
    }
   ],
   "source": [
    "y['value'][0:15]"
   ]
  },
  {
   "cell_type": "code",
   "execution_count": 243,
   "metadata": {},
   "outputs": [
    {
     "name": "stdout",
     "output_type": "stream",
     "text": [
      "97\n"
     ]
    }
   ],
   "source": [
    "print(len(y))"
   ]
  },
  {
   "cell_type": "code",
   "execution_count": 255,
   "metadata": {},
   "outputs": [],
   "source": [
    "y=y.reset_index()"
   ]
  },
  {
   "cell_type": "code",
   "execution_count": 394,
   "metadata": {},
   "outputs": [],
   "source": [
    "# for i in range(len(y)):\n",
    "#     print(y['value'][i])\n",
    "#     print(y['custom_fields'][i])\n",
    "#     print('')\n",
    "#     print('')"
   ]
  },
  {
   "cell_type": "code",
   "execution_count": 289,
   "metadata": {},
   "outputs": [],
   "source": [
    "# y[['external_id','value','m_long','m_name','match','custom_fields']]['custom_fields']"
   ]
  },
  {
   "cell_type": "code",
   "execution_count": 290,
   "metadata": {},
   "outputs": [],
   "source": [
    "# x['match'].explode().value_counts()[0:500]\n",
    "# x[['external_id','value','match',str('custom_fields')]]"
   ]
  },
  {
   "cell_type": "code",
   "execution_count": null,
   "metadata": {},
   "outputs": [],
   "source": []
  },
  {
   "cell_type": "code",
   "execution_count": null,
   "metadata": {},
   "outputs": [],
   "source": []
  },
  {
   "cell_type": "markdown",
   "metadata": {},
   "source": [
    "# Depth"
   ]
  },
  {
   "cell_type": "code",
   "execution_count": 40,
   "metadata": {},
   "outputs": [
    {
     "data": {
      "text/plain": [
       "Series([], Name: value, dtype: int64)"
      ]
     },
     "execution_count": 40,
     "metadata": {},
     "output_type": "execute_result"
    }
   ],
   "source": [
    "pat='''(?i)([A-z])|()'''\n",
    "depth['units']=depth['value'].apply(lambda x: re_extract(pat,str(x)))\n",
    "uni=depth[depth['units'].astype(str)=='[]']\n",
    "uni['value'].explode().value_counts()"
   ]
  },
  {
   "cell_type": "code",
   "execution_count": 318,
   "metadata": {},
   "outputs": [],
   "source": [
    "p='''(?i)(.{0,20}(?:(?:item|peak).?(?:depth)(?:.{0,3}\\'.{0,3}\\:.{0,3}\\'.{0,3})?)\\d+(?:\\.\\d+)?\\s?(?:''|\"|”|in\\.?).{0,20})|(.{0,20}\\d+(?:(?:\\.|\\-|\\s)?\\d+(?:\\/\\d+)?)?\\s?(?:\\s?(?:''|\"|”|in\\.)\\s?D(?:epth|\\\\n)?)(?! draw)(?!i density)(?!.tens)(?![A-z]).{0,20})|((?:depth).{0,5}\\d+(?:\\.\\d+)?\\s?(?:''|\"|”|in\\.))|(\\d+'\\s?Aluminum Umbrella)|(?i)(\\d+.?(?:\\d*(?:\\/\\d+)?).?'\\s?\\:\\s?\\'?\\s?Item.?(?:depth))|(.{0,10}\\d+.{0,3}(?:(?:\\.|\\-|\\s)?\\d+(?:\\/\\d+)?)?.{0,3}\\s?[A-z]{0,10}(?:''|\"|”|in\\.?){0,3}.{0,3}x\\s?\\d+.{0,3}(?:(?:\\.|\\-|\\s)?\\d+(?:\\/\\d+)?)?.{0,3}[A-z]{0,10}(?:''|\"|”|in\\.?){0,3}.{0,3}x\\s?\\d+(?:(?:\\.|\\-|\\s)?\\d+(?:\\/\\d+)?)?\\s?(?:''|\"|”|in\\.){0,3}.{0,3}[A-z]{0,10}\\'?)|(7'.{0,30}christmas tree)|(\\d+(?:(?:\\.|\\-|\\s)?\\d+(?:\\/\\d+)?)?\\s?(?:''|\"|”|in\\.?){0,3}.?(?:L?(?:ength)?|d(?:epth)?)?.?x.?\\d+(?:(?:\\.|\\-|\\s)?\\d+(?:\\/\\d+)?)?\\s?(?:''|\"|”|in\\.?){0,3}.?(?:W(?:idth|ide)?)?.?X.?\\d+(?:(?:\\.|\\-|\\s)?\\d+(?:\\/\\d+)?)?\\s?(?:''|\"|”|in\\.?){0,3}.?(?:H(?:eight|igh)?)?)|(Depth(?:.with_door_open_90|.closed_excluding_)?.{0,15}handles.{0,10}'?\\:?\\s?'\\d+(?:\\.\\d+)?\")|(\\d+'\\s?x\\s?\\d+'(?!\\sx))|(Depth(?:.with_door_open_90|.closed_excluding_|_closed_including)?.{0,15}'?\\:?\\s?'\\d+(?:\\.\\d+)?)|()'''         \n",
    "depth['match']=depth['custom_fields'].apply(lambda x: re_extract(p,str(x)))"
   ]
  },
  {
   "cell_type": "code",
   "execution_count": 319,
   "metadata": {},
   "outputs": [],
   "source": [
    "depth['m_long']=depth['long_desc'].apply(lambda x: re_extract(p,str(x)))\n",
    "depth['m_name']=depth['product_name'].apply(lambda x: re_extract(p,str(x)))"
   ]
  },
  {
   "cell_type": "code",
   "execution_count": 320,
   "metadata": {},
   "outputs": [
    {
     "name": "stdout",
     "output_type": "stream",
     "text": [
      "402\n",
      "80\n",
      "362\n"
     ]
    }
   ],
   "source": [
    "print(len(depth))\n",
    "print(len(depth[depth['value'].astype(str)=='n/a']))\n",
    "x=depth[depth['match'].astype(str)!='[]']\n",
    "print(len(x))"
   ]
  },
  {
   "cell_type": "code",
   "execution_count": 322,
   "metadata": {},
   "outputs": [
    {
     "data": {
      "text/plain": [
       "22057     3000000000002374326\n",
       "48784     3000000000003306760\n",
       "49025     3000000000003067290\n",
       "49083     3000000000004317766\n",
       "49180     3000000000003305756\n",
       "49385     3000000000003306800\n",
       "49501     3000000000004317762\n",
       "49653     3000000000003306326\n",
       "49963     3000000000003306878\n",
       "49971     3000000000000409293\n",
       "50150     3000000000000409291\n",
       "50158     3000000000003306830\n",
       "50257                  130417\n",
       "50408     3000000000003306276\n",
       "50483     3000000000003434750\n",
       "50500     3000000000003306872\n",
       "50566     3000000000003089292\n",
       "50575     3000000000003306788\n",
       "50754     3000000000000099110\n",
       "50803     3000000000004215786\n",
       "50893     3000000000003306328\n",
       "50930     3000000000003306890\n",
       "50936     3000000000003306258\n",
       "51045     3000000000002279254\n",
       "51113                  130352\n",
       "51275     3000000000004317760\n",
       "51278     3000000000004215820\n",
       "51385     3000000000002271288\n",
       "51437     3000000000003306260\n",
       "51522     3000000000004215776\n",
       "51548     3000000000003306860\n",
       "51620     3000000000004215798\n",
       "51638                  131044\n",
       "51828     3000000000004215792\n",
       "51848     3000000000003005274\n",
       "51863     3000000000003306298\n",
       "51913     3000000000003071748\n",
       "51928     3000000000003858270\n",
       "51951     3000000000004215764\n",
       "52081     3000000000000409277\n",
       "52125     3000000000004317838\n",
       "52169     3000000000003306846\n",
       "52260     3000000000003067292\n",
       "52303     3000000000004215754\n",
       "52333     3000000000003306780\n",
       "52639     3000000000001897784\n",
       "52642     3000000000003306304\n",
       "52979     3000000000003279796\n",
       "53292     3000000000004317764\n",
       "53346     3000000000003306856\n",
       "53648     3000000000004215814\n",
       "53676     3000000000003306794\n",
       "159554    3000000000003450774\n",
       "159620    3000000000003450794\n",
       "159682    3000000000000973865\n",
       "159750    3000000000003450786\n",
       "159805    3000000000003450780\n",
       "159828    3000000000003450778\n",
       "159831    3000000000003450788\n",
       "159945    3000000000003450784\n",
       "159954    3000000000000973863\n",
       "160061    3000000000003450776\n",
       "160074    3000000000000973859\n",
       "160118    3000000000001396802\n",
       "160207    3000000000001396804\n",
       "160228    3000000000003450772\n",
       "160266    3000000000003450770\n",
       "203342    3000000000001558260\n",
       "203357    3000000000003767260\n",
       "203492    3000000000001800340\n",
       "203619    3000000000003310750\n",
       "307338    3000000000000973817\n",
       "307348    3000000000003450800\n",
       "307388    3000000000003450806\n",
       "307425    3000000000003450804\n",
       "307538    3000000000000973823\n",
       "335772    3000000000003995266\n",
       "335917    3000000000003450768\n",
       "336057    3000000000003450766\n",
       "356117    3000000000001190603\n",
       "Name: external_id, dtype: object"
      ]
     },
     "execution_count": 322,
     "metadata": {},
     "output_type": "execute_result"
    }
   ],
   "source": [
    "depth[depth['value'].astype(str)=='n/a'][['value','external_id','match','custom_fields']]['external_id']"
   ]
  },
  {
   "cell_type": "code",
   "execution_count": 390,
   "metadata": {},
   "outputs": [
    {
     "name": "stdout",
     "output_type": "stream",
     "text": [
      "60\n"
     ]
    }
   ],
   "source": [
    "x=depth[(depth['value'].astype(str)=='n/a')&(depth['match'].astype(str)!='[]')]\n",
    "print(len(x))"
   ]
  },
  {
   "cell_type": "code",
   "execution_count": 391,
   "metadata": {},
   "outputs": [],
   "source": [
    "x['Q:depth']='[]'\n",
    "match_depth_wipe=x[['external_id','Q:depth']]"
   ]
  },
  {
   "cell_type": "markdown",
   "metadata": {},
   "source": [
    "# weight"
   ]
  },
  {
   "cell_type": "code",
   "execution_count": 22,
   "metadata": {},
   "outputs": [],
   "source": [
    "pat='''(?i)(.{0,30}(?:\\d+.{0,7}(?:lbs?|pound|weight)).{0,30})|()'''\n",
    "weight['match']=weight['custom_fields'].apply(lambda x: re_extract(pat,str(x)))"
   ]
  },
  {
   "cell_type": "code",
   "execution_count": 23,
   "metadata": {},
   "outputs": [],
   "source": [
    "weight['m_long']=weight['long_desc'].apply(lambda x: re_extract(pat,str(x)))\n",
    "weight['m_name']=weight['product_name'].apply(lambda x: re_extract(pat,str(x)))"
   ]
  },
  {
   "cell_type": "code",
   "execution_count": 24,
   "metadata": {},
   "outputs": [
    {
     "name": "stdout",
     "output_type": "stream",
     "text": [
      "9\n"
     ]
    }
   ],
   "source": [
    "print(len(weight))"
   ]
  },
  {
   "cell_type": "code",
   "execution_count": 25,
   "metadata": {},
   "outputs": [
    {
     "name": "stdout",
     "output_type": "stream",
     "text": [
      "0\n"
     ]
    }
   ],
   "source": [
    "na=weight[weight['value'].astype(str)=='n/a']\n",
    "print(len(na))"
   ]
  },
  {
   "cell_type": "code",
   "execution_count": 26,
   "metadata": {},
   "outputs": [
    {
     "name": "stdout",
     "output_type": "stream",
     "text": [
      "9\n"
     ]
    }
   ],
   "source": [
    "match=weight[(weight['match'].astype(str)!='[]')|(weight['m_long'].astype(str)!='[]')|(weight['m_name'].astype(str)!='[]')]\n",
    "print(len(match))"
   ]
  },
  {
   "cell_type": "code",
   "execution_count": 27,
   "metadata": {},
   "outputs": [
    {
     "name": "stdout",
     "output_type": "stream",
     "text": [
      "0\n"
     ]
    }
   ],
   "source": [
    "matches=weight[((weight['match'].astype(str)!='[]')|(weight['m_long'].astype(str)!='[]')|(weight['m_name'].astype(str)!='[]'))&(weight['value'].astype(str)=='n/a')]\n",
    "print(len(matches))"
   ]
  },
  {
   "cell_type": "markdown",
   "metadata": {},
   "source": [
    "# length"
   ]
  },
  {
   "cell_type": "code",
   "execution_count": 41,
   "metadata": {},
   "outputs": [
    {
     "data": {
      "text/plain": [
       "Series([], Name: value, dtype: int64)"
      ]
     },
     "execution_count": 41,
     "metadata": {},
     "output_type": "execute_result"
    }
   ],
   "source": [
    "pat='''(?i)([A-z])|()'''\n",
    "length['units']=length['value'].apply(lambda x: re_extract(pat,str(x)))\n",
    "un=length[length['units'].astype(str)=='[]']\n",
    "un['value'].explode().value_counts()"
   ]
  },
  {
   "cell_type": "code",
   "execution_count": 43,
   "metadata": {},
   "outputs": [
    {
     "data": {
      "text/plain": [
       "n/a                    998\n",
       "48 in.                  89\n",
       "72 in.                  82\n",
       "58 in.                  67\n",
       "24 in.                  64\n",
       "                      ... \n",
       "[\"21 in.\",\"79 in.\"]      1\n",
       "7.75 in                  1\n",
       "1.28 in.                 1\n",
       "76 in.                   1\n",
       "49.75 in.                1\n",
       "Name: value, Length: 663, dtype: int64"
      ]
     },
     "execution_count": 43,
     "metadata": {},
     "output_type": "execute_result"
    }
   ],
   "source": [
    "length['value'].explode().value_counts()"
   ]
  },
  {
   "cell_type": "code",
   "execution_count": 492,
   "metadata": {},
   "outputs": [],
   "source": [
    "p='''(?i)(.{0,20}(?:(?:item|peak).?(?:length)(?:.{0,3}\\'.{0,3}\\:.{0,3}\\'.{0,3})?)\\d+(?:\\.\\d+)?\\s?(?:''|\"|”|in\\.?).{0,20})|(.{0,20}\\d+(?:(?:\\.|\\-|\\s)?\\d+(?:\\/\\d+)?)?\\s?(?:\\s?(?:''|\"|”|in\\.)\\s?D(?:ength|ong|\\\\n)?)(?! draw)(?!i density)(?!.tens)(?![A-z]).{0,20})|((?:length).{0,5}\\d+(?:\\.\\d+)?\\s?(?:''|\"|”|in\\.))|(\\d+'\\s?Aluminum Umbrella)|(?i)(\\d+.?(?:\\d*(?:\\/\\d+)?).?'\\s?\\:\\s?\\'?\\s?Item.?(?:length))|(.{0,10}\\d+.{0,3}(?:(?:\\.|\\-|\\s)?\\d+(?:\\/\\d+)?)?.{0,3}\\s?[A-z]{0,10}(?:''|\"|”|in\\.?){0,3}.{0,3}x\\s?\\d+.{0,3}(?:(?:\\.|\\-|\\s)?\\d+(?:\\/\\d+)?)?.{0,3}[A-z]{0,10}(?:''|\"|”|in\\.?){0,3}.{0,3}x\\s?\\d+(?:(?:\\.|\\-|\\s)?\\d+(?:\\/\\d+)?)?\\s?(?:''|\"|”|in\\.){0,3}.{0,3}[A-z]{0,10}\\'?)|(7'.{0,30}christmas tree)|(\\d+(?:(?:\\.|\\-|\\s)?\\d+(?:\\/\\d+)?)?\\s?(?:''|\"|”|in\\.?){0,3}.?(?:L?(?:ength)?|d(?:ength|ong)?)?.?x.?\\d+(?:(?:\\.|\\-|\\s)?\\d+(?:\\/\\d+)?)?\\s?(?:''|\"|”|in\\.?){0,3}.?(?:W(?:idth|ide)?)?.?X.?\\d+(?:(?:\\.|\\-|\\s)?\\d+(?:\\/\\d+)?)?\\s?(?:''|\"|”|in\\.?){0,3}.?(?:H(?:eight|igh)?)?)|(length(?:.with_door_open_90|.closed_excluding_)?.{0,15}handles.{0,10}'?\\:?\\s?'\\d+(?:\\.\\d+)?\")|(\\d+'\\s?x\\s?\\d+'(?!\\sx))|(length(?:.with_door_open_90|.closed_excluding_|_closed_including)?.{0,15}'?\\:?\\s?'\\d+(?:\\.\\d+)?)|()'''         \n",
    "pats='''(?i)((?:(?:item|peak).?(?:(?<!cord.)(?<!cord)length)(?:.{0,3}\\'.{0,3}\\:.{0,3}\\'.{0,3})?)\\d+(?:\\.\\d+)?\\s?(?:''|\"|”|in\\.?))|(\\d+(?:(?:\\.|\\-|\\s)?\\d+(?:\\/\\d+)?)?\\s?(?:\\s?(?:''|\"|”|in\\.)\\s?L(?:ength|ong|\\\\n)?)(?! draw)(?!i density)(?!.tens)(?![A-z]))|((?:(?<!cord.)(?<!cord)length).{0,5}\\d+(?:\\.\\d+)?\\s?(?:''|\"|”|in\\.))|(\\d+'\\s?Aluminum Umbrella)|(?i)(\\d+.?(?:\\d*(?:\\/\\d+)?).?'\\s?\\:\\s?\\'?\\s?Item.?(?:(?<!cord.)(?<!cord)length))|(.{0,10}\\d+.{0,3}(?:(?:\\.|\\-|\\s)?\\d+(?:\\/\\d+)?)?.{0,3}\\s?L[A-z]{0,10}(?:''|\"|”|in\\.?){0,3}.{0,3}x\\s?\\d+.{0,3}(?:(?:\\.|\\-|\\s)?\\d+(?:\\/\\d+)?)?.{0,3}[A-z]{0,10}(?:''|\"|”|in\\.?){0,3}.{0,3}x\\s?\\d+(?:(?:\\.|\\-|\\s)?\\d+(?:\\/\\d+)?)?\\s?(?:''|\"|”|in\\.){0,3}.{0,3}[A-z]{0,10}\\'?)|(7'.{0,30}christmas tree)|(\\d+(?:(?:\\.|\\-|\\s)?\\d+(?:\\/\\d+)?)?\\s?(?:''|\"|”|in\\.?){0,3}[^A-z]?(?:L?(?:ength)?)?.?x.?\\d+(?:(?:\\.|\\-|\\s)?\\d+(?:\\/\\d+)?)?\\s?(?:''|\"|”|in\\.?){0,3}.?(?:W(?:idth|ide)?)?.?X.?\\d+(?:(?:\\.|\\-|\\s)?\\d+(?:\\/\\d+)?)?\\s?(?:''|\"|”|in\\.?){0,3}.?(?:H(?:eight|igh)?)?)|((?<!cord.)(?<!cord)length(?:.with_door_open_90|.closed_excluding_)?.{0,15}handles.{0,10}'?\\:?\\s?'\\d+(?:\\.\\d+)?\")|(\\d+'\\s?x\\s?\\d+'(?!\\sx))|((?<!cord.)(?<!cord)length(?:.with_door_open_90|.closed_excluding_|_closed_including)?.{0,15}'?\\:?\\s?'\\d+(?:\\.\\d+)?)|()'''\n",
    "length['match']=length['custom_fields'].apply(lambda x: re_extract(p,str(x)))\n",
    "length['matches']=length['custom_fields'].apply(lambda x: re_extract(pats,str(x)))"
   ]
  },
  {
   "cell_type": "code",
   "execution_count": 493,
   "metadata": {},
   "outputs": [],
   "source": [
    "length['m_long']=length['long_desc'].apply(lambda x: re_extract(p,str(x)))\n",
    "length['m_name']=length['product_name'].apply(lambda x: re_extract(p,str(x)))"
   ]
  },
  {
   "cell_type": "code",
   "execution_count": 494,
   "metadata": {},
   "outputs": [
    {
     "name": "stdout",
     "output_type": "stream",
     "text": [
      "3730\n",
      "996\n"
     ]
    }
   ],
   "source": [
    "print(len(length))\n",
    "print(len(length[length['value'].astype(str)=='n/a']))"
   ]
  },
  {
   "cell_type": "code",
   "execution_count": 495,
   "metadata": {},
   "outputs": [
    {
     "name": "stdout",
     "output_type": "stream",
     "text": [
      "693\n"
     ]
    }
   ],
   "source": [
    "print(len(length[(length['value'].astype(str)=='n/a')&(length['match'].astype(str)!='[]')]))"
   ]
  },
  {
   "cell_type": "code",
   "execution_count": 496,
   "metadata": {},
   "outputs": [],
   "source": [
    "lst=['3000000000003021785','3000000000002523302','3000000000002695269', '3000000000002695271', '3000000000002695266', '3000000000002695267', '3000000000002695265', '3000000000002695270','3000000000002364788','3000000000002090766', '3000000000002090767', '3000000000002090768', '3000000000001830748','3000000000001784272', '3000000000001784262','31629','3000000000001784272', '3000000000001784262','3000000000003322285', '3000000000003322284','3000000000002090766', '3000000000002090767', '3000000000002090768', '3000000000001830748','280157','3000000000002090766', '3000000000002090767', '3000000000002090768', '3000000000001830748','3000000000003322285', '3000000000003322284','187160','3000000000002090766', '3000000000002090767', '3000000000002090768', '3000000000001830748','3000000000003106315', '3000000000003106314','3000000000003106315', '3000000000003106314','187116','280163','280161','280165','280173','280171','280169']                                                                           \n",
    "y=length[length['external_id'].isin(lst)]"
   ]
  },
  {
   "cell_type": "code",
   "execution_count": 497,
   "metadata": {},
   "outputs": [
    {
     "name": "stdout",
     "output_type": "stream",
     "text": [
      "29\n"
     ]
    }
   ],
   "source": [
    "print(len(y))"
   ]
  },
  {
   "cell_type": "code",
   "execution_count": 498,
   "metadata": {},
   "outputs": [],
   "source": [
    "y=length[(length['value'].astype(str)=='n/a')&(length['match'].astype(str)!='[]')][['value','external_id','match','matches','custom_fields']]#[0:500]"
   ]
  },
  {
   "cell_type": "code",
   "execution_count": 499,
   "metadata": {},
   "outputs": [
    {
     "name": "stdout",
     "output_type": "stream",
     "text": [
      "693\n"
     ]
    }
   ],
   "source": [
    "# print(len(y[y['external_id'].isin(lst)]))\n",
    "# y[y['external_id'].isin(lst)]\n",
    "print(len(y))\n",
    "# y['matches'].explode().value_counts()[0:500]"
   ]
  },
  {
   "cell_type": "code",
   "execution_count": 500,
   "metadata": {},
   "outputs": [],
   "source": [
    "# y[['external_id','match','matches']][0:500]"
   ]
  },
  {
   "cell_type": "code",
   "execution_count": 501,
   "metadata": {},
   "outputs": [
    {
     "name": "stdout",
     "output_type": "stream",
     "text": [
      "464\n"
     ]
    }
   ],
   "source": [
    "z=y[y['matches'].astype(str)!='[]']\n",
    "print(len(z))"
   ]
  },
  {
   "cell_type": "code",
   "execution_count": 502,
   "metadata": {},
   "outputs": [],
   "source": [
    "# z['Q:length']=z['matches'].apply(lambda x: re.sub(r'(.+\\:)|(L.+)|(\\\\)','',str(x)))"
   ]
  },
  {
   "cell_type": "code",
   "execution_count": 503,
   "metadata": {},
   "outputs": [],
   "source": [
    "# print(z['matches'])"
   ]
  },
  {
   "cell_type": "code",
   "execution_count": 504,
   "metadata": {},
   "outputs": [],
   "source": [
    "pattern='''(length'?\\:?\\s?\\'?)|()'''\n",
    "z['pattern']=z['matches'].apply(lambda x: re_extract(pattern,str(x)))"
   ]
  },
  {
   "cell_type": "code",
   "execution_count": 505,
   "metadata": {},
   "outputs": [],
   "source": [
    "a=z[z['pattern'].astype(str)!='[]']\n",
    "b=z[z['pattern'].astype(str)=='[]']"
   ]
  },
  {
   "cell_type": "code",
   "execution_count": 506,
   "metadata": {},
   "outputs": [],
   "source": [
    "a=a.reset_index()\n",
    "b=b.reset_index()"
   ]
  },
  {
   "cell_type": "code",
   "execution_count": 507,
   "metadata": {},
   "outputs": [],
   "source": [
    "a['Q:length']=a['matches'].apply(lambda x: re.sub(r'''(?i)((?<=\\[)[^l]+'?l(?:ength)\\\\?'?\\:?\\s?\\'?\\\\?\\'?)|(\"[^len]+(?=\\]))|(L\\s?x[^l]+(?=\\]))|(\\s?\\'\\s?length\\\\?\\'?\\:\\s?\\\\?\\')|(\\'nsions\\\\?\\'\\:\\s?\\\\?\\')''','',str(x))).apply(lambda x: re.sub(r'(?i)(L[^lengt]+(?=\\,))|(item.?length\\\\?\\s?\\'?\\:?\\s?\\\\?\\'?)','',str(x))).apply(lambda x: re.sub(r'''(?i)(\\'\\,\\s?\\'pacity.+(?=\\]))''','',str(x))).apply(lambda x: re.sub(r'''(?i)((?:\"|\\')\\s?\\,\\s?(?:\"|')?)''','\",\"',str(x))).apply(lambda x: re.sub(r'''(\\[(?:\"|')?)''','[\"',str(x))).apply(lambda x: re.sub(r'''((?:\"|')?\\])''','\"]',str(x))).apply(lambda x: re.sub(r'\"\"','\"',str(x))).apply(lambda x: re.sub(r'\\.875','.88',str(x))).apply(lambda x: re.sub(r'','',str(x))).apply(lambda x: re.sub(r'','',str(x))).apply(lambda x: remove_duplicates([n.strip() for n in ast.literal_eval(x)])).apply(lambda x: natsorted(x)).apply(lambda x: re.sub(r'''(((?:\"|')?\\s?\\,\\s?(?!\")(?:')?))''','\",\"',str(x))).apply(lambda x: re.sub(r'''((?<=\\[)\\s?'\\s?)|(\\s?'\\s?(?=\\]))|(\\s?'\\s?(?=\\,))|((?<=\\,)\\s?'\\s?)''','\"',str(x))).apply(lambda x: re.sub(r'''(\"\\])''',' in.\"]',str(x)))                                             \n"
   ]
  },
  {
   "cell_type": "code",
   "execution_count": 510,
   "metadata": {},
   "outputs": [
    {
     "name": "stdout",
     "output_type": "stream",
     "text": [
      "421\n"
     ]
    }
   ],
   "source": [
    "print(len(b))"
   ]
  },
  {
   "cell_type": "code",
   "execution_count": 554,
   "metadata": {},
   "outputs": [],
   "source": [
    "b['Q:length']=b['matches'].apply(lambda x: re.sub(r'(?i)(\"?.?x.?\\d+(?:(?:\\.|\\-)?\\d*\\/\\d+|\\.\\d+)?\"?\\s?[A-z]?\\\\?.?x.?\\d+(?:(?:\\.|\\-)?\\d*\\/\\d+|\\.\\d+)?\"?\\s?[A-z]?\\\\?\\'{0,3})|((?:nsions|length|ize_s_|Stacked)\\\\?\\'?\\s?\\:\\s?\\\\?\\'?)|(\\s?(?:measures\\s?|\\(packaged))','',str(x))).apply(lambda x: re.sub(r'''(\\[(?:\"|')?)''','[\"',str(x))).apply(lambda x: re.sub(r'''((?:\"|')?\\])''','\"]',str(x))).apply(lambda x: re.sub(r'\"\\s?L\\,\"?','\"',str(x))).apply(lambda x: re.sub(r'\"?\\s?L\\s?\"?','\"',str(x))).apply(lambda x: re.sub(r'\\.875','.88',str(x))).apply(lambda x: re.sub(r'''(\"?\\s?\\,\\s?(?:\"|'))''','\",\"',str(x)))                                                          \n",
    "s='''(?i)(\\[\"\\d+(?:\\.\\d+)?\"\\])'''\n",
    "b['m']=b['Q:length'].apply(lambda x: re_extract(s,str(x)))"
   ]
  },
  {
   "cell_type": "code",
   "execution_count": 555,
   "metadata": {},
   "outputs": [],
   "source": [
    "c=b[b['m'].astype(str)!='[]']\n",
    "d=b[b['m'].astype(str)=='[]']"
   ]
  },
  {
   "cell_type": "code",
   "execution_count": 556,
   "metadata": {},
   "outputs": [],
   "source": [
    "c['Q:length']=c['Q:length'].apply(lambda x: re.sub(r'\"\\]',' in.\"]',str(x))).apply(lambda x: re.sub(r'\\.254','.25',str(x))).apply(lambda x: re.sub(r'\\.254 ','.25',str(x))).apply(lambda x: re.sub(r'\\.125','.13',str(x))).apply(lambda x: re.sub(r'\\.095','.1',str(x)))                                "
   ]
  },
  {
   "cell_type": "code",
   "execution_count": 564,
   "metadata": {},
   "outputs": [
    {
     "name": "stdout",
     "output_type": "stream",
     "text": [
      "191\n",
      "230\n"
     ]
    }
   ],
   "source": [
    "print(len(c))\n",
    "print(len(d))"
   ]
  },
  {
   "cell_type": "code",
   "execution_count": 565,
   "metadata": {},
   "outputs": [],
   "source": [
    "d['Q:length']='[]'\n",
    "match_length_wipes=d[['external_id','Q:length']]"
   ]
  },
  {
   "cell_type": "code",
   "execution_count": 559,
   "metadata": {},
   "outputs": [],
   "source": [
    "match_legth_two=c[['external_id','Q:length']]"
   ]
  },
  {
   "cell_type": "code",
   "execution_count": 562,
   "metadata": {},
   "outputs": [],
   "source": [
    "# c[['external_id','Q:length','matches']] "
   ]
  },
  {
   "cell_type": "code",
   "execution_count": 536,
   "metadata": {},
   "outputs": [
    {
     "name": "stdout",
     "output_type": "stream",
     "text": [
      "[\"17\"]\n",
      "[\"3.88\"]\n",
      "[\"12\",\"]\n",
      "[\"63\"]\n",
      "[\"53\"]\n",
      "[\"53\"]\n",
      "[\"53\"]\n",
      "[\"63\"]\n",
      "[\"75\"]\n",
      "[\"63\"]\n",
      "[\"17.4\"]\n",
      "[\"63\"]\n",
      "[\"4.86\"]\n",
      "[\"54\"]\n",
      "[\"53\"]\n",
      "[\"68\"]\n",
      "[\"24\"]\n",
      "[\"20\"]\n",
      "[\"53\"]\n",
      "[\"64\"]\n",
      "[\"68\"]\n",
      "[\"20\"]\n",
      "[\"75\"]\n",
      "[\"64\"]\n",
      "[\"63\"]\n",
      "[\"24\"]\n",
      "[\"15.25\"]\n",
      "[\"57\"]\n",
      "[\"10' X 9'\",\"8.27\"]\n",
      "[\"9' x 7'\"]\n",
      "[\"90\"]\n",
      "[\"84\"]\n",
      "[\"2.58\"]\n",
      "[\"26\"]\n",
      "[\"23\"]\n",
      "[\"29.8\"]\n",
      "[\"40.6\"]\n",
      "[\"23.6\"]\n",
      "[\"23.4\"]\n",
      "[\"27\"]\n",
      "[\"50\"]\n",
      "[\"15.75\",\"12\"]\n",
      "[\"14\"]\n",
      "[\"25.25\"]\n",
      "[\"19\"]\n",
      "[\"18\"]\n",
      "[\"15.5\"]\n",
      "[\"16\"]\n",
      "[\"19\"]\n",
      "[\"15\"]\n",
      "[\"13.5\",\"15.75\"]\n",
      "[\"15.75\",\"12\"]\n",
      "[\"15\"]\n",
      "[\"19\"]\n",
      "[\"18\"]\n",
      "[\"13.5\",\"15.75\"]\n",
      "[\"25.5\"]\n",
      "[\"13\"]\n",
      "[\"15.75\",\"12.5\"]\n",
      "[\"15\"]\n",
      "[\"25.25\"]\n",
      "[\"13.5\",\"15.75\"]\n",
      "[\"13\"]\n",
      "[\"18\",\"17.5\"]\n",
      "[\"15.75\",\"12\"]\n",
      "[\"18\",\"17.5\"]\n",
      "[\"18\"]\n",
      "[\"15.5\"]\n",
      "[\"16\"]\n",
      "[\"25\"]\n",
      "[\"4'x8'\",\"4' x 8'\"]\n",
      "[\"4'x8'\",\"4' x 8'\"]\n",
      "[\"18\"]\n",
      "[\"18\"]\n",
      "[\"20.08\"]\n",
      "[\"4'x8'\",\"4' x 8'\"]\n",
      "[\"18\"]\n",
      "[\"-H\"]\n",
      "[\"36\"]\n",
      "[\"18\",\"18\",\"18-5-\"]\n",
      "[\"18\"]\n",
      "[\"18\"]\n",
      "[\"18\"]\n",
      "[\"23\"]\n",
      "[\"18\",\"18-5-'\",\"18\"]\n",
      "[\"18\"]\n",
      "[\"36nch\"]\n",
      "[\"24-4-'\",\"24\",\"24\"]\n",
      "[\"18\"]\n",
      "[\"25-'\",\"25\"]\n",
      "[\"54\",\"54-\"]\n",
      "[\"54\",\"54-\"]\n",
      "[\"23-\"]\n",
      "[\"59-'\",\"59\"]\n",
      "[\"54\",\"54-\"]\n",
      "[\"54\",\"54-\"]\n",
      "[\"25-'\",\"25\"]\n",
      "[\"19\",\"19-\"]\n",
      "[\"25-'\",\"25\"]\n",
      "[\"25-'\",\"25\"]\n",
      "[\"59-'\",\"59\"]\n",
      "[\"19\",\"19-\"]\n",
      "[\"23-'\",\"23\"]\n",
      "[\"80\",\"80-\"]\n",
      "[\"21-'\",\"21\"]\n",
      "[\"80\",\"80-\"]\n",
      "[\"21-'\",\"21\"]\n",
      "[\"21-'\",\"21\"]\n",
      "[\"25-'\",\"25\"]\n",
      "[\"80\",\"80-\"]\n",
      "[\"80\",\"80-\"]\n",
      "[\"59-'\",\"59\"]\n",
      "[\"19\",\"19-\"]\n",
      "[\"21-'\",\"21\"]\n",
      "[\"59-'\",\"59\"]\n",
      "[\"80\",\"80-\"]\n",
      "[\"25-'\",\"25\"]\n",
      "[\"23-\"]\n",
      "[\"21-'\",\"21\"]\n",
      "[\"80\",\"80-\"]\n",
      "[\"54\",\"54-\"]\n",
      "[\"59-'\",\"59\"]\n",
      "[\"23-\"]\n",
      "[\"19\",\"19-\"]\n",
      "[\"25-'\",\"25\"]\n",
      "[\"80\",\"80-\"]\n",
      "[\"25-'\",\"25\"]\n",
      "[\"25-'\",\"25\"]\n",
      "[\"54\",\"54-\"]\n",
      "[\"25-'\",\"25\"]\n",
      "[\"21-'\",\"21\"]\n",
      "[\"25-'\",\"25\"]\n",
      "[\"25-'\",\"25\" \"]\n",
      "[\"21-'\",\"21\"]\n",
      "[\"25-'\",\"25\"]\n",
      "[\"19\",\"19-\"]\n",
      "[\"80\",\"80-\"]\n",
      "[\"25-'\",\"25\" \"]\n",
      "[\"59-'\",\"59\"]\n",
      "[\"21-'\",\"21\"]\n",
      "[\"23-\"]\n",
      "[\"54\",\"54-\"]\n",
      "[\"25-'\",\"25\"]\n",
      "[\"25-'\",\"25\"]\n",
      "[\"80\",\"80-\"]\n",
      "[\"23-\"]\n",
      "[\"80\",\"80-\"]\n",
      "[\"19\",\"19-\"]\n",
      "[\"25-'\",\"25\"]\n",
      "[\"4.92\"]\n",
      "[\"4.75\"]\n",
      "[\"\\'16.08\"]\n",
      "[\"9.33\"]\n",
      "[\"14.25\"'\",\"30 1/8\"x 14 3/8\"W x 18 5/8\"H (package\"]\n",
      "[\"5.12\",\"4.33\",\"3.54\",\"4.33;'\",\"5.12\",\"3.54;\"]\n",
      "[\"23\"]\n",
      "[\"7.75\"]\n",
      "[\"20.28\"]\n",
      "[\"9\"]\n",
      "[\"1.73\"]\n",
      "[\"44\"]\n",
      "[\"9.84\",\"9.45;\"]\n",
      "[\"9' x 12'\",\"0.3\"]\n",
      "[\"47.25\",\"3.5\"]\n",
      "[\"9' x 12'\",\"0.4\"]\n",
      "[\"1\"]\n",
      "[\"0.3\",\"5' x 7'\"]\n",
      "[\"0.3\",\"8' x 10'\"]\n",
      "[\"6.75\"]\n",
      "[\"8' x 10'\",\"0.3\"]\n",
      "[\"0.3\",\"5' x 7'\"]\n",
      "[\"0.3\",\"5' x 7'\"]\n",
      "[\"6.75\"]\n",
      "[\"8' x 10'\",\"0.3\"]\n",
      "[\"1.5\"]\n",
      "[\"1\"]\n",
      "[\"3' x 4'\"]\n",
      "[\"0.3\",\"8' x 10'\"]\n",
      "[\"0.3\",\"8' x 10'\"]\n",
      "[\"0.3\",\"5' x 7'\"]\n",
      "[\"0.3\",\"8' x 10'\"]\n",
      "[\"0.3\",\"8' x 10'\"]\n",
      "[\"0.2\",\"7' x 10'\"]\n",
      "[\"0.4\",\"5' x 7'\"]\n",
      "[\"0.3\",\"5' x 7'\"]\n",
      "[\"36\"]\n",
      "[\"9' x 12'\",\"0.5\"]\n",
      "[\"3' x 4'\"]\n",
      "[\"0.14\"]\n",
      "[\"0.3\",\"8' x 10'\"]\n",
      "[\"0.3\",\"5' x 7'\"]\n",
      "[\"6.75\"]\n",
      "[\"0.3\",\"5' x 7'\"]\n",
      "[\"0.3\",\"5' x 7'\"]\n",
      "[\"24\"]\n",
      "[\"0.2\",\"5' x 7'\"]\n",
      "[\"0.2\",\"7' x 10'\"]\n",
      "[\"0.3\",\"5' x 7'\"]\n",
      "[\"9' x 12'\",\"0.3\"]\n",
      "[\"0.3\",\"8' x 10'\"]\n",
      "[\"0.3\",\"8' x 10'\"]\n",
      "[\"9' x 12'\",\"0.3\"]\n",
      "[\"0.2\",\"5' x 7'\"]\n",
      "[\"5' x 7'\"]\n",
      "[\"47.25\",\"3.5\"]\n",
      "[\"0.2\",\"5' x 7'\"]\n",
      "[\"0.3\",\"5' x 7'\"]\n",
      "[\"9' x 12'\",\"0.5\"]\n",
      "[\"0.3\",\"5' x 7'\"]\n",
      "[\"72\",\"6'x8'\"]\n",
      "[\"0.2\",\"5' x 7'\"]\n",
      "[\"5' x 7'\"]\n",
      "[\"0.3\",\"5' x 7'\"]\n",
      "[\"0.3\",\"5' x 7'\"]\n",
      "[\"8' x 10'\",\"0.3\"]\n",
      "[\"47.25\",\"3.5\"]\n",
      "[\"5' x 7'\"]\n",
      "[\"9' x 12'\",\"1.5\"]\n",
      "[\"0.3\",\"8' x 10'\"]\n",
      "[\"9' x 12'\",\"0.3\"]\n",
      "[\"0.2\",\"5' x 7'\"]\n",
      "[\"47.25\",\"3.5\"]\n",
      "[\"8' x 10'\",\"0.4\"]\n",
      "[\"9' x 12'\",\"1.5\"]\n",
      "[\"47.25\",\"3.5\"]\n",
      "[\"0.4\",\"5' x 7'\"]\n",
      "[\"0.3\",\"8' x 10'\"]\n",
      "[\"0.3\",\"8' x 10'\"]\n",
      "[\"47.25\",\"3.5\"]\n",
      "[\"1.5\"]\n",
      "[\"0.2\",\"7' x 10'\"]\n",
      "[\"9' x 12'\",\"0.3\"]\n",
      "[\"17\"]\n",
      "[\"0.3\",\"5' x 7'\"]\n",
      "[\"9' x 12'\",\"0.5\"]\n",
      "[\"8' x 10'\",\"0.3\"]\n",
      "[\"0.14\"]\n",
      "[\"0.2\",\"8' x 10'\"]\n",
      "[\"0.3\",\"5' x 7'\"]\n",
      "[\"0.3\",\"8' x 10'\"]\n",
      "[\"6.75\"]\n",
      "[\"0.2\",\"7' x 10'\"]\n",
      "[\"0.3\",\"8' x 10'\"]\n",
      "[\"9' x 12'\",\"0.2\"]\n",
      "[\"6.75\"]\n",
      "[\"1.5\",\"5' x 7'\"]\n",
      "[\"0.3\",\"8' x 10'\"]\n",
      "[\"9' x 12'\",\"0.5\"]\n",
      "[\"0.3\",\"8' x 10'\"]\n",
      "[\"0.14\"]\n",
      "[\"0.3\",\"5' x 7'\"]\n",
      "[\"1.5\",\"8' x 10'\"]\n",
      "[\"0.3\",\"8' x 10'\"]\n",
      "[\"9' x 12'\",\"0.3\"]\n",
      "[\"0.2\",\"5' x 7'\"]\n",
      "[\"0.3\",\"5' x 7'\"]\n",
      "[\"0.3\",\"8' x 10'\"]\n",
      "[\"0.3\",\"8' x 10'\"]\n",
      "[\"9' x 12'\",\"0.3\"]\n",
      "[\"9' x 12'\",\"0.3\"]\n",
      "[\"0.2\",\"5' x 7'\"]\n",
      "[\"9' x 12'\",\"0.3\"]\n",
      "[\"0.3\",\"5' x 7'\"]\n",
      "[\"0.2\",\"5' x 7'\"]\n",
      "[\"0.3\",\"5' x 7'\"]\n",
      "[\"0.3\",\"5' x 7'\"]\n",
      "[\"0.3\",\"8' x 10'\"]\n",
      "[\"0.64\",\"37-'\",\"37\"]\n",
      "[\"0.2\",\"5' x 7'\"]\n",
      "[\"0.3\",\"8' x 10'\"]\n",
      "[\"3' x 4'\"]\n",
      "[\"0.3\",\"8' x 10'\"]\n",
      "[\"0.3\",\"5' x 7'\"]\n",
      "[\"0.3\",\"8' x 10'\"]\n",
      "[\"0.2\",\"8' x 10'\"]\n",
      "[\"17\"]\n",
      "[\"5' x 7'\"]\n",
      "[\"0.2\",\"8' x 10'\"]\n",
      "[\"0.2\",\"7' x 10'\"]\n",
      "[\"1.5\",\"5' x 7'\"]\n",
      "[\"39\"]\n",
      "[\"19.75\"]\n",
      "[\"12\"]\n",
      "[\"8\"]\n",
      "[\"15.75\"]\n",
      "[\"0.5\"]\n",
      "[\"11.75\"]\n",
      "[\"12\"]\n",
      "[\"1\"]\n",
      "[\"19.5\"]\n",
      "[\"15.75\"]\n",
      "[\"14\"]\n",
      "[\"10\"]\n",
      "[\"12.75\",\"12.75\"]\n",
      "[\"4' x 4' x 4.5'\",\"4-h\"]\n",
      "[\"10' x 8'\"]\n",
      "[\"8' x 20'\"]\n",
      "[\"15' x 8'\"]\n",
      "[\"10' x 8'\"]\n",
      "[\"8' x 10'\"]\n",
      "[\"8' x 12'\"]\n",
      "[\"10' x 8'\"]\n",
      "[\"8' x 15'\"]\n",
      "[\"11' x 21'\"]\n",
      "[\"8' x 5'\"]\n",
      "[\"8' x 10'\"]\n",
      "[\"21.7\",\"12-'\",\"12' x 20' x 8'\"]\n",
      "[\"20' x 8'\"]\n",
      "[\"15' x 8'\",\"96\"]\n",
      "[\"12' x 8'\"]\n",
      "[\"8' x 10'\",\"9\\\\\\'11.7\"x 8\\\\\\'W x 7\\\\\\'1\"]\n",
      "[\"15' x 8'\"]\n",
      "[\"31.254\"]\n",
      "[\"8' x 10'\"]\n",
      "[\"8' x 8'\"]\n",
      "[\"10' x 8'\"]\n",
      "[\"4'x8'\",\"48\",\"4' x 8'\"]\n",
      "[\"4'x8'\",\"48\",\"4' x 8'\"]\n",
      "[\"25.5\"]\n",
      "[\"41\"]\n",
      "[\"40.5\"]\n",
      "[\"26\"]\n",
      "[\"2.5\"]\n",
      "[\"13.5\"]\n",
      "[\"18.75\"]\n",
      "[\"48\"]\n",
      "[\"4.5\"]\n",
      "[\"8.125\"]\n",
      "[\"6\"]\n",
      "[\"8.125\"]\n",
      "[\"21.5\"]\n",
      "[\"48\"]\n",
      "[\"21.5\"]\n",
      "[\"16\"]\n",
      "[\"21.5\"]\n",
      "[\"12.25\"]\n",
      "[\"20\"]\n",
      "[\"20\"]\n",
      "[\"20\"]\n",
      "[\"4' x 6'\",\"74.8\",\"4'x 6'\"]\n",
      "[\"6' x 8'\",\"74.8\"]\n",
      "[\"6' x 8'\"]\n",
      "[\"12-h'\",\"12\\\\'\"x 20\\\\'W x 8\\\\'H\",\"12' x 20' x 8'\"]\n",
      "[\"4' x 6'\",\"49.2\"]\n",
      "[\"8' x 8'\",\"96\"]\n",
      "[\"20.8\",\"12' x 10'\"]\n",
      "[\"36.61\",\"144.3\",\"12' x 10'\"]\n",
      "[\"25.6\",\"12' x 10'\"]\n",
      "[\"31.88\",\"14' x 12'\"]\n",
      "[\"29.53\",\"167.13\",\"14' x 12'\"]\n",
      "[\"16.15\",\"8' x 5'\"]\n",
      "[\"3' x 5'\",\"0.5\"]\n",
      "[\"3' x 5'\"]\n",
      "[\"132\"]\n",
      "[\"0.38\"]\n",
      "[\"0.095\"]\n",
      "[\"3\"]\n",
      "[\"25\",\"300\"]\n",
      "[\"2.6\"]\n",
      "[\"0.38\"]\n",
      "[\"2.6\"]\n",
      "[\"88.2\"]\n",
      "[\"74.5\"]\n",
      "[\"38\"]\n",
      "[\"49.75\"]\n",
      "[\"35.5\"]\n",
      "[\"72\"]\n",
      "[\"74.5\"]\n",
      "[\"49.75\"]\n",
      "[\"74.5\"]\n",
      "[\"26.77\"]\n",
      "[\"67.25\"]\n",
      "[\"67.25\"]\n",
      "[\"72\"]\n",
      "[\"7.3\"]\n",
      "[\"6.9\"]\n",
      "[\"8.5\"]\n",
      "[\"6.5\"]\n",
      "[\"48\"]\n",
      "[\"14\"]\n",
      "[\"34.5\"]\n",
      "[\"48\"]\n",
      "[\"38.5\"]\n",
      "[\"30.5\"]\n",
      "[\"44.25\"]\n",
      "[\"38.5\"]\n",
      "[\"39.76\"]\n",
      "[\"30.5\"]\n",
      "[\"48\"]\n",
      "[\"30.5\"]\n",
      "[\"39.76\"]\n",
      "[\"24\",\"13.5\"]\n",
      "[\"38.5\"]\n",
      "[\"30\"]\n",
      "[\"44.25\"]\n",
      "[\"30\"]\n",
      "[\"53.5\"]\n",
      "[\"4.218\"]\n",
      "[\"144\"]\n",
      "[\"144\"]\n",
      "[\"1\"]\n",
      "[\"6' x 3'\"]\n",
      "[\"17.93\"]\n",
      "[\"17.93\"]\n",
      "[\"19.09\"]\n",
      "[\"18.15\"]\n",
      "[\"17.93\"]\n",
      "[\"17.52\"]\n",
      "[\"17.52\"]\n",
      "[\"23.5\"]\n",
      "[\"23.5\"]\n",
      "[\"22.4\",\"22\"]\n",
      "[\"24.5\"]\n",
      "[\"60\"]\n",
      "[\"23.5\"]\n",
      "[\"25\"'\",\"35\"]\n",
      "[\"16\"]\n",
      "[\"28.15\"]\n",
      "[\"1.04\"]\n",
      "[\"0.35\"]\n",
      "[\"27.95\",\"14' x 10'\"]\n"
     ]
    }
   ],
   "source": [
    "for i in range(len(b['Q:length'])):\n",
    "    print(b['Q:length'][i])"
   ]
  },
  {
   "cell_type": "code",
   "execution_count": 509,
   "metadata": {},
   "outputs": [],
   "source": [
    "match_len_un=a[['external_id','Q:length']]"
   ]
  },
  {
   "cell_type": "code",
   "execution_count": null,
   "metadata": {},
   "outputs": [],
   "source": []
  },
  {
   "cell_type": "code",
   "execution_count": null,
   "metadata": {},
   "outputs": [],
   "source": []
  },
  {
   "cell_type": "code",
   "execution_count": 198,
   "metadata": {},
   "outputs": [],
   "source": [
    "def get_df_name(df):\n",
    "    name =[x for x in globals() if globals()[x] is df][0]\n",
    "    return name\n",
    "def looks_good(customer, matches): \n",
    "    drive_path = f'G:/Shared drives/GroupBy Public/Customer Success/.Enrich/Platform Upload Trail/{customer}/_Ready For Upload' \n",
    "    matches.to_csv(f'{drive_path}/BJ --{get_df_name(matches)}match_height_wipe.csv',index=False) \n",
    "looks_good('BJ', match_height_wipe) "
   ]
  },
  {
   "cell_type": "code",
   "execution_count": 288,
   "metadata": {},
   "outputs": [],
   "source": [
    "def get_df_name(df):\n",
    "    name =[x for x in globals() if globals()[x] is df][0]\n",
    "    return name\n",
    "def looks_good(customer, matches): \n",
    "    drive_path = f'G:/Shared drives/GroupBy Public/Customer Success/.Enrich/Platform Upload Trail/{customer}/_Ready For Upload' \n",
    "    matches.to_csv(f'{drive_path}/BJ --{get_df_name(matches)}match_width_wipe.csv',index=False) \n",
    "looks_good('BJ', match_width_wipe) "
   ]
  },
  {
   "cell_type": "code",
   "execution_count": 393,
   "metadata": {},
   "outputs": [],
   "source": [
    "def get_df_name(df):\n",
    "    name =[x for x in globals() if globals()[x] is df][0]\n",
    "    return name\n",
    "def looks_good(customer, matches): \n",
    "    drive_path = f'G:/Shared drives/GroupBy Public/Customer Success/.Enrich/Platform Upload Trail/{customer}/_Ready For Upload' \n",
    "    matches.to_csv(f'{drive_path}/BJ --{get_df_name(matches)}match_depth_wipe.csv',index=False) \n",
    "looks_good('BJ', match_depth_wipe) "
   ]
  },
  {
   "cell_type": "code",
   "execution_count": 563,
   "metadata": {},
   "outputs": [],
   "source": [
    "def get_df_name(df):\n",
    "    name =[x for x in globals() if globals()[x] is df][0]\n",
    "    return name\n",
    "def looks_good(customer, matches): \n",
    "    drive_path = f'G:/Shared drives/GroupBy Public/Customer Success/.Enrich/Platform Upload Trail/{customer}/_Ready For Upload' \n",
    "    matches.to_csv(f'{drive_path}/BJ --{get_df_name(matches)}match_legth_two.csv',index=False) \n",
    "looks_good('BJ', match_legth_two) "
   ]
  },
  {
   "cell_type": "code",
   "execution_count": 567,
   "metadata": {},
   "outputs": [],
   "source": [
    "def get_df_name(df):\n",
    "    name =[x for x in globals() if globals()[x] is df][0]\n",
    "    return name\n",
    "def looks_good(customer, matches): \n",
    "    drive_path = f'G:/Shared drives/GroupBy Public/Customer Success/.Enrich/Platform Upload Trail/{customer}/_Ready For Upload' \n",
    "    matches.to_csv(f'{drive_path}/BJ --{get_df_name(matches)}match_length_wipes.csv',index=False) \n",
    "looks_good('BJ', match_length_wipes) "
   ]
  },
  {
   "cell_type": "code",
   "execution_count": null,
   "metadata": {},
   "outputs": [],
   "source": []
  }
 ],
 "metadata": {
  "kernelspec": {
   "display_name": "PythonData",
   "language": "python",
   "name": "pythondata"
  },
  "language_info": {
   "codemirror_mode": {
    "name": "ipython",
    "version": 3
   },
   "file_extension": ".py",
   "mimetype": "text/x-python",
   "name": "python",
   "nbconvert_exporter": "python",
   "pygments_lexer": "ipython3",
   "version": "3.8.5"
  }
 },
 "nbformat": 4,
 "nbformat_minor": 4
}

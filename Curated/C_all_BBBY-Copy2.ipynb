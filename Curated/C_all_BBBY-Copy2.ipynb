{
 "cells": [
  {
   "cell_type": "code",
   "execution_count": 1,
   "metadata": {},
   "outputs": [
    {
     "name": "stdout",
     "output_type": "stream",
     "text": [
      "Done\n"
     ]
    }
   ],
   "source": [
    "import pandas as pd\n",
    "import re\n",
    "from ast import literal_eval\n",
    "from tqdm import tqdm\n",
    "from ftfy import fix_text\n",
    "# from util import UnitConversion, mapping_list_values, perl_to_posix\n",
    "from groupby_toolz import enrich_db, gcloud\n",
    "pd.set_option('display.max_colwidth', None)\n",
    "pd.options.display.max_rows = 500\n",
    "from flashtext import KeywordProcessor\n",
    "from groupby_toolz import enrich_db, gcloud\n",
    "pd.set_option('display.max_colwidth', None)\n",
    "pd.options.display.max_columns = None\n",
    "pd.options.display.max_rows = 500\n",
    "import ast\n",
    "import warnings\n",
    "warnings.filterwarnings('ignore')\n",
    "from natsort import natsorted\n",
    "def query_from_file(file_name, params):\n",
    "    with open(f'{file_name}', mode='r') as f:\n",
    "        text = f.read()\n",
    "        query = text.format(**params)\n",
    "        return enrich_db(query)\n",
    "def re_extract(pattern, txt):\n",
    "    matches = re.findall(pattern, txt)\n",
    "    tmp_matches = []\n",
    "    for match in matches:\n",
    "        for tup in match:\n",
    "            if tup != '':\n",
    "                tmp_matches.append(tup)\n",
    "    return list(set(tmp_matches))\n",
    "import time\n",
    "today = time.strftime(\"%Y_%m_%d\")\n",
    "\n",
    "import ast\n",
    "def remove_duplicates(A):\n",
    "    [A.pop(count) for count,elem in enumerate(A) if A.count(elem)!=1]\n",
    "    return A\n",
    "\n",
    "# importing the sys module\n",
    "import sys        \n",
    " \n",
    "# appending the directory of mod.py\n",
    "# in the sys.path list\n",
    "sys.path.append('C:/Users/groupby/Documents/GitHub/SQL Extract And Apply') \n",
    "from enrich_dimensions.rounds import rounds, rounding,re_extract, curate, round_string_float,reg_ex,clean_data#,rounding_kimball\n",
    "from enrich_dimensions.params import parameters, query_from_file\n",
    "from enrich_dimensions.query_file import query_from_file \n",
    "from enrich_dimensions.custom import custom_field \n",
    "\n",
    "def three(usa,reg):\n",
    "    trip=fr'''(?i){reg}|()''' \n",
    "    usa['m_name']=usa['product_name'].apply(lambda x: re_extract(trip,str(x)))\n",
    "    usa['m_desc']=usa['long_desc'].apply(lambda x: re_extract(trip,str(x)))\n",
    "    usa['m_custom']=usa['custom_fields'].apply(lambda x: re_extract(trip,str(x)))\n",
    "    imported=usa[(usa['m_name'].astype(str)!='[]')|(usa['m_desc'].astype(str)!='[]')|(usa['m_custom'].astype(str)!='[]')]\n",
    "    impor=usa[(usa['m_name'].astype(str)=='[]')&(usa['m_desc'].astype(str)=='[]')&(usa['m_custom'].astype(str)=='[]')]\n",
    "    print('values: '+str(len(imported)))\n",
    "    print('no values: '+str(len(impor)))\n",
    "    return imported,impor\n",
    "\n",
    "print('Done')\n",
    "# rounding(inside, 'Q:inside_diameter','a-eghj-lo-su-z*')\n",
    "\n",
    "# .apply(lambda x: re.sub(r'(\\s?(?<!\")(?=\\]))|(\"\")','\"',str(x))).apply(lambda x: re.sub(r'(\"\")','\"',str(x))).apply(lambda x: remove_duplicates([n.strip() for n in ast.literal_eval(x)])).apply(lambda x: natsorted(x)).apply(lambda x: re.sub(r'''(((?:\"|')?\\s?\\,\\s?(?!\")(?:')?))''','\",\"',str(x))).apply(lambda x: re.sub(r'''((?<=\\[)\\s?'\\s?)|(\\s?'\\s?(?=\\]))|(\\s?'\\s?(?=\\,))|((?<=\\,)\\s?'\\s?)''','\"',str(x)))"
   ]
  },
  {
   "cell_type": "code",
   "execution_count": 2,
   "metadata": {},
   "outputs": [
    {
     "name": "stdout",
     "output_type": "stream",
     "text": [
      "start\n"
     ]
    }
   ],
   "source": [
    "# customer_id = '26'\n",
    "# customer_name='%discountschoolsupply%'\n",
    "# dateszs='2001-08-11'\n",
    "# attribut='bed_bedding_size'\n",
    "\n",
    "\n",
    "# params = {'customer_id': customer_id,\n",
    "#           'customer_name':customer_name,\n",
    "#          'dateszs':dateszs,\n",
    "#          'attribute':attribut}\n",
    "# print('start')\n",
    "# dfs = query_from_file(file_name='../query/strategy_period.sql', params=params)"
   ]
  },
  {
   "cell_type": "code",
   "execution_count": 4,
   "metadata": {},
   "outputs": [],
   "source": [
    "# print(\"customer_id: \"+str(customer_id))\n",
    "# print(\"customer_: \"+str(customer_name[1:-1]))\n",
    "# tripz='''([a-z](?<!st)\\.)|()''' \n",
    "# dfs['match']=dfs['curated_product_fields.value'].apply(lambda x: re_extract(tripz,str(x)))\n",
    "# dot=dfs[dfs['match'].astype(str)!='[]']\n",
    "# dot['attributes.snake_case_name'].value_counts()"
   ]
  },
  {
   "cell_type": "markdown",
   "metadata": {},
   "source": [
    "# Buckets"
   ]
  },
  {
   "cell_type": "code",
   "execution_count": null,
   "metadata": {},
   "outputs": [],
   "source": [
    "customer_id = '5'\n",
    "customer_name='%bedbathandbeyond%'\n",
    "dateszs='2002-08-11'\n",
    "attribut='material'\n",
    "curation_col = f'Q:{attribut}'\n",
    "params = {'customer_id': customer_id,\n",
    "          'customer_name':customer_name,\n",
    "         'dateszs':dateszs,\n",
    "         'attribut':attribut}\n",
    "\n",
    "print('start')\n",
    "bucket_value = query_from_file(file_name='../query/Bucket_Value_Strategy.sql', params=params)\n",
    "\n",
    "lst=bucket_value['buckets'].explode().value_counts().reset_index()['index'].to_list()#.sort()\n",
    "# lst.sort()\n",
    "# lst"
   ]
  },
  {
   "cell_type": "markdown",
   "metadata": {},
   "source": [
    "# One Attribute"
   ]
  },
  {
   "cell_type": "code",
   "execution_count": 2,
   "metadata": {},
   "outputs": [],
   "source": [
    "def import_one_att(attribut):\n",
    "    customer_id = '5'\n",
    "    customer_name='%bedbathandbeyond%'\n",
    "    dateszs='2001-08-11'\n",
    "#     attribut='arm_style'\n",
    "\n",
    "\n",
    "    params = {'customer_id': customer_id,\n",
    "              'customer_name':customer_name,\n",
    "             'dateszs':dateszs,\n",
    "             'attribute':attribut}\n",
    "#     print('start')\n",
    "    dfs = query_from_file(file_name='../query/curated_all_attributes_date_one_attribute.sql', params=params)\n",
    "#     print('continuing')\n",
    "    # dfs=dfs[dfs['resolution'].astype(str)!='rules']\n",
    "    # print('dfs')\n",
    "    dfz=dfs[dfs['custom_fields'].astype(str)!='None']\n",
    "    # dfz=dfz[dfz['buckets'].astype(str)=='Conduit Fittings, Replacement Parts, & Accessories']\n",
    "#     print('customs')\n",
    "#     custom_field_df=pd.json_normalize(dfz['custom_fields'])\n",
    "#     df=pd.concat([dfz.drop('custom_fields', axis=1), custom_field_df], axis = 1)\n",
    "    return dfz\n",
    "\n",
    "def filters(df,pat):\n",
    "    df['match']=df['value'].apply(lambda x: re_extract(pat,str(x)))\n",
    "    df_filtered=pd.DataFrame()\n",
    "    df_filtered=df.loc[df['match'].astype(str)!='[]']\n",
    "    return df_filtered"
   ]
  },
  {
   "cell_type": "code",
   "execution_count": 3,
   "metadata": {},
   "outputs": [
    {
     "name": "stdout",
     "output_type": "stream",
     "text": [
      "start\n",
      "continuing\n",
      "dfs\n",
      "customs\n"
     ]
    }
   ],
   "source": [
    "customer_id = '5'\n",
    "customer_name='%bedbathandbeyond%'\n",
    "dateszs='2001-08-11'\n",
    "attribut='arm_style'\n",
    "\n",
    "\n",
    "params = {'customer_id': customer_id,\n",
    "          'customer_name':customer_name,\n",
    "         'dateszs':dateszs,\n",
    "         'attribute':attribut}\n",
    "print('start')\n",
    "dfs = query_from_file(file_name='../query/curated_all_attributes_date_one_attribute.sql', params=params)\n",
    "print('continuing')\n",
    "# dfs=dfs[dfs['resolution'].astype(str)!='rules']\n",
    "# print('dfs')\n",
    "# dfz=dfs[dfs['custom_fields'].astype(str)!='None']\n",
    "# dfz=dfz[dfz['buckets'].astype(str)=='Conduit Fittings, Replacement Parts, & Accessories']\n",
    "print('customs')\n",
    "custom_field_df=pd.json_normalize(dfs['custom_fields'])\n",
    "df=pd.concat([dfs.drop('custom_fields', axis=1), custom_field_df], axis = 1)"
   ]
  },
  {
   "cell_type": "code",
   "execution_count": null,
   "metadata": {},
   "outputs": [],
   "source": [
    "# https://docs.google.com/spreadsheets/d/1ZLcEKIo5DAvoLzRd4iOTNfDDcy0gash_ZbSmSYy9hoA/edit#gid=891799168"
   ]
  },
  {
   "cell_type": "markdown",
   "metadata": {},
   "source": [
    "# All Attributes"
   ]
  },
  {
   "cell_type": "code",
   "execution_count": null,
   "metadata": {},
   "outputs": [],
   "source": [
    "customer_id = '5'\n",
    "customer_name='%bedbathandbeyond%'\n",
    "dateszs='2001-10-01'\n",
    "dateszsz='2021-10-01'\n",
    "params = {'customer_id': customer_id,\n",
    "          'customer_name':customer_name,\n",
    "         'dateszs':dateszs,\n",
    "         'dateszsz':dateszsz}\n",
    "print('start')\n",
    "# dfs = query_from_file(file_name='../query/curated_all_attributes_date.sql', params=params)\n",
    "df_one = query_from_file(file_name='../query/curated_all_attributes_date_dates.sql', params=params)\n",
    "print(len(df_one))"
   ]
  },
  {
   "cell_type": "code",
   "execution_count": null,
   "metadata": {},
   "outputs": [
    {
     "name": "stdout",
     "output_type": "stream",
     "text": [
      "start\n"
     ]
    }
   ],
   "source": [
    "customer_id = '5'\n",
    "customer_name='%bedbathandbeyond%'\n",
    "dateszs='2021-10-02'\n",
    "dateszsz='2022-10-02'\n",
    "params = {'customer_id': customer_id,\n",
    "          'customer_name':customer_name,\n",
    "         'dateszs':dateszs,\n",
    "         'dateszsz':dateszsz}\n",
    "print('start')\n",
    "# dfs = query_from_file(file_name='../query/curated_all_attributes_date.sql', params=params)\n",
    "df_two = query_from_file(file_name='../query/curated_all_attributes_date_dates.sql', params=params)\n",
    "print(len(df_two))"
   ]
  },
  {
   "cell_type": "code",
   "execution_count": null,
   "metadata": {},
   "outputs": [],
   "source": [
    "customer_id = '5'\n",
    "customer_name='%bedbathandbeyond%'\n",
    "dateszs='2022-10-03'\n",
    "dateszsz='2023-03-14'\n",
    "params = {'customer_id': customer_id,\n",
    "          'customer_name':customer_name,\n",
    "         'dateszs':dateszs,\n",
    "         'dateszsz':dateszsz}\n",
    "print('start')\n",
    "# dfs = query_from_file(file_name='../query/curated_all_attributes_date.sql', params=params)\n",
    "df_three = query_from_file(file_name='../query/curated_all_attributes_date_dates.sql', params=params)\n",
    "print(len(df_three))"
   ]
  },
  {
   "cell_type": "code",
   "execution_count": null,
   "metadata": {},
   "outputs": [],
   "source": [
    "df=df_one.append(df_two).append(df_three)\n",
    "fill_dict = df.groupby('external_id')['buckets'].last().to_dict()\n",
    "df['buckets'] = df['buckets'].fillna(df['external_id'].map(fill_dict))\n",
    "print(len(df))"
   ]
  },
  {
   "cell_type": "markdown",
   "metadata": {},
   "source": [
    "# Single Attributes Finding Values"
   ]
  },
  {
   "cell_type": "code",
   "execution_count": 3,
   "metadata": {},
   "outputs": [
    {
     "name": "stdout",
     "output_type": "stream",
     "text": [
      "1537359\n"
     ]
    }
   ],
   "source": [
    "material=import_one_att('material')\n",
    "print(len(material))"
   ]
  },
  {
   "cell_type": "code",
   "execution_count": 4,
   "metadata": {},
   "outputs": [],
   "source": [
    "pat='''((?:(?<![A-z] )Blend|Cotton.?blend|Cotton\\/Cotton.?Blend|MDF|Metallic|Rayon\\/Rayon.?Blend))|()'''\n",
    "materials=filters(material,pat)"
   ]
  },
  {
   "cell_type": "code",
   "execution_count": 5,
   "metadata": {},
   "outputs": [
    {
     "name": "stdout",
     "output_type": "stream",
     "text": [
      "600\n"
     ]
    }
   ],
   "source": [
    "print(len(materials))"
   ]
  },
  {
   "cell_type": "code",
   "execution_count": 7,
   "metadata": {},
   "outputs": [],
   "source": [
    "materials['value'].explode().value_counts()\n",
    "materials.to_csv('material_blend.csv')"
   ]
  },
  {
   "cell_type": "code",
   "execution_count": null,
   "metadata": {},
   "outputs": [],
   "source": []
  },
  {
   "cell_type": "code",
   "execution_count": 6,
   "metadata": {},
   "outputs": [
    {
     "name": "stdout",
     "output_type": "stream",
     "text": [
      "600\n"
     ]
    }
   ],
   "source": [
    "print(len(materials))"
   ]
  },
  {
   "cell_type": "code",
   "execution_count": 8,
   "metadata": {},
   "outputs": [],
   "source": [
    "materials['value'].explode().value_counts()\n",
    "materials['Q:material']=''"
   ]
  },
  {
   "cell_type": "code",
   "execution_count": 9,
   "metadata": {},
   "outputs": [],
   "source": [
    "match_material=materials[['external_id','Q:material']]"
   ]
  },
  {
   "cell_type": "code",
   "execution_count": 10,
   "metadata": {},
   "outputs": [],
   "source": [
    "def get_df_name(df):\n",
    "    name =[x for x in globals() if globals()[x] is df][0]\n",
    "    return name\n",
    "def looks_good(customer, matches): \n",
    "    drive_path = f'G:/Shared drives/GroupBy Public/Customer Success/.Enrich/Platform Upload Trail/{customer}/_Ready For Upload' \n",
    "    matches.to_csv(f'{drive_path}/Bed Bath & Beyond --{get_df_name(matches)}-match_material{today}.csv',index=False) \n",
    "looks_good('Bed Bath & Beyond',match_material)"
   ]
  },
  {
   "cell_type": "code",
   "execution_count": null,
   "metadata": {},
   "outputs": [],
   "source": []
  },
  {
   "cell_type": "code",
   "execution_count": null,
   "metadata": {},
   "outputs": [],
   "source": []
  },
  {
   "cell_type": "code",
   "execution_count": null,
   "metadata": {},
   "outputs": [],
   "source": []
  },
  {
   "cell_type": "code",
   "execution_count": 109,
   "metadata": {},
   "outputs": [],
   "source": [
    "mats='(?:cotton|polyester|spandex|acrylic|viscose|wool|Polypropylene|polyurethane|PU|Lyocell)'"
   ]
  },
  {
   "cell_type": "code",
   "execution_count": 8,
   "metadata": {},
   "outputs": [],
   "source": [
    "pat=f'''(?i)((?:cotton|polyester|spandex|acrylic|viscose|wool|Polypropylene|polyurethane|PU|Lyocell|jute|PVC))|()'''\n",
    "materials['matchez']=materials['custom_fields'].apply(lambda x: re_extract(pat,str(x)))"
   ]
  },
  {
   "cell_type": "code",
   "execution_count": 9,
   "metadata": {},
   "outputs": [],
   "source": [
    "blends=materials[materials['matchez'].astype(str)=='[]']"
   ]
  },
  {
   "cell_type": "code",
   "execution_count": 10,
   "metadata": {},
   "outputs": [
    {
     "name": "stdout",
     "output_type": "stream",
     "text": [
      "0\n"
     ]
    }
   ],
   "source": [
    "print(len(blends))"
   ]
  },
  {
   "cell_type": "code",
   "execution_count": 11,
   "metadata": {},
   "outputs": [
    {
     "data": {
      "text/html": [
       "<div>\n",
       "<style scoped>\n",
       "    .dataframe tbody tr th:only-of-type {\n",
       "        vertical-align: middle;\n",
       "    }\n",
       "\n",
       "    .dataframe tbody tr th {\n",
       "        vertical-align: top;\n",
       "    }\n",
       "\n",
       "    .dataframe thead th {\n",
       "        text-align: right;\n",
       "    }\n",
       "</style>\n",
       "<table border=\"1\" class=\"dataframe\">\n",
       "  <thead>\n",
       "    <tr style=\"text-align: right;\">\n",
       "      <th></th>\n",
       "      <th>external_id</th>\n",
       "      <th>long_desc</th>\n",
       "      <th>matchez</th>\n",
       "    </tr>\n",
       "  </thead>\n",
       "  <tbody>\n",
       "  </tbody>\n",
       "</table>\n",
       "</div>"
      ],
      "text/plain": [
       "Empty DataFrame\n",
       "Columns: [external_id, long_desc, matchez]\n",
       "Index: []"
      ]
     },
     "execution_count": 11,
     "metadata": {},
     "output_type": "execute_result"
    }
   ],
   "source": [
    "blends[['external_id','long_desc','matchez']]"
   ]
  },
  {
   "cell_type": "code",
   "execution_count": 12,
   "metadata": {},
   "outputs": [],
   "source": [
    "blends['Q:material']='n/a'"
   ]
  },
  {
   "cell_type": "code",
   "execution_count": 13,
   "metadata": {},
   "outputs": [],
   "source": [
    "match_blen_na=blends[['external_id','Q:material']]"
   ]
  },
  {
   "cell_type": "code",
   "execution_count": 206,
   "metadata": {},
   "outputs": [],
   "source": [
    "def get_df_name(df):\n",
    "    name =[x for x in globals() if globals()[x] is df][0]\n",
    "    return name\n",
    "def looks_good(customer, matches): \n",
    "    drive_path = f'G:/Shared drives/GroupBy Public/Customer Success/.Enrich/Platform Upload Trail/{customer}/_Ready For Upload' \n",
    "    matches.to_csv(f'{drive_path}/Bed Bath & Beyond --{get_df_name(matches)}-match_blen_na{today}.csv',index=False) \n",
    "looks_good('Bed Bath & Beyond',match_blen_na)"
   ]
  },
  {
   "cell_type": "code",
   "execution_count": null,
   "metadata": {},
   "outputs": [],
   "source": [
    "pat='''(?i)(.{0,40}(?<!back is )(?<!face is )(?<!top )(?<!top ivory )\\d+\\%.{0,5}(?:cotton|polyester|spandex|acrylic|viscose|wool|Polypropylene|polyurethane|PU|Lyocell|jute|PVC).{0,5}\\d+\\%.{0,5}(?:cotton|polyester|spandex|acrylic|viscose|wool|Polypropylene|polyurethane|PU|Lyocell|jute|PVC).{0,20})|()'''\n",
    "materials['matches']=materials['custom_fields'].apply(lambda x: re_extract(pat,str(x)))"
   ]
  },
  {
   "cell_type": "code",
   "execution_count": 16,
   "metadata": {},
   "outputs": [],
   "source": [
    "blen=materials[materials['matches'].astype(str)=='[]']\n",
    "blen['Q:material']=blen['matchez'].apply(lambda x: re.sub(r\"'\",'\"',str(x))).apply(lambda x: x.title()).apply(lambda x: remove_duplicates([n.strip() for n in ast.literal_eval(x)])).apply(lambda x: natsorted(x)).apply(lambda x: re.sub(r'Pu(?!\\w)','PU',str(x))).apply(lambda x: re.sub(r\"'\",'\"',str(x)))                                  \n",
    "blen_material=blen[blen['Q:material'].astype(str)=='[\"Polyester\"]']\n",
    "blen_material_wipe=blen[blen['Q:material'].astype(str)!='[\"Polyester\"]']\n",
    "blen_material_wipe['Q:material']=''"
   ]
  },
  {
   "cell_type": "code",
   "execution_count": null,
   "metadata": {},
   "outputs": [],
   "source": [
    "match_blen_material=blen_material[['external_id','Q:material']]\n",
    "match_blen_material_wipe=blen_material_wipe[['external_id','Q:material']]"
   ]
  },
  {
   "cell_type": "code",
   "execution_count": 224,
   "metadata": {},
   "outputs": [],
   "source": [
    "def get_df_name(df):\n",
    "    name =[x for x in globals() if globals()[x] is df][0]\n",
    "    return name\n",
    "def looks_good(customer, matches): \n",
    "    drive_path = f'G:/Shared drives/GroupBy Public/Customer Success/.Enrich/Platform Upload Trail/{customer}/_Ready For Upload' \n",
    "    matches.to_csv(f'{drive_path}/Bed Bath & Beyond --{get_df_name(matches)}-match_blen_material{today}.csv',index=False) \n",
    "looks_good('Bed Bath & Beyond',match_blen_material)\n",
    "\n",
    "\n",
    "def get_df_name(df):\n",
    "    name =[x for x in globals() if globals()[x] is df][0]\n",
    "    return name\n",
    "def looks_good(customer, matches): \n",
    "    drive_path = f'G:/Shared drives/GroupBy Public/Customer Success/.Enrich/Platform Upload Trail/{customer}/_Ready For Upload' \n",
    "    matches.to_csv(f'{drive_path}/Bed Bath & Beyond --{get_df_name(matches)}-match_blen_material_wipe{today}.csv',index=False) \n",
    "looks_good('Bed Bath & Beyond',match_blen_material_wipe)"
   ]
  },
  {
   "cell_type": "code",
   "execution_count": null,
   "metadata": {},
   "outputs": [],
   "source": []
  },
  {
   "cell_type": "code",
   "execution_count": null,
   "metadata": {},
   "outputs": [],
   "source": []
  },
  {
   "cell_type": "code",
   "execution_count": 15,
   "metadata": {},
   "outputs": [],
   "source": []
  },
  {
   "cell_type": "code",
   "execution_count": 18,
   "metadata": {},
   "outputs": [
    {
     "name": "stdout",
     "output_type": "stream",
     "text": [
      "6943\n",
      "6943\n"
     ]
    }
   ],
   "source": [
    "blend=materials[materials['matchez'].astype(str)!='[]']\n",
    "print(len(blend))\n",
    "\n",
    "print(len(materials[materials['matches'].astype(str)!='[]']))"
   ]
  },
  {
   "cell_type": "code",
   "execution_count": 57,
   "metadata": {},
   "outputs": [
    {
     "name": "stdout",
     "output_type": "stream",
     "text": [
      "6943\n",
      "6438\n"
     ]
    }
   ],
   "source": [
    "print(len(blend))\n",
    "x=blend[(blend['one'].astype(str)!='[]')&(blend['fifty'].astype(str)=='[]')&(blend['not_one'].astype(str)!='[]')]\n",
    "print(len(x))"
   ]
  },
  {
   "cell_type": "code",
   "execution_count": 59,
   "metadata": {},
   "outputs": [
    {
     "data": {
      "text/html": [
       "<div>\n",
       "<style scoped>\n",
       "    .dataframe tbody tr th:only-of-type {\n",
       "        vertical-align: middle;\n",
       "    }\n",
       "\n",
       "    .dataframe tbody tr th {\n",
       "        vertical-align: top;\n",
       "    }\n",
       "\n",
       "    .dataframe thead th {\n",
       "        text-align: right;\n",
       "    }\n",
       "</style>\n",
       "<table border=\"1\" class=\"dataframe\">\n",
       "  <thead>\n",
       "    <tr style=\"text-align: right;\">\n",
       "      <th></th>\n",
       "      <th>external_id</th>\n",
       "      <th>custom_fields</th>\n",
       "      <th>one</th>\n",
       "      <th>not_one</th>\n",
       "    </tr>\n",
       "  </thead>\n",
       "  <tbody>\n",
       "    <tr>\n",
       "      <th>1</th>\n",
       "      <td>69513481</td>\n",
       "      <td>{'TYPE': 'MSWP', 'COLOR': 'CHARCOAL', 'COLOR_s': ['MUSTARD', 'TAN', 'CHARCOAL', 'INDIGO'], 'SKU_SIZE': '84\" panel', 'SKU_TYPE': ['1'], 'RecordType': 'Product', 'SKU_SIZE_s': ['63&amp;quot; PANEL', '95&amp;quot; PANEL', '108&amp;quot; PANEL'], 'COLOR_GROUP': 'Black', 'DESCRIPTION': 'A modern accent that adds an inviting touch to any room, the Urban Thread Atwood Grommet Lined Window Curtain Panel dons a stylish geometric pattern. It diffuses light to create a warm ambiance and is machine washable for easy care. Geometric design lends modern flair to any space Light filtering 52% cotton/48% polyester Liner: 85% polyester 15% cotton Machine wash Grommet top panel Panels are sold individually and measure 50\" W Fits a rod up to 1.25\" diameter Imported', 's_f_Made_In': ['Made in Pakistan'], 'COLORGROUP_s': ['Yellow', 'Black', 'Beige', 'Blue'], 'VDC_SKU_TYPE': [], 'gbi_syn_size': ['108 inch', '108 inche', '108\"', '95\"', '63\"'], 'f_Product_Type': ['Window Panel (single)'], 'SERVICE_TYPE_CD': 'WINDOW_TREATMENTS', 'SKU_DESCRIPTION': ['A modern accent that adds an inviting touch to any room, the Urban Thread Atwood Grommet Lined Window Curtain Panel dons a stylish geometric pattern. It diffuses light to create a warm ambiance and is machine washable for easy care.'], 'Fabric_FiberType': '52% Cotton/48% Polyester', 'LONG_DESCRIPTION': '&lt;ul&gt;\t&lt;li&gt;Geometric design lends modern flair to any space&lt;/li&gt;\t&lt;li&gt;Light filtering&lt;/li&gt;\t&lt;li&gt;52% cotton/48% polyester&lt;/li&gt;\t&lt;li&gt;Liner: 85% polyester 15% cotton&lt;/li&gt;\t&lt;li&gt;Machine wash&lt;/li&gt;\t&lt;li&gt;Grommet top panel&lt;/li&gt;\t&lt;li&gt;Panels are sold individually and measure 50&amp;quot; W&lt;/li&gt;\t&lt;li&gt;Fits a rod up to 1.25&amp;quot; diameter&lt;/li&gt;\t&lt;li&gt;Imported&lt;/li&gt;&lt;/ul&gt;', 'ROLLUP_TYPE_CODE': '4', 's_f_Product_Type': ['Window Panel (single)'], 'f_binProduct_Type': ['Window Panel'], 's_f_Pattern_Design': ['Geometric'], 's_f_Lifestyle_multi': ['Contemporary/Modern'], 'PERSONALIZATION_TYPE': ['N'], 'gbi_exp_product_type': ['window panel', 'panel', 'panels', 'window panels', 'curtain', 'curtains', 'window curtain', 'window curtains', 'window panel (single)', 'window panel (single)s', 'curtains &amp; window', 'featured shops', 'curtain panels', 'shop by price', 'shop all deals', 'university deals', 'teen &amp; college curtains', 'under $40', 'window curtains &amp; drapes', 'light filtering curtains', 'home decor deals'], 'gbi_syn_product_type': ['curtains', 'window curtain', 'malta curtains', 'window panels', 'malta curtain', 'malta panel', 'malta panels', 'curtain', 'window curtains', 'window panel', 'window_panel_(single)', 'curtains_&amp;_window', 'featured_shops', 'curtain_panels', 'shop_by_price', 'shop_all_deals', 'university_deals', 'teen_&amp;_college_curtains', 'under_$40', 'window_curtains_&amp;_drapes', 'light_filtering_curtains', 'home_decor_deals', 'panel', 'panels', 'bedroom curtains', 'drape', 'bedroom curtain', 'window curtain &amp; drape', 'manhattan grommet tops', 'drapes', 'window curtain &amp; drapes', 'manhattan grommet top', 'window_panel_(single)s'], 's_f_Fabric_FiberType': ['52% Cotton/48% Polyester'], 's_f_Light_Filtration': ['Light Filtering'], 'MARKETPLACE_ITEM_FLAG': 'false', 'Soft_Textiles_Material': 'Cotton blend', 'ASSEMBLEDPRODUCTWIDTHIN': [], 'ASSEMBLEDPRODUCTHEIGHTIN': [], 'ASSEMBLEDPRODUCTLENGTHIN': [], 'gbi_product_type_affinity': ['Drapery Rod (Cafe)', 'Drapery Rod (Double)', 'Extension Rod', 'Holdback', 'Drapery Rod (Tension)', 'Finial', 'Drapery Rod (Single)', 'Tie Back', 'Window Panel (Pair)', 'Rod Bracket'], 'ASSEMBLEDPRODUCTDIAMETERIN': [], 's_f_Soft_Textiles_Material': ['Cotton blend'], 's_f_Window_Items_Included_multi': ['1 Panel'], 's_f_Panel_Length_Rod_to_Bottom_in': ['63\" L', '95\" L', '108\" L'], 's_f_Window_Hanging_Length_Rod_to_bottom_in': ['108', '63', '95'], 's_f_Soft_Textiles_Use_and_Care_Instructions': ['Machine washable']}</td>\n",
       "      <td>[52% cotton, 52% Cotton]</td>\n",
       "      <td>[48% polyester, 48% Polyester]</td>\n",
       "    </tr>\n",
       "    <tr>\n",
       "      <th>2</th>\n",
       "      <td>69513482</td>\n",
       "      <td>{'TYPE': 'MSWP', 'COLOR': 'CHARCOAL', 'COLOR_s': ['MUSTARD', 'LIGHT GREY', 'BRICK', 'CHARCOAL'], 'SKU_SIZE': '95\" panel', 'SKU_TYPE': ['1'], 'RecordType': 'Product', 'SKU_SIZE_s': ['63&amp;quot; PANEL', '95&amp;quot; PANEL', '108&amp;quot; PANEL'], 'COLOR_GROUP': 'Black', 'DESCRIPTION': 'A modern accent that adds an inviting touch to any room, the Urban Thread Atwood Grommet Lined Window Curtain Panel dons a stylish geometric pattern. It diffuses light to create a warm ambiance and is machine washable for easy care. Geometric design lends modern flair to any space Light filtering 52% cotton/48% polyester Liner: 85% polyester 15% cotton Machine wash Grommet top panel Panels are sold individually and measure 50\" W Fits a rod up to 1.25\" diameter Imported', 's_f_Made_In': ['Made in Pakistan'], 'COLORGROUP_s': ['Grey', 'Red', 'Yellow', 'Black'], 'VDC_SKU_TYPE': [], 'gbi_syn_size': ['108 inch', '108 inche', '108\"', '95\"', '63\"'], 'f_Product_Type': ['Window Panel (single)'], 'SERVICE_TYPE_CD': 'WINDOW_TREATMENTS', 'SKU_DESCRIPTION': ['A modern accent that adds an inviting touch to any room, the Urban Thread Atwood Grommet Lined Window Curtain Panel dons a stylish geometric pattern. It diffuses light to create a warm ambiance and is machine washable for easy care.'], 'Fabric_FiberType': '52% Cotton/48% Polyester', 'LONG_DESCRIPTION': '&lt;ul&gt;\t&lt;li&gt;Geometric design lends modern flair to any space&lt;/li&gt;\t&lt;li&gt;Light filtering&lt;/li&gt;\t&lt;li&gt;52% cotton/48% polyester&lt;/li&gt;\t&lt;li&gt;Liner: 85% polyester 15% cotton&lt;/li&gt;\t&lt;li&gt;Machine wash&lt;/li&gt;\t&lt;li&gt;Grommet top panel&lt;/li&gt;\t&lt;li&gt;Panels are sold individually and measure 50&amp;quot; W&lt;/li&gt;\t&lt;li&gt;Fits a rod up to 1.25&amp;quot; diameter&lt;/li&gt;\t&lt;li&gt;Imported&lt;/li&gt;&lt;/ul&gt;', 'ROLLUP_TYPE_CODE': '4', 's_f_Product_Type': ['Window Panel (single)'], 'f_binProduct_Type': ['Window Panel'], 's_f_Pattern_Design': ['Geometric'], 's_f_Lifestyle_multi': ['Contemporary/Modern'], 'PERSONALIZATION_TYPE': ['N'], 'gbi_exp_product_type': ['window panel', 'panel', 'panels', 'window panels', 'curtain', 'curtains', 'window curtain', 'window curtains', 'window panel (single)', 'window panel (single)s', 'curtains &amp; window', 'home decor', 'home decors', 'featured shops', 'clearance &amp; savings', 'curtain panels', 'shop by price', 'shop all deals', 'college deals', 'teen &amp; college curtains', 'under $40', 'curtains &amp; window treatments', 'window curtains &amp; drapes', 'light filtering curtains', 'home decor deals'], 'gbi_syn_product_type': ['curtains', 'window curtain', 'malta curtains', 'window panels', 'malta curtain', 'malta panel', 'malta panels', 'curtain', 'window curtains', 'window panel', 'window_panel_(single)', 'curtains_&amp;_window', 'home_decor', 'featured_shops', 'clearance_&amp;_savings', 'curtain_panels', 'shop_by_price', 'shop_all_deals', 'college_deals', 'teen_&amp;_college_curtains', 'under_$40', 'curtains_&amp;_window_treatments', 'window_curtains_&amp;_drapes', 'light_filtering_curtains', 'home_decor_deals', 'panel', 'panels', 'bedroom curtains', 'drape', 'bedroom curtain', 'window curtain &amp; drape', 'manhattan grommet tops', 'drapes', 'window curtain &amp; drapes', 'manhattan grommet top', 'window_panel_(single)s', 'home_decors'], 's_f_Fabric_FiberType': ['52% Cotton/48% Polyester'], 's_f_Light_Filtration': ['Light Filtering'], 'MARKETPLACE_ITEM_FLAG': 'false', 'Soft_Textiles_Material': 'Cotton blend', 'ASSEMBLEDPRODUCTWIDTHIN': [], 'ASSEMBLEDPRODUCTHEIGHTIN': [], 'ASSEMBLEDPRODUCTLENGTHIN': [], 'gbi_product_type_affinity': ['Drapery Rod (Cafe)', 'Window Valance', 'Drapery Rod (Double)', 'Extension Rod', 'Holdback', 'Scarf Valance', 'Drapery Rod (Tension)', 'Finial', 'Drapery Rod (Single)', 'Tie Back'], 'ASSEMBLEDPRODUCTDIAMETERIN': [], 's_f_Soft_Textiles_Material': ['Cotton blend'], 's_f_Window_Items_Included_multi': ['1 Panel'], 's_f_Panel_Length_Rod_to_Bottom_in': ['63\" L', '95\" L', '108\" L'], 's_f_Window_Hanging_Length_Rod_to_bottom_in': ['108', '63', '95'], 's_f_Soft_Textiles_Use_and_Care_Instructions': ['Machine washable']}</td>\n",
       "      <td>[52% cotton, 52% Cotton]</td>\n",
       "      <td>[48% polyester, 48% Polyester]</td>\n",
       "    </tr>\n",
       "    <tr>\n",
       "      <th>3</th>\n",
       "      <td>69513486</td>\n",
       "      <td>{'TYPE': 'MSWP', 'COLOR': 'INDIGO', 'COLOR_s': ['MUSTARD', 'LIGHT GREY', 'INDIGO'], 'SKU_SIZE': '63\" panel', 'SKU_TYPE': ['1'], 'RecordType': 'Product', 'SKU_SIZE_s': ['63&amp;quot; PANEL', '95&amp;quot; PANEL'], 'COLOR_GROUP': 'Blue', 'DESCRIPTION': 'A modern accent that adds an inviting touch to any room, the Urban Thread Atwood Grommet Lined Window Curtain Panel dons a stylish geometric pattern. It diffuses light to create a warm ambiance and is machine washable for easy care. Geometric design lends modern flair to any space Light filtering 52% cotton/48% polyester Liner: 85% polyester 15% cotton Machine wash Grommet top panel Panels are sold individually and measure 50\" W Fits a rod up to 1.25\" diameter Imported', 's_f_Made_In': ['Made in Pakistan'], 'COLORGROUP_s': ['Grey', 'Yellow', 'Blue'], 'VDC_SKU_TYPE': [], 'gbi_syn_size': ['95\"', '63\"'], 'f_Product_Type': ['Window Panel (single)'], 'SERVICE_TYPE_CD': 'WINDOW_TREATMENTS', 'SKU_DESCRIPTION': ['A modern accent that adds an inviting touch to any room, the Urban Thread Atwood Grommet Lined Window Curtain Panel dons a stylish geometric pattern. It diffuses light to create a warm ambiance and is machine washable for easy care.'], 'Fabric_FiberType': '52% Cotton/48% Polyester', 'LONG_DESCRIPTION': '&lt;ul&gt;\t&lt;li&gt;Geometric design lends modern flair to any space&lt;/li&gt;\t&lt;li&gt;Light filtering&lt;/li&gt;\t&lt;li&gt;52% cotton/48% polyester&lt;/li&gt;\t&lt;li&gt;Liner: 85% polyester 15% cotton&lt;/li&gt;\t&lt;li&gt;Machine wash&lt;/li&gt;\t&lt;li&gt;Grommet top panel&lt;/li&gt;\t&lt;li&gt;Panels are sold individually and measure 50&amp;quot; W&lt;/li&gt;\t&lt;li&gt;Fits a rod up to 1.25&amp;quot; diameter&lt;/li&gt;\t&lt;li&gt;Imported&lt;/li&gt;&lt;/ul&gt;', 'ROLLUP_TYPE_CODE': '4', 's_f_Product_Type': ['Window Panel (single)'], 'f_binProduct_Type': ['Window Panel'], 's_f_Pattern_Design': ['Geometric'], 's_f_Lifestyle_multi': ['Contemporary/Modern'], 'PERSONALIZATION_TYPE': ['N'], 'gbi_exp_product_type': ['window panel', 'panel', 'panels', 'window panels', 'curtain', 'curtains', 'window curtain', 'window curtains', 'window panel (single)', 'window panel (single)s', 'curtains &amp; window', 'home decor', 'home decors', 'featured shops', 'clearance &amp; savings', 'curtain panels', 'shop by price', 'shop all deals', 'college deals', 'teen &amp; college curtains', 'under $40', 'curtains &amp; window treatments', 'window curtains &amp; drapes', 'light filtering curtains', 'home decor deals'], 'gbi_syn_product_type': ['curtains', 'window curtain', 'malta curtains', 'window panels', 'malta curtain', 'malta panel', 'malta panels', 'curtain', 'window curtains', 'window panel', 'window_panel_(single)', 'curtains_&amp;_window', 'home_decor', 'featured_shops', 'clearance_&amp;_savings', 'curtain_panels', 'shop_by_price', 'shop_all_deals', 'college_deals', 'teen_&amp;_college_curtains', 'under_$40', 'curtains_&amp;_window_treatments', 'window_curtains_&amp;_drapes', 'light_filtering_curtains', 'home_decor_deals', 'panel', 'panels', 'bedroom curtains', 'drape', 'bedroom curtain', 'window curtain &amp; drape', 'manhattan grommet tops', 'drapes', 'window curtain &amp; drapes', 'manhattan grommet top', 'window_panel_(single)s', 'home_decors'], 's_f_Fabric_FiberType': ['52% Cotton/48% Polyester'], 's_f_Light_Filtration': ['Light Filtering'], 'MARKETPLACE_ITEM_FLAG': 'false', 'Soft_Textiles_Material': 'Cotton blend', 'ASSEMBLEDPRODUCTWIDTHIN': [], 'ASSEMBLEDPRODUCTHEIGHTIN': [], 'ASSEMBLEDPRODUCTLENGTHIN': [], 'gbi_product_type_affinity': ['Drapery Rod (Cafe)', 'Window Valance', 'Drapery Rod (Double)', 'Extension Rod', 'Holdback', 'Scarf Valance', 'Drapery Rod (Tension)', 'Finial', 'Drapery Rod (Single)', 'Tie Back'], 'ASSEMBLEDPRODUCTDIAMETERIN': [], 's_f_Soft_Textiles_Material': ['Cotton blend'], 's_f_Window_Items_Included_multi': ['1 Panel'], 's_f_Panel_Length_Rod_to_Bottom_in': ['63\" L', '95\" L'], 's_f_Window_Hanging_Length_Rod_to_bottom_in': ['63', '95'], 's_f_Soft_Textiles_Use_and_Care_Instructions': ['Machine washable']}</td>\n",
       "      <td>[52% cotton, 52% Cotton]</td>\n",
       "      <td>[48% polyester, 48% Polyester]</td>\n",
       "    </tr>\n",
       "    <tr>\n",
       "      <th>4</th>\n",
       "      <td>69513488</td>\n",
       "      <td>{'TYPE': 'MSWP', 'COLOR': 'INDIGO', 'COLOR_s': ['MUSTARD', 'LIGHT GREY', 'TAN', 'BRICK', 'CHARCOAL', 'INDIGO'], 'SKU_SIZE': '84\" panel', 'SKU_TYPE': ['1'], 'RecordType': 'Product', 'SKU_SIZE_s': ['63&amp;quot; PANEL', '84&amp;quot; PANEL', '95&amp;quot; PANEL', '108&amp;quot; PANEL'], 'COLOR_GROUP': 'Blue', 'DESCRIPTION': 'A modern accent that adds an inviting touch to any room, the Urban Thread Atwood Grommet Lined Window Curtain Panel dons a stylish geometric pattern. It diffuses light to create a warm ambiance and is machine washable for easy care. Geometric design lends modern flair to any space Light filtering 52% cotton/48% polyester Liner: 85% polyester 15% cotton Machine wash Grommet top panel Panels are sold individually and measure 50\" W Fits a rod up to 1.25\" diameter Imported', 's_f_Made_In': ['Made in Pakistan'], 'COLORGROUP_s': ['Grey', 'Red', 'Yellow', 'Black', 'Beige', 'Blue'], 'VDC_SKU_TYPE': [], 'gbi_syn_size': ['108 inch', '108 inche', '108\"', '84\"', '95\"', '63\"'], 'f_Product_Type': ['Window Panel (single)'], 'SERVICE_TYPE_CD': 'WINDOW_TREATMENTS', 'SKU_DESCRIPTION': ['A modern accent that adds an inviting touch to any room, the Urban Thread Atwood Grommet Lined Window Curtain Panel dons a stylish geometric pattern. It diffuses light to create a warm ambiance and is machine washable for easy care.'], 'Fabric_FiberType': '52% Cotton/48% Polyester', 'LONG_DESCRIPTION': '&lt;ul&gt;\t&lt;li&gt;Geometric design lends modern flair to any space&lt;/li&gt;\t&lt;li&gt;Light filtering&lt;/li&gt;\t&lt;li&gt;52% cotton/48% polyester&lt;/li&gt;\t&lt;li&gt;Liner: 85% polyester 15% cotton&lt;/li&gt;\t&lt;li&gt;Machine wash&lt;/li&gt;\t&lt;li&gt;Grommet top panel&lt;/li&gt;\t&lt;li&gt;Panels are sold individually and measure 50&amp;quot; W&lt;/li&gt;\t&lt;li&gt;Fits a rod up to 1.25&amp;quot; diameter&lt;/li&gt;\t&lt;li&gt;Imported&lt;/li&gt;&lt;/ul&gt;', 'ROLLUP_TYPE_CODE': '4', 's_f_Product_Type': ['Window Panel (single)'], 'f_binProduct_Type': ['Window Panel'], 's_f_Pattern_Design': ['Geometric'], 's_f_Lifestyle_multi': ['Contemporary/Modern'], 'PERSONALIZATION_TYPE': ['N'], 'gbi_exp_product_type': ['window panel', 'panel', 'panels', 'window panels', 'curtain', 'curtains', 'window curtain', 'window curtains', 'window panel (single)', 'window panel (single)s', 'curtains &amp; window', 'home decor', 'home decors', 'featured shops', 'clearance &amp; savings', 'curtain panels', 'shop by price', 'shop all deals', 'college deals', 'teen &amp; college curtains', 'under $40', 'curtains &amp; window treatments', 'window curtains &amp; drapes', 'light filtering curtains', 'home decor deals'], 'gbi_syn_product_type': ['curtains', 'window curtain', 'malta curtains', 'window panels', 'malta curtain', 'malta panel', 'malta panels', 'curtain', 'window curtains', 'window panel', 'window_panel_(single)', 'curtains_&amp;_window', 'home_decor', 'featured_shops', 'clearance_&amp;_savings', 'curtain_panels', 'shop_by_price', 'shop_all_deals', 'college_deals', 'teen_&amp;_college_curtains', 'under_$40', 'curtains_&amp;_window_treatments', 'window_curtains_&amp;_drapes', 'light_filtering_curtains', 'home_decor_deals', 'panel', 'panels', 'bedroom curtains', 'drape', 'bedroom curtain', 'window curtain &amp; drape', 'manhattan grommet tops', 'drapes', 'window curtain &amp; drapes', 'manhattan grommet top', 'window_panel_(single)s', 'home_decors'], 's_f_Fabric_FiberType': ['52% Cotton/48% Polyester'], 's_f_Light_Filtration': ['Light Filtering'], 'MARKETPLACE_ITEM_FLAG': 'false', 'Soft_Textiles_Material': 'Cotton blend', 'ASSEMBLEDPRODUCTWIDTHIN': [], 'ASSEMBLEDPRODUCTHEIGHTIN': [], 'ASSEMBLEDPRODUCTLENGTHIN': [], 'gbi_product_type_affinity': ['Drapery Rod (Cafe)', 'Window Valance', 'Drapery Rod (Double)', 'Extension Rod', 'Holdback', 'Scarf Valance', 'Drapery Rod (Tension)', 'Finial', 'Drapery Rod (Single)', 'Tie Back'], 'ASSEMBLEDPRODUCTDIAMETERIN': [], 's_f_Soft_Textiles_Material': ['Cotton blend'], 's_f_Window_Items_Included_multi': ['1 Panel'], 's_f_Panel_Length_Rod_to_Bottom_in': ['84\" L', '63\" L', '95\" L', '108\" L'], 's_f_Window_Hanging_Length_Rod_to_bottom_in': ['84', '108', '63', '95'], 's_f_Soft_Textiles_Use_and_Care_Instructions': ['Machine washable']}</td>\n",
       "      <td>[52% cotton, 52% Cotton]</td>\n",
       "      <td>[48% polyester, 48% Polyester]</td>\n",
       "    </tr>\n",
       "    <tr>\n",
       "      <th>5</th>\n",
       "      <td>69513489</td>\n",
       "      <td>{'TYPE': 'MSWP', 'COLOR': 'INDIGO', 'COLOR_s': ['MUSTARD', 'LIGHT GREY', 'TAN', 'BRICK', 'CHARCOAL', 'INDIGO'], 'SKU_SIZE': '95\" panel', 'SKU_TYPE': ['1'], 'RecordType': 'Product', 'SKU_SIZE_s': ['63&amp;quot; PANEL', '84&amp;quot; PANEL', '95&amp;quot; PANEL', '108&amp;quot; PANEL'], 'COLOR_GROUP': 'Blue', 'DESCRIPTION': 'A modern accent that adds an inviting touch to any room, the Urban Thread Atwood Grommet Lined Window Curtain Panel dons a stylish geometric pattern. It diffuses light to create a warm ambiance and is machine washable for easy care. Geometric design lends modern flair to any space Light filtering 52% cotton/48% polyester Liner: 85% polyester 15% cotton Machine wash Grommet top panel Panels are sold individually and measure 50\" W Fits a rod up to 1.25\" diameter Imported', 's_f_Made_In': ['Made in Pakistan'], 'COLORGROUP_s': ['Grey', 'Red', 'Yellow', 'Black', 'Beige', 'Blue'], 'VDC_SKU_TYPE': [], 'gbi_syn_size': ['108 inch', '108 inche', '108\"', '84\"', '95\"', '63\"'], 'f_Product_Type': ['Window Panel (single)'], 'SERVICE_TYPE_CD': 'WINDOW_TREATMENTS', 'SKU_DESCRIPTION': ['A modern accent that adds an inviting touch to any room, the Urban Thread Atwood Grommet Lined Window Curtain Panel dons a stylish geometric pattern. It diffuses light to create a warm ambiance and is machine washable for easy care.'], 'Fabric_FiberType': '52% Cotton/48% Polyester', 'LONG_DESCRIPTION': '&lt;ul&gt;\t&lt;li&gt;Geometric design lends modern flair to any space&lt;/li&gt;\t&lt;li&gt;Light filtering&lt;/li&gt;\t&lt;li&gt;52% cotton/48% polyester&lt;/li&gt;\t&lt;li&gt;Liner: 85% polyester 15% cotton&lt;/li&gt;\t&lt;li&gt;Machine wash&lt;/li&gt;\t&lt;li&gt;Grommet top panel&lt;/li&gt;\t&lt;li&gt;Panels are sold individually and measure 50&amp;quot; W&lt;/li&gt;\t&lt;li&gt;Fits a rod up to 1.25&amp;quot; diameter&lt;/li&gt;\t&lt;li&gt;Imported&lt;/li&gt;&lt;/ul&gt;', 'ROLLUP_TYPE_CODE': '4', 's_f_Product_Type': ['Window Panel (single)'], 'f_binProduct_Type': ['Window Panel'], 's_f_Pattern_Design': ['Geometric'], 's_f_Lifestyle_multi': ['Contemporary/Modern'], 'PERSONALIZATION_TYPE': ['N'], 'gbi_exp_product_type': ['window panel', 'panel', 'panels', 'window panels', 'curtain', 'curtains', 'window curtain', 'window curtains', 'window panel (single)', 'window panel (single)s', 'curtains &amp; window', 'home decor', 'home decors', 'featured shops', 'clearance &amp; savings', 'curtain panels', 'shop by price', 'shop all deals', 'college deals', 'teen &amp; college curtains', 'under $40', 'curtains &amp; window treatments', 'window curtains &amp; drapes', 'light filtering curtains', 'home decor deals'], 'gbi_syn_product_type': ['curtains', 'window curtain', 'malta curtains', 'window panels', 'malta curtain', 'malta panel', 'malta panels', 'curtain', 'window curtains', 'window panel', 'window_panel_(single)', 'curtains_&amp;_window', 'home_decor', 'featured_shops', 'clearance_&amp;_savings', 'curtain_panels', 'shop_by_price', 'shop_all_deals', 'college_deals', 'teen_&amp;_college_curtains', 'under_$40', 'curtains_&amp;_window_treatments', 'window_curtains_&amp;_drapes', 'light_filtering_curtains', 'home_decor_deals', 'panel', 'panels', 'bedroom curtains', 'drape', 'bedroom curtain', 'window curtain &amp; drape', 'manhattan grommet tops', 'drapes', 'window curtain &amp; drapes', 'manhattan grommet top', 'window_panel_(single)s', 'home_decors'], 's_f_Fabric_FiberType': ['52% Cotton/48% Polyester'], 's_f_Light_Filtration': ['Light Filtering'], 'MARKETPLACE_ITEM_FLAG': 'false', 'Soft_Textiles_Material': 'Cotton blend', 'ASSEMBLEDPRODUCTWIDTHIN': [], 'ASSEMBLEDPRODUCTHEIGHTIN': [], 'ASSEMBLEDPRODUCTLENGTHIN': [], 'gbi_product_type_affinity': ['Drapery Rod (Cafe)', 'Window Valance', 'Drapery Rod (Double)', 'Extension Rod', 'Holdback', 'Scarf Valance', 'Drapery Rod (Tension)', 'Finial', 'Drapery Rod (Single)', 'Tie Back'], 'ASSEMBLEDPRODUCTDIAMETERIN': [], 's_f_Soft_Textiles_Material': ['Cotton blend'], 's_f_Window_Items_Included_multi': ['1 Panel'], 's_f_Panel_Length_Rod_to_Bottom_in': ['84\" L', '63\" L', '95\" L', '108\" L'], 's_f_Window_Hanging_Length_Rod_to_bottom_in': ['84', '108', '63', '95'], 's_f_Soft_Textiles_Use_and_Care_Instructions': ['Machine washable']}</td>\n",
       "      <td>[52% cotton, 52% Cotton]</td>\n",
       "      <td>[48% polyester, 48% Polyester]</td>\n",
       "    </tr>\n",
       "    <tr>\n",
       "      <th>...</th>\n",
       "      <td>...</td>\n",
       "      <td>...</td>\n",
       "      <td>...</td>\n",
       "      <td>...</td>\n",
       "    </tr>\n",
       "    <tr>\n",
       "      <th>10989</th>\n",
       "      <td>69513475</td>\n",
       "      <td>{'TYPE': 'MSWP', 'COLOR': 'LIGHT GREY', 'COLOR_s': ['MUSTARD', 'LIGHT GREY', 'BRICK', 'CHARCOAL'], 'SKU_SIZE': '95\" panel', 'SKU_TYPE': ['1'], 'RecordType': 'Product', 'SKU_SIZE_s': ['63&amp;quot; PANEL', '95&amp;quot; PANEL', '108&amp;quot; PANEL'], 'COLOR_GROUP': 'Grey', 'DESCRIPTION': 'A modern accent that adds an inviting touch to any room, the Urban Thread Atwood Grommet Lined Window Curtain Panel dons a stylish geometric pattern. It diffuses light to create a warm ambiance and is machine washable for easy care. Geometric design lends modern flair to any space Light filtering 52% cotton/48% polyester Liner: 85% polyester 15% cotton Machine wash Grommet top panel Panels are sold individually and measure 50\" W Fits a rod up to 1.25\" diameter Imported', 's_f_Made_In': ['Made in Pakistan'], 'COLORGROUP_s': ['Grey', 'Red', 'Yellow', 'Black'], 'VDC_SKU_TYPE': [], 'gbi_syn_size': ['108 inch', '108 inche', '108\"', '95\"', '63\"'], 'f_Product_Type': ['Window Panel (single)'], 'SERVICE_TYPE_CD': 'WINDOW_TREATMENTS', 'SKU_DESCRIPTION': ['A modern accent that adds an inviting touch to any room, the Urban Thread Atwood Grommet Lined Window Curtain Panel dons a stylish geometric pattern. It diffuses light to create a warm ambiance and is machine washable for easy care.'], 'Fabric_FiberType': '52% Cotton/48% Polyester', 'LONG_DESCRIPTION': '&lt;ul&gt;\t&lt;li&gt;Geometric design lends modern flair to any space&lt;/li&gt;\t&lt;li&gt;Light filtering&lt;/li&gt;\t&lt;li&gt;52% cotton/48% polyester&lt;/li&gt;\t&lt;li&gt;Liner: 85% polyester 15% cotton&lt;/li&gt;\t&lt;li&gt;Machine wash&lt;/li&gt;\t&lt;li&gt;Grommet top panel&lt;/li&gt;\t&lt;li&gt;Panels are sold individually and measure 50&amp;quot; W&lt;/li&gt;\t&lt;li&gt;Fits a rod up to 1.25&amp;quot; diameter&lt;/li&gt;\t&lt;li&gt;Imported&lt;/li&gt;&lt;/ul&gt;', 'ROLLUP_TYPE_CODE': '4', 's_f_Product_Type': ['Window Panel (single)'], 'f_binProduct_Type': ['Window Panel'], 's_f_Pattern_Design': ['Geometric'], 's_f_Lifestyle_multi': ['Contemporary/Modern'], 'PERSONALIZATION_TYPE': ['N'], 'gbi_exp_product_type': ['window panel', 'panel', 'panels', 'window panels', 'curtain', 'curtains', 'window curtain', 'window curtains', 'window panel (single)', 'window panel (single)s', 'curtains &amp; window', 'home decor', 'home decors', 'featured shops', 'clearance &amp; savings', 'curtain panels', 'shop by price', 'shop all deals', 'college deals', 'teen &amp; college curtains', 'under $40', 'curtains &amp; window treatments', 'window curtains &amp; drapes', 'light filtering curtains', 'home decor deals'], 'gbi_syn_product_type': ['curtains', 'window curtain', 'malta curtains', 'window panels', 'malta curtain', 'malta panel', 'malta panels', 'curtain', 'window curtains', 'window panel', 'window_panel_(single)', 'curtains_&amp;_window', 'home_decor', 'featured_shops', 'clearance_&amp;_savings', 'curtain_panels', 'shop_by_price', 'shop_all_deals', 'college_deals', 'teen_&amp;_college_curtains', 'under_$40', 'curtains_&amp;_window_treatments', 'window_curtains_&amp;_drapes', 'light_filtering_curtains', 'home_decor_deals', 'panel', 'panels', 'bedroom curtains', 'drape', 'bedroom curtain', 'window curtain &amp; drape', 'manhattan grommet tops', 'drapes', 'window curtain &amp; drapes', 'manhattan grommet top', 'window_panel_(single)s', 'home_decors'], 's_f_Fabric_FiberType': ['52% Cotton/48% Polyester'], 's_f_Light_Filtration': ['Light Filtering'], 'MARKETPLACE_ITEM_FLAG': 'false', 'Soft_Textiles_Material': 'Cotton blend', 'ASSEMBLEDPRODUCTWIDTHIN': [], 'ASSEMBLEDPRODUCTHEIGHTIN': [], 'ASSEMBLEDPRODUCTLENGTHIN': [], 'gbi_product_type_affinity': ['Drapery Rod (Cafe)', 'Window Valance', 'Drapery Rod (Double)', 'Extension Rod', 'Holdback', 'Scarf Valance', 'Drapery Rod (Tension)', 'Finial', 'Drapery Rod (Single)', 'Tie Back'], 'ASSEMBLEDPRODUCTDIAMETERIN': [], 's_f_Soft_Textiles_Material': ['Cotton blend'], 's_f_Window_Items_Included_multi': ['1 Panel'], 's_f_Panel_Length_Rod_to_Bottom_in': ['63\" L', '95\" L', '108\" L'], 's_f_Window_Hanging_Length_Rod_to_bottom_in': ['108', '63', '95'], 's_f_Soft_Textiles_Use_and_Care_Instructions': ['Machine washable']}</td>\n",
       "      <td>[52% cotton, 52% Cotton]</td>\n",
       "      <td>[48% polyester, 48% Polyester]</td>\n",
       "    </tr>\n",
       "    <tr>\n",
       "      <th>10990</th>\n",
       "      <td>69513479</td>\n",
       "      <td>{'TYPE': 'MSWP', 'COLOR': 'CHARCOAL', 'COLOR_s': ['MUSTARD', 'LIGHT GREY', 'TAN', 'BRICK', 'CHARCOAL', 'INDIGO'], 'SKU_SIZE': '63\" panel', 'SKU_TYPE': ['1'], 'RecordType': 'Product', 'SKU_SIZE_s': ['63&amp;quot; PANEL', '84&amp;quot; PANEL', '95&amp;quot; PANEL', '108&amp;quot; PANEL'], 'COLOR_GROUP': 'Black', 'DESCRIPTION': 'A modern accent that adds an inviting touch to any room, the Urban Thread Atwood Grommet Lined Window Curtain Panel dons a stylish geometric pattern. It diffuses light to create a warm ambiance and is machine washable for easy care. Geometric design lends modern flair to any space Light filtering 52% cotton/48% polyester Liner: 85% polyester 15% cotton Machine wash Grommet top panel Panels are sold individually and measure 50\" W Fits a rod up to 1.25\" diameter Imported', 's_f_Made_In': ['Made in Pakistan'], 'COLORGROUP_s': ['Grey', 'Red', 'Yellow', 'Black', 'Beige', 'Blue'], 'VDC_SKU_TYPE': [], 'gbi_syn_size': ['108 inch', '108 inche', '108\"', '84\"', '95\"', '63\"'], 'f_Product_Type': ['Window Panel (single)'], 'SERVICE_TYPE_CD': 'WINDOW_TREATMENTS', 'SKU_DESCRIPTION': ['A modern accent that adds an inviting touch to any room, the Urban Thread Atwood Grommet Lined Window Curtain Panel dons a stylish geometric pattern. It diffuses light to create a warm ambiance and is machine washable for easy care.'], 'Fabric_FiberType': '52% Cotton/48% Polyester', 'LONG_DESCRIPTION': '&lt;ul&gt;\t&lt;li&gt;Geometric design lends modern flair to any space&lt;/li&gt;\t&lt;li&gt;Light filtering&lt;/li&gt;\t&lt;li&gt;52% cotton/48% polyester&lt;/li&gt;\t&lt;li&gt;Liner: 85% polyester 15% cotton&lt;/li&gt;\t&lt;li&gt;Machine wash&lt;/li&gt;\t&lt;li&gt;Grommet top panel&lt;/li&gt;\t&lt;li&gt;Panels are sold individually and measure 50&amp;quot; W&lt;/li&gt;\t&lt;li&gt;Fits a rod up to 1.25&amp;quot; diameter&lt;/li&gt;\t&lt;li&gt;Imported&lt;/li&gt;&lt;/ul&gt;', 'ROLLUP_TYPE_CODE': '4', 's_f_Product_Type': ['Window Panel (single)'], 'f_binProduct_Type': ['Window Panel'], 's_f_Pattern_Design': ['Geometric'], 's_f_Lifestyle_multi': ['Contemporary/Modern'], 'PERSONALIZATION_TYPE': ['N'], 'gbi_exp_product_type': ['window panel', 'panel', 'panels', 'window panels', 'curtain', 'curtains', 'window curtain', 'window curtains', 'window panel (single)', 'window panel (single)s', 'curtains &amp; window', 'home decor', 'home decors', 'featured shops', 'clearance &amp; savings', 'curtain panels', 'shop by price', 'shop all deals', 'college deals', 'teen &amp; college curtains', 'under $40', 'curtains &amp; window treatments', 'window curtains &amp; drapes', 'light filtering curtains', 'home decor deals'], 'gbi_syn_product_type': ['curtains', 'window curtain', 'malta curtains', 'window panels', 'malta curtain', 'malta panel', 'malta panels', 'curtain', 'window curtains', 'window panel', 'window_panel_(single)', 'curtains_&amp;_window', 'home_decor', 'featured_shops', 'clearance_&amp;_savings', 'curtain_panels', 'shop_by_price', 'shop_all_deals', 'college_deals', 'teen_&amp;_college_curtains', 'under_$40', 'curtains_&amp;_window_treatments', 'window_curtains_&amp;_drapes', 'light_filtering_curtains', 'home_decor_deals', 'panel', 'panels', 'bedroom curtains', 'drape', 'bedroom curtain', 'window curtain &amp; drape', 'manhattan grommet tops', 'drapes', 'window curtain &amp; drapes', 'manhattan grommet top', 'window_panel_(single)s', 'home_decors'], 's_f_Fabric_FiberType': ['52% Cotton/48% Polyester'], 's_f_Light_Filtration': ['Light Filtering'], 'MARKETPLACE_ITEM_FLAG': 'false', 'Soft_Textiles_Material': 'Cotton blend', 'ASSEMBLEDPRODUCTWIDTHIN': [], 'ASSEMBLEDPRODUCTHEIGHTIN': [], 'ASSEMBLEDPRODUCTLENGTHIN': [], 'gbi_product_type_affinity': ['Drapery Rod (Cafe)', 'Window Valance', 'Drapery Rod (Double)', 'Extension Rod', 'Holdback', 'Scarf Valance', 'Drapery Rod (Tension)', 'Finial', 'Drapery Rod (Single)', 'Tie Back'], 'ASSEMBLEDPRODUCTDIAMETERIN': [], 's_f_Soft_Textiles_Material': ['Cotton blend'], 's_f_Window_Items_Included_multi': ['1 Panel'], 's_f_Panel_Length_Rod_to_Bottom_in': ['84\" L', '63\" L', '95\" L', '108\" L'], 's_f_Window_Hanging_Length_Rod_to_bottom_in': ['84', '108', '63', '95'], 's_f_Soft_Textiles_Use_and_Care_Instructions': ['Machine washable']}</td>\n",
       "      <td>[52% cotton, 52% Cotton]</td>\n",
       "      <td>[48% polyester, 48% Polyester]</td>\n",
       "    </tr>\n",
       "    <tr>\n",
       "      <th>178345</th>\n",
       "      <td>222375</td>\n",
       "      <td>{'color': None, 'color_group': None, 'enable_date': '20160307', 'sku_attributes': None, 'swatch_image_id': None, 'long_description': '&lt;UL&gt; &lt;LI&gt;The clean lines and understated style of the Verso Window Treatments will add elegance to your room dcor&lt;/LI&gt; &lt;LI&gt;Window panel features a 2-tone design with bold stripes on a crisp ivory ground&lt;/LI&gt; &lt;LI&gt;Valance features a solid hue that complements the window curtain panel&lt;/LI&gt; &lt;LI&gt;89% viscose/11% polyester&lt;/LI&gt; &lt;LI&gt;Machine wash &lt;/LI&gt; &lt;LI&gt;Hangs from a rod pocket&lt;/LI&gt; &lt;LI&gt;Panels are sold individually and measure 50\" W &lt;/LI&gt; &lt;LI&gt;Valance measures 50\" W x 18\" L&lt;/LI&gt; &lt;LI&gt;Fits a rod up to 1.5\" diameter&lt;/LI&gt; &lt;LI&gt;Imported&lt;/LI&gt; &lt;LI&gt;Each window panel and valance are sold separately&lt;/LI&gt;&lt;/UL&gt;', 'rollup_type_code': None, 'price_range_description': '29.99 - 49.99'}</td>\n",
       "      <td>[89% viscose]</td>\n",
       "      <td>[11% polyester]</td>\n",
       "    </tr>\n",
       "    <tr>\n",
       "      <th>178346</th>\n",
       "      <td>3284234</td>\n",
       "      <td>{'TYPE': 'MSWP', 'COLOR': 'IVORY/NAVY', 'COLOR_s': ['IVORY/NAVY'], 'SKU_SIZE': '84\" panel', 'SKU_TYPE': ['1'], 'RecordType': 'Product', 'SKU_SIZE_s': ['84&amp;quot; PANEL'], 'COLOR_GROUP': 'Ivory', 'DESCRIPTION': 'Create an elegant setting in your room with the clean lines and modern style of the Verso Rod Pocket Window Curtain Panel. Its 2-tone design features bold stripes over a crisp ivory ground that add color and dimension to your room décor. The clean lines and understated style of the Verso Rod Pocket Window Curtain Panel will add elegance to your room décor Features a 2-tone design with bold stripes on a crisp ivory ground 89% viscose/11% polyester Machine wash Hangs from a rod pocket Panels are sold individually and measure 50\" W Fits a rod up to 1.5\" diameter Imported Coordinate with the matching window curtain panels (sold separately)', 's_f_Made_In': ['Made in China'], 'COLORGROUP_s': ['Ivory'], 'VDC_SKU_TYPE': [], 'gbi_syn_size': ['84\"'], 'f_Product_Type': ['Window Panel (single)'], 'SERVICE_TYPE_CD': 'WINDOW_TREATMENTS', 'SKU_DESCRIPTION': ['Create an elegant setting in your room with the clean lines and modern style of the Verso Rod Pocket Window Curtain Panel. Its 2-tone design features bold stripes over a crisp ivory ground that add color and dimension to your room décor.'], 'Fabric_FiberType': 'Polyester blend', 'LONG_DESCRIPTION': '&lt;UL&gt; &lt;LI&gt;The clean lines and understated style of the Verso Rod Pocket Window Curtain Panel will add elegance to your room décor&lt;/LI&gt; &lt;LI&gt;Features a 2-tone design with bold stripes on a crisp ivory ground&lt;/LI&gt; &lt;LI&gt;89% viscose/11% polyester&lt;/LI&gt; &lt;LI&gt;Machine wash &lt;/LI&gt; &lt;LI&gt;Hangs from a rod pocket&lt;/LI&gt; &lt;LI&gt;Panels are sold individually and measure 50\" W &lt;/LI&gt; &lt;LI&gt;Fits a rod up to 1.5\" diameter&lt;/LI&gt; &lt;LI&gt;Imported&lt;/LI&gt; &lt;LI&gt;Coordinate with the matching window curtain panels (sold separately)&lt;/LI&gt;&lt;/UL&gt;', 'ROLLUP_TYPE_CODE': '4', 's_f_Product_Type': ['Window Panel (single)'], 's_f_Window_Style': ['Modern'], 'f_binProduct_Type': ['Window Panel'], 'PERSONALIZATION_TYPE': ['N'], 'gbi_exp_product_type': ['window panel', 'panel', 'panels', 'window panels', 'curtain', 'curtains', 'window curtain', 'window curtains', 'window panel (single)', 'window panel (single)s', 'curtain panels', 'light filtering curtains'], 'gbi_syn_product_type': ['curtains', 'window curtain', 'malta curtains', 'window panels', 'malta curtain', 'malta panel', 'malta panels', 'curtain', 'window curtains', 'window panel', 'window_panel_(single)', 'curtain_panels', 'light_filtering_curtains', 'panel', 'panels', 'bedroom curtains', 'drape', 'bedroom curtain', 'window curtain &amp; drape', 'manhattan grommet tops', 'drapes', 'window curtain &amp; drapes', 'manhattan grommet top', 'window_panel_(single)s'], 's_f_Fabric_FiberType': ['Polyester blend'], 'MARKETPLACE_ITEM_FLAG': 'false', 'ASSEMBLEDPRODUCTWIDTHIN': [], 'ASSEMBLEDPRODUCTHEIGHTIN': [], 'ASSEMBLEDPRODUCTLENGTHIN': [], 'gbi_product_type_affinity': ['Drapery Rod (Cafe)', 'Window Valance', 'Drapery Rod (Double)', 'Extension Rod', 'Holdback', 'Scarf Valance', 'Drapery Rod (Tension)', 'Finial', 'Drapery Rod (Single)', 'Tie Back'], 'ASSEMBLEDPRODUCTDIAMETERIN': [], 's_f_Soft_Textiles_Use_and_Care_Instructions': ['Machine washable']}</td>\n",
       "      <td>[89% viscose]</td>\n",
       "      <td>[11% polyester]</td>\n",
       "    </tr>\n",
       "    <tr>\n",
       "      <th>178347</th>\n",
       "      <td>3284235</td>\n",
       "      <td>{'color': None, 'color_group': None, 'enable_date': '20160307', 'sku_attributes': None, 'swatch_image_id': None, 'long_description': '&lt;UL&gt; &lt;LI&gt;The understated style of the Verso Window Valance will add elegance to your room dcor&lt;/LI&gt; &lt;LI&gt;Features a solid hue and clean, crisp lines&lt;/LI&gt; &lt;LI&gt;89% viscose/11% polyester&lt;/LI&gt; &lt;LI&gt;Machine wash &lt;/LI&gt; &lt;LI&gt;Hangs from a rod pocket&lt;/LI&gt; &lt;LI&gt;Valance measures 50\" W x 18\" L&lt;/LI&gt; &lt;LI&gt;Fits a rod up to 1.5\" diameter&lt;/LI&gt; &lt;LI&gt;Imported&lt;/LI&gt; &lt;LI&gt;Coordinate with the matching window curtain panels (sold separately)&lt;/LI&gt;&lt;/UL&gt;', 'rollup_type_code': '01', 'price_range_description': '29.99'}</td>\n",
       "      <td>[89% viscose]</td>\n",
       "      <td>[11% polyester]</td>\n",
       "    </tr>\n",
       "  </tbody>\n",
       "</table>\n",
       "<p>6438 rows × 4 columns</p>\n",
       "</div>"
      ],
      "text/plain": [
       "       external_id  \\\n",
       "1         69513481   \n",
       "2         69513482   \n",
       "3         69513486   \n",
       "4         69513488   \n",
       "5         69513489   \n",
       "...            ...   \n",
       "10989     69513475   \n",
       "10990     69513479   \n",
       "178345      222375   \n",
       "178346     3284234   \n",
       "178347     3284235   \n",
       "\n",
       "                                                                                                                                                                                                                                                                                                                                                                                                                                                                                                                                                                                                                                                                                                                                                                                                                                                                                                                                                                                                                                                                                                                                                                                                                                                                                                                                                                                                                                                                                                                                                                                                                                                                                                                                                                                                                                                                                                                                                                                                                                                                                                                                                                                                                                                                                                                                                                                                                                                                                                                                                                                                                                                                                                                                                                                                                                                                                                                                                                                                                                                                                                                                                                                                                                                                                                                                                                                                                                                                                                                                                                                                                                                                                                                                                                                                                                                                                                                                                                                                                                                                                                                                                                                custom_fields  \\\n",
       "1                                                                                                                                                                                                                                                    {'TYPE': 'MSWP', 'COLOR': 'CHARCOAL', 'COLOR_s': ['MUSTARD', 'TAN', 'CHARCOAL', 'INDIGO'], 'SKU_SIZE': '84\" panel', 'SKU_TYPE': ['1'], 'RecordType': 'Product', 'SKU_SIZE_s': ['63&quot; PANEL', '95&quot; PANEL', '108&quot; PANEL'], 'COLOR_GROUP': 'Black', 'DESCRIPTION': 'A modern accent that adds an inviting touch to any room, the Urban Thread Atwood Grommet Lined Window Curtain Panel dons a stylish geometric pattern. It diffuses light to create a warm ambiance and is machine washable for easy care. Geometric design lends modern flair to any space Light filtering 52% cotton/48% polyester Liner: 85% polyester 15% cotton Machine wash Grommet top panel Panels are sold individually and measure 50\" W Fits a rod up to 1.25\" diameter Imported', 's_f_Made_In': ['Made in Pakistan'], 'COLORGROUP_s': ['Yellow', 'Black', 'Beige', 'Blue'], 'VDC_SKU_TYPE': [], 'gbi_syn_size': ['108 inch', '108 inche', '108\"', '95\"', '63\"'], 'f_Product_Type': ['Window Panel (single)'], 'SERVICE_TYPE_CD': 'WINDOW_TREATMENTS', 'SKU_DESCRIPTION': ['A modern accent that adds an inviting touch to any room, the Urban Thread Atwood Grommet Lined Window Curtain Panel dons a stylish geometric pattern. It diffuses light to create a warm ambiance and is machine washable for easy care.'], 'Fabric_FiberType': '52% Cotton/48% Polyester', 'LONG_DESCRIPTION': '<ul>\t<li>Geometric design lends modern flair to any space</li>\t<li>Light filtering</li>\t<li>52% cotton/48% polyester</li>\t<li>Liner: 85% polyester 15% cotton</li>\t<li>Machine wash</li>\t<li>Grommet top panel</li>\t<li>Panels are sold individually and measure 50&quot; W</li>\t<li>Fits a rod up to 1.25&quot; diameter</li>\t<li>Imported</li></ul>', 'ROLLUP_TYPE_CODE': '4', 's_f_Product_Type': ['Window Panel (single)'], 'f_binProduct_Type': ['Window Panel'], 's_f_Pattern_Design': ['Geometric'], 's_f_Lifestyle_multi': ['Contemporary/Modern'], 'PERSONALIZATION_TYPE': ['N'], 'gbi_exp_product_type': ['window panel', 'panel', 'panels', 'window panels', 'curtain', 'curtains', 'window curtain', 'window curtains', 'window panel (single)', 'window panel (single)s', 'curtains & window', 'featured shops', 'curtain panels', 'shop by price', 'shop all deals', 'university deals', 'teen & college curtains', 'under $40', 'window curtains & drapes', 'light filtering curtains', 'home decor deals'], 'gbi_syn_product_type': ['curtains', 'window curtain', 'malta curtains', 'window panels', 'malta curtain', 'malta panel', 'malta panels', 'curtain', 'window curtains', 'window panel', 'window_panel_(single)', 'curtains_&_window', 'featured_shops', 'curtain_panels', 'shop_by_price', 'shop_all_deals', 'university_deals', 'teen_&_college_curtains', 'under_$40', 'window_curtains_&_drapes', 'light_filtering_curtains', 'home_decor_deals', 'panel', 'panels', 'bedroom curtains', 'drape', 'bedroom curtain', 'window curtain & drape', 'manhattan grommet tops', 'drapes', 'window curtain & drapes', 'manhattan grommet top', 'window_panel_(single)s'], 's_f_Fabric_FiberType': ['52% Cotton/48% Polyester'], 's_f_Light_Filtration': ['Light Filtering'], 'MARKETPLACE_ITEM_FLAG': 'false', 'Soft_Textiles_Material': 'Cotton blend', 'ASSEMBLEDPRODUCTWIDTHIN': [], 'ASSEMBLEDPRODUCTHEIGHTIN': [], 'ASSEMBLEDPRODUCTLENGTHIN': [], 'gbi_product_type_affinity': ['Drapery Rod (Cafe)', 'Drapery Rod (Double)', 'Extension Rod', 'Holdback', 'Drapery Rod (Tension)', 'Finial', 'Drapery Rod (Single)', 'Tie Back', 'Window Panel (Pair)', 'Rod Bracket'], 'ASSEMBLEDPRODUCTDIAMETERIN': [], 's_f_Soft_Textiles_Material': ['Cotton blend'], 's_f_Window_Items_Included_multi': ['1 Panel'], 's_f_Panel_Length_Rod_to_Bottom_in': ['63\" L', '95\" L', '108\" L'], 's_f_Window_Hanging_Length_Rod_to_bottom_in': ['108', '63', '95'], 's_f_Soft_Textiles_Use_and_Care_Instructions': ['Machine washable']}   \n",
       "2                                                                                 {'TYPE': 'MSWP', 'COLOR': 'CHARCOAL', 'COLOR_s': ['MUSTARD', 'LIGHT GREY', 'BRICK', 'CHARCOAL'], 'SKU_SIZE': '95\" panel', 'SKU_TYPE': ['1'], 'RecordType': 'Product', 'SKU_SIZE_s': ['63&quot; PANEL', '95&quot; PANEL', '108&quot; PANEL'], 'COLOR_GROUP': 'Black', 'DESCRIPTION': 'A modern accent that adds an inviting touch to any room, the Urban Thread Atwood Grommet Lined Window Curtain Panel dons a stylish geometric pattern. It diffuses light to create a warm ambiance and is machine washable for easy care. Geometric design lends modern flair to any space Light filtering 52% cotton/48% polyester Liner: 85% polyester 15% cotton Machine wash Grommet top panel Panels are sold individually and measure 50\" W Fits a rod up to 1.25\" diameter Imported', 's_f_Made_In': ['Made in Pakistan'], 'COLORGROUP_s': ['Grey', 'Red', 'Yellow', 'Black'], 'VDC_SKU_TYPE': [], 'gbi_syn_size': ['108 inch', '108 inche', '108\"', '95\"', '63\"'], 'f_Product_Type': ['Window Panel (single)'], 'SERVICE_TYPE_CD': 'WINDOW_TREATMENTS', 'SKU_DESCRIPTION': ['A modern accent that adds an inviting touch to any room, the Urban Thread Atwood Grommet Lined Window Curtain Panel dons a stylish geometric pattern. It diffuses light to create a warm ambiance and is machine washable for easy care.'], 'Fabric_FiberType': '52% Cotton/48% Polyester', 'LONG_DESCRIPTION': '<ul>\t<li>Geometric design lends modern flair to any space</li>\t<li>Light filtering</li>\t<li>52% cotton/48% polyester</li>\t<li>Liner: 85% polyester 15% cotton</li>\t<li>Machine wash</li>\t<li>Grommet top panel</li>\t<li>Panels are sold individually and measure 50&quot; W</li>\t<li>Fits a rod up to 1.25&quot; diameter</li>\t<li>Imported</li></ul>', 'ROLLUP_TYPE_CODE': '4', 's_f_Product_Type': ['Window Panel (single)'], 'f_binProduct_Type': ['Window Panel'], 's_f_Pattern_Design': ['Geometric'], 's_f_Lifestyle_multi': ['Contemporary/Modern'], 'PERSONALIZATION_TYPE': ['N'], 'gbi_exp_product_type': ['window panel', 'panel', 'panels', 'window panels', 'curtain', 'curtains', 'window curtain', 'window curtains', 'window panel (single)', 'window panel (single)s', 'curtains & window', 'home decor', 'home decors', 'featured shops', 'clearance & savings', 'curtain panels', 'shop by price', 'shop all deals', 'college deals', 'teen & college curtains', 'under $40', 'curtains & window treatments', 'window curtains & drapes', 'light filtering curtains', 'home decor deals'], 'gbi_syn_product_type': ['curtains', 'window curtain', 'malta curtains', 'window panels', 'malta curtain', 'malta panel', 'malta panels', 'curtain', 'window curtains', 'window panel', 'window_panel_(single)', 'curtains_&_window', 'home_decor', 'featured_shops', 'clearance_&_savings', 'curtain_panels', 'shop_by_price', 'shop_all_deals', 'college_deals', 'teen_&_college_curtains', 'under_$40', 'curtains_&_window_treatments', 'window_curtains_&_drapes', 'light_filtering_curtains', 'home_decor_deals', 'panel', 'panels', 'bedroom curtains', 'drape', 'bedroom curtain', 'window curtain & drape', 'manhattan grommet tops', 'drapes', 'window curtain & drapes', 'manhattan grommet top', 'window_panel_(single)s', 'home_decors'], 's_f_Fabric_FiberType': ['52% Cotton/48% Polyester'], 's_f_Light_Filtration': ['Light Filtering'], 'MARKETPLACE_ITEM_FLAG': 'false', 'Soft_Textiles_Material': 'Cotton blend', 'ASSEMBLEDPRODUCTWIDTHIN': [], 'ASSEMBLEDPRODUCTHEIGHTIN': [], 'ASSEMBLEDPRODUCTLENGTHIN': [], 'gbi_product_type_affinity': ['Drapery Rod (Cafe)', 'Window Valance', 'Drapery Rod (Double)', 'Extension Rod', 'Holdback', 'Scarf Valance', 'Drapery Rod (Tension)', 'Finial', 'Drapery Rod (Single)', 'Tie Back'], 'ASSEMBLEDPRODUCTDIAMETERIN': [], 's_f_Soft_Textiles_Material': ['Cotton blend'], 's_f_Window_Items_Included_multi': ['1 Panel'], 's_f_Panel_Length_Rod_to_Bottom_in': ['63\" L', '95\" L', '108\" L'], 's_f_Window_Hanging_Length_Rod_to_bottom_in': ['108', '63', '95'], 's_f_Soft_Textiles_Use_and_Care_Instructions': ['Machine washable']}   \n",
       "3                                                                                                                                                                            {'TYPE': 'MSWP', 'COLOR': 'INDIGO', 'COLOR_s': ['MUSTARD', 'LIGHT GREY', 'INDIGO'], 'SKU_SIZE': '63\" panel', 'SKU_TYPE': ['1'], 'RecordType': 'Product', 'SKU_SIZE_s': ['63&quot; PANEL', '95&quot; PANEL'], 'COLOR_GROUP': 'Blue', 'DESCRIPTION': 'A modern accent that adds an inviting touch to any room, the Urban Thread Atwood Grommet Lined Window Curtain Panel dons a stylish geometric pattern. It diffuses light to create a warm ambiance and is machine washable for easy care. Geometric design lends modern flair to any space Light filtering 52% cotton/48% polyester Liner: 85% polyester 15% cotton Machine wash Grommet top panel Panels are sold individually and measure 50\" W Fits a rod up to 1.25\" diameter Imported', 's_f_Made_In': ['Made in Pakistan'], 'COLORGROUP_s': ['Grey', 'Yellow', 'Blue'], 'VDC_SKU_TYPE': [], 'gbi_syn_size': ['95\"', '63\"'], 'f_Product_Type': ['Window Panel (single)'], 'SERVICE_TYPE_CD': 'WINDOW_TREATMENTS', 'SKU_DESCRIPTION': ['A modern accent that adds an inviting touch to any room, the Urban Thread Atwood Grommet Lined Window Curtain Panel dons a stylish geometric pattern. It diffuses light to create a warm ambiance and is machine washable for easy care.'], 'Fabric_FiberType': '52% Cotton/48% Polyester', 'LONG_DESCRIPTION': '<ul>\t<li>Geometric design lends modern flair to any space</li>\t<li>Light filtering</li>\t<li>52% cotton/48% polyester</li>\t<li>Liner: 85% polyester 15% cotton</li>\t<li>Machine wash</li>\t<li>Grommet top panel</li>\t<li>Panels are sold individually and measure 50&quot; W</li>\t<li>Fits a rod up to 1.25&quot; diameter</li>\t<li>Imported</li></ul>', 'ROLLUP_TYPE_CODE': '4', 's_f_Product_Type': ['Window Panel (single)'], 'f_binProduct_Type': ['Window Panel'], 's_f_Pattern_Design': ['Geometric'], 's_f_Lifestyle_multi': ['Contemporary/Modern'], 'PERSONALIZATION_TYPE': ['N'], 'gbi_exp_product_type': ['window panel', 'panel', 'panels', 'window panels', 'curtain', 'curtains', 'window curtain', 'window curtains', 'window panel (single)', 'window panel (single)s', 'curtains & window', 'home decor', 'home decors', 'featured shops', 'clearance & savings', 'curtain panels', 'shop by price', 'shop all deals', 'college deals', 'teen & college curtains', 'under $40', 'curtains & window treatments', 'window curtains & drapes', 'light filtering curtains', 'home decor deals'], 'gbi_syn_product_type': ['curtains', 'window curtain', 'malta curtains', 'window panels', 'malta curtain', 'malta panel', 'malta panels', 'curtain', 'window curtains', 'window panel', 'window_panel_(single)', 'curtains_&_window', 'home_decor', 'featured_shops', 'clearance_&_savings', 'curtain_panels', 'shop_by_price', 'shop_all_deals', 'college_deals', 'teen_&_college_curtains', 'under_$40', 'curtains_&_window_treatments', 'window_curtains_&_drapes', 'light_filtering_curtains', 'home_decor_deals', 'panel', 'panels', 'bedroom curtains', 'drape', 'bedroom curtain', 'window curtain & drape', 'manhattan grommet tops', 'drapes', 'window curtain & drapes', 'manhattan grommet top', 'window_panel_(single)s', 'home_decors'], 's_f_Fabric_FiberType': ['52% Cotton/48% Polyester'], 's_f_Light_Filtration': ['Light Filtering'], 'MARKETPLACE_ITEM_FLAG': 'false', 'Soft_Textiles_Material': 'Cotton blend', 'ASSEMBLEDPRODUCTWIDTHIN': [], 'ASSEMBLEDPRODUCTHEIGHTIN': [], 'ASSEMBLEDPRODUCTLENGTHIN': [], 'gbi_product_type_affinity': ['Drapery Rod (Cafe)', 'Window Valance', 'Drapery Rod (Double)', 'Extension Rod', 'Holdback', 'Scarf Valance', 'Drapery Rod (Tension)', 'Finial', 'Drapery Rod (Single)', 'Tie Back'], 'ASSEMBLEDPRODUCTDIAMETERIN': [], 's_f_Soft_Textiles_Material': ['Cotton blend'], 's_f_Window_Items_Included_multi': ['1 Panel'], 's_f_Panel_Length_Rod_to_Bottom_in': ['63\" L', '95\" L'], 's_f_Window_Hanging_Length_Rod_to_bottom_in': ['63', '95'], 's_f_Soft_Textiles_Use_and_Care_Instructions': ['Machine washable']}   \n",
       "4          {'TYPE': 'MSWP', 'COLOR': 'INDIGO', 'COLOR_s': ['MUSTARD', 'LIGHT GREY', 'TAN', 'BRICK', 'CHARCOAL', 'INDIGO'], 'SKU_SIZE': '84\" panel', 'SKU_TYPE': ['1'], 'RecordType': 'Product', 'SKU_SIZE_s': ['63&quot; PANEL', '84&quot; PANEL', '95&quot; PANEL', '108&quot; PANEL'], 'COLOR_GROUP': 'Blue', 'DESCRIPTION': 'A modern accent that adds an inviting touch to any room, the Urban Thread Atwood Grommet Lined Window Curtain Panel dons a stylish geometric pattern. It diffuses light to create a warm ambiance and is machine washable for easy care. Geometric design lends modern flair to any space Light filtering 52% cotton/48% polyester Liner: 85% polyester 15% cotton Machine wash Grommet top panel Panels are sold individually and measure 50\" W Fits a rod up to 1.25\" diameter Imported', 's_f_Made_In': ['Made in Pakistan'], 'COLORGROUP_s': ['Grey', 'Red', 'Yellow', 'Black', 'Beige', 'Blue'], 'VDC_SKU_TYPE': [], 'gbi_syn_size': ['108 inch', '108 inche', '108\"', '84\"', '95\"', '63\"'], 'f_Product_Type': ['Window Panel (single)'], 'SERVICE_TYPE_CD': 'WINDOW_TREATMENTS', 'SKU_DESCRIPTION': ['A modern accent that adds an inviting touch to any room, the Urban Thread Atwood Grommet Lined Window Curtain Panel dons a stylish geometric pattern. It diffuses light to create a warm ambiance and is machine washable for easy care.'], 'Fabric_FiberType': '52% Cotton/48% Polyester', 'LONG_DESCRIPTION': '<ul>\t<li>Geometric design lends modern flair to any space</li>\t<li>Light filtering</li>\t<li>52% cotton/48% polyester</li>\t<li>Liner: 85% polyester 15% cotton</li>\t<li>Machine wash</li>\t<li>Grommet top panel</li>\t<li>Panels are sold individually and measure 50&quot; W</li>\t<li>Fits a rod up to 1.25&quot; diameter</li>\t<li>Imported</li></ul>', 'ROLLUP_TYPE_CODE': '4', 's_f_Product_Type': ['Window Panel (single)'], 'f_binProduct_Type': ['Window Panel'], 's_f_Pattern_Design': ['Geometric'], 's_f_Lifestyle_multi': ['Contemporary/Modern'], 'PERSONALIZATION_TYPE': ['N'], 'gbi_exp_product_type': ['window panel', 'panel', 'panels', 'window panels', 'curtain', 'curtains', 'window curtain', 'window curtains', 'window panel (single)', 'window panel (single)s', 'curtains & window', 'home decor', 'home decors', 'featured shops', 'clearance & savings', 'curtain panels', 'shop by price', 'shop all deals', 'college deals', 'teen & college curtains', 'under $40', 'curtains & window treatments', 'window curtains & drapes', 'light filtering curtains', 'home decor deals'], 'gbi_syn_product_type': ['curtains', 'window curtain', 'malta curtains', 'window panels', 'malta curtain', 'malta panel', 'malta panels', 'curtain', 'window curtains', 'window panel', 'window_panel_(single)', 'curtains_&_window', 'home_decor', 'featured_shops', 'clearance_&_savings', 'curtain_panels', 'shop_by_price', 'shop_all_deals', 'college_deals', 'teen_&_college_curtains', 'under_$40', 'curtains_&_window_treatments', 'window_curtains_&_drapes', 'light_filtering_curtains', 'home_decor_deals', 'panel', 'panels', 'bedroom curtains', 'drape', 'bedroom curtain', 'window curtain & drape', 'manhattan grommet tops', 'drapes', 'window curtain & drapes', 'manhattan grommet top', 'window_panel_(single)s', 'home_decors'], 's_f_Fabric_FiberType': ['52% Cotton/48% Polyester'], 's_f_Light_Filtration': ['Light Filtering'], 'MARKETPLACE_ITEM_FLAG': 'false', 'Soft_Textiles_Material': 'Cotton blend', 'ASSEMBLEDPRODUCTWIDTHIN': [], 'ASSEMBLEDPRODUCTHEIGHTIN': [], 'ASSEMBLEDPRODUCTLENGTHIN': [], 'gbi_product_type_affinity': ['Drapery Rod (Cafe)', 'Window Valance', 'Drapery Rod (Double)', 'Extension Rod', 'Holdback', 'Scarf Valance', 'Drapery Rod (Tension)', 'Finial', 'Drapery Rod (Single)', 'Tie Back'], 'ASSEMBLEDPRODUCTDIAMETERIN': [], 's_f_Soft_Textiles_Material': ['Cotton blend'], 's_f_Window_Items_Included_multi': ['1 Panel'], 's_f_Panel_Length_Rod_to_Bottom_in': ['84\" L', '63\" L', '95\" L', '108\" L'], 's_f_Window_Hanging_Length_Rod_to_bottom_in': ['84', '108', '63', '95'], 's_f_Soft_Textiles_Use_and_Care_Instructions': ['Machine washable']}   \n",
       "5          {'TYPE': 'MSWP', 'COLOR': 'INDIGO', 'COLOR_s': ['MUSTARD', 'LIGHT GREY', 'TAN', 'BRICK', 'CHARCOAL', 'INDIGO'], 'SKU_SIZE': '95\" panel', 'SKU_TYPE': ['1'], 'RecordType': 'Product', 'SKU_SIZE_s': ['63&quot; PANEL', '84&quot; PANEL', '95&quot; PANEL', '108&quot; PANEL'], 'COLOR_GROUP': 'Blue', 'DESCRIPTION': 'A modern accent that adds an inviting touch to any room, the Urban Thread Atwood Grommet Lined Window Curtain Panel dons a stylish geometric pattern. It diffuses light to create a warm ambiance and is machine washable for easy care. Geometric design lends modern flair to any space Light filtering 52% cotton/48% polyester Liner: 85% polyester 15% cotton Machine wash Grommet top panel Panels are sold individually and measure 50\" W Fits a rod up to 1.25\" diameter Imported', 's_f_Made_In': ['Made in Pakistan'], 'COLORGROUP_s': ['Grey', 'Red', 'Yellow', 'Black', 'Beige', 'Blue'], 'VDC_SKU_TYPE': [], 'gbi_syn_size': ['108 inch', '108 inche', '108\"', '84\"', '95\"', '63\"'], 'f_Product_Type': ['Window Panel (single)'], 'SERVICE_TYPE_CD': 'WINDOW_TREATMENTS', 'SKU_DESCRIPTION': ['A modern accent that adds an inviting touch to any room, the Urban Thread Atwood Grommet Lined Window Curtain Panel dons a stylish geometric pattern. It diffuses light to create a warm ambiance and is machine washable for easy care.'], 'Fabric_FiberType': '52% Cotton/48% Polyester', 'LONG_DESCRIPTION': '<ul>\t<li>Geometric design lends modern flair to any space</li>\t<li>Light filtering</li>\t<li>52% cotton/48% polyester</li>\t<li>Liner: 85% polyester 15% cotton</li>\t<li>Machine wash</li>\t<li>Grommet top panel</li>\t<li>Panels are sold individually and measure 50&quot; W</li>\t<li>Fits a rod up to 1.25&quot; diameter</li>\t<li>Imported</li></ul>', 'ROLLUP_TYPE_CODE': '4', 's_f_Product_Type': ['Window Panel (single)'], 'f_binProduct_Type': ['Window Panel'], 's_f_Pattern_Design': ['Geometric'], 's_f_Lifestyle_multi': ['Contemporary/Modern'], 'PERSONALIZATION_TYPE': ['N'], 'gbi_exp_product_type': ['window panel', 'panel', 'panels', 'window panels', 'curtain', 'curtains', 'window curtain', 'window curtains', 'window panel (single)', 'window panel (single)s', 'curtains & window', 'home decor', 'home decors', 'featured shops', 'clearance & savings', 'curtain panels', 'shop by price', 'shop all deals', 'college deals', 'teen & college curtains', 'under $40', 'curtains & window treatments', 'window curtains & drapes', 'light filtering curtains', 'home decor deals'], 'gbi_syn_product_type': ['curtains', 'window curtain', 'malta curtains', 'window panels', 'malta curtain', 'malta panel', 'malta panels', 'curtain', 'window curtains', 'window panel', 'window_panel_(single)', 'curtains_&_window', 'home_decor', 'featured_shops', 'clearance_&_savings', 'curtain_panels', 'shop_by_price', 'shop_all_deals', 'college_deals', 'teen_&_college_curtains', 'under_$40', 'curtains_&_window_treatments', 'window_curtains_&_drapes', 'light_filtering_curtains', 'home_decor_deals', 'panel', 'panels', 'bedroom curtains', 'drape', 'bedroom curtain', 'window curtain & drape', 'manhattan grommet tops', 'drapes', 'window curtain & drapes', 'manhattan grommet top', 'window_panel_(single)s', 'home_decors'], 's_f_Fabric_FiberType': ['52% Cotton/48% Polyester'], 's_f_Light_Filtration': ['Light Filtering'], 'MARKETPLACE_ITEM_FLAG': 'false', 'Soft_Textiles_Material': 'Cotton blend', 'ASSEMBLEDPRODUCTWIDTHIN': [], 'ASSEMBLEDPRODUCTHEIGHTIN': [], 'ASSEMBLEDPRODUCTLENGTHIN': [], 'gbi_product_type_affinity': ['Drapery Rod (Cafe)', 'Window Valance', 'Drapery Rod (Double)', 'Extension Rod', 'Holdback', 'Scarf Valance', 'Drapery Rod (Tension)', 'Finial', 'Drapery Rod (Single)', 'Tie Back'], 'ASSEMBLEDPRODUCTDIAMETERIN': [], 's_f_Soft_Textiles_Material': ['Cotton blend'], 's_f_Window_Items_Included_multi': ['1 Panel'], 's_f_Panel_Length_Rod_to_Bottom_in': ['84\" L', '63\" L', '95\" L', '108\" L'], 's_f_Window_Hanging_Length_Rod_to_bottom_in': ['84', '108', '63', '95'], 's_f_Soft_Textiles_Use_and_Care_Instructions': ['Machine washable']}   \n",
       "...                                                                                                                                                                                                                                                                                                                                                                                                                                                                                                                                                                                                                                                                                                                                                                                                                                                                                                                                                                                                                                                                                                                                                                                                                                                                                                                                                                                                                                                                                                                                                                                                                                                                                                                                                                                                                                                                                                                                                                                                                                                                                                                                                                                                                                                                                                                                                                                                                                                                                                                                                                                                                                                                                                                                                                                                                                                                                                                                                                                                                                                                                                                                                                                                                                                                                                                                                                                                                                                                                                                                                                                                                                                                                                                                                                                                                                                                                                                                                                                                                                                                                                                                                                                       ...   \n",
       "10989                                                                            {'TYPE': 'MSWP', 'COLOR': 'LIGHT GREY', 'COLOR_s': ['MUSTARD', 'LIGHT GREY', 'BRICK', 'CHARCOAL'], 'SKU_SIZE': '95\" panel', 'SKU_TYPE': ['1'], 'RecordType': 'Product', 'SKU_SIZE_s': ['63&quot; PANEL', '95&quot; PANEL', '108&quot; PANEL'], 'COLOR_GROUP': 'Grey', 'DESCRIPTION': 'A modern accent that adds an inviting touch to any room, the Urban Thread Atwood Grommet Lined Window Curtain Panel dons a stylish geometric pattern. It diffuses light to create a warm ambiance and is machine washable for easy care. Geometric design lends modern flair to any space Light filtering 52% cotton/48% polyester Liner: 85% polyester 15% cotton Machine wash Grommet top panel Panels are sold individually and measure 50\" W Fits a rod up to 1.25\" diameter Imported', 's_f_Made_In': ['Made in Pakistan'], 'COLORGROUP_s': ['Grey', 'Red', 'Yellow', 'Black'], 'VDC_SKU_TYPE': [], 'gbi_syn_size': ['108 inch', '108 inche', '108\"', '95\"', '63\"'], 'f_Product_Type': ['Window Panel (single)'], 'SERVICE_TYPE_CD': 'WINDOW_TREATMENTS', 'SKU_DESCRIPTION': ['A modern accent that adds an inviting touch to any room, the Urban Thread Atwood Grommet Lined Window Curtain Panel dons a stylish geometric pattern. It diffuses light to create a warm ambiance and is machine washable for easy care.'], 'Fabric_FiberType': '52% Cotton/48% Polyester', 'LONG_DESCRIPTION': '<ul>\t<li>Geometric design lends modern flair to any space</li>\t<li>Light filtering</li>\t<li>52% cotton/48% polyester</li>\t<li>Liner: 85% polyester 15% cotton</li>\t<li>Machine wash</li>\t<li>Grommet top panel</li>\t<li>Panels are sold individually and measure 50&quot; W</li>\t<li>Fits a rod up to 1.25&quot; diameter</li>\t<li>Imported</li></ul>', 'ROLLUP_TYPE_CODE': '4', 's_f_Product_Type': ['Window Panel (single)'], 'f_binProduct_Type': ['Window Panel'], 's_f_Pattern_Design': ['Geometric'], 's_f_Lifestyle_multi': ['Contemporary/Modern'], 'PERSONALIZATION_TYPE': ['N'], 'gbi_exp_product_type': ['window panel', 'panel', 'panels', 'window panels', 'curtain', 'curtains', 'window curtain', 'window curtains', 'window panel (single)', 'window panel (single)s', 'curtains & window', 'home decor', 'home decors', 'featured shops', 'clearance & savings', 'curtain panels', 'shop by price', 'shop all deals', 'college deals', 'teen & college curtains', 'under $40', 'curtains & window treatments', 'window curtains & drapes', 'light filtering curtains', 'home decor deals'], 'gbi_syn_product_type': ['curtains', 'window curtain', 'malta curtains', 'window panels', 'malta curtain', 'malta panel', 'malta panels', 'curtain', 'window curtains', 'window panel', 'window_panel_(single)', 'curtains_&_window', 'home_decor', 'featured_shops', 'clearance_&_savings', 'curtain_panels', 'shop_by_price', 'shop_all_deals', 'college_deals', 'teen_&_college_curtains', 'under_$40', 'curtains_&_window_treatments', 'window_curtains_&_drapes', 'light_filtering_curtains', 'home_decor_deals', 'panel', 'panels', 'bedroom curtains', 'drape', 'bedroom curtain', 'window curtain & drape', 'manhattan grommet tops', 'drapes', 'window curtain & drapes', 'manhattan grommet top', 'window_panel_(single)s', 'home_decors'], 's_f_Fabric_FiberType': ['52% Cotton/48% Polyester'], 's_f_Light_Filtration': ['Light Filtering'], 'MARKETPLACE_ITEM_FLAG': 'false', 'Soft_Textiles_Material': 'Cotton blend', 'ASSEMBLEDPRODUCTWIDTHIN': [], 'ASSEMBLEDPRODUCTHEIGHTIN': [], 'ASSEMBLEDPRODUCTLENGTHIN': [], 'gbi_product_type_affinity': ['Drapery Rod (Cafe)', 'Window Valance', 'Drapery Rod (Double)', 'Extension Rod', 'Holdback', 'Scarf Valance', 'Drapery Rod (Tension)', 'Finial', 'Drapery Rod (Single)', 'Tie Back'], 'ASSEMBLEDPRODUCTDIAMETERIN': [], 's_f_Soft_Textiles_Material': ['Cotton blend'], 's_f_Window_Items_Included_multi': ['1 Panel'], 's_f_Panel_Length_Rod_to_Bottom_in': ['63\" L', '95\" L', '108\" L'], 's_f_Window_Hanging_Length_Rod_to_bottom_in': ['108', '63', '95'], 's_f_Soft_Textiles_Use_and_Care_Instructions': ['Machine washable']}   \n",
       "10990   {'TYPE': 'MSWP', 'COLOR': 'CHARCOAL', 'COLOR_s': ['MUSTARD', 'LIGHT GREY', 'TAN', 'BRICK', 'CHARCOAL', 'INDIGO'], 'SKU_SIZE': '63\" panel', 'SKU_TYPE': ['1'], 'RecordType': 'Product', 'SKU_SIZE_s': ['63&quot; PANEL', '84&quot; PANEL', '95&quot; PANEL', '108&quot; PANEL'], 'COLOR_GROUP': 'Black', 'DESCRIPTION': 'A modern accent that adds an inviting touch to any room, the Urban Thread Atwood Grommet Lined Window Curtain Panel dons a stylish geometric pattern. It diffuses light to create a warm ambiance and is machine washable for easy care. Geometric design lends modern flair to any space Light filtering 52% cotton/48% polyester Liner: 85% polyester 15% cotton Machine wash Grommet top panel Panels are sold individually and measure 50\" W Fits a rod up to 1.25\" diameter Imported', 's_f_Made_In': ['Made in Pakistan'], 'COLORGROUP_s': ['Grey', 'Red', 'Yellow', 'Black', 'Beige', 'Blue'], 'VDC_SKU_TYPE': [], 'gbi_syn_size': ['108 inch', '108 inche', '108\"', '84\"', '95\"', '63\"'], 'f_Product_Type': ['Window Panel (single)'], 'SERVICE_TYPE_CD': 'WINDOW_TREATMENTS', 'SKU_DESCRIPTION': ['A modern accent that adds an inviting touch to any room, the Urban Thread Atwood Grommet Lined Window Curtain Panel dons a stylish geometric pattern. It diffuses light to create a warm ambiance and is machine washable for easy care.'], 'Fabric_FiberType': '52% Cotton/48% Polyester', 'LONG_DESCRIPTION': '<ul>\t<li>Geometric design lends modern flair to any space</li>\t<li>Light filtering</li>\t<li>52% cotton/48% polyester</li>\t<li>Liner: 85% polyester 15% cotton</li>\t<li>Machine wash</li>\t<li>Grommet top panel</li>\t<li>Panels are sold individually and measure 50&quot; W</li>\t<li>Fits a rod up to 1.25&quot; diameter</li>\t<li>Imported</li></ul>', 'ROLLUP_TYPE_CODE': '4', 's_f_Product_Type': ['Window Panel (single)'], 'f_binProduct_Type': ['Window Panel'], 's_f_Pattern_Design': ['Geometric'], 's_f_Lifestyle_multi': ['Contemporary/Modern'], 'PERSONALIZATION_TYPE': ['N'], 'gbi_exp_product_type': ['window panel', 'panel', 'panels', 'window panels', 'curtain', 'curtains', 'window curtain', 'window curtains', 'window panel (single)', 'window panel (single)s', 'curtains & window', 'home decor', 'home decors', 'featured shops', 'clearance & savings', 'curtain panels', 'shop by price', 'shop all deals', 'college deals', 'teen & college curtains', 'under $40', 'curtains & window treatments', 'window curtains & drapes', 'light filtering curtains', 'home decor deals'], 'gbi_syn_product_type': ['curtains', 'window curtain', 'malta curtains', 'window panels', 'malta curtain', 'malta panel', 'malta panels', 'curtain', 'window curtains', 'window panel', 'window_panel_(single)', 'curtains_&_window', 'home_decor', 'featured_shops', 'clearance_&_savings', 'curtain_panels', 'shop_by_price', 'shop_all_deals', 'college_deals', 'teen_&_college_curtains', 'under_$40', 'curtains_&_window_treatments', 'window_curtains_&_drapes', 'light_filtering_curtains', 'home_decor_deals', 'panel', 'panels', 'bedroom curtains', 'drape', 'bedroom curtain', 'window curtain & drape', 'manhattan grommet tops', 'drapes', 'window curtain & drapes', 'manhattan grommet top', 'window_panel_(single)s', 'home_decors'], 's_f_Fabric_FiberType': ['52% Cotton/48% Polyester'], 's_f_Light_Filtration': ['Light Filtering'], 'MARKETPLACE_ITEM_FLAG': 'false', 'Soft_Textiles_Material': 'Cotton blend', 'ASSEMBLEDPRODUCTWIDTHIN': [], 'ASSEMBLEDPRODUCTHEIGHTIN': [], 'ASSEMBLEDPRODUCTLENGTHIN': [], 'gbi_product_type_affinity': ['Drapery Rod (Cafe)', 'Window Valance', 'Drapery Rod (Double)', 'Extension Rod', 'Holdback', 'Scarf Valance', 'Drapery Rod (Tension)', 'Finial', 'Drapery Rod (Single)', 'Tie Back'], 'ASSEMBLEDPRODUCTDIAMETERIN': [], 's_f_Soft_Textiles_Material': ['Cotton blend'], 's_f_Window_Items_Included_multi': ['1 Panel'], 's_f_Panel_Length_Rod_to_Bottom_in': ['84\" L', '63\" L', '95\" L', '108\" L'], 's_f_Window_Hanging_Length_Rod_to_bottom_in': ['84', '108', '63', '95'], 's_f_Soft_Textiles_Use_and_Care_Instructions': ['Machine washable']}   \n",
       "178345                                                                                                                                                                                                                                                                                                                                                                                                                                                                                                                                                                                                                                                                                                                                                                                                                                                                                                                                                                                                                                                                                                                                                                                                                                                                                                                                                                                                                                                                                                                                                                                                                                                                                                                                                                                                                                                                                                                                                                                                                                                                                                                                                                                                                                                                                                                                                                                                                                                                                                                                                                                                                                                                                                                                                                                                                                                                                                                                                                                                                                                                                                                                                                                                                                                                                                                                                    {'color': None, 'color_group': None, 'enable_date': '20160307', 'sku_attributes': None, 'swatch_image_id': None, 'long_description': '<UL> <LI>The clean lines and understated style of the Verso Window Treatments will add elegance to your room dcor</LI> <LI>Window panel features a 2-tone design with bold stripes on a crisp ivory ground</LI> <LI>Valance features a solid hue that complements the window curtain panel</LI> <LI>89% viscose/11% polyester</LI> <LI>Machine wash </LI> <LI>Hangs from a rod pocket</LI> <LI>Panels are sold individually and measure 50\" W </LI> <LI>Valance measures 50\" W x 18\" L</LI> <LI>Fits a rod up to 1.5\" diameter</LI> <LI>Imported</LI> <LI>Each window panel and valance are sold separately</LI></UL>', 'rollup_type_code': None, 'price_range_description': '29.99 - 49.99'}   \n",
       "178346                                                                                                                                                                                                                                                                                                                                                                                                                                                                                                                                                                                                                                                                                                                                                                                                                         {'TYPE': 'MSWP', 'COLOR': 'IVORY/NAVY', 'COLOR_s': ['IVORY/NAVY'], 'SKU_SIZE': '84\" panel', 'SKU_TYPE': ['1'], 'RecordType': 'Product', 'SKU_SIZE_s': ['84&quot; PANEL'], 'COLOR_GROUP': 'Ivory', 'DESCRIPTION': 'Create an elegant setting in your room with the clean lines and modern style of the Verso Rod Pocket Window Curtain Panel. Its 2-tone design features bold stripes over a crisp ivory ground that add color and dimension to your room décor. The clean lines and understated style of the Verso Rod Pocket Window Curtain Panel will add elegance to your room décor Features a 2-tone design with bold stripes on a crisp ivory ground 89% viscose/11% polyester Machine wash Hangs from a rod pocket Panels are sold individually and measure 50\" W Fits a rod up to 1.5\" diameter Imported Coordinate with the matching window curtain panels (sold separately)', 's_f_Made_In': ['Made in China'], 'COLORGROUP_s': ['Ivory'], 'VDC_SKU_TYPE': [], 'gbi_syn_size': ['84\"'], 'f_Product_Type': ['Window Panel (single)'], 'SERVICE_TYPE_CD': 'WINDOW_TREATMENTS', 'SKU_DESCRIPTION': ['Create an elegant setting in your room with the clean lines and modern style of the Verso Rod Pocket Window Curtain Panel. Its 2-tone design features bold stripes over a crisp ivory ground that add color and dimension to your room décor.'], 'Fabric_FiberType': 'Polyester blend', 'LONG_DESCRIPTION': '<UL> <LI>The clean lines and understated style of the Verso Rod Pocket Window Curtain Panel will add elegance to your room décor</LI> <LI>Features a 2-tone design with bold stripes on a crisp ivory ground</LI> <LI>89% viscose/11% polyester</LI> <LI>Machine wash </LI> <LI>Hangs from a rod pocket</LI> <LI>Panels are sold individually and measure 50\" W </LI> <LI>Fits a rod up to 1.5\" diameter</LI> <LI>Imported</LI> <LI>Coordinate with the matching window curtain panels (sold separately)</LI></UL>', 'ROLLUP_TYPE_CODE': '4', 's_f_Product_Type': ['Window Panel (single)'], 's_f_Window_Style': ['Modern'], 'f_binProduct_Type': ['Window Panel'], 'PERSONALIZATION_TYPE': ['N'], 'gbi_exp_product_type': ['window panel', 'panel', 'panels', 'window panels', 'curtain', 'curtains', 'window curtain', 'window curtains', 'window panel (single)', 'window panel (single)s', 'curtain panels', 'light filtering curtains'], 'gbi_syn_product_type': ['curtains', 'window curtain', 'malta curtains', 'window panels', 'malta curtain', 'malta panel', 'malta panels', 'curtain', 'window curtains', 'window panel', 'window_panel_(single)', 'curtain_panels', 'light_filtering_curtains', 'panel', 'panels', 'bedroom curtains', 'drape', 'bedroom curtain', 'window curtain & drape', 'manhattan grommet tops', 'drapes', 'window curtain & drapes', 'manhattan grommet top', 'window_panel_(single)s'], 's_f_Fabric_FiberType': ['Polyester blend'], 'MARKETPLACE_ITEM_FLAG': 'false', 'ASSEMBLEDPRODUCTWIDTHIN': [], 'ASSEMBLEDPRODUCTHEIGHTIN': [], 'ASSEMBLEDPRODUCTLENGTHIN': [], 'gbi_product_type_affinity': ['Drapery Rod (Cafe)', 'Window Valance', 'Drapery Rod (Double)', 'Extension Rod', 'Holdback', 'Scarf Valance', 'Drapery Rod (Tension)', 'Finial', 'Drapery Rod (Single)', 'Tie Back'], 'ASSEMBLEDPRODUCTDIAMETERIN': [], 's_f_Soft_Textiles_Use_and_Care_Instructions': ['Machine washable']}   \n",
       "178347                                                                                                                                                                                                                                                                                                                                                                                                                                                                                                                                                                                                                                                                                                                                                                                                                                                                                                                                                                                                                                                                                                                                                                                                                                                                                                                                                                                                                                                                                                                                                                                                                                                                                                                                                                                                                                                                                                                                                                                                                                                                                                                                                                                                                                                                                                                                                                                                                                                                                                                                                                                                                                                                                                                                                                                                                                                                                                                                                                                                                                                                                                                                                                                                                                                                                                                                                                                                                                                                                                                                         {'color': None, 'color_group': None, 'enable_date': '20160307', 'sku_attributes': None, 'swatch_image_id': None, 'long_description': '<UL> <LI>The understated style of the Verso Window Valance will add elegance to your room dcor</LI> <LI>Features a solid hue and clean, crisp lines</LI> <LI>89% viscose/11% polyester</LI> <LI>Machine wash </LI> <LI>Hangs from a rod pocket</LI> <LI>Valance measures 50\" W x 18\" L</LI> <LI>Fits a rod up to 1.5\" diameter</LI> <LI>Imported</LI> <LI>Coordinate with the matching window curtain panels (sold separately)</LI></UL>', 'rollup_type_code': '01', 'price_range_description': '29.99'}   \n",
       "\n",
       "                             one                         not_one  \n",
       "1       [52% cotton, 52% Cotton]  [48% polyester, 48% Polyester]  \n",
       "2       [52% cotton, 52% Cotton]  [48% polyester, 48% Polyester]  \n",
       "3       [52% cotton, 52% Cotton]  [48% polyester, 48% Polyester]  \n",
       "4       [52% cotton, 52% Cotton]  [48% polyester, 48% Polyester]  \n",
       "5       [52% cotton, 52% Cotton]  [48% polyester, 48% Polyester]  \n",
       "...                          ...                             ...  \n",
       "10989   [52% cotton, 52% Cotton]  [48% polyester, 48% Polyester]  \n",
       "10990   [52% cotton, 52% Cotton]  [48% polyester, 48% Polyester]  \n",
       "178345             [89% viscose]                 [11% polyester]  \n",
       "178346             [89% viscose]                 [11% polyester]  \n",
       "178347             [89% viscose]                 [11% polyester]  \n",
       "\n",
       "[6438 rows x 4 columns]"
      ]
     },
     "execution_count": 59,
     "metadata": {},
     "output_type": "execute_result"
    }
   ],
   "source": [
    "x[['external_id','custom_fields','one','not_one']]"
   ]
  },
  {
   "cell_type": "code",
   "execution_count": 34,
   "metadata": {},
   "outputs": [],
   "source": [
    "pat='''(?i)((?:\\d\\d\\d)[^\\d]{0,3}(?:cotton|polyester|spandex|acrylic|viscose|wool|Polypropylene|polyurethane|PU|Lyocell|jute|PVC)(?! face)(?! cover)(?! top)(?! machine)(?! \\(top))|()'''\n",
    "blend['one_hundred']=blend['matches'].apply(lambda x: re_extract(pat,str(x)))\n",
    "\n",
    "pat='''(?i)((?:[6-9][0-9]|5[1-9])[^\\d]{0,3}(?:cotton|polyester|spandex|acrylic|viscose|wool|Polypropylene|polyurethane|PU|Lyocell|jute|PVC)(?! face)(?! cover)(?! top)(?! machine)(?! \\(top))|()'''\n",
    "blend['one']=blend['matches'].apply(lambda x: re_extract(pat,str(x)))\n",
    "\n",
    "pat='''(?i)((?<!\\d)50[^\\d]{0,3}(?:cotton|polyester|spandex|acrylic|viscose|wool|Polypropylene|polyurethane|PU|Lyocell|jute|PVC))|()'''\n",
    "blend['fifty']=blend['matches'].apply(lambda x: re_extract(pat,str(x)))\n",
    "\n",
    "pat='''(?i)((?:(?<!\\d)[0-4]?[0-9])[^\\d]{0,3}(?:cotton|polyester|spandex|acrylic|viscose|wool|Polypropylene|polyurethane|PU|Lyocell|jute|PVC))|()'''\n",
    "blend['not_one']=blend['matches'].apply(lambda x: re_extract(pat,str(x)))"
   ]
  },
  {
   "cell_type": "code",
   "execution_count": 64,
   "metadata": {},
   "outputs": [
    {
     "name": "stdout",
     "output_type": "stream",
     "text": [
      "6\n",
      "6471\n",
      "226\n",
      "138\n"
     ]
    }
   ],
   "source": [
    "one_hundred=blend.loc[(blend['one_hundred'].astype(str)!='[]')&(blend['fifty'].astype(str)=='[]')&(blend['one'].astype(str)=='[]')]\n",
    "print(len(one_hundred))\n",
    "\n",
    "one=blend.loc[(blend['one'].astype(str)!='[]')&(blend['fifty'].astype(str)=='[]')]\n",
    "print(len(one))\n",
    "\n",
    "fifty=blend.loc[(blend['one'].astype(str)=='[]')&(blend['fifty'].astype(str)!='[]')&(blend['not_one'].astype(str)=='[]')]\n",
    "print(len(fifty))\n",
    "\n",
    "not_one=blend.loc[(blend['one'].astype(str)=='[]')&(blend['fifty'].astype(str)=='[]')&(blend['not_one'].astype(str)!='[]')]\n",
    "print(len(not_one))"
   ]
  },
  {
   "cell_type": "code",
   "execution_count": 82,
   "metadata": {},
   "outputs": [
    {
     "data": {
      "text/plain": [
       "[\"Polyester Blend\"]        2205\n",
       "[\"Cotton Blend\"]           1781\n",
       "[\"Polypropylene Blend\"]    1559\n",
       "[\"Viscose Blend\"]           592\n",
       "[\"Acrylic Blend\"]           116\n",
       "[\"Jute Blend\"]               60\n",
       "[\"PVC Blend\"]                25\n",
       "[\"Lyocell Blend\"]             4\n",
       "[\"Polyurethane Blend\"]        1\n",
       "Name: Q:material, dtype: int64"
      ]
     },
     "execution_count": 82,
     "metadata": {},
     "output_type": "execute_result"
    }
   ],
   "source": [
    "one['Q:material']=one['one'].apply(lambda x: re.sub(r\"'\",'\"',str(x))).apply(lambda x: re.sub(r\"\\d+\\%\\s?\",'',str(x))).apply(lambda x: x.title()).apply(lambda x: re.sub(r'\\, ',',',str(x))).apply(lambda x: remove_duplicates([n.strip() for n in ast.literal_eval(x)])).apply(lambda x: natsorted(x)).apply(lambda x: re.sub(r\"'\",'\"',str(x))).apply(lambda x: re.sub(r'\\, ',',',str(x)))#.apply(lambda x: re.sub(r'\\s?\"\\]',' Blend\"]',str(x)))\n",
    "ones=one[(one['Q:material'].astype(str)!='[\"Polyurethane\",\"Pu\"]')&(one['Q:material'].astype(str)!='[\"Polyester\",\"Pu\"]')&(one['Q:material'].astype(str)!='[\"Pu\"]')&(one['Q:material'].astype(str)!='[\"Cotton\",\"Cotton\"]')&(one['Q:material'].astype(str)!='[\"Polyester\",\"Viscose\"]')&(one['Q:material'].astype(str)!='[\"Polyester\",\"Polypropylene\"]')&(one['Q:material'].astype(str)!='[\"Cotton\",\"Polyester\"]')&(one['Q:material'].astype(str)!='[\"Acrylic\",\"Polyester\"]')]\n",
    "\n",
    "ones['Q:material']=ones['Q:material'].apply(lambda x: re.sub(r'Pvc','PVC',str(x))).apply(lambda x: re.sub(r'\\s?\"\\]',' Blend\"]',str(x)))\n",
    "\n",
    "ones['Q:material'].explode().value_counts()"
   ]
  },
  {
   "cell_type": "code",
   "execution_count": 83,
   "metadata": {},
   "outputs": [],
   "source": [
    "match_one=ones[['external_id','Q:material']]"
   ]
  },
  {
   "cell_type": "code",
   "execution_count": 84,
   "metadata": {},
   "outputs": [],
   "source": [
    "\n",
    "\n",
    "\n",
    "def get_df_name(df):\n",
    "    name =[x for x in globals() if globals()[x] is df][0]\n",
    "    return name\n",
    "def looks_good(customer, matches): \n",
    "    drive_path = f'G:/Shared drives/GroupBy Public/Customer Success/.Enrich/Platform Upload Trail/{customer}/_Ready For Upload' \n",
    "    matches.to_csv(f'{drive_path}/Bed Bath & Beyond --{get_df_name(matches)}-match_one{today}.csv',index=False) \n",
    "looks_good('Bed Bath & Beyond',match_one)"
   ]
  },
  {
   "cell_type": "code",
   "execution_count": null,
   "metadata": {},
   "outputs": [],
   "source": []
  },
  {
   "cell_type": "code",
   "execution_count": 26,
   "metadata": {},
   "outputs": [
    {
     "data": {
      "text/plain": [
       "Series([], Name: Q:material, dtype: int64)"
      ]
     },
     "execution_count": 26,
     "metadata": {},
     "output_type": "execute_result"
    }
   ],
   "source": [
    "pat='''(?i)(50.{0,3}(?:cotton|polyester|spandex|acrylic|viscose|wool|Polypropylene|polyurethane|PU|Lyocell|jute|PVC))|()'''\n",
    "fifty['Q:material']=fifty['matches'].apply(lambda x: re_extract(pat,str(x)))\n",
    "fifty['Q:material']=fifty['Q:material'].apply(lambda x: re.sub(r'50\\%\\s?','',str(x))).apply(lambda x: re.sub(r\"'\",'\"',str(x))).apply(lambda x: re.sub(r'\\s?\"\\,',' Blend\",',str(x))).apply(lambda x: re.sub(r'\\s?\"\\]',' Blend\"]',str(x))).apply(lambda x: x.title()).apply(lambda x: remove_duplicates([n.strip() for n in ast.literal_eval(x)])).apply(lambda x: natsorted(x)).apply(lambda x: re.sub(r\"\",'',str(x))).apply(lambda x: re.sub(r\"\\s?'\\s?\",'\"',str(x))).apply(lambda x: re.sub(r\"(?i)(pvc)\",'PVC',str(x)))                     \n",
    "fifty['Q:material'].explode().value_counts()"
   ]
  },
  {
   "cell_type": "code",
   "execution_count": 183,
   "metadata": {},
   "outputs": [],
   "source": [
    "match_material_fifty=fifty[['external_id','Q:material']]\n",
    "\n",
    "\n",
    "def get_df_name(df):\n",
    "    name =[x for x in globals() if globals()[x] is df][0]\n",
    "    return name\n",
    "def looks_good(customer, matches): \n",
    "    drive_path = f'G:/Shared drives/GroupBy Public/Customer Success/.Enrich/Platform Upload Trail/{customer}/_Ready For Upload' \n",
    "    matches.to_csv(f'{drive_path}/Bed Bath & Beyond --{get_df_name(matches)}-match_material_fifty{today}.csv',index=False) \n",
    "# looks_good('Bed Bath & Beyond',match_material_fifty)"
   ]
  },
  {
   "cell_type": "code",
   "execution_count": null,
   "metadata": {},
   "outputs": [],
   "source": []
  },
  {
   "cell_type": "code",
   "execution_count": 27,
   "metadata": {},
   "outputs": [
    {
     "data": {
      "text/plain": [
       "Pile height measures 1/10\"</li>     <li>45% cotton 40% polyester 15% polycotton pile            75\n",
       "oor use only Pile height measures 1/10\" 45% cotton 40% polyester 15% polycotton pile            75\n",
       "ugs', 'rug'], 's_f_Fabric_FiberType': ['45% Cotton/40% Polyester/15% Other'], 'MARKE            50\n",
       "ugs', 'rug'], 's_f_Fabric_FiberType': ['45% Cotton/40% Polyester/15% Other'], 's_f_b            30\n",
       "oom or bedroom.'], 'Fabric_FiberType': '45% Cotton/40% Polyester/15% Other', 'LONG_D            14\n",
       "ize': ['1 piece'], 'Fabric_FiberType': '38% Polypropylene/32% Polyester/30% Jute', 'LONG_DE      8\n",
       "oor use only Pile height measures 0.22\" 44% viscose/40% polyester/16% cotton Machine             8\n",
       "m coffee table.'], 'Fabric_FiberType': '45% Cotton/40% Polyester/15% Other', 'LONG_D             7\n",
       "ize': ['1 piece'], 'Fabric_FiberType': '44% Viscose/40% Polyester/16% Cotton', 'LONG_            6\n",
       "door use only Pile height measures 0.1\" 45% cotton/40% polyester/15% polycotton Mach             6\n",
       "ugs', 'rug'], 's_f_Fabric_FiberType': ['44% Viscose/40% Polyester/16% Cotton'], 'MARK            6\n",
       "able contoured footbed insole 25% suede/49% acrylic/12% wool/5% nylon/3% polyest                 6\n",
       "floor covering.'], 'Fabric_FiberType': '45% Cotton/40% Polyester/15% Other', 'LONG_D             6\n",
       "-low texture Pile height measures 0.32\" 27% polyester/ 44% polypropylene/28% jute/1% cotton      6\n",
       "ured footbed insole</li>\\t<li>25% suede/49% acrylic/12% wool/5% nylon/3% polyest                 6\n",
       "ugs', 'rug'], 's_f_Fabric_FiberType': ['38% Polypropylene/32% Polyester/30% Jute'], 'MARKET      6\n",
       " <LI>Pile height measures 0.1\"</LI> <LI>45% cotton/40% polyester/15% polycotton</LI>             6\n",
       "d recommended (not included) 45% olefin/45% polyester/10% jute Spot clean 1-year l               5\n",
       "le height measures 0.32&quot;</li>\\t<li>27% polyester/ 44% polypropylene/28% jute/1% cotton<     5\n",
       "ded (not included)</li>\\t<li>45% olefin/45% polyester/10% jute</li>\\t<li>Spot clea               5\n",
       "ile height measures 0.22\" </li>     <li>44% viscose/40% polyester/16% cotton </li>               4\n",
       "ugs', 'rug'], 's_f_Fabric_FiberType': ['45% Viscose/35% Polyester/20% Cotton'], 's_f_            4\n",
       "assic area rug.'], 'Fabric_FiberType': '45% Cotton/40% Polyester/15% Other', 'LONG_D             4\n",
       "apes and sizes.'], 'Fabric_FiberType': '45% Cotton/40% Polyester/15% Other', 'LONG_D             4\n",
       "om makeover in minutes Denim blue color 25% polyester/45% viscose/30% cotton Spot cle            3\n",
       "-low texture Pile height measures 0.32\" 27% polyester/44% polypropylene/28% jute/1% cotton       3\n",
       "oor use only Pile height measures 1/10\" 45% viscose/35% polyester/15% cotton/5% latex            3\n",
       "<LI>Pile height measures 1/10\"</LI> <LI>45% viscose/35% polyester/15% cotton/5% latex            3\n",
       "le height measures 0.32&quot;</li>\\t<li>27% polyester/44% polypropylene/28% jute/1% cotton<      3\n",
       "rity of design.'], 'Fabric_FiberType': '45% Cotton/40% Polyester/15% Other', 'LONG_D             3\n",
       "inutes</li><li>Denim blue color</li><li>25% polyester/45% viscose/30% cotton</li><li>            3\n",
       "ize': ['1 piece'], 'Fabric_FiberType': '45% Cotton/40% Polyester/15% Other', 'LONG_D             3\n",
       "ugs', 'rug'], 's_f_Fabric_FiberType': ['44% Viscose/40% Polyester/16% Cotton'], 's_f_            2\n",
       "ugs', 'rug'], 's_f_Fabric_FiberType': ['44% Polyester/28% Jute/28% Other'], 'MARKE               2\n",
       "\" D x 10.25\" W x 16.5\" H Weighs 1.9 lb. 40% polyester/40% PVC/20% polyethylene Wi                2\n",
       "h-low texture Pile height measures 1/3\" 27% polyester/ 44% polypropylene/28% jute/1% cotton      2\n",
       "Pile height measures 1/10\"</li>     <li>45% viscose 35% polyester 15% cotton 5% latex            2\n",
       "s a faux deer skin fabric. <LI>Face is 46% acrylic/31% modacrylic/23% polyester, with            2\n",
       "t; H</li>\\t<li>Weighs 1.9 lb.</li>\\t<li>40% polyester/40% PVC/20% polyethylene</l                2\n",
       "ize': ['1 piece'], 'Fabric_FiberType': '44% Polyester/28% Jute/28% Other', 'LONG_D               2\n",
       "LI>Pile height measures 0.22\" </LI> <LI>44% viscose/40% polyester/16% cotton </LI> <L            2\n",
       "ugs', 'rug'], 's_f_Fabric_FiberType': ['38% Polypropylene/32% Polyester/30% Jute'], 'ASSEMB      2\n",
       "r the any room.'], 'Fabric_FiberType': '45% Cotton/40% Polyester/15% Other', 'LONG_D             2\n",
       "tures a faux deer skin fabric. Face is 46% acrylic/31% modacrylic/23% polyester, with            2\n",
       " look to Lydia.'], 'Fabric_FiberType': '45% Cotton/40% Polyester/15% Other', 'LONG_D             2\n",
       "ile height measures 0.22\" </li>     <li>44% viscose/40% polyester/16% cotton</li>                2\n",
       "pattern Appropriate for indoor use only 27% polypropylene/28% jute/44% polyester/1% co           2\n",
       "ugs', 'rug'], 's_f_Fabric_FiberType': ['38% Polypropylene/32% Polyester/30% Jute', '100% Po      2\n",
       "riate for indoor use only </li>     <li>27% polypropylene/28% jute/44% polyester/1% co           2\n",
       "quoise color Pile height measures 1/10\" 45% viscose 35% polyester 15% cotton 5% latex            2\n",
       "ccessories'], 's_f_Fabric_FiberType': ['45% Polyester/30% Cotton/25% Acrylic'], 'MAR             2\n",
       "ook of Ophelia.'], 'Fabric_FiberType': '45% Cotton/40% Polyester/15% Other', 'LONG_D             1\n",
       "ete their look.'], 'Fabric_FiberType': '45% Polyester/35% Acrylic/20% Viscose', 'LONG            1\n",
       "sure Square shape 100% polyester (top); 49% polyester/47% cotton/4% other reverse 10             1\n",
       "re  <LI>Pile height measures 0.32\"  <LI>27% polyester/ 44% polypropylene/28% jute/1% cotton      1\n",
       "bellished with a ruffled trim </LI> <LI>45% polyester/30% cotton/25% acrylic</LI> <L             1\n",
       " design Embellished with a ruffled trim 45% polyester/30% cotton/25% acrylic Dry cle             1\n",
       "ure  <LI>Pile height measures 1/3\"  <LI>27% polyester/ 44% polypropylene/28% jute/1% cotton      1\n",
       "', 'pillow'], 's_f_Fabric_FiberType': ['46% Polyester/44% Cotton/10% Nylon'], 's_f_b             1\n",
       "DTHIN': [], 'Reversible_Fabric_Fiber': '49% Polyester/47% Cotton/4% Other', 's_f_Emb             1\n",
       ">Embellished with fringe trim </LI> <LI>45% polyester/30% cotton/25% acrylic</LI> <L             1\n",
       "ester/45% Olefin/10% Jute', '45% Olefin/45% Polyester/10% Jute', '100% Synthetic M               1\n",
       "ize': ['1 piece'], 'Fabric_FiberType': '45% Viscose/35% Polyester/20% Cotton', 'LONG_            1\n",
       ": ['18.0'], 'Reversible_Fabric_Fiber': '49% Polyester/47% Cotton/4% Other', 'ASSEMBL             1\n",
       "ugs', 'rug'], 's_f_Fabric_FiberType': ['45% Polypropylene/48% Jute/7% Polyester'], 's_           1\n",
       " L x 3.9\" W x 54.3\" H Assembly required 25% polyester, 45% viscose, 30% cotton Spot cl           1\n",
       "oor use only Pile height measures 0.35\" 45% polypropylene; 48% jute/7% polyester Machin          1\n",
       " 'area_rug'], 's_f_Fabric_FiberType': ['45% Cotton/40% Polyester/15% Other'], 'MARKE             1\n",
       "on the reverse.'], 'Fabric_FiberType': '45% Polyester/30% Cotton/25% Acrylic', 'LONG             1\n",
       "nd vivid color.'], 'Fabric_FiberType': '45% Cotton/40% Polyester/15% Other', 'LONG_D             1\n",
       "are pillow</li><li>100% polyester face; 49% polyester/47% cotton/4% linen reverse</l             1\n",
       "ape</li>\\t<li>Dark grey/ivory</li>\\t<li>46% polyester/44% cotton/10% nylon</li>\\t<li             1\n",
       "ck Red color Measures 10\" W Tie closure 45% polyester/35% acrylic/20% viscose Hand wa            1\n",
       ": ['18.0'], 'Reversible_Fabric_Fiber': '49% Polyester/47% Cotton/4% Linen', 's_f_Emb             1\n",
       "close cut pile.'], 'Fabric_FiberType': '45% Cotton/40% Polyester/15% Other', 'LONG_D             1\n",
       "quot; W</li>\\t<li>Tie closure</li>\\t<li>45% polyester/35% acrylic/20% viscose</li>\\t<            1\n",
       " body. Cream tones 100% polyester face; 49% polyester/47% cotton/4% other reverse 10             1\n",
       "ue stripes Embellished with fringe trim 45% polyester/30% cotton/25% acrylic Dry cle             1\n",
       "ile height measures 1/3&quot;</li>\\t<li>27% polyester/ 44% polypropylene/28% jute/1% cotton<     1\n",
       " ['Cotton Blend'], 'Fabric_FiberType': '45% Cotton/40% Polyester/15% Other', 'LONG_D             1\n",
       " 'rug_pads'], 's_f_Fabric_FiberType': ['45% Viscose/35% Polyester/20% Cotton', '100%             1\n",
       "hite Square pillow 100% polyester face; 49% polyester/47% cotton/4% linen reverse Do             1\n",
       "nd_leashes'], 's_f_Fabric_FiberType': ['45% Polyester/35% Acrylic/20% Viscose'], 'MAR            1\n",
       "ach corner Square shape Dark grey/ivory 46% polyester/44% cotton/10% nylon 100% poly             1\n",
       "ream tones</li><li>100% polyester face; 49% polyester/47% cotton/4% other reverse</l             1\n",
       " 'rug_pads'], 's_f_Fabric_FiberType': ['38% Polypropylene/32% Polyester/30% Jute', '100% Sy      1\n",
       "are shape</li><li>100% polyester (top); 49% polyester/47% cotton/4% other reverse</l             1\n",
       "omantic finish.'], 'Fabric_FiberType': '45% Polyester/30% Cotton/25% Acrylic', 'LONG             1\n",
       "\" H</LI> <LI>Assembly required</LI> <LI>25% polyester, 45% viscose, 30% cotton</LI> <L           1\n",
       "<LI>Pile height measures 0.35\"</LI> <LI>45% polypropylene; 48% jute/7% polyester</LI> <          1\n",
       "Name: matches, dtype: int64"
      ]
     },
     "execution_count": 27,
     "metadata": {},
     "output_type": "execute_result"
    }
   ],
   "source": [
    "not_one['matches'].explode().value_counts()[0:500]"
   ]
  },
  {
   "cell_type": "code",
   "execution_count": null,
   "metadata": {},
   "outputs": [],
   "source": []
  },
  {
   "cell_type": "code",
   "execution_count": null,
   "metadata": {},
   "outputs": [],
   "source": []
  },
  {
   "cell_type": "code",
   "execution_count": null,
   "metadata": {},
   "outputs": [],
   "source": []
  },
  {
   "cell_type": "code",
   "execution_count": null,
   "metadata": {},
   "outputs": [],
   "source": []
  },
  {
   "cell_type": "code",
   "execution_count": null,
   "metadata": {},
   "outputs": [],
   "source": []
  },
  {
   "cell_type": "code",
   "execution_count": null,
   "metadata": {},
   "outputs": [],
   "source": []
  },
  {
   "cell_type": "code",
   "execution_count": null,
   "metadata": {},
   "outputs": [],
   "source": []
  },
  {
   "cell_type": "code",
   "execution_count": null,
   "metadata": {},
   "outputs": [],
   "source": []
  },
  {
   "cell_type": "code",
   "execution_count": null,
   "metadata": {},
   "outputs": [],
   "source": []
  },
  {
   "cell_type": "code",
   "execution_count": 9,
   "metadata": {},
   "outputs": [],
   "source": [
    "# capacity_qt=import_one_att('capacity_qt')\n",
    "# print(len(capacity_qt))"
   ]
  },
  {
   "cell_type": "code",
   "execution_count": 12,
   "metadata": {},
   "outputs": [],
   "source": [
    "# capacity_oz=import_one_att('capacity_oz')\n",
    "# print(len(capacity_oz))"
   ]
  },
  {
   "cell_type": "code",
   "execution_count": 11,
   "metadata": {},
   "outputs": [],
   "source": [
    "# capacity_oz['value'].explode().value_counts()"
   ]
  },
  {
   "cell_type": "code",
   "execution_count": 14,
   "metadata": {},
   "outputs": [],
   "source": [
    "# volume_oz=import_one_att('volume_oz')\n",
    "# print(len(volume_oz))"
   ]
  },
  {
   "cell_type": "code",
   "execution_count": 15,
   "metadata": {},
   "outputs": [],
   "source": [
    "# volume_oz['value'].explode().value_counts()"
   ]
  },
  {
   "cell_type": "code",
   "execution_count": null,
   "metadata": {},
   "outputs": [],
   "source": [
    "pat='''((?:[0-5]) \\- (?:0\\.9|1\\.9|2\\.9|3\\.9|4\\.9) C\\.?)|((?:48|40|80) oz\\.? (?:or|and) Greater)'''"
   ]
  },
  {
   "cell_type": "code",
   "execution_count": 17,
   "metadata": {},
   "outputs": [
    {
     "name": "stdout",
     "output_type": "stream",
     "text": [
      "69811\n"
     ]
    }
   ],
   "source": [
    "capacity_c=import_one_att('capacity_c')\n",
    "print(len(capacity_c))"
   ]
  },
  {
   "cell_type": "code",
   "execution_count": 43,
   "metadata": {},
   "outputs": [],
   "source": [
    "# capacity_c['value'].explode().value_counts()"
   ]
  },
  {
   "cell_type": "code",
   "execution_count": null,
   "metadata": {},
   "outputs": [],
   "source": []
  },
  {
   "cell_type": "code",
   "execution_count": null,
   "metadata": {},
   "outputs": [],
   "source": []
  },
  {
   "cell_type": "code",
   "execution_count": null,
   "metadata": {},
   "outputs": [],
   "source": []
  },
  {
   "cell_type": "code",
   "execution_count": null,
   "metadata": {},
   "outputs": [],
   "source": []
  },
  {
   "cell_type": "code",
   "execution_count": null,
   "metadata": {},
   "outputs": [],
   "source": []
  },
  {
   "cell_type": "code",
   "execution_count": 18,
   "metadata": {},
   "outputs": [
    {
     "name": "stdout",
     "output_type": "stream",
     "text": [
      "60\n"
     ]
    }
   ],
   "source": [
    "capacity_ml=import_one_att('capacity_ml')\n",
    "print(len(capacity_ml))"
   ]
  },
  {
   "cell_type": "code",
   "execution_count": 25,
   "metadata": {},
   "outputs": [
    {
     "data": {
      "text/plain": [
       "0 - 1000 ml    38\n",
       "n/a            22\n",
       "Name: value, dtype: int64"
      ]
     },
     "execution_count": 25,
     "metadata": {},
     "output_type": "execute_result"
    }
   ],
   "source": [
    "capacity_ml['value'].explode().value_counts()"
   ]
  },
  {
   "cell_type": "code",
   "execution_count": null,
   "metadata": {},
   "outputs": [],
   "source": [
    "pat='''((?:0|10|1|20|2|30|3|40|4|5) \\- (?:0\\.9|19\\.9|1\\.9|29\\.9|2\\.9|39\\.9|3\\.9|4\\.9|9\\.9) L\\.?)|((?:40) L\\.? (?:or|and) Greater)'''"
   ]
  },
  {
   "cell_type": "code",
   "execution_count": 23,
   "metadata": {},
   "outputs": [
    {
     "name": "stdout",
     "output_type": "stream",
     "text": [
      "72761\n"
     ]
    }
   ],
   "source": [
    "capacity_l=import_one_att('capacity_l')\n",
    "print(len(capacity_l))"
   ]
  },
  {
   "cell_type": "code",
   "execution_count": 44,
   "metadata": {},
   "outputs": [],
   "source": [
    "# capacity_l['value'].explode().value_counts()"
   ]
  },
  {
   "cell_type": "code",
   "execution_count": null,
   "metadata": {},
   "outputs": [],
   "source": []
  },
  {
   "cell_type": "code",
   "execution_count": 19,
   "metadata": {},
   "outputs": [
    {
     "name": "stdout",
     "output_type": "stream",
     "text": [
      "78171\n"
     ]
    }
   ],
   "source": [
    "capacity_oz=import_one_att('capacity_oz')\n",
    "print(len(capacity_oz))"
   ]
  },
  {
   "cell_type": "code",
   "execution_count": 30,
   "metadata": {},
   "outputs": [],
   "source": [
    "# capacity_oz['value'].explode().value_counts()"
   ]
  },
  {
   "cell_type": "code",
   "execution_count": null,
   "metadata": {},
   "outputs": [],
   "source": [
    "pat='''((?:0|0\\.26|0\\.51|0\\.76|1\\.1|1\\.6|16|2\\.1|2\\.6|32|8)\\s?\\-\\s?(?:0\\.25|15\\.9|0\\.5|0\\.75|1\\.0|1\\.5|2\\.0|31\\.9|2\\.5|3\\.0|49\\.9|15\\.9|7\\.9|47\\.9) oz\\.?)|((?:48) oz\\.? (?:or|and) Greater)|(Greater than (?:3\\.0) oz.?)'''"
   ]
  },
  {
   "cell_type": "code",
   "execution_count": 20,
   "metadata": {},
   "outputs": [
    {
     "name": "stdout",
     "output_type": "stream",
     "text": [
      "21352\n"
     ]
    }
   ],
   "source": [
    "volume=import_one_att('volume')\n",
    "print(len(volume))"
   ]
  },
  {
   "cell_type": "code",
   "execution_count": 45,
   "metadata": {},
   "outputs": [],
   "source": [
    "# volume['value'].explode().value_counts()"
   ]
  },
  {
   "cell_type": "code",
   "execution_count": 36,
   "metadata": {},
   "outputs": [],
   "source": [
    "pat='''((?:lb|V|15\\.8))'''                 \n",
    "vol=filters(volume,pat)"
   ]
  },
  {
   "cell_type": "code",
   "execution_count": 37,
   "metadata": {},
   "outputs": [
    {
     "data": {
      "text/plain": [
       "8    20\n",
       ".    20\n",
       "1    20\n",
       "5    20\n",
       "V     7\n",
       "l     6\n",
       "b     6\n",
       "Name: match, dtype: int64"
      ]
     },
     "execution_count": 37,
     "metadata": {},
     "output_type": "execute_result"
    }
   ],
   "source": [
    "vol['match'].explode().value_counts()"
   ]
  },
  {
   "cell_type": "code",
   "execution_count": 38,
   "metadata": {},
   "outputs": [],
   "source": [
    "vol['Q:volume']=''\n",
    "match_volume=vol[['external_id','Q:volume']]"
   ]
  },
  {
   "cell_type": "code",
   "execution_count": 39,
   "metadata": {},
   "outputs": [],
   "source": [
    "def get_df_name(df):\n",
    "    name =[x for x in globals() if globals()[x] is df][0]\n",
    "    return name\n",
    "def looks_good(customer, matches): \n",
    "    drive_path = f'G:/Shared drives/GroupBy Public/Customer Success/.Enrich/Platform Upload Trail/{customer}/_Ready For Upload' \n",
    "    matches.to_csv(f'{drive_path}/Bed Bath & Beyond --{get_df_name(matches)}-match_volume{today}.csv',index=False) \n",
    "# looks_good('Bed Bath & Beyond',match_volume)"
   ]
  },
  {
   "cell_type": "code",
   "execution_count": null,
   "metadata": {},
   "outputs": [],
   "source": []
  },
  {
   "cell_type": "code",
   "execution_count": 21,
   "metadata": {},
   "outputs": [
    {
     "name": "stdout",
     "output_type": "stream",
     "text": [
      "23\n"
     ]
    }
   ],
   "source": [
    "volume_l=import_one_att('volume_l')\n",
    "print(len(volume_l))"
   ]
  },
  {
   "cell_type": "code",
   "execution_count": 40,
   "metadata": {},
   "outputs": [
    {
     "data": {
      "text/plain": [
       "n/a            22\n",
       "20 - 29.9 L     1\n",
       "Name: value, dtype: int64"
      ]
     },
     "execution_count": 40,
     "metadata": {},
     "output_type": "execute_result"
    }
   ],
   "source": [
    "volume_l['value'].explode().value_counts()"
   ]
  },
  {
   "cell_type": "code",
   "execution_count": null,
   "metadata": {},
   "outputs": [],
   "source": []
  },
  {
   "cell_type": "code",
   "execution_count": 41,
   "metadata": {},
   "outputs": [
    {
     "name": "stdout",
     "output_type": "stream",
     "text": [
      "224\n"
     ]
    }
   ],
   "source": [
    "volume_lb=import_one_att('volume_lb')\n",
    "print(len(volume_lb))"
   ]
  },
  {
   "cell_type": "code",
   "execution_count": 42,
   "metadata": {},
   "outputs": [
    {
     "data": {
      "text/plain": [
       "n/a                 61\n",
       "20 lb or Greater    52\n",
       "5 - 9.9 lb          50\n",
       "0 - 4.9 lb          34\n",
       "10 - 14.9 lb        23\n",
       "15 - 19.9 lb         4\n",
       "Name: value, dtype: int64"
      ]
     },
     "execution_count": 42,
     "metadata": {},
     "output_type": "execute_result"
    }
   ],
   "source": [
    "volume_lb['value'].explode().value_counts()"
   ]
  },
  {
   "cell_type": "code",
   "execution_count": null,
   "metadata": {},
   "outputs": [],
   "source": []
  },
  {
   "cell_type": "code",
   "execution_count": null,
   "metadata": {},
   "outputs": [],
   "source": []
  },
  {
   "cell_type": "code",
   "execution_count": null,
   "metadata": {},
   "outputs": [],
   "source": []
  },
  {
   "cell_type": "code",
   "execution_count": null,
   "metadata": {},
   "outputs": [],
   "source": []
  },
  {
   "cell_type": "code",
   "execution_count": null,
   "metadata": {},
   "outputs": [],
   "source": []
  },
  {
   "cell_type": "code",
   "execution_count": null,
   "metadata": {},
   "outputs": [],
   "source": []
  },
  {
   "cell_type": "code",
   "execution_count": null,
   "metadata": {},
   "outputs": [],
   "source": []
  },
  {
   "cell_type": "code",
   "execution_count": null,
   "metadata": {},
   "outputs": [],
   "source": []
  },
  {
   "cell_type": "code",
   "execution_count": null,
   "metadata": {},
   "outputs": [],
   "source": []
  },
  {
   "cell_type": "code",
   "execution_count": null,
   "metadata": {},
   "outputs": [],
   "source": []
  },
  {
   "cell_type": "code",
   "execution_count": null,
   "metadata": {},
   "outputs": [],
   "source": []
  },
  {
   "cell_type": "code",
   "execution_count": null,
   "metadata": {},
   "outputs": [],
   "source": []
  },
  {
   "cell_type": "code",
   "execution_count": null,
   "metadata": {},
   "outputs": [],
   "source": []
  },
  {
   "cell_type": "code",
   "execution_count": null,
   "metadata": {},
   "outputs": [],
   "source": []
  },
  {
   "cell_type": "code",
   "execution_count": null,
   "metadata": {},
   "outputs": [],
   "source": []
  },
  {
   "cell_type": "code",
   "execution_count": null,
   "metadata": {},
   "outputs": [],
   "source": []
  },
  {
   "cell_type": "code",
   "execution_count": null,
   "metadata": {},
   "outputs": [],
   "source": []
  },
  {
   "cell_type": "code",
   "execution_count": 4,
   "metadata": {},
   "outputs": [],
   "source": [
    "def import_one_att_custom(attribut):\n",
    "    customer_id = '5'\n",
    "    customer_name='%bedbathandbeyond%'\n",
    "    dateszs='2001-08-11'\n",
    "#     attribut='arm_style'\n",
    "\n",
    "\n",
    "    params = {'customer_id': customer_id,\n",
    "              'customer_name':customer_name,\n",
    "             'dateszs':dateszs,\n",
    "             'attribute':attribut}\n",
    "#     print('start')\n",
    "    dfs = query_from_file(file_name='../query/curated_all_attributes_date_one_attribute.sql', params=params)\n",
    "#     print('continuing')\n",
    "    # dfs=dfs[dfs['resolution'].astype(str)!='rules']\n",
    "    # print('dfs')\n",
    "    # dfz=dfs[dfs['custom_fields'].astype(str)!='None']\n",
    "    # dfz=dfz[dfz['buckets'].astype(str)=='Conduit Fittings, Replacement Parts, & Accessories']\n",
    "#     print('customs')\n",
    "    custom_field_df=pd.json_normalize(dfs['custom_fields'])\n",
    "#     df=pd.concat([dfs.drop('custom_fields', axis=1), custom_field_df], axis = 1)\n",
    "    return dfs"
   ]
  },
  {
   "cell_type": "markdown",
   "metadata": {},
   "source": [
    "#### Done"
   ]
  },
  {
   "cell_type": "code",
   "execution_count": 5,
   "metadata": {},
   "outputs": [],
   "source": [
    "df=import_one_att_custom('toy_age_range')"
   ]
  },
  {
   "cell_type": "code",
   "execution_count": 6,
   "metadata": {},
   "outputs": [
    {
     "data": {
      "text/plain": [
       "n/a                                                          7652\n",
       "3+ Years                                                     2743\n",
       "[\"1 - 3 Years\",\"3+ Years\"]                                    982\n",
       "[\"0 - 6 Months\",\"1 - 3 Years\",\"3+ Years\",\"6 - 12 Months\"]     678\n",
       "[\"0 - 6 Months\",\"1 - 3 Years\",\"6 - 12 Months\"]                279\n",
       "[\"1 - 3 Years\",\"6 - 12 Months\"]                                84\n",
       "1 - 3 Years                                                    41\n",
       "[\"1 - 3 Years\",\"3+ Years\",\"6 - 12 Months\"]                     22\n",
       "[\"0 - 6 Months\",\"6 - 12 Months\"]                               11\n",
       "0 - 6 Months                                                    6\n",
       "6 - 12 Months                                                   1\n",
       "Name: value, dtype: int64"
      ]
     },
     "execution_count": 6,
     "metadata": {},
     "output_type": "execute_result"
    }
   ],
   "source": [
    "df['value'].explode().value_counts()"
   ]
  },
  {
   "cell_type": "code",
   "execution_count": 86,
   "metadata": {},
   "outputs": [
    {
     "name": "stdout",
     "output_type": "stream",
     "text": [
      "2811\n"
     ]
    }
   ],
   "source": [
    "pat='''(?i)((?<=Age_Requirements_Appropriateness'\\: )'.{0,30}(?='\\, '))|((?<=Age_Requirements_Appropriateness'\\: )'.{0,30}(?=\\}))|()'''\n",
    "df['match']=df['custom_fields'].apply(lambda x: re_extract(pat, str(x)))\n",
    "age=df.loc[df['match'].astype(str)!='[]']\n",
    "print(len(age))"
   ]
  },
  {
   "cell_type": "markdown",
   "metadata": {},
   "source": [
    "# Custom Fields"
   ]
  },
  {
   "cell_type": "code",
   "execution_count": 96,
   "metadata": {},
   "outputs": [],
   "source": [
    "age['matches']=age['match'].apply(lambda x: re.sub(r'(?i)((?<!\\- )(?<!\")(?<!to )(?<!\\.)(?<!\\d)(?:all ages|Birth to (?:(?:\\d{2,5}|[3-9]) years|\\d\\d\\d+ months|3[7-9] months|[4-9][0-9] months)|[0-6] months? and up|(?:0?[1-6] months?|0\\.[0-5] years?) to (?<!\\d)(?:[4-9] years|\\d\\d years|(?:\\d\\d\\d+ months|\\d\\d\\d+ years|[4-9]\\d+|(?:3[6-9]) months|[4-9]\\d months|\\d\\d\\d months))))','''0 - 6 Months\",\"6 - 12 Months\",\"1 - 3 Years\",\"3+ Years''',str(x)))                  \n",
    "age['matches']=age['matches'].apply(lambda x: re.sub(r'''(?i)((?<!\\- )(?<!\")(?<!\\d)(?<!\\.)(?<!to )(?:(?:Birth|[0-6] months?) to (?:(?:1[0-8]|2[0-9]|3[0-6]) Months|[1-3] years?|1\\.5 years?)))''','''0 - 6 Months\",\"6 - 12 Months\",\"1 - 3 Years\"''',str(x)))\n",
    "age['matches']=age['matches'].apply(lambda x: re.sub(r'''(?i)((?<!\\- )(?<!\")(?<!\\d)(?<!\\.)(?<!to )(?:(?:birth) to (?:[6-9] months|1[0-2] months|1 year)|0?[0-6] months? to (?:[0-9]|1[0-2]) months))''','''0 - 6 Months\",\"6 - 12 Months''',str(x)))\n",
    "\n",
    "\n",
    "age['matches']=age['matches'].apply(lambda x: re.sub(r'''(?i)((?<!\\- )(?<!\")(?<!\\d)(?<!\\.)(?<!to )(?:(?:[1-3] years?|3[0-6] months|2[0-9] months|1[2-9] months) to (?:[3-9] years?|\\d\\d+ years|[1-3] years and up|\\d\\d\\d+ months|3[7-9] months|[4-9][0-9] months)))|(1\\.3\\+ years)|((?<!\\d)(?<!\\.)(?<!to )1\\.[0-9] years (?:and up|to (?:[3-9] years?|\\d\\d+ years|[1-3] years and up|\\d\\d\\d+ months|3[7-9] months|[4-9][0-9] months)))|((?<!\\- )(?<!\\d)(?<!\\.)(?<!to )[1-2] years and up)''','''1 - 3 Years\",\"3+ Years''',str(x)))\n",
    "\n",
    "\n",
    "\n",
    "\n",
    "\n",
    "age['matches']=age['matches'].apply(lambda x: re.sub(r'''(?i)((?<!\\- )(?<!\")(?<!\\d)(?<!\\.)(?<!to )(?:(?:[6-9] months|1[0-2] months) to (?:\\d\\d+ years|[4-9] years|(?:3[7-9]|4[0-9]|5[0-9]|6[0-9]|7[0-9]|8[0-9]|9[0-9]) months|\\d\\d\\d+ months)|(?:[6-9]|1[0-2]) months and up))''','''6 - 12 Months\",\"1 - 3 Years\",\"3+ Years''',str(x)))\n",
    "age['matches']=age['matches'].apply(lambda x: re.sub(r'''(?i)((?<!\\- )(?<!\")(?<!\\d)(?<!\\.)(?<!to )(?:(?:[6-9] months|1[0-2] months|1 years?) to (?:1[3-9] months|2[0-9] months|3[0-6] months|[1-3] years?)|(?:[6-9] months|1[0-2] months|1 years?) to (?:1[3-9] months|3[0-6] months|2[0-9] months|[1-3] years?)))''','''6 - 12 Months\",\"1 - 3 Years''',str(x)))\n",
    "\n",
    "\n",
    "\n",
    "\n",
    "\n",
    "\n",
    "\n",
    "\n",
    "\n",
    "\n",
    "age['matches']=age['matches'].apply(lambda x: re.sub(r'''(?i)((?<!\\- )(?<!\")(?<!\\d)(?<!to )(?<!\\.)(?:(?:[0-6] months?|birth) to (?:[0-6] months?)))''','''0 - 6 Months''',str(x)))\n",
    "age['matches']=age['matches'].apply(lambda x: re.sub(r'''(?i)((?<!\\- )(?<!\")(?<!\\d)(?<!\\.)(?<!to )(?:(?:[6-9] months|1[0-2] months) to (?:[6-9] months|1[0-2] months)))''','''6 - 12 Months''',str(x)))\n",
    "age['matches']=age['matches'].apply(lambda x: re.sub(r'''(?i)((?<!\\- )(?<!\")(?<!\\d)(?<!\\.)(?<!to )(?:(?:1[2-9] months|2[0-9] months|3[0-6] months|[1-3]years?) to (?:1[2-9] months|2[0-9] months|3[0-6] months|[1-3] years?)|3 years|12 months)(?! to)(?! and up))''','''1 - 3 Years''',str(x)))\n",
    "age['matches']=age['matches'].apply(lambda x: re.sub(r'(?i)((?<!\\- )(?<!\")(?<!\\d)(?<!\\.)(?<!to )(?:(?:[3-9] years|\\d\\d+ years|3[6-9] months|[4-9][0-9] months|\\d\\d\\d months) and up|(?:[3-9] years|\\d\\d years|3[6-9] months|[4-9][0-9] months) to (?:\\d+ years|[3-9] years|\\d\\d years|3[7-9] months|[4-9][0-9] months| and up|[6-9]\\d+ months|\\d\\d+ months)))','3+ Years',str(x)))\n",
    "\n",
    "\n",
    "\n",
    "\n",
    "\n",
    "\n",
    "\n",
    "\n",
    "\n",
    "\n",
    "\n",
    "age['matches']=age['matches'].apply(lambda x: re.sub(r'''(\"')|(\"\")|('\")''','\"',str(x))).apply(lambda x: re.sub(r'''(\"\")''','\"',str(x))).apply(lambda x: re.sub(r'''(?i)(Years months)''','Years',str(x)))\n",
    "\n",
    "# .apply(lambda x: re.sub(r'''(?i)''','',str(x)))"
   ]
  },
  {
   "cell_type": "code",
   "execution_count": 97,
   "metadata": {},
   "outputs": [
    {
     "data": {
      "text/plain": [
       "[\"1 - 3 Years\",\"3+ Years\"]                                   946\n",
       "[\"3+ Years\"]                                                 764\n",
       "[\"0 - 6 Months\",\"6 - 12 Months\",\"1 - 3 Years\",\"3+ Years\"]    675\n",
       "[\"0 - 6 Months\",\"6 - 12 Months\",\"1 - 3 Years\"]               273\n",
       "[\"6 - 12 Months\",\"1 - 3 Years\"]                               84\n",
       "[\"1 - 3 Years\"]                                               30\n",
       "[\"6 - 12 Months\",\"1 - 3 Years\",\"3+ Years\"]                    22\n",
       "[\"0 - 6 Months\",\"6 - 12 Months\"]                              11\n",
       "[\"0 - 6 Months\"]                                               6\n",
       "Name: matches, dtype: int64"
      ]
     },
     "execution_count": 97,
     "metadata": {},
     "output_type": "execute_result"
    }
   ],
   "source": [
    "age['matches'].explode().value_counts()"
   ]
  },
  {
   "cell_type": "code",
   "execution_count": 98,
   "metadata": {},
   "outputs": [],
   "source": [
    "age['Q:toy_age_range']=age['matches']\n",
    "match_toy_age=age[['external_id','Q:toy_age_range']]"
   ]
  },
  {
   "cell_type": "code",
   "execution_count": 99,
   "metadata": {},
   "outputs": [],
   "source": [
    "def get_df_name(df):\n",
    "    name =[x for x in globals() if globals()[x] is df][0]\n",
    "    return name\n",
    "def looks_good(customer, matches): \n",
    "    drive_path = f'G:/Shared drives/GroupBy Public/Customer Success/.Enrich/Platform Upload Trail/{customer}/_Ready For Upload' \n",
    "    matches.to_csv(f'{drive_path}/Bed Bath & Beyond --{get_df_name(matches)}-match_toy_age{today}.csv',index=False) \n",
    "# looks_good('Bed Bath & Beyond',match_toy_age)"
   ]
  },
  {
   "cell_type": "markdown",
   "metadata": {},
   "source": [
    "#### Done I think"
   ]
  },
  {
   "cell_type": "code",
   "execution_count": 4,
   "metadata": {},
   "outputs": [
    {
     "name": "stdout",
     "output_type": "stream",
     "text": [
      "0\n"
     ]
    }
   ],
   "source": [
    "df=import_one_att('arm_style')\n",
    "arm_style=df.loc[(df['attribute'].astype(str)=='arm_style')&((df['value'].astype(str)=='Cantilever')|(df['value'].astype(str)=='Curved')|(df['value'].astype(str)=='Flared')|(df['value'].astype(str)=='Roll Arm')|(df['value'].astype(str)=='Round')|(df['value'].astype(str)=='Sloping')|(df['value'].astype(str)=='Square')|(df['value'].astype(str)=='Straight')|(df['value'].astype(str)=='Track Arm'))]                    \n",
    "print(len(arm_style))"
   ]
  },
  {
   "cell_type": "code",
   "execution_count": 5,
   "metadata": {},
   "outputs": [
    {
     "data": {
      "text/plain": [
       "Series([], Name: value, dtype: int64)"
      ]
     },
     "execution_count": 5,
     "metadata": {},
     "output_type": "execute_result"
    }
   ],
   "source": [
    "arm_style['value'].explode().value_counts()"
   ]
  },
  {
   "cell_type": "code",
   "execution_count": 24,
   "metadata": {},
   "outputs": [],
   "source": [
    "arm_style['Q:arm_style']='n/a'\n",
    "match_arm_style=arm_style[['external_id','Q:arm_style']]\n",
    "\n",
    "def get_df_name(df):\n",
    "    name =[x for x in globals() if globals()[x] is df][0]\n",
    "    return name\n",
    "def looks_good(customer, matches): \n",
    "    drive_path = f'G:/Shared drives/GroupBy Public/Customer Success/.Enrich/Platform Upload Trail/{customer}/_Ready For Upload' \n",
    "    matches.to_csv(f'{drive_path}/Bed Bath & Beyond --{get_df_name(matches)}-match_arm_style{today}.csv',index=False) \n",
    "# looks_good('Bed Bath & Beyond',match_arm_style)"
   ]
  },
  {
   "cell_type": "code",
   "execution_count": null,
   "metadata": {},
   "outputs": [],
   "source": [
    "# arm_style\n",
    "Cantilever\n",
    "Curved\n",
    "Flared\n",
    "Roll Arm\n",
    "Round\n",
    "Sloping\n",
    "Square\n",
    "Straight\n",
    "Track Arm"
   ]
  },
  {
   "cell_type": "code",
   "execution_count": null,
   "metadata": {},
   "outputs": [],
   "source": [
    "Armless\n",
    "English\n",
    "Key\n",
    "n/a\n",
    "Padded\n",
    "Panel\n",
    "Pleated\n",
    "Ruched\n",
    "Saddle\n",
    "Scroll\n",
    "Shelter\n",
    "Slope\n",
    "Sock\n",
    "Track\n",
    "Track With Nails\n",
    "Tuxedo"
   ]
  },
  {
   "cell_type": "markdown",
   "metadata": {},
   "source": [
    "# Done I think"
   ]
  },
  {
   "cell_type": "code",
   "execution_count": 31,
   "metadata": {},
   "outputs": [],
   "source": [
    "def import_one_att_custom(attribut):\n",
    "    customer_id = '5'\n",
    "    customer_name='%bedbathandbeyond%'\n",
    "    dateszs='2001-08-11'\n",
    "#     attribut='arm_style'\n",
    "\n",
    "\n",
    "    params = {'customer_id': customer_id,\n",
    "              'customer_name':customer_name,\n",
    "             'dateszs':dateszs,\n",
    "             'attribute':attribut}\n",
    "#     print('start')\n",
    "    dfs = query_from_file(file_name='../query/curated_all_attributes_date_one_attribute.sql', params=params)\n",
    "#     print('continuing')\n",
    "    # dfs=dfs[dfs['resolution'].astype(str)!='rules']\n",
    "    # print('dfs')\n",
    "    dfz=dfs[dfs['custom_fields'].astype(str)!='None']\n",
    "    # dfz=dfz[dfz['buckets'].astype(str)=='Conduit Fittings, Replacement Parts, & Accessories']\n",
    "#     print('customs')\n",
    "#     custom_field_df=pd.json_normalize(dfz['custom_fields'])\n",
    "#     df=pd.concat([dfz.drop('custom_fields', axis=1), custom_field_df], axis = 1)\n",
    "    return dfz"
   ]
  },
  {
   "cell_type": "code",
   "execution_count": 32,
   "metadata": {},
   "outputs": [
    {
     "name": "stdout",
     "output_type": "stream",
     "text": [
      "185289\n"
     ]
    }
   ],
   "source": [
    "dfz=import_one_att_custom('bed_bedding_size')\n",
    "print(len(dfz))\n",
    "# bed_bedding_size=df.loc[(df['attribute'].astype(str)=='bed_bedding_size')&((df['value'].astype(str)=='Crib')|(df['value'].astype(str)=='None')|(df['value'].astype(str)=='Trundle'))]                     \n",
    "# print(len(bed_bedding_size))"
   ]
  },
  {
   "cell_type": "code",
   "execution_count": 33,
   "metadata": {},
   "outputs": [
    {
     "name": "stdout",
     "output_type": "stream",
     "text": [
      "0\n"
     ]
    }
   ],
   "source": [
    "pat='''(?i)((?:crib|Trundle))'''\n",
    "dfz['match']=dfz['value'].apply(lambda x: re_extract(pat,str(x)))\n",
    "df_filtered=pd.DataFrame()\n",
    "df_filtered=dfz.loc[dfz['match'].astype(str)!='[]']\n",
    "print(len(df_filtered))"
   ]
  },
  {
   "cell_type": "code",
   "execution_count": 21,
   "metadata": {},
   "outputs": [
    {
     "name": "stdout",
     "output_type": "stream",
     "text": [
      "34\n"
     ]
    }
   ],
   "source": [
    "df_filtered['value'].explode().value_counts()\n",
    "bed_excluding_crib=df_filtered.loc[df_filtered['value'].astype(str)!='Crib']\n",
    "print(len(bed_excluding_crib))"
   ]
  },
  {
   "cell_type": "code",
   "execution_count": 24,
   "metadata": {},
   "outputs": [],
   "source": [
    "bed_excluding_crib['Q:bed_bedding_size']=''\n",
    "match_bed_excluding_crib=bed_excluding_crib[['external_id','Q:bed_bedding_size']]"
   ]
  },
  {
   "cell_type": "code",
   "execution_count": 25,
   "metadata": {},
   "outputs": [],
   "source": [
    "\n",
    "def get_df_name(df):\n",
    "    name =[x for x in globals() if globals()[x] is df][0]\n",
    "    return name\n",
    "def looks_good(customer, matches): \n",
    "    drive_path = f'G:/Shared drives/GroupBy Public/Customer Success/.Enrich/Platform Upload Trail/{customer}/_Ready For Upload' \n",
    "    matches.to_csv(f'{drive_path}/Bed Bath & Beyond --{get_df_name(matches)}-match_bed_excluding_crib{today}.csv',index=False) \n",
    "looks_good('Bed Bath & Beyond',match_bed_excluding_crib)"
   ]
  },
  {
   "cell_type": "code",
   "execution_count": 55,
   "metadata": {},
   "outputs": [
    {
     "name": "stdout",
     "output_type": "stream",
     "text": [
      "1598\n"
     ]
    }
   ],
   "source": [
    "crib=df_filtered.loc[df_filtered['value'].astype(str)=='Crib']\n",
    "print(len(crib))"
   ]
  },
  {
   "cell_type": "code",
   "execution_count": 109,
   "metadata": {},
   "outputs": [],
   "source": [
    "# crib.head(1)"
   ]
  },
  {
   "cell_type": "code",
   "execution_count": 101,
   "metadata": {},
   "outputs": [],
   "source": [
    "def filterz(pat,df):\n",
    "#     df['value_m']=df['value'].apply(lambda x: re_extract(pat,str(x)))\n",
    "    df['custom_m']=df['custom_fields'].apply(lambda x: re_extract(pat,str(x)))\n",
    "    df['name_m']=df['product_name'].apply(lambda x: re_extract(pat,str(x)))\n",
    "    df['long_m']=df['long_desc'].apply(lambda x: re_extract(pat,str(x)))\n",
    "    df_filtered=pd.DataFrame()\n",
    "    df_filtered=df.loc[(df['custom_m'].astype(str)!='[]')|(df['name_m'].astype(str)!='[]')|(df['long_m'].astype(str)!='[]')]\n",
    "    df_na=df.loc[(df['custom_m'].astype(str)=='[]')&(df['name_m'].astype(str)=='[]')&(df['long_m'].astype(str)=='[]')]\n",
    "    return df_filtered,df_na"
   ]
  },
  {
   "cell_type": "code",
   "execution_count": 102,
   "metadata": {},
   "outputs": [],
   "source": [
    "pat='''(?i)((?<![A-z])(?:california|king|european|full|\\bxl\\b|extral.?large|futon|queen|single|sofa|split|standard(?= matt)|twin)(?![A-z]))|()'''\n",
    "cribs,cribs_na=filterz(pat,crib)"
   ]
  },
  {
   "cell_type": "code",
   "execution_count": 108,
   "metadata": {},
   "outputs": [],
   "source": [
    "# print(len(cribs))\n",
    "# cribs[['external_id','custom_fields','custom_m','name_m','long_m']]"
   ]
  },
  {
   "cell_type": "code",
   "execution_count": 104,
   "metadata": {},
   "outputs": [
    {
     "name": "stdout",
     "output_type": "stream",
     "text": [
      "1415\n"
     ]
    }
   ],
   "source": [
    "print(len(cribs_na))"
   ]
  },
  {
   "cell_type": "code",
   "execution_count": 110,
   "metadata": {},
   "outputs": [],
   "source": [
    "cribs['Q:bed_bedding_size']=''\n",
    "match_cribz=cribs[['external_id','Q:bed_bedding_size']]\n",
    "\n",
    "cribs_na['Q:bed_bedding_size']='n/a'\n",
    "match_cribs_na=cribs_na[['external_id','Q:bed_bedding_size']]\n",
    "\n",
    "\n",
    "def get_df_name(df):\n",
    "    name =[x for x in globals() if globals()[x] is df][0]\n",
    "    return name\n",
    "def looks_good(customer, matches): \n",
    "    drive_path = f'G:/Shared drives/GroupBy Public/Customer Success/.Enrich/Platform Upload Trail/{customer}/_Ready For Upload' \n",
    "    matches.to_csv(f'{drive_path}/Bed Bath & Beyond --{get_df_name(matches)}-match_cribz{today}.csv',index=False) \n",
    "looks_good('Bed Bath & Beyond',match_cribz)\n",
    "\n",
    "\n",
    "def get_df_name(df):\n",
    "    name =[x for x in globals() if globals()[x] is df][0]\n",
    "    return name\n",
    "def looks_good(customer, matches): \n",
    "    drive_path = f'G:/Shared drives/GroupBy Public/Customer Success/.Enrich/Platform Upload Trail/{customer}/_Ready For Upload' \n",
    "    matches.to_csv(f'{drive_path}/Bed Bath & Beyond --{get_df_name(matches)}-match_cribs_na{today}.csv',index=False) \n",
    "looks_good('Bed Bath & Beyond',match_cribs_na)"
   ]
  },
  {
   "cell_type": "code",
   "execution_count": null,
   "metadata": {},
   "outputs": [],
   "source": []
  },
  {
   "cell_type": "code",
   "execution_count": null,
   "metadata": {},
   "outputs": [],
   "source": [
    "# bed_bedding_size\n",
    "Crib\n",
    "None\n",
    "Trundle"
   ]
  },
  {
   "cell_type": "code",
   "execution_count": null,
   "metadata": {},
   "outputs": [],
   "source": [
    "California King\n",
    "European\n",
    "Full\n",
    "Full XL\n",
    "Futon\n",
    "King\n",
    "n/a\n",
    "Queen\n",
    "Single\n",
    "Sofa\n",
    "Split\n",
    "Standard\n",
    "Twin\n",
    "Twin XL"
   ]
  },
  {
   "cell_type": "markdown",
   "metadata": {},
   "source": [
    "#### Done I think"
   ]
  },
  {
   "cell_type": "code",
   "execution_count": 5,
   "metadata": {},
   "outputs": [
    {
     "name": "stdout",
     "output_type": "stream",
     "text": [
      "4528\n",
      "0\n"
     ]
    }
   ],
   "source": [
    "df=import_one_att('btu_range')\n",
    "print(len(df))\n",
    "btu_range=df.loc[(df['attribute'].astype(str)=='btu_range')&((df['value'].astype(str)=='0')|(df['value'].astype(str)=='2')|(df['value'].astype(str)=='500 - 5')|(df['value'].astype(str)=='Over 5')|(df['value'].astype(str)=='[]')|(df['value'].astype(str)=='[]')|(df['value'].astype(str)=='[]')|(df['value'].astype(str)=='[]')|(df['value'].astype(str)=='[]'))]                    \n",
    "print(len(btu_range))"
   ]
  },
  {
   "cell_type": "code",
   "execution_count": 18,
   "metadata": {},
   "outputs": [],
   "source": [
    "# def filters(df,pat):\n",
    "#     df['match']=df['value'].apply(lambda x: re_extract(pat,str(x)))\n",
    "#     df_filtered=pd.DataFrame()\n",
    "#     df_filtered=df.loc[df['match'].astype(str)!='[]']\n",
    "#     return df_filtered"
   ]
  },
  {
   "cell_type": "code",
   "execution_count": 9,
   "metadata": {},
   "outputs": [],
   "source": [
    "pat='''(?i)((?:(?<!\\d)\\d(?!\\,)(?!\\d)))'''\n",
    "btu=filters(df,pat)"
   ]
  },
  {
   "cell_type": "code",
   "execution_count": 10,
   "metadata": {},
   "outputs": [
    {
     "data": {
      "text/html": [
       "<div>\n",
       "<style scoped>\n",
       "    .dataframe tbody tr th:only-of-type {\n",
       "        vertical-align: middle;\n",
       "    }\n",
       "\n",
       "    .dataframe tbody tr th {\n",
       "        vertical-align: top;\n",
       "    }\n",
       "\n",
       "    .dataframe thead th {\n",
       "        text-align: right;\n",
       "    }\n",
       "</style>\n",
       "<table border=\"1\" class=\"dataframe\">\n",
       "  <thead>\n",
       "    <tr style=\"text-align: right;\">\n",
       "      <th></th>\n",
       "      <th>attribute</th>\n",
       "      <th>buckets</th>\n",
       "      <th>bucket_id</th>\n",
       "      <th>value</th>\n",
       "      <th>customer_name</th>\n",
       "      <th>external_id</th>\n",
       "      <th>product_name</th>\n",
       "      <th>long_desc</th>\n",
       "      <th>curated_date</th>\n",
       "      <th>resolution</th>\n",
       "      <th>curation_tasks.curated_by</th>\n",
       "      <th>TYPE</th>\n",
       "      <th>COLOR</th>\n",
       "      <th>COLOR_s</th>\n",
       "      <th>SKU_SIZE</th>\n",
       "      <th>SKU_TYPE</th>\n",
       "      <th>RecordType</th>\n",
       "      <th>SKU_SIZE_s</th>\n",
       "      <th>COLOR_GROUP</th>\n",
       "      <th>DESCRIPTION</th>\n",
       "      <th>COLORGROUP_s</th>\n",
       "      <th>VDC_SKU_TYPE</th>\n",
       "      <th>SKU_DESCRIPTION</th>\n",
       "      <th>LONG_DESCRIPTION</th>\n",
       "      <th>ROLLUP_TYPE_CODE</th>\n",
       "      <th>PERSONALIZATION_TYPE</th>\n",
       "      <th>gbi_exp_product_type</th>\n",
       "      <th>gbi_syn_product_type</th>\n",
       "      <th>MARKETPLACE_ITEM_FLAG</th>\n",
       "      <th>ASSEMBLEDPRODUCTWIDTHIN</th>\n",
       "      <th>ASSEMBLEDPRODUCTHEIGHTIN</th>\n",
       "      <th>ASSEMBLEDPRODUCTLENGTHIN</th>\n",
       "      <th>ASSEMBLEDPRODUCTDIAMETERIN</th>\n",
       "      <th>Set_Size</th>\n",
       "      <th>s_f_Theme</th>\n",
       "      <th>s_f_Made_In</th>\n",
       "      <th>f_Product_Type</th>\n",
       "      <th>s_f_Anti_Tip_Kit</th>\n",
       "      <th>s_f_Construction</th>\n",
       "      <th>s_f_Product_Type</th>\n",
       "      <th>f_binProduct_Type</th>\n",
       "      <th>s_f_Exterior_Finish</th>\n",
       "      <th>s_f_Hardware_Finish</th>\n",
       "      <th>s_f_Lifestyle_multi</th>\n",
       "      <th>gbi_product_type_affinity</th>\n",
       "      <th>s_f_Assembly_Instructions</th>\n",
       "      <th>MAX_ASSEMBLEDPRODUCTWIDTHIN</th>\n",
       "      <th>MIN_ASSEMBLEDPRODUCTWIDTHIN</th>\n",
       "      <th>MAX_ASSEMBLEDPRODUCTHEIGHTIN</th>\n",
       "      <th>MAX_ASSEMBLEDPRODUCTLENGTHIN</th>\n",
       "      <th>MIN_ASSEMBLEDPRODUCTHEIGHTIN</th>\n",
       "      <th>MIN_ASSEMBLEDPRODUCTLENGTHIN</th>\n",
       "      <th>s_f_Does_this_item_have_Wheels</th>\n",
       "      <th>s_f_Maximum_Weight_Capacity_lb</th>\n",
       "      <th>s_f_binSet_Size</th>\n",
       "      <th>s_f_binProduct_Type</th>\n",
       "      <th>s_f_binHoliday_Tree_Height</th>\n",
       "      <th>s_f_binConstruction_Material</th>\n",
       "      <th>Cord_Length</th>\n",
       "      <th>s_f_binCord_Length</th>\n",
       "      <th>s_f_Number_of_Doors</th>\n",
       "      <th>s_f_Power_Source_multi</th>\n",
       "      <th>s_f_Number_of_Batteries</th>\n",
       "      <th>s_f_Detailed_Care_Instructions</th>\n",
       "      <th>s_f_binSize</th>\n",
       "      <th>gbi_syn_size</th>\n",
       "      <th>s_f_Wattage</th>\n",
       "      <th>s_f_External_Finish</th>\n",
       "      <th>s_f_Wood_Color_multi</th>\n",
       "      <th>s_f_Storage_Furniture_Design_Features_multi</th>\n",
       "      <th>s_f_Fixture_Mounts</th>\n",
       "      <th>s_f_Electrics_Safety_features_multi</th>\n",
       "      <th>SERVICE_TYPE_CD</th>\n",
       "      <th>s_f_Closure_Type</th>\n",
       "      <th>s_f_Soft_Textiles_Use_and_Care_Instructions</th>\n",
       "      <th>s_f_Indoor_Outdoor_Use</th>\n",
       "      <th>s_f_Fill_Material</th>\n",
       "      <th>s_f_binFill_Material</th>\n",
       "      <th>s_f_binUpholstered_Material</th>\n",
       "      <th>s_f_Tabletop_Style</th>\n",
       "      <th>s_f_binMaterial</th>\n",
       "      <th>s_f_Fabric_FiberType</th>\n",
       "      <th>s_f_binHanging_Style</th>\n",
       "      <th>s_f_Soft_Textiles_Material</th>\n",
       "      <th>s_f_Number_of_Hooks</th>\n",
       "      <th>s_f_Life_Stage_multi</th>\n",
       "      <th>s_f_Storage_Furniture_Includes_multi</th>\n",
       "      <th>Fabric_FiberType</th>\n",
       "      <th>s_f_binInterior_Construction_Material</th>\n",
       "      <th>s_f_Large_Drawer_Depth_in</th>\n",
       "      <th>s_f_Large_Drawer_Width_in</th>\n",
       "      <th>s_f_Small_Drawer_Depth_in</th>\n",
       "      <th>s_f_Small_Drawer_Width_in</th>\n",
       "      <th>s_f_Large_Drawer_Height_in</th>\n",
       "      <th>s_f_Medium_Drawer_Depth_in</th>\n",
       "      <th>s_f_Medium_Drawer_Width_in</th>\n",
       "      <th>s_f_Small_Drawer_Height_in</th>\n",
       "      <th>s_f_Medium_Drawer_Height_in</th>\n",
       "      <th>s_f_Number_of_Large_Size_Drawers</th>\n",
       "      <th>s_f_Number_of_Small_Size_Drawers</th>\n",
       "      <th>s_f_Number_of_Medium_Size_Drawers</th>\n",
       "      <th>s_f_Number_of_Unique_Drawer_Sizes</th>\n",
       "      <th>s_f_Interior_Construction</th>\n",
       "      <th>s_f_Embellishment_multi</th>\n",
       "      <th>match</th>\n",
       "    </tr>\n",
       "  </thead>\n",
       "  <tbody>\n",
       "  </tbody>\n",
       "</table>\n",
       "</div>"
      ],
      "text/plain": [
       "Empty DataFrame\n",
       "Columns: [attribute, buckets, bucket_id, value, customer_name, external_id, product_name, long_desc, curated_date, resolution, curation_tasks.curated_by, TYPE, COLOR, COLOR_s, SKU_SIZE, SKU_TYPE, RecordType, SKU_SIZE_s, COLOR_GROUP, DESCRIPTION, COLORGROUP_s, VDC_SKU_TYPE, SKU_DESCRIPTION, LONG_DESCRIPTION, ROLLUP_TYPE_CODE, PERSONALIZATION_TYPE, gbi_exp_product_type, gbi_syn_product_type, MARKETPLACE_ITEM_FLAG, ASSEMBLEDPRODUCTWIDTHIN, ASSEMBLEDPRODUCTHEIGHTIN, ASSEMBLEDPRODUCTLENGTHIN, ASSEMBLEDPRODUCTDIAMETERIN, Set_Size, s_f_Theme, s_f_Made_In, f_Product_Type, s_f_Anti_Tip_Kit, s_f_Construction, s_f_Product_Type, f_binProduct_Type, s_f_Exterior_Finish, s_f_Hardware_Finish, s_f_Lifestyle_multi, gbi_product_type_affinity, s_f_Assembly_Instructions, MAX_ASSEMBLEDPRODUCTWIDTHIN, MIN_ASSEMBLEDPRODUCTWIDTHIN, MAX_ASSEMBLEDPRODUCTHEIGHTIN, MAX_ASSEMBLEDPRODUCTLENGTHIN, MIN_ASSEMBLEDPRODUCTHEIGHTIN, MIN_ASSEMBLEDPRODUCTLENGTHIN, s_f_Does_this_item_have_Wheels, s_f_Maximum_Weight_Capacity_lb, s_f_binSet_Size, s_f_binProduct_Type, s_f_binHoliday_Tree_Height, s_f_binConstruction_Material, Cord_Length, s_f_binCord_Length, s_f_Number_of_Doors, s_f_Power_Source_multi, s_f_Number_of_Batteries, s_f_Detailed_Care_Instructions, s_f_binSize, gbi_syn_size, s_f_Wattage, s_f_External_Finish, s_f_Wood_Color_multi, s_f_Storage_Furniture_Design_Features_multi, s_f_Fixture_Mounts, s_f_Electrics_Safety_features_multi, SERVICE_TYPE_CD, s_f_Closure_Type, s_f_Soft_Textiles_Use_and_Care_Instructions, s_f_Indoor_Outdoor_Use, s_f_Fill_Material, s_f_binFill_Material, s_f_binUpholstered_Material, s_f_Tabletop_Style, s_f_binMaterial, s_f_Fabric_FiberType, s_f_binHanging_Style, s_f_Soft_Textiles_Material, s_f_Number_of_Hooks, s_f_Life_Stage_multi, s_f_Storage_Furniture_Includes_multi, Fabric_FiberType, s_f_binInterior_Construction_Material, s_f_Large_Drawer_Depth_in, s_f_Large_Drawer_Width_in, s_f_Small_Drawer_Depth_in, s_f_Small_Drawer_Width_in, s_f_Large_Drawer_Height_in, s_f_Medium_Drawer_Depth_in, s_f_Medium_Drawer_Width_in, s_f_Small_Drawer_Height_in, s_f_Medium_Drawer_Height_in, s_f_Number_of_Large_Size_Drawers, s_f_Number_of_Small_Size_Drawers, ...]\n",
       "Index: []"
      ]
     },
     "execution_count": 10,
     "metadata": {},
     "output_type": "execute_result"
    }
   ],
   "source": [
    "btu"
   ]
  },
  {
   "cell_type": "code",
   "execution_count": null,
   "metadata": {},
   "outputs": [],
   "source": [
    "# btu_range\n",
    "0\n",
    "2\n",
    "500 - 5\n",
    "Over 5"
   ]
  },
  {
   "cell_type": "code",
   "execution_count": null,
   "metadata": {},
   "outputs": [],
   "source": [
    "2,500 - 5,000\n",
    "n/a\n",
    "Over 5,000\n",
    "Under 2,500"
   ]
  },
  {
   "cell_type": "markdown",
   "metadata": {},
   "source": [
    "#### Done I think"
   ]
  },
  {
   "cell_type": "code",
   "execution_count": 12,
   "metadata": {},
   "outputs": [
    {
     "name": "stdout",
     "output_type": "stream",
     "text": [
      "1527\n",
      "0\n"
     ]
    }
   ],
   "source": [
    "df=import_one_att('bulb_type')\n",
    "print(len(df))\n",
    "bulb_type=df.loc[(df['attribute'].astype(str)=='bulb_type')&((df['value'].astype(str)=='Fluorescent Bulb')|(df['value'].astype(str)=='LED Bulb')|(df['value'].astype(str)=='Specialty Bulb')|(df['value'].astype(str)=='Standard Bulb')|(df['value'].astype(str)=='Fluorescent Bulb')|(df['value'].astype(str)=='LED Bulb')|(df['value'].astype(str)=='Specialty Bulb')|(df['value'].astype(str)=='Standard Bulb')|(df['value'].astype(str)=='[]'))]                    \n",
    "print(len(bulb_type))"
   ]
  },
  {
   "cell_type": "code",
   "execution_count": 18,
   "metadata": {},
   "outputs": [
    {
     "name": "stdout",
     "output_type": "stream",
     "text": [
      "0\n"
     ]
    }
   ],
   "source": [
    "pat='''(?i)(Standard)'''\n",
    "bul=filters(df,pat)\n",
    "print(len(bul))"
   ]
  },
  {
   "cell_type": "code",
   "execution_count": null,
   "metadata": {},
   "outputs": [],
   "source": [
    "# bulb_type\n",
    "# Fluorescent Bulb\n",
    "LED Bulb\n",
    "Specialty Bulb\n",
    "Standard Bulb\n",
    "Fluorescent Bulb\n",
    "LED Bulb\n",
    "Specialty Bulb\n",
    "Standard Bulb"
   ]
  },
  {
   "cell_type": "code",
   "execution_count": null,
   "metadata": {},
   "outputs": [],
   "source": [
    "CFL\n",
    "Fluorescent\n",
    "Halogen\n",
    "Incandescent\n",
    "LED"
   ]
  },
  {
   "cell_type": "markdown",
   "metadata": {},
   "source": [
    "#### Done"
   ]
  },
  {
   "cell_type": "code",
   "execution_count": 19,
   "metadata": {},
   "outputs": [
    {
     "name": "stdout",
     "output_type": "stream",
     "text": [
      "71240\n",
      "0\n"
     ]
    }
   ],
   "source": [
    "df=import_one_att('capacity_gal')\n",
    "print(len(df))\n",
    "capacity_gal=df.loc[(df['attribute'].astype(str)=='capacity_gal')&((df['value'].astype(str)=='5 gal')|(df['value'].astype(str)=='5 gal')|(df['value'].astype(str)=='[]')|(df['value'].astype(str)=='[]')|(df['value'].astype(str)=='[]')|(df['value'].astype(str)=='[]')|(df['value'].astype(str)=='[]')|(df['value'].astype(str)=='[]')|(df['value'].astype(str)=='[]'))]                     \n",
    "print(len(capacity_gal))"
   ]
  },
  {
   "cell_type": "code",
   "execution_count": 20,
   "metadata": {},
   "outputs": [],
   "source": [
    "pat='''(?i)((?:(?<!\\.)(?<!\\- )(?<!\\-)(?<!\\d)\\d gal(?!\\.)))'''\n",
    "gal=filters(df,pat)"
   ]
  },
  {
   "cell_type": "code",
   "execution_count": null,
   "metadata": {},
   "outputs": [],
   "source": [
    "# capacity_gal\n",
    "5 gal\n",
    "5 gal"
   ]
  },
  {
   "cell_type": "code",
   "execution_count": null,
   "metadata": {},
   "outputs": [],
   "source": [
    "0 - 0.9 gal.\n",
    "0 - 2 gal\n",
    "0-5 Gallons\n",
    "11-15 Gallons\n",
    "1 - 1.9 gal.\n",
    "16-20 Gallons\n",
    "2.1 - 4 gal\n",
    "2 - 2.9 gal.\n",
    "3 - 3.9 gal.\n",
    "4.1 - 6 gal\n",
    "4 - 4.9 gal.\n",
    "5 gal. or Greater\n",
    "6-10 Gallons\n",
    "6.1 - 8 gal\n",
    "8.1 - 10 gal\n",
    "Greater than 10 gal\n",
    "n/a"
   ]
  },
  {
   "cell_type": "markdown",
   "metadata": {},
   "source": [
    "#### Done"
   ]
  },
  {
   "cell_type": "code",
   "execution_count": null,
   "metadata": {},
   "outputs": [],
   "source": [
    "df=import_one_att('care')\n",
    "care=df.loc[(df['attribute'].astype(str)=='care')&((df['value'].astype(str)=='Spot Clean/Dry clean'))]                    \n",
    "print(len(care))"
   ]
  },
  {
   "cell_type": "code",
   "execution_count": null,
   "metadata": {},
   "outputs": [],
   "source": [
    "pat='''(?i)((?:spot))'''\n",
    "gal=filters(df,pat)"
   ]
  },
  {
   "cell_type": "code",
   "execution_count": null,
   "metadata": {},
   "outputs": [],
   "source": [
    "# care\n",
    "Spot Clean/Dry clean"
   ]
  },
  {
   "cell_type": "code",
   "execution_count": null,
   "metadata": {},
   "outputs": [],
   "source": [
    "Air Dry\n",
    "Dishwasher Safe\n",
    "Dishwasher Safe Parts & Attachments\n",
    "Disposable\n",
    "Do Not Use Acidic or Lemon Detergent\n",
    "Dry Clean Only\n",
    "Dust\n",
    "Gentle Cycle\n",
    "Hand Wash\n",
    "Line Dry\n",
    "Machine Washable\n",
    "n/a\n",
    "Spot Clean\n",
    "Steam Iron Low\n",
    "Top Rack Dishwasher Safe\n",
    "Tumble Dry\n",
    "Tumble Dry Low\n",
    "Vacuum\n",
    "Wipe Clean"
   ]
  },
  {
   "cell_type": "markdown",
   "metadata": {},
   "source": [
    "#### Done"
   ]
  },
  {
   "cell_type": "code",
   "execution_count": null,
   "metadata": {},
   "outputs": [],
   "source": [
    "df=import_one_att('chew_style')\n",
    "chew_style=df.loc[(df['attribute'].astype(str)=='chew_style')&((df['value'].astype(str)=='Tough')|(df['value'].astype(str)=='[]')|(df['value'].astype(str)=='[]')|(df['value'].astype(str)=='[]')|(df['value'].astype(str)=='[]')|(df['value'].astype(str)=='[]')|(df['value'].astype(str)=='[]')|(df['value'].astype(str)=='[]')|(df['value'].astype(str)=='[]'))]                     \n",
    "print(len(chew_style))"
   ]
  },
  {
   "cell_type": "code",
   "execution_count": null,
   "metadata": {},
   "outputs": [],
   "source": [
    "pat='''(?i)((?:tough))'''\n",
    "gal=filters(df,pat)"
   ]
  },
  {
   "cell_type": "code",
   "execution_count": null,
   "metadata": {},
   "outputs": [],
   "source": [
    "# chew_style\n",
    "Tough"
   ]
  },
  {
   "cell_type": "code",
   "execution_count": null,
   "metadata": {},
   "outputs": [],
   "source": [
    "Hide\n",
    "Dental\n",
    "Squeaky\n",
    "Teething\n",
    "Tough Chewer\n",
    "Training"
   ]
  },
  {
   "cell_type": "markdown",
   "metadata": {},
   "source": [
    "#### Done"
   ]
  },
  {
   "cell_type": "code",
   "execution_count": null,
   "metadata": {},
   "outputs": [],
   "source": [
    "df=import_one_att('countertop_width')\n",
    "countertop_width=df.loc[(df['attribute'].astype(str)=='countertop_width')&((df['value'].astype(str)=='Large (Over 50)')|(df['value'].astype(str)=='Medium (40 - 50)')|(df['value'].astype(str)=='Small (Under 40)')|(df['value'].astype(str)=='[]')|(df['value'].astype(str)=='[]')|(df['value'].astype(str)=='[]')|(df['value'].astype(str)=='[]')|(df['value'].astype(str)=='[]')|(df['value'].astype(str)=='[]'))]                    \n",
    "print(len(countertop_width))"
   ]
  },
  {
   "cell_type": "code",
   "execution_count": null,
   "metadata": {},
   "outputs": [],
   "source": [
    "# countertop_width\n",
    "Large (Over 50)\n",
    "Medium (40 - 50)\n",
    "Small (Under 40)"
   ]
  },
  {
   "cell_type": "code",
   "execution_count": null,
   "metadata": {},
   "outputs": [],
   "source": [
    "Large (Over 50\")\n",
    "Medium (40\" - 50\")\n",
    "Small (Under 40\")"
   ]
  },
  {
   "cell_type": "code",
   "execution_count": null,
   "metadata": {},
   "outputs": [],
   "source": []
  },
  {
   "cell_type": "markdown",
   "metadata": {},
   "source": [
    "# This needs to get done---Waiting on Jeff"
   ]
  },
  {
   "cell_type": "code",
   "execution_count": 10,
   "metadata": {},
   "outputs": [
    {
     "name": "stdout",
     "output_type": "stream",
     "text": [
      "80282\n",
      "0\n"
     ]
    }
   ],
   "source": [
    "df=import_one_att('depth_sheets')\n",
    "print(len(df))\n",
    "depth_sheets=df.loc[(df['attribute'].astype(str)=='depth_sheets')&((df['value'].astype(str)=='[]')|(df['value'].astype(str)=='[]')|(df['value'].astype(str)=='[]')|(df['value'].astype(str)=='[]')|(df['value'].astype(str)=='[]')|(df['value'].astype(str)=='[]')|(df['value'].astype(str)=='[]')|(df['value'].astype(str)=='[]')|(df['value'].astype(str)=='[]'))]                     \n",
    "print(len(depth_sheets))"
   ]
  },
  {
   "cell_type": "code",
   "execution_count": 11,
   "metadata": {},
   "outputs": [],
   "source": [
    "pat='''(?i)(\\d+(?= in(?!ches)))|(\\d+(?! to)(?!\\d)(?! inches))'''   \n",
    "depth=filters(df,pat)"
   ]
  },
  {
   "cell_type": "code",
   "execution_count": 12,
   "metadata": {},
   "outputs": [
    {
     "name": "stdout",
     "output_type": "stream",
     "text": [
      "112\n"
     ]
    }
   ],
   "source": [
    "depth['value'].explode().value_counts()\n",
    "print(len(depth))"
   ]
  },
  {
   "cell_type": "code",
   "execution_count": 18,
   "metadata": {},
   "outputs": [],
   "source": [
    "import re\n",
    "\n",
    "metric='lbs'\n",
    "range_string = \"\"\"\n",
    "13 - 17 lbs\n",
    "18 and Greater\n",
    "3 - 12 lbs\n",
    " \"\"\"\n",
    "\n",
    "# 13 to 17 Inches\n",
    "# 18 Inches and Higher\n",
    "# 3 to 12 Inches\n",
    "\n",
    "range_params = {}\n",
    "for range_entry in range_string.split('\\n'):\n",
    "    range_nums = re.findall('\\d+', range_entry)\n",
    "    if len(range_nums) > 0: \n",
    "        range_params[tuple(map(int, range_nums))] = range_entry.strip()\n",
    "\n",
    "\n",
    "def  range_app(num_lst):\n",
    "    updated_labels = []\n",
    "    for num in num_lst:\n",
    "        num = float(num)\n",
    "        for range_param, range_label in range_params.items():\n",
    "            if len(range_param) == 1:\n",
    "                if num >= range_param[0]:\n",
    "                    updated_labels.append(range_label)\n",
    "            else:\n",
    "                if num >= range_param[0] and num <= range_param[1]:\n",
    "                    updated_labels.append(range_label)\n",
    "    return updated_labels"
   ]
  },
  {
   "cell_type": "code",
   "execution_count": 13,
   "metadata": {},
   "outputs": [
    {
     "data": {
      "text/plain": [
       "2 in                                           61\n",
       "1 in                                           17\n",
       "[\"13 to 17 Inches\",\"2 in\"]                     11\n",
       "[\"13 to 17 Inches\",\"2 in\",\"3 to 12 Inches\"]    10\n",
       "[\"1 in\",\"3 to 12 Inches\"]                       5\n",
       "[\"2 in\",\"3 to 12 Inches\"]                       3\n",
       "[\"18 Inches and Higher\",\"2 in\"]                 3\n",
       "[\"1 in\",\"2 in\"]                                 2\n",
       "Name: value, dtype: int64"
      ]
     },
     "execution_count": 13,
     "metadata": {},
     "output_type": "execute_result"
    }
   ],
   "source": [
    "depth['value'].explode().value_counts()"
   ]
  },
  {
   "cell_type": "code",
   "execution_count": 51,
   "metadata": {},
   "outputs": [],
   "source": [
    "depth['matchez']=depth['value'].apply(lambda x: re.sub(r'(?<!\")(?<!\\d)((?:2 in|1 in))','[\"13 to 17 Inches\"]',str(x))).apply(lambda x: re.sub(r'(?<=\")(?<!\\d)((?:2 in|1 in))','13 to 17 Inches',str(x)))#.apply(lambda x: remove_duplicates([n.strip() for n in ast.literal_eval(x)])).apply(range_app).apply(lambda x: re.sub(r\"\\['\",'[\"',str(x))).apply(lambda x: re.sub(r\"'\\]\",'\"]',str(x))).apply(lambda x: re.sub(r\"'\\s?,\\s?'\",'\",\"',str(x))).apply(lambda x: re.sub(r\"'\\[\",'[',str(x))).apply(lambda x: re.sub(r\"\\]'\",']',str(x))).apply(lambda x: re.sub(r'\\,\\s',',',str(x)))                     \n",
    "depth['matchez']=depth['matchez'].apply(lambda x: re.sub(r'13 to 17 Inches\",\"13 to 17 Inches','13 to 17 Inches',str(x)))#.apply(lambda x: natsorted(x))"
   ]
  },
  {
   "cell_type": "code",
   "execution_count": 52,
   "metadata": {},
   "outputs": [
    {
     "data": {
      "text/plain": [
       "[\"13 to 17 Inches\"]                           91\n",
       "[\"13 to 17 Inches\",\"3 to 12 Inches\"]          18\n",
       "[\"18 Inches and Higher\",\"13 to 17 Inches\"]     3\n",
       "Name: matchez, dtype: int64"
      ]
     },
     "execution_count": 52,
     "metadata": {},
     "output_type": "execute_result"
    }
   ],
   "source": [
    "depth['matchez'].explode().value_counts()"
   ]
  },
  {
   "cell_type": "code",
   "execution_count": 54,
   "metadata": {},
   "outputs": [
    {
     "data": {
      "text/html": [
       "<div>\n",
       "<style scoped>\n",
       "    .dataframe tbody tr th:only-of-type {\n",
       "        vertical-align: middle;\n",
       "    }\n",
       "\n",
       "    .dataframe tbody tr th {\n",
       "        vertical-align: top;\n",
       "    }\n",
       "\n",
       "    .dataframe thead th {\n",
       "        text-align: right;\n",
       "    }\n",
       "</style>\n",
       "<table border=\"1\" class=\"dataframe\">\n",
       "  <thead>\n",
       "    <tr style=\"text-align: right;\">\n",
       "      <th></th>\n",
       "      <th>value</th>\n",
       "      <th>matchez</th>\n",
       "    </tr>\n",
       "  </thead>\n",
       "  <tbody>\n",
       "    <tr>\n",
       "      <th>137</th>\n",
       "      <td>2 in</td>\n",
       "      <td>[\"13 to 17 Inches\"]</td>\n",
       "    </tr>\n",
       "    <tr>\n",
       "      <th>185</th>\n",
       "      <td>2 in</td>\n",
       "      <td>[\"13 to 17 Inches\"]</td>\n",
       "    </tr>\n",
       "    <tr>\n",
       "      <th>189</th>\n",
       "      <td>[\"13 to 17 Inches\",\"2 in\"]</td>\n",
       "      <td>[\"13 to 17 Inches\"]</td>\n",
       "    </tr>\n",
       "    <tr>\n",
       "      <th>276</th>\n",
       "      <td>2 in</td>\n",
       "      <td>[\"13 to 17 Inches\"]</td>\n",
       "    </tr>\n",
       "    <tr>\n",
       "      <th>372</th>\n",
       "      <td>2 in</td>\n",
       "      <td>[\"13 to 17 Inches\"]</td>\n",
       "    </tr>\n",
       "    <tr>\n",
       "      <th>380</th>\n",
       "      <td>[\"13 to 17 Inches\",\"2 in\"]</td>\n",
       "      <td>[\"13 to 17 Inches\"]</td>\n",
       "    </tr>\n",
       "    <tr>\n",
       "      <th>407</th>\n",
       "      <td>[\"13 to 17 Inches\",\"2 in\"]</td>\n",
       "      <td>[\"13 to 17 Inches\"]</td>\n",
       "    </tr>\n",
       "    <tr>\n",
       "      <th>415</th>\n",
       "      <td>2 in</td>\n",
       "      <td>[\"13 to 17 Inches\"]</td>\n",
       "    </tr>\n",
       "    <tr>\n",
       "      <th>537</th>\n",
       "      <td>[\"13 to 17 Inches\",\"2 in\"]</td>\n",
       "      <td>[\"13 to 17 Inches\"]</td>\n",
       "    </tr>\n",
       "    <tr>\n",
       "      <th>553</th>\n",
       "      <td>2 in</td>\n",
       "      <td>[\"13 to 17 Inches\"]</td>\n",
       "    </tr>\n",
       "    <tr>\n",
       "      <th>554</th>\n",
       "      <td>2 in</td>\n",
       "      <td>[\"13 to 17 Inches\"]</td>\n",
       "    </tr>\n",
       "    <tr>\n",
       "      <th>650</th>\n",
       "      <td>2 in</td>\n",
       "      <td>[\"13 to 17 Inches\"]</td>\n",
       "    </tr>\n",
       "    <tr>\n",
       "      <th>745</th>\n",
       "      <td>2 in</td>\n",
       "      <td>[\"13 to 17 Inches\"]</td>\n",
       "    </tr>\n",
       "    <tr>\n",
       "      <th>746</th>\n",
       "      <td>2 in</td>\n",
       "      <td>[\"13 to 17 Inches\"]</td>\n",
       "    </tr>\n",
       "    <tr>\n",
       "      <th>747</th>\n",
       "      <td>1 in</td>\n",
       "      <td>[\"13 to 17 Inches\"]</td>\n",
       "    </tr>\n",
       "    <tr>\n",
       "      <th>762</th>\n",
       "      <td>[\"13 to 17 Inches\",\"2 in\"]</td>\n",
       "      <td>[\"13 to 17 Inches\"]</td>\n",
       "    </tr>\n",
       "    <tr>\n",
       "      <th>831</th>\n",
       "      <td>1 in</td>\n",
       "      <td>[\"13 to 17 Inches\"]</td>\n",
       "    </tr>\n",
       "    <tr>\n",
       "      <th>832</th>\n",
       "      <td>2 in</td>\n",
       "      <td>[\"13 to 17 Inches\"]</td>\n",
       "    </tr>\n",
       "    <tr>\n",
       "      <th>833</th>\n",
       "      <td>2 in</td>\n",
       "      <td>[\"13 to 17 Inches\"]</td>\n",
       "    </tr>\n",
       "    <tr>\n",
       "      <th>929</th>\n",
       "      <td>1 in</td>\n",
       "      <td>[\"13 to 17 Inches\"]</td>\n",
       "    </tr>\n",
       "    <tr>\n",
       "      <th>1077</th>\n",
       "      <td>[\"13 to 17 Inches\",\"2 in\",\"3 to 12 Inches\"]</td>\n",
       "      <td>[\"13 to 17 Inches\",\"3 to 12 Inches\"]</td>\n",
       "    </tr>\n",
       "    <tr>\n",
       "      <th>1107</th>\n",
       "      <td>1 in</td>\n",
       "      <td>[\"13 to 17 Inches\"]</td>\n",
       "    </tr>\n",
       "    <tr>\n",
       "      <th>1108</th>\n",
       "      <td>2 in</td>\n",
       "      <td>[\"13 to 17 Inches\"]</td>\n",
       "    </tr>\n",
       "    <tr>\n",
       "      <th>1109</th>\n",
       "      <td>2 in</td>\n",
       "      <td>[\"13 to 17 Inches\"]</td>\n",
       "    </tr>\n",
       "    <tr>\n",
       "      <th>1110</th>\n",
       "      <td>2 in</td>\n",
       "      <td>[\"13 to 17 Inches\"]</td>\n",
       "    </tr>\n",
       "    <tr>\n",
       "      <th>1111</th>\n",
       "      <td>[\"2 in\",\"3 to 12 Inches\"]</td>\n",
       "      <td>[\"13 to 17 Inches\",\"3 to 12 Inches\"]</td>\n",
       "    </tr>\n",
       "    <tr>\n",
       "      <th>1302</th>\n",
       "      <td>2 in</td>\n",
       "      <td>[\"13 to 17 Inches\"]</td>\n",
       "    </tr>\n",
       "    <tr>\n",
       "      <th>1492</th>\n",
       "      <td>2 in</td>\n",
       "      <td>[\"13 to 17 Inches\"]</td>\n",
       "    </tr>\n",
       "    <tr>\n",
       "      <th>1493</th>\n",
       "      <td>2 in</td>\n",
       "      <td>[\"13 to 17 Inches\"]</td>\n",
       "    </tr>\n",
       "    <tr>\n",
       "      <th>1494</th>\n",
       "      <td>2 in</td>\n",
       "      <td>[\"13 to 17 Inches\"]</td>\n",
       "    </tr>\n",
       "    <tr>\n",
       "      <th>1495</th>\n",
       "      <td>[\"1 in\",\"3 to 12 Inches\"]</td>\n",
       "      <td>[\"13 to 17 Inches\",\"3 to 12 Inches\"]</td>\n",
       "    </tr>\n",
       "    <tr>\n",
       "      <th>1496</th>\n",
       "      <td>1 in</td>\n",
       "      <td>[\"13 to 17 Inches\"]</td>\n",
       "    </tr>\n",
       "    <tr>\n",
       "      <th>1526</th>\n",
       "      <td>[\"13 to 17 Inches\",\"2 in\",\"3 to 12 Inches\"]</td>\n",
       "      <td>[\"13 to 17 Inches\",\"3 to 12 Inches\"]</td>\n",
       "    </tr>\n",
       "    <tr>\n",
       "      <th>1635</th>\n",
       "      <td>[\"13 to 17 Inches\",\"2 in\",\"3 to 12 Inches\"]</td>\n",
       "      <td>[\"13 to 17 Inches\",\"3 to 12 Inches\"]</td>\n",
       "    </tr>\n",
       "    <tr>\n",
       "      <th>1664</th>\n",
       "      <td>1 in</td>\n",
       "      <td>[\"13 to 17 Inches\"]</td>\n",
       "    </tr>\n",
       "    <tr>\n",
       "      <th>1665</th>\n",
       "      <td>[\"1 in\",\"2 in\"]</td>\n",
       "      <td>[\"13 to 17 Inches\"]</td>\n",
       "    </tr>\n",
       "    <tr>\n",
       "      <th>1666</th>\n",
       "      <td>2 in</td>\n",
       "      <td>[\"13 to 17 Inches\"]</td>\n",
       "    </tr>\n",
       "    <tr>\n",
       "      <th>1667</th>\n",
       "      <td>2 in</td>\n",
       "      <td>[\"13 to 17 Inches\"]</td>\n",
       "    </tr>\n",
       "    <tr>\n",
       "      <th>1668</th>\n",
       "      <td>2 in</td>\n",
       "      <td>[\"13 to 17 Inches\"]</td>\n",
       "    </tr>\n",
       "    <tr>\n",
       "      <th>1669</th>\n",
       "      <td>2 in</td>\n",
       "      <td>[\"13 to 17 Inches\"]</td>\n",
       "    </tr>\n",
       "    <tr>\n",
       "      <th>2155</th>\n",
       "      <td>[\"13 to 17 Inches\",\"2 in\"]</td>\n",
       "      <td>[\"13 to 17 Inches\"]</td>\n",
       "    </tr>\n",
       "    <tr>\n",
       "      <th>2156</th>\n",
       "      <td>[\"13 to 17 Inches\",\"2 in\",\"3 to 12 Inches\"]</td>\n",
       "      <td>[\"13 to 17 Inches\",\"3 to 12 Inches\"]</td>\n",
       "    </tr>\n",
       "    <tr>\n",
       "      <th>2215</th>\n",
       "      <td>1 in</td>\n",
       "      <td>[\"13 to 17 Inches\"]</td>\n",
       "    </tr>\n",
       "    <tr>\n",
       "      <th>2216</th>\n",
       "      <td>1 in</td>\n",
       "      <td>[\"13 to 17 Inches\"]</td>\n",
       "    </tr>\n",
       "    <tr>\n",
       "      <th>2217</th>\n",
       "      <td>[\"1 in\",\"3 to 12 Inches\"]</td>\n",
       "      <td>[\"13 to 17 Inches\",\"3 to 12 Inches\"]</td>\n",
       "    </tr>\n",
       "    <tr>\n",
       "      <th>2218</th>\n",
       "      <td>2 in</td>\n",
       "      <td>[\"13 to 17 Inches\"]</td>\n",
       "    </tr>\n",
       "    <tr>\n",
       "      <th>2219</th>\n",
       "      <td>2 in</td>\n",
       "      <td>[\"13 to 17 Inches\"]</td>\n",
       "    </tr>\n",
       "    <tr>\n",
       "      <th>2220</th>\n",
       "      <td>2 in</td>\n",
       "      <td>[\"13 to 17 Inches\"]</td>\n",
       "    </tr>\n",
       "    <tr>\n",
       "      <th>2221</th>\n",
       "      <td>2 in</td>\n",
       "      <td>[\"13 to 17 Inches\"]</td>\n",
       "    </tr>\n",
       "    <tr>\n",
       "      <th>2222</th>\n",
       "      <td>2 in</td>\n",
       "      <td>[\"13 to 17 Inches\"]</td>\n",
       "    </tr>\n",
       "    <tr>\n",
       "      <th>2223</th>\n",
       "      <td>2 in</td>\n",
       "      <td>[\"13 to 17 Inches\"]</td>\n",
       "    </tr>\n",
       "    <tr>\n",
       "      <th>2224</th>\n",
       "      <td>2 in</td>\n",
       "      <td>[\"13 to 17 Inches\"]</td>\n",
       "    </tr>\n",
       "    <tr>\n",
       "      <th>2603</th>\n",
       "      <td>2 in</td>\n",
       "      <td>[\"13 to 17 Inches\"]</td>\n",
       "    </tr>\n",
       "    <tr>\n",
       "      <th>2606</th>\n",
       "      <td>2 in</td>\n",
       "      <td>[\"13 to 17 Inches\"]</td>\n",
       "    </tr>\n",
       "    <tr>\n",
       "      <th>2985</th>\n",
       "      <td>[\"2 in\",\"3 to 12 Inches\"]</td>\n",
       "      <td>[\"13 to 17 Inches\",\"3 to 12 Inches\"]</td>\n",
       "    </tr>\n",
       "    <tr>\n",
       "      <th>2986</th>\n",
       "      <td>2 in</td>\n",
       "      <td>[\"13 to 17 Inches\"]</td>\n",
       "    </tr>\n",
       "    <tr>\n",
       "      <th>2987</th>\n",
       "      <td>2 in</td>\n",
       "      <td>[\"13 to 17 Inches\"]</td>\n",
       "    </tr>\n",
       "    <tr>\n",
       "      <th>2988</th>\n",
       "      <td>2 in</td>\n",
       "      <td>[\"13 to 17 Inches\"]</td>\n",
       "    </tr>\n",
       "    <tr>\n",
       "      <th>2989</th>\n",
       "      <td>2 in</td>\n",
       "      <td>[\"13 to 17 Inches\"]</td>\n",
       "    </tr>\n",
       "    <tr>\n",
       "      <th>2990</th>\n",
       "      <td>2 in</td>\n",
       "      <td>[\"13 to 17 Inches\"]</td>\n",
       "    </tr>\n",
       "    <tr>\n",
       "      <th>2991</th>\n",
       "      <td>2 in</td>\n",
       "      <td>[\"13 to 17 Inches\"]</td>\n",
       "    </tr>\n",
       "    <tr>\n",
       "      <th>2992</th>\n",
       "      <td>2 in</td>\n",
       "      <td>[\"13 to 17 Inches\"]</td>\n",
       "    </tr>\n",
       "    <tr>\n",
       "      <th>2993</th>\n",
       "      <td>[\"1 in\",\"2 in\"]</td>\n",
       "      <td>[\"13 to 17 Inches\"]</td>\n",
       "    </tr>\n",
       "    <tr>\n",
       "      <th>2994</th>\n",
       "      <td>1 in</td>\n",
       "      <td>[\"13 to 17 Inches\"]</td>\n",
       "    </tr>\n",
       "    <tr>\n",
       "      <th>2995</th>\n",
       "      <td>1 in</td>\n",
       "      <td>[\"13 to 17 Inches\"]</td>\n",
       "    </tr>\n",
       "    <tr>\n",
       "      <th>2996</th>\n",
       "      <td>[\"18 Inches and Higher\",\"2 in\"]</td>\n",
       "      <td>[\"18 Inches and Higher\",\"13 to 17 Inches\"]</td>\n",
       "    </tr>\n",
       "    <tr>\n",
       "      <th>3053</th>\n",
       "      <td>[\"13 to 17 Inches\",\"2 in\",\"3 to 12 Inches\"]</td>\n",
       "      <td>[\"13 to 17 Inches\",\"3 to 12 Inches\"]</td>\n",
       "    </tr>\n",
       "    <tr>\n",
       "      <th>3054</th>\n",
       "      <td>[\"13 to 17 Inches\",\"2 in\",\"3 to 12 Inches\"]</td>\n",
       "      <td>[\"13 to 17 Inches\",\"3 to 12 Inches\"]</td>\n",
       "    </tr>\n",
       "    <tr>\n",
       "      <th>3055</th>\n",
       "      <td>[\"13 to 17 Inches\",\"2 in\"]</td>\n",
       "      <td>[\"13 to 17 Inches\"]</td>\n",
       "    </tr>\n",
       "    <tr>\n",
       "      <th>3271</th>\n",
       "      <td>[\"13 to 17 Inches\",\"2 in\"]</td>\n",
       "      <td>[\"13 to 17 Inches\"]</td>\n",
       "    </tr>\n",
       "    <tr>\n",
       "      <th>3272</th>\n",
       "      <td>[\"13 to 17 Inches\",\"2 in\"]</td>\n",
       "      <td>[\"13 to 17 Inches\"]</td>\n",
       "    </tr>\n",
       "    <tr>\n",
       "      <th>3273</th>\n",
       "      <td>[\"13 to 17 Inches\",\"2 in\",\"3 to 12 Inches\"]</td>\n",
       "      <td>[\"13 to 17 Inches\",\"3 to 12 Inches\"]</td>\n",
       "    </tr>\n",
       "    <tr>\n",
       "      <th>3329</th>\n",
       "      <td>[\"18 Inches and Higher\",\"2 in\"]</td>\n",
       "      <td>[\"18 Inches and Higher\",\"13 to 17 Inches\"]</td>\n",
       "    </tr>\n",
       "    <tr>\n",
       "      <th>3331</th>\n",
       "      <td>1 in</td>\n",
       "      <td>[\"13 to 17 Inches\"]</td>\n",
       "    </tr>\n",
       "    <tr>\n",
       "      <th>3332</th>\n",
       "      <td>1 in</td>\n",
       "      <td>[\"13 to 17 Inches\"]</td>\n",
       "    </tr>\n",
       "    <tr>\n",
       "      <th>3333</th>\n",
       "      <td>[\"1 in\",\"3 to 12 Inches\"]</td>\n",
       "      <td>[\"13 to 17 Inches\",\"3 to 12 Inches\"]</td>\n",
       "    </tr>\n",
       "    <tr>\n",
       "      <th>3334</th>\n",
       "      <td>2 in</td>\n",
       "      <td>[\"13 to 17 Inches\"]</td>\n",
       "    </tr>\n",
       "    <tr>\n",
       "      <th>3335</th>\n",
       "      <td>2 in</td>\n",
       "      <td>[\"13 to 17 Inches\"]</td>\n",
       "    </tr>\n",
       "    <tr>\n",
       "      <th>3336</th>\n",
       "      <td>2 in</td>\n",
       "      <td>[\"13 to 17 Inches\"]</td>\n",
       "    </tr>\n",
       "    <tr>\n",
       "      <th>3337</th>\n",
       "      <td>2 in</td>\n",
       "      <td>[\"13 to 17 Inches\"]</td>\n",
       "    </tr>\n",
       "    <tr>\n",
       "      <th>3338</th>\n",
       "      <td>2 in</td>\n",
       "      <td>[\"13 to 17 Inches\"]</td>\n",
       "    </tr>\n",
       "    <tr>\n",
       "      <th>3339</th>\n",
       "      <td>2 in</td>\n",
       "      <td>[\"13 to 17 Inches\"]</td>\n",
       "    </tr>\n",
       "    <tr>\n",
       "      <th>3340</th>\n",
       "      <td>2 in</td>\n",
       "      <td>[\"13 to 17 Inches\"]</td>\n",
       "    </tr>\n",
       "    <tr>\n",
       "      <th>3341</th>\n",
       "      <td>[\"2 in\",\"3 to 12 Inches\"]</td>\n",
       "      <td>[\"13 to 17 Inches\",\"3 to 12 Inches\"]</td>\n",
       "    </tr>\n",
       "    <tr>\n",
       "      <th>3720</th>\n",
       "      <td>1 in</td>\n",
       "      <td>[\"13 to 17 Inches\"]</td>\n",
       "    </tr>\n",
       "    <tr>\n",
       "      <th>3723</th>\n",
       "      <td>2 in</td>\n",
       "      <td>[\"13 to 17 Inches\"]</td>\n",
       "    </tr>\n",
       "    <tr>\n",
       "      <th>4311</th>\n",
       "      <td>[\"13 to 17 Inches\",\"2 in\"]</td>\n",
       "      <td>[\"13 to 17 Inches\"]</td>\n",
       "    </tr>\n",
       "    <tr>\n",
       "      <th>4312</th>\n",
       "      <td>[\"13 to 17 Inches\",\"2 in\"]</td>\n",
       "      <td>[\"13 to 17 Inches\"]</td>\n",
       "    </tr>\n",
       "    <tr>\n",
       "      <th>4313</th>\n",
       "      <td>[\"13 to 17 Inches\",\"2 in\",\"3 to 12 Inches\"]</td>\n",
       "      <td>[\"13 to 17 Inches\",\"3 to 12 Inches\"]</td>\n",
       "    </tr>\n",
       "    <tr>\n",
       "      <th>4314</th>\n",
       "      <td>[\"13 to 17 Inches\",\"2 in\",\"3 to 12 Inches\"]</td>\n",
       "      <td>[\"13 to 17 Inches\",\"3 to 12 Inches\"]</td>\n",
       "    </tr>\n",
       "    <tr>\n",
       "      <th>4315</th>\n",
       "      <td>[\"13 to 17 Inches\",\"2 in\",\"3 to 12 Inches\"]</td>\n",
       "      <td>[\"13 to 17 Inches\",\"3 to 12 Inches\"]</td>\n",
       "    </tr>\n",
       "    <tr>\n",
       "      <th>4429</th>\n",
       "      <td>[\"18 Inches and Higher\",\"2 in\"]</td>\n",
       "      <td>[\"18 Inches and Higher\",\"13 to 17 Inches\"]</td>\n",
       "    </tr>\n",
       "    <tr>\n",
       "      <th>4431</th>\n",
       "      <td>1 in</td>\n",
       "      <td>[\"13 to 17 Inches\"]</td>\n",
       "    </tr>\n",
       "    <tr>\n",
       "      <th>4432</th>\n",
       "      <td>1 in</td>\n",
       "      <td>[\"13 to 17 Inches\"]</td>\n",
       "    </tr>\n",
       "    <tr>\n",
       "      <th>4433</th>\n",
       "      <td>1 in</td>\n",
       "      <td>[\"13 to 17 Inches\"]</td>\n",
       "    </tr>\n",
       "    <tr>\n",
       "      <th>4434</th>\n",
       "      <td>1 in</td>\n",
       "      <td>[\"13 to 17 Inches\"]</td>\n",
       "    </tr>\n",
       "    <tr>\n",
       "      <th>4435</th>\n",
       "      <td>[\"1 in\",\"3 to 12 Inches\"]</td>\n",
       "      <td>[\"13 to 17 Inches\",\"3 to 12 Inches\"]</td>\n",
       "    </tr>\n",
       "    <tr>\n",
       "      <th>4436</th>\n",
       "      <td>[\"1 in\",\"3 to 12 Inches\"]</td>\n",
       "      <td>[\"13 to 17 Inches\",\"3 to 12 Inches\"]</td>\n",
       "    </tr>\n",
       "    <tr>\n",
       "      <th>4437</th>\n",
       "      <td>2 in</td>\n",
       "      <td>[\"13 to 17 Inches\"]</td>\n",
       "    </tr>\n",
       "    <tr>\n",
       "      <th>4438</th>\n",
       "      <td>2 in</td>\n",
       "      <td>[\"13 to 17 Inches\"]</td>\n",
       "    </tr>\n",
       "    <tr>\n",
       "      <th>4439</th>\n",
       "      <td>2 in</td>\n",
       "      <td>[\"13 to 17 Inches\"]</td>\n",
       "    </tr>\n",
       "    <tr>\n",
       "      <th>4440</th>\n",
       "      <td>2 in</td>\n",
       "      <td>[\"13 to 17 Inches\"]</td>\n",
       "    </tr>\n",
       "    <tr>\n",
       "      <th>4441</th>\n",
       "      <td>2 in</td>\n",
       "      <td>[\"13 to 17 Inches\"]</td>\n",
       "    </tr>\n",
       "    <tr>\n",
       "      <th>4442</th>\n",
       "      <td>2 in</td>\n",
       "      <td>[\"13 to 17 Inches\"]</td>\n",
       "    </tr>\n",
       "    <tr>\n",
       "      <th>4443</th>\n",
       "      <td>2 in</td>\n",
       "      <td>[\"13 to 17 Inches\"]</td>\n",
       "    </tr>\n",
       "    <tr>\n",
       "      <th>4444</th>\n",
       "      <td>2 in</td>\n",
       "      <td>[\"13 to 17 Inches\"]</td>\n",
       "    </tr>\n",
       "    <tr>\n",
       "      <th>4445</th>\n",
       "      <td>2 in</td>\n",
       "      <td>[\"13 to 17 Inches\"]</td>\n",
       "    </tr>\n",
       "    <tr>\n",
       "      <th>4446</th>\n",
       "      <td>2 in</td>\n",
       "      <td>[\"13 to 17 Inches\"]</td>\n",
       "    </tr>\n",
       "    <tr>\n",
       "      <th>4447</th>\n",
       "      <td>2 in</td>\n",
       "      <td>[\"13 to 17 Inches\"]</td>\n",
       "    </tr>\n",
       "    <tr>\n",
       "      <th>4448</th>\n",
       "      <td>2 in</td>\n",
       "      <td>[\"13 to 17 Inches\"]</td>\n",
       "    </tr>\n",
       "    <tr>\n",
       "      <th>4449</th>\n",
       "      <td>2 in</td>\n",
       "      <td>[\"13 to 17 Inches\"]</td>\n",
       "    </tr>\n",
       "    <tr>\n",
       "      <th>4450</th>\n",
       "      <td>2 in</td>\n",
       "      <td>[\"13 to 17 Inches\"]</td>\n",
       "    </tr>\n",
       "  </tbody>\n",
       "</table>\n",
       "</div>"
      ],
      "text/plain": [
       "                                            value  \\\n",
       "137                                          2 in   \n",
       "185                                          2 in   \n",
       "189                    [\"13 to 17 Inches\",\"2 in\"]   \n",
       "276                                          2 in   \n",
       "372                                          2 in   \n",
       "380                    [\"13 to 17 Inches\",\"2 in\"]   \n",
       "407                    [\"13 to 17 Inches\",\"2 in\"]   \n",
       "415                                          2 in   \n",
       "537                    [\"13 to 17 Inches\",\"2 in\"]   \n",
       "553                                          2 in   \n",
       "554                                          2 in   \n",
       "650                                          2 in   \n",
       "745                                          2 in   \n",
       "746                                          2 in   \n",
       "747                                          1 in   \n",
       "762                    [\"13 to 17 Inches\",\"2 in\"]   \n",
       "831                                          1 in   \n",
       "832                                          2 in   \n",
       "833                                          2 in   \n",
       "929                                          1 in   \n",
       "1077  [\"13 to 17 Inches\",\"2 in\",\"3 to 12 Inches\"]   \n",
       "1107                                         1 in   \n",
       "1108                                         2 in   \n",
       "1109                                         2 in   \n",
       "1110                                         2 in   \n",
       "1111                    [\"2 in\",\"3 to 12 Inches\"]   \n",
       "1302                                         2 in   \n",
       "1492                                         2 in   \n",
       "1493                                         2 in   \n",
       "1494                                         2 in   \n",
       "1495                    [\"1 in\",\"3 to 12 Inches\"]   \n",
       "1496                                         1 in   \n",
       "1526  [\"13 to 17 Inches\",\"2 in\",\"3 to 12 Inches\"]   \n",
       "1635  [\"13 to 17 Inches\",\"2 in\",\"3 to 12 Inches\"]   \n",
       "1664                                         1 in   \n",
       "1665                              [\"1 in\",\"2 in\"]   \n",
       "1666                                         2 in   \n",
       "1667                                         2 in   \n",
       "1668                                         2 in   \n",
       "1669                                         2 in   \n",
       "2155                   [\"13 to 17 Inches\",\"2 in\"]   \n",
       "2156  [\"13 to 17 Inches\",\"2 in\",\"3 to 12 Inches\"]   \n",
       "2215                                         1 in   \n",
       "2216                                         1 in   \n",
       "2217                    [\"1 in\",\"3 to 12 Inches\"]   \n",
       "2218                                         2 in   \n",
       "2219                                         2 in   \n",
       "2220                                         2 in   \n",
       "2221                                         2 in   \n",
       "2222                                         2 in   \n",
       "2223                                         2 in   \n",
       "2224                                         2 in   \n",
       "2603                                         2 in   \n",
       "2606                                         2 in   \n",
       "2985                    [\"2 in\",\"3 to 12 Inches\"]   \n",
       "2986                                         2 in   \n",
       "2987                                         2 in   \n",
       "2988                                         2 in   \n",
       "2989                                         2 in   \n",
       "2990                                         2 in   \n",
       "2991                                         2 in   \n",
       "2992                                         2 in   \n",
       "2993                              [\"1 in\",\"2 in\"]   \n",
       "2994                                         1 in   \n",
       "2995                                         1 in   \n",
       "2996              [\"18 Inches and Higher\",\"2 in\"]   \n",
       "3053  [\"13 to 17 Inches\",\"2 in\",\"3 to 12 Inches\"]   \n",
       "3054  [\"13 to 17 Inches\",\"2 in\",\"3 to 12 Inches\"]   \n",
       "3055                   [\"13 to 17 Inches\",\"2 in\"]   \n",
       "3271                   [\"13 to 17 Inches\",\"2 in\"]   \n",
       "3272                   [\"13 to 17 Inches\",\"2 in\"]   \n",
       "3273  [\"13 to 17 Inches\",\"2 in\",\"3 to 12 Inches\"]   \n",
       "3329              [\"18 Inches and Higher\",\"2 in\"]   \n",
       "3331                                         1 in   \n",
       "3332                                         1 in   \n",
       "3333                    [\"1 in\",\"3 to 12 Inches\"]   \n",
       "3334                                         2 in   \n",
       "3335                                         2 in   \n",
       "3336                                         2 in   \n",
       "3337                                         2 in   \n",
       "3338                                         2 in   \n",
       "3339                                         2 in   \n",
       "3340                                         2 in   \n",
       "3341                    [\"2 in\",\"3 to 12 Inches\"]   \n",
       "3720                                         1 in   \n",
       "3723                                         2 in   \n",
       "4311                   [\"13 to 17 Inches\",\"2 in\"]   \n",
       "4312                   [\"13 to 17 Inches\",\"2 in\"]   \n",
       "4313  [\"13 to 17 Inches\",\"2 in\",\"3 to 12 Inches\"]   \n",
       "4314  [\"13 to 17 Inches\",\"2 in\",\"3 to 12 Inches\"]   \n",
       "4315  [\"13 to 17 Inches\",\"2 in\",\"3 to 12 Inches\"]   \n",
       "4429              [\"18 Inches and Higher\",\"2 in\"]   \n",
       "4431                                         1 in   \n",
       "4432                                         1 in   \n",
       "4433                                         1 in   \n",
       "4434                                         1 in   \n",
       "4435                    [\"1 in\",\"3 to 12 Inches\"]   \n",
       "4436                    [\"1 in\",\"3 to 12 Inches\"]   \n",
       "4437                                         2 in   \n",
       "4438                                         2 in   \n",
       "4439                                         2 in   \n",
       "4440                                         2 in   \n",
       "4441                                         2 in   \n",
       "4442                                         2 in   \n",
       "4443                                         2 in   \n",
       "4444                                         2 in   \n",
       "4445                                         2 in   \n",
       "4446                                         2 in   \n",
       "4447                                         2 in   \n",
       "4448                                         2 in   \n",
       "4449                                         2 in   \n",
       "4450                                         2 in   \n",
       "\n",
       "                                         matchez  \n",
       "137                          [\"13 to 17 Inches\"]  \n",
       "185                          [\"13 to 17 Inches\"]  \n",
       "189                          [\"13 to 17 Inches\"]  \n",
       "276                          [\"13 to 17 Inches\"]  \n",
       "372                          [\"13 to 17 Inches\"]  \n",
       "380                          [\"13 to 17 Inches\"]  \n",
       "407                          [\"13 to 17 Inches\"]  \n",
       "415                          [\"13 to 17 Inches\"]  \n",
       "537                          [\"13 to 17 Inches\"]  \n",
       "553                          [\"13 to 17 Inches\"]  \n",
       "554                          [\"13 to 17 Inches\"]  \n",
       "650                          [\"13 to 17 Inches\"]  \n",
       "745                          [\"13 to 17 Inches\"]  \n",
       "746                          [\"13 to 17 Inches\"]  \n",
       "747                          [\"13 to 17 Inches\"]  \n",
       "762                          [\"13 to 17 Inches\"]  \n",
       "831                          [\"13 to 17 Inches\"]  \n",
       "832                          [\"13 to 17 Inches\"]  \n",
       "833                          [\"13 to 17 Inches\"]  \n",
       "929                          [\"13 to 17 Inches\"]  \n",
       "1077        [\"13 to 17 Inches\",\"3 to 12 Inches\"]  \n",
       "1107                         [\"13 to 17 Inches\"]  \n",
       "1108                         [\"13 to 17 Inches\"]  \n",
       "1109                         [\"13 to 17 Inches\"]  \n",
       "1110                         [\"13 to 17 Inches\"]  \n",
       "1111        [\"13 to 17 Inches\",\"3 to 12 Inches\"]  \n",
       "1302                         [\"13 to 17 Inches\"]  \n",
       "1492                         [\"13 to 17 Inches\"]  \n",
       "1493                         [\"13 to 17 Inches\"]  \n",
       "1494                         [\"13 to 17 Inches\"]  \n",
       "1495        [\"13 to 17 Inches\",\"3 to 12 Inches\"]  \n",
       "1496                         [\"13 to 17 Inches\"]  \n",
       "1526        [\"13 to 17 Inches\",\"3 to 12 Inches\"]  \n",
       "1635        [\"13 to 17 Inches\",\"3 to 12 Inches\"]  \n",
       "1664                         [\"13 to 17 Inches\"]  \n",
       "1665                         [\"13 to 17 Inches\"]  \n",
       "1666                         [\"13 to 17 Inches\"]  \n",
       "1667                         [\"13 to 17 Inches\"]  \n",
       "1668                         [\"13 to 17 Inches\"]  \n",
       "1669                         [\"13 to 17 Inches\"]  \n",
       "2155                         [\"13 to 17 Inches\"]  \n",
       "2156        [\"13 to 17 Inches\",\"3 to 12 Inches\"]  \n",
       "2215                         [\"13 to 17 Inches\"]  \n",
       "2216                         [\"13 to 17 Inches\"]  \n",
       "2217        [\"13 to 17 Inches\",\"3 to 12 Inches\"]  \n",
       "2218                         [\"13 to 17 Inches\"]  \n",
       "2219                         [\"13 to 17 Inches\"]  \n",
       "2220                         [\"13 to 17 Inches\"]  \n",
       "2221                         [\"13 to 17 Inches\"]  \n",
       "2222                         [\"13 to 17 Inches\"]  \n",
       "2223                         [\"13 to 17 Inches\"]  \n",
       "2224                         [\"13 to 17 Inches\"]  \n",
       "2603                         [\"13 to 17 Inches\"]  \n",
       "2606                         [\"13 to 17 Inches\"]  \n",
       "2985        [\"13 to 17 Inches\",\"3 to 12 Inches\"]  \n",
       "2986                         [\"13 to 17 Inches\"]  \n",
       "2987                         [\"13 to 17 Inches\"]  \n",
       "2988                         [\"13 to 17 Inches\"]  \n",
       "2989                         [\"13 to 17 Inches\"]  \n",
       "2990                         [\"13 to 17 Inches\"]  \n",
       "2991                         [\"13 to 17 Inches\"]  \n",
       "2992                         [\"13 to 17 Inches\"]  \n",
       "2993                         [\"13 to 17 Inches\"]  \n",
       "2994                         [\"13 to 17 Inches\"]  \n",
       "2995                         [\"13 to 17 Inches\"]  \n",
       "2996  [\"18 Inches and Higher\",\"13 to 17 Inches\"]  \n",
       "3053        [\"13 to 17 Inches\",\"3 to 12 Inches\"]  \n",
       "3054        [\"13 to 17 Inches\",\"3 to 12 Inches\"]  \n",
       "3055                         [\"13 to 17 Inches\"]  \n",
       "3271                         [\"13 to 17 Inches\"]  \n",
       "3272                         [\"13 to 17 Inches\"]  \n",
       "3273        [\"13 to 17 Inches\",\"3 to 12 Inches\"]  \n",
       "3329  [\"18 Inches and Higher\",\"13 to 17 Inches\"]  \n",
       "3331                         [\"13 to 17 Inches\"]  \n",
       "3332                         [\"13 to 17 Inches\"]  \n",
       "3333        [\"13 to 17 Inches\",\"3 to 12 Inches\"]  \n",
       "3334                         [\"13 to 17 Inches\"]  \n",
       "3335                         [\"13 to 17 Inches\"]  \n",
       "3336                         [\"13 to 17 Inches\"]  \n",
       "3337                         [\"13 to 17 Inches\"]  \n",
       "3338                         [\"13 to 17 Inches\"]  \n",
       "3339                         [\"13 to 17 Inches\"]  \n",
       "3340                         [\"13 to 17 Inches\"]  \n",
       "3341        [\"13 to 17 Inches\",\"3 to 12 Inches\"]  \n",
       "3720                         [\"13 to 17 Inches\"]  \n",
       "3723                         [\"13 to 17 Inches\"]  \n",
       "4311                         [\"13 to 17 Inches\"]  \n",
       "4312                         [\"13 to 17 Inches\"]  \n",
       "4313        [\"13 to 17 Inches\",\"3 to 12 Inches\"]  \n",
       "4314        [\"13 to 17 Inches\",\"3 to 12 Inches\"]  \n",
       "4315        [\"13 to 17 Inches\",\"3 to 12 Inches\"]  \n",
       "4429  [\"18 Inches and Higher\",\"13 to 17 Inches\"]  \n",
       "4431                         [\"13 to 17 Inches\"]  \n",
       "4432                         [\"13 to 17 Inches\"]  \n",
       "4433                         [\"13 to 17 Inches\"]  \n",
       "4434                         [\"13 to 17 Inches\"]  \n",
       "4435        [\"13 to 17 Inches\",\"3 to 12 Inches\"]  \n",
       "4436        [\"13 to 17 Inches\",\"3 to 12 Inches\"]  \n",
       "4437                         [\"13 to 17 Inches\"]  \n",
       "4438                         [\"13 to 17 Inches\"]  \n",
       "4439                         [\"13 to 17 Inches\"]  \n",
       "4440                         [\"13 to 17 Inches\"]  \n",
       "4441                         [\"13 to 17 Inches\"]  \n",
       "4442                         [\"13 to 17 Inches\"]  \n",
       "4443                         [\"13 to 17 Inches\"]  \n",
       "4444                         [\"13 to 17 Inches\"]  \n",
       "4445                         [\"13 to 17 Inches\"]  \n",
       "4446                         [\"13 to 17 Inches\"]  \n",
       "4447                         [\"13 to 17 Inches\"]  \n",
       "4448                         [\"13 to 17 Inches\"]  \n",
       "4449                         [\"13 to 17 Inches\"]  \n",
       "4450                         [\"13 to 17 Inches\"]  "
      ]
     },
     "execution_count": 54,
     "metadata": {},
     "output_type": "execute_result"
    }
   ],
   "source": [
    "# depth['matches']=depth['match'].apply(lambda x: remove_duplicates([n.strip() for n in ast.literal_eval(x)])).apply(range_app).apply(lambda x: re.sub(r\"\\['\",'[\"',str(x))).apply(lambda x: re.sub(r\"'\\]\",'\"]',str(x))).apply(lambda x: re.sub(r\"'\\s?,\\s?'\",'\",\"',str(x))).apply(lambda x: re.sub(r\"'\\[\",'[',str(x))).apply(lambda x: re.sub(r\"\\]'\",']',str(x))).apply(lambda x: re.sub(r'\\,\\s',',',str(x))).apply(lambda x: remove_duplicates([n.strip() for n in ast.literal_eval(x)])) .apply(lambda x: re.sub(r\"\\['\",'[\"',str(x))).apply(lambda x: re.sub(r\"'\\]\",'\"]',str(x))).apply(lambda x: re.sub(r\"'\\s?,\\s?'\",'\",\"',str(x))).apply(lambda x: re.sub(r\"'\\[\",'[',str(x))).apply(lambda x: re.sub(r\"\\]'\",']',str(x)))\n",
    "depth[['value','matchez']]"
   ]
  },
  {
   "cell_type": "code",
   "execution_count": 17,
   "metadata": {},
   "outputs": [],
   "source": [
    "# for i in range(len(depth.columns)):\n",
    "#     print(depth.columns[i])"
   ]
  },
  {
   "cell_type": "code",
   "execution_count": 8,
   "metadata": {},
   "outputs": [],
   "source": [
    "depth['Q:depth_sheets']=depth['matchez']\n",
    "match_depth_sheets=depth[['external_id','Q:depth_sheets']]"
   ]
  },
  {
   "cell_type": "code",
   "execution_count": null,
   "metadata": {},
   "outputs": [],
   "source": [
    "def get_df_name(df):\n",
    "    name =[x for x in globals() if globals()[x] is df][0]\n",
    "    return name\n",
    "def looks_good(customer, matches): \n",
    "    drive_path = f'G:/Shared drives/GroupBy Public/Customer Success/.Enrich/Platform Upload Trail/{customer}/_Ready For Upload' \n",
    "    matches.to_csv(f'{drive_path}/Bed Bath & Beyond --{get_df_name(matches)}-match_depth_sheets{today}.csv',index=False) \n",
    "# looks_good('Bed Bath & Beyond',match_depth_sheets)"
   ]
  },
  {
   "cell_type": "code",
   "execution_count": null,
   "metadata": {},
   "outputs": [],
   "source": [
    "# depth_sheets\n",
    "108 in\n",
    "10 in\n",
    "12\n",
    "12 in\n",
    "13 in\n",
    "13 to 17 Inches\n",
    "14 in\n",
    "15 in\n",
    "16 in\n",
    "17 in\n",
    "18 in\n",
    "19 in\n",
    "1 in\n",
    "20 in\n",
    "21 in\n",
    "24 in\n",
    "25 in\n",
    "2 in\n",
    "30 in\n",
    "5 in\n",
    "6 in\n",
    "75 in\n",
    "8 in\n",
    "9 in"
   ]
  },
  {
   "cell_type": "code",
   "execution_count": null,
   "metadata": {},
   "outputs": [],
   "source": [
    "13 to 17 Inches\n",
    "18 Inches and Higher\n",
    "3 to 12 Inches\n",
    "n/a"
   ]
  },
  {
   "cell_type": "markdown",
   "metadata": {},
   "source": [
    "#### Done"
   ]
  },
  {
   "cell_type": "code",
   "execution_count": null,
   "metadata": {},
   "outputs": [],
   "source": [
    "df=import_one_att('diameter_range')\n",
    "print(len(df))\n",
    "diameter_range=df.loc[(df['attribute'].astype(str)=='diameter_range')&((df['value'].astype(str)=='[]')|(df['value'].astype(str)=='[]')|(df['value'].astype(str)=='[]')|(df['value'].astype(str)=='[]')|(df['value'].astype(str)=='[]')|(df['value'].astype(str)=='[]')|(df['value'].astype(str)=='[]')|(df['value'].astype(str)=='[]')|(df['value'].astype(str)=='[]'))]                     \n",
    "print(len(diameter_range))\n",
    "pat='''(?i)(\\d )'''\n",
    "diameter=filters(df,pat)\n",
    "print(len(diameter))"
   ]
  },
  {
   "cell_type": "code",
   "execution_count": null,
   "metadata": {},
   "outputs": [],
   "source": [
    "diameter"
   ]
  },
  {
   "cell_type": "code",
   "execution_count": null,
   "metadata": {},
   "outputs": [],
   "source": [
    "# diameter_range\n",
    "0 - 11.9\n",
    "12 - 23.9\n",
    "24 - 35.9\n",
    "36 - 47.9\n",
    "48 - 59.9\n",
    "60 - 71.9\n",
    "72 or Greater"
   ]
  },
  {
   "cell_type": "code",
   "execution_count": null,
   "metadata": {},
   "outputs": [],
   "source": [
    "0\" - 11.9\"\n",
    "12\" - 23.9\"\n",
    "24\" - 35.9\"\n",
    "36\" - 47.9\"\n",
    "48\" - 59.9\"\n",
    "60\" - 71.9\"\n",
    "72\" or Greater"
   ]
  },
  {
   "cell_type": "markdown",
   "metadata": {},
   "source": [
    "#### Done"
   ]
  },
  {
   "cell_type": "code",
   "execution_count": null,
   "metadata": {},
   "outputs": [],
   "source": [
    "df=import_one_att('fabric_weight_type')\n",
    "print(len(df))\n",
    "fabric_weight_type=df.loc[(df['attribute'].astype(str)=='fabric_weight_type')&((df['value'].astype(str)=='Lightweight (300-450 GSM)')|(df['value'].astype(str)=='Midweight (450-550 GSM)')|(df['value'].astype(str)=='[]')|(df['value'].astype(str)=='[]')|(df['value'].astype(str)=='[]')|(df['value'].astype(str)=='[]')|(df['value'].astype(str)=='[]')|(df['value'].astype(str)=='[]')|(df['value'].astype(str)=='[]'))]                     \n",
    "print(len(fabric_weight_type))\n",
    "\n",
    "pat='''(?i)(449)'''\n",
    "fab=filters(df,pat)\n",
    "print(len(fab))"
   ]
  },
  {
   "cell_type": "code",
   "execution_count": null,
   "metadata": {},
   "outputs": [],
   "source": [
    "# fabric_weight_type\n",
    "Lightweight (300-450 GSM)\n",
    "Midweight (450-550 GSM)"
   ]
  },
  {
   "cell_type": "code",
   "execution_count": null,
   "metadata": {},
   "outputs": [],
   "source": [
    "Heavyweight (550+ GSM)\n",
    "Lightweight (300-449 GSM)\n",
    "Midweight (450-549 GSM)\n",
    "n/a"
   ]
  },
  {
   "cell_type": "markdown",
   "metadata": {},
   "source": [
    "# Look over--save till last"
   ]
  },
  {
   "cell_type": "code",
   "execution_count": 21,
   "metadata": {},
   "outputs": [
    {
     "name": "stdout",
     "output_type": "stream",
     "text": [
      "1424938\n",
      "37\n"
     ]
    }
   ],
   "source": [
    "df=import_one_att('features')\n",
    "print(len(df))\n",
    "# features=df.loc[(df['attribute'].astype(str)=='features')&((df['value'].astype(str)=='Adjustable ncline')|(df['value'].astype(str)=='Adjustable Power')|(df['value'].astype(str)=='Auto Shut Off')|(df['value'].astype(str)=='Bed-making placement labels')|(df['value'].astype(str)=='Boot/Foot Muff ncluded')|(df['value'].astype(str)=='Ceiling Mountable')|(df['value'].astype(str)=='ENERGY STAR-Certified')|(df['value'].astype(str)=='Full Tang')|(df['value'].astype(str)=='Hand Break')|(df['value'].astype(str)=='Includes Filters')|(df['value'].astype(str)=='Indoor/Outdoor')|(df['value'].astype(str)=='Machine Washable')|(df['value'].astype(str)=='Microwaveable')|(df['value'].astype(str)=='No Slip Grip')|(df['value'].astype(str)=='NSF Approved')|(df['value'].astype(str)=='Removable Infant Insert ncluded')|(df['value'].astype(str)=='Set')|(df['value'].astype(str)=='Tiebacks')|(df['value'].astype(str)=='Temperature/Humidity Reading')|(df['value'].astype(str)=='Valence'))]                     \n",
    "# print(len(features))"
   ]
  },
  {
   "cell_type": "code",
   "execution_count": 41,
   "metadata": {},
   "outputs": [
    {
     "data": {
      "text/plain": [
       "Ceiling Mountable        17\n",
       "Set                       7\n",
       "Machine Washable          5\n",
       "Adjustable Power          3\n",
       "Auto Shut Off             1\n",
       "ENERGY STAR-Certified     1\n",
       "Full Tang                 1\n",
       "Microwaveable             1\n",
       "No Slip Grip              1\n",
       "Name: value, dtype: int64"
      ]
     },
     "execution_count": 41,
     "metadata": {},
     "output_type": "execute_result"
    }
   ],
   "source": [
    "features['value'].explode().value_counts()"
   ]
  },
  {
   "cell_type": "code",
   "execution_count": 45,
   "metadata": {},
   "outputs": [],
   "source": [
    "pat='''(?i)(?:adjustable.?ncline|adjustable.?power|auto.?shut.?off|bed.?making.?placement.?labels|boot.?foot.?muff.?ncluded|ncluded|ceiling.?mountable|energy.?star.?certified|full.?tang|hand break|includes filters|indoor\\/outdoor|machine washable|microwaveable|no slip grip|nsf approved|removable infant insert ncluded|set|temperature\\/humidity reading|tiebacks|valence)'''\n",
    "feat=filters(df,pat)\n"
   ]
  },
  {
   "cell_type": "code",
   "execution_count": 46,
   "metadata": {},
   "outputs": [
    {
     "name": "stdout",
     "output_type": "stream",
     "text": [
      "0\n"
     ]
    },
    {
     "data": {
      "text/plain": [
       "Series([], Name: value, dtype: int64)"
      ]
     },
     "execution_count": 46,
     "metadata": {},
     "output_type": "execute_result"
    }
   ],
   "source": [
    "print(len(feat))\n",
    "feat['value'].explode().value_counts()"
   ]
  },
  {
   "cell_type": "code",
   "execution_count": null,
   "metadata": {},
   "outputs": [],
   "source": []
  },
  {
   "cell_type": "code",
   "execution_count": null,
   "metadata": {},
   "outputs": [],
   "source": []
  },
  {
   "cell_type": "code",
   "execution_count": null,
   "metadata": {},
   "outputs": [],
   "source": []
  },
  {
   "cell_type": "code",
   "execution_count": null,
   "metadata": {},
   "outputs": [],
   "source": []
  },
  {
   "cell_type": "code",
   "execution_count": null,
   "metadata": {},
   "outputs": [],
   "source": []
  },
  {
   "cell_type": "code",
   "execution_count": 42,
   "metadata": {},
   "outputs": [],
   "source": [
    "features['Q:features']=''\n",
    "match_features=features[['external_id','Q:features']]"
   ]
  },
  {
   "cell_type": "code",
   "execution_count": 43,
   "metadata": {},
   "outputs": [],
   "source": [
    "def get_df_name(df):\n",
    "    name =[x for x in globals() if globals()[x] is df][0]\n",
    "    return name\n",
    "def looks_good(customer, matches): \n",
    "    drive_path = f'G:/Shared drives/GroupBy Public/Customer Success/.Enrich/Platform Upload Trail/{customer}/_Ready For Upload' \n",
    "    matches.to_csv(f'{drive_path}/Bed Bath & Beyond --{get_df_name(matches)}-match_features{today}.csv',index=False) \n",
    "looks_good('Bed Bath & Beyond',match_features)"
   ]
  },
  {
   "cell_type": "code",
   "execution_count": null,
   "metadata": {},
   "outputs": [],
   "source": []
  },
  {
   "cell_type": "code",
   "execution_count": null,
   "metadata": {},
   "outputs": [],
   "source": [
    "# features\n",
    "Adjustable ncline\n",
    "Adjustable Power\n",
    "Auto Shut Off\n",
    "Bed-making placement labels\n",
    "Boot/Foot Muff ncluded\n",
    "Ceiling Mountable\n",
    "ENERGY STAR-Certified\n",
    "Full Tang\n",
    "Hand Break\n",
    "Includes Filters\n",
    "Indoor/Outdoor\n",
    "Machine Washable\n",
    "Microwaveable\n",
    "No Slip Grip\n",
    "NSF Approved\n",
    "Removable Infant Insert ncluded\n",
    "Set\n",
    "Temperature/Humidity Reading\n",
    "Tiebacks\n",
    "Valence"
   ]
  },
  {
   "cell_type": "code",
   "execution_count": null,
   "metadata": {},
   "outputs": [],
   "source": [
    "way too many values"
   ]
  },
  {
   "cell_type": "markdown",
   "metadata": {},
   "source": [
    "#### Done"
   ]
  },
  {
   "cell_type": "code",
   "execution_count": null,
   "metadata": {},
   "outputs": [],
   "source": [
    "df=import_one_att('fits_laptop')\n",
    "fits_laptop=df.loc[(df['attribute'].astype(str)=='fits_laptop')&((df['value'].astype(str)=='13')|(df['value'].astype(str)=='15')|(df['value'].astype(str)=='[]')|(df['value'].astype(str)=='[]')|(df['value'].astype(str)=='[]')|(df['value'].astype(str)=='[]')|(df['value'].astype(str)=='[]')|(df['value'].astype(str)=='[]')|(df['value'].astype(str)=='[]'))]                    \n",
    "print(len(fits_laptop))"
   ]
  },
  {
   "cell_type": "code",
   "execution_count": null,
   "metadata": {},
   "outputs": [],
   "source": [
    "# fits_laptop\n",
    "13\n",
    "15"
   ]
  },
  {
   "cell_type": "code",
   "execution_count": null,
   "metadata": {},
   "outputs": [],
   "source": [
    "13\"\n",
    "15\""
   ]
  },
  {
   "cell_type": "markdown",
   "metadata": {},
   "source": [
    "#### Done"
   ]
  },
  {
   "cell_type": "code",
   "execution_count": 14,
   "metadata": {},
   "outputs": [
    {
     "name": "stdout",
     "output_type": "stream",
     "text": [
      "0\n"
     ]
    }
   ],
   "source": [
    "df=import_one_att('freezing_method')\n",
    "freezing_method=df.loc[(df['attribute'].astype(str)=='freezing_method')&((df['value'].astype(str)=='Freezable')|(df['value'].astype(str)=='[]')|(df['value'].astype(str)=='[]')|(df['value'].astype(str)=='[]')|(df['value'].astype(str)=='[]')|(df['value'].astype(str)=='[]')|(df['value'].astype(str)=='[]')|(df['value'].astype(str)=='[]')|(df['value'].astype(str)=='[]'))]                    \n",
    "print(len(freezing_method))"
   ]
  },
  {
   "cell_type": "code",
   "execution_count": 16,
   "metadata": {},
   "outputs": [
    {
     "name": "stdout",
     "output_type": "stream",
     "text": [
      "0\n"
     ]
    }
   ],
   "source": [
    "print(len(freezing_method))"
   ]
  },
  {
   "cell_type": "code",
   "execution_count": 15,
   "metadata": {},
   "outputs": [],
   "source": [
    "freezing_method['Q:freezing_method']=''\n",
    "match_freezing_method=freezing_method[['external_id','Q:freezing_method']]"
   ]
  },
  {
   "cell_type": "code",
   "execution_count": 58,
   "metadata": {},
   "outputs": [],
   "source": [
    "def get_df_name(df):\n",
    "    name =[x for x in globals() if globals()[x] is df][0]\n",
    "    return name\n",
    "def looks_good(customer, matches): \n",
    "    drive_path = f'G:/Shared drives/GroupBy Public/Customer Success/.Enrich/Platform Upload Trail/{customer}/_Ready For Upload' \n",
    "    matches.to_csv(f'{drive_path}/Bed Bath & Beyond --{get_df_name(matches)}-match_freezing_method{today}.csv',index=False) \n",
    "# looks_good('Bed Bath & Beyond',match_freezing_method)"
   ]
  },
  {
   "cell_type": "code",
   "execution_count": null,
   "metadata": {},
   "outputs": [],
   "source": [
    "# freezing_method\n",
    "Freezable"
   ]
  },
  {
   "cell_type": "code",
   "execution_count": null,
   "metadata": {},
   "outputs": [],
   "source": [
    "Compressor\n",
    "Electric\n",
    "Freezer Bowl\n",
    "Rock Salt"
   ]
  },
  {
   "cell_type": "markdown",
   "metadata": {},
   "source": [
    "#### Done"
   ]
  },
  {
   "cell_type": "code",
   "execution_count": null,
   "metadata": {},
   "outputs": [],
   "source": [
    "df=import_one_att('height_range')\n",
    "height_range=df.loc[(df['attribute'].astype(str)=='height_range')&((df['value'].astype(str)=='Large (15 - 23)')|(df['value'].astype(str)=='Medium (8 - 14.9)')|(df['value'].astype(str)=='Oversized (Over 23)')|(df['value'].astype(str)=='Small (Under 8)')|(df['value'].astype(str)=='[]')|(df['value'].astype(str)=='[]')|(df['value'].astype(str)=='[]')|(df['value'].astype(str)=='[]')|(df['value'].astype(str)=='[]'))]                     \n",
    "print(len(height_range))"
   ]
  },
  {
   "cell_type": "code",
   "execution_count": null,
   "metadata": {},
   "outputs": [],
   "source": [
    "# height_range\n",
    "Large (15 - 23)\n",
    "Medium (8 - 14.9)\n",
    "Oversized (Over 23)\n",
    "Small (Under 8)"
   ]
  },
  {
   "cell_type": "code",
   "execution_count": null,
   "metadata": {},
   "outputs": [],
   "source": [
    "Large (15\" - 23\")\n",
    "Medium (8\" - 14.9\")\n",
    "Oversized (Over 23\")\n",
    "Small (Under 8\")"
   ]
  },
  {
   "cell_type": "code",
   "execution_count": null,
   "metadata": {},
   "outputs": [],
   "source": []
  },
  {
   "cell_type": "code",
   "execution_count": 16,
   "metadata": {},
   "outputs": [
    {
     "name": "stdout",
     "output_type": "stream",
     "text": [
      "8111\n"
     ]
    }
   ],
   "source": [
    "df=import_one_att('indoor_outdoor')\n",
    "indoor_outdoor=df.loc[(df['attribute'].astype(str)=='indoor_outdoor')&((df['value'].astype(str)=='Indoor'))]                     \n",
    "print(len(indoor_outdoor))"
   ]
  },
  {
   "cell_type": "code",
   "execution_count": 17,
   "metadata": {},
   "outputs": [
    {
     "name": "stdout",
     "output_type": "stream",
     "text": [
      "8111\n"
     ]
    }
   ],
   "source": [
    "print(len(indoor_outdoor))"
   ]
  },
  {
   "cell_type": "code",
   "execution_count": null,
   "metadata": {},
   "outputs": [],
   "source": [
    "indoor_outdoor['Q:indoor_outdoor']=''\n",
    "match_indoor_outdoor=indoor_outdoor[['external_id','Q:indoor_outdoor']]\n",
    "\n",
    "def get_df_name(df):\n",
    "    name =[x for x in globals() if globals()[x] is df][0]\n",
    "    return name\n",
    "def looks_good(customer, matches): \n",
    "    drive_path = f'G:/Shared drives/GroupBy Public/Customer Success/.Enrich/Platform Upload Trail/{customer}/_Ready For Upload' \n",
    "    matches.to_csv(f'{drive_path}/Bed Bath & Beyond --{get_df_name(matches)}-match_indoor_outdoor{today}.csv',index=False) \n",
    "looks_good('Bed Bath & Beyond',match_indoor_outdoor)"
   ]
  },
  {
   "cell_type": "code",
   "execution_count": null,
   "metadata": {},
   "outputs": [],
   "source": [
    "# indoor_outdoor\n",
    "Indoor\n",
    "Indoor"
   ]
  },
  {
   "cell_type": "code",
   "execution_count": null,
   "metadata": {},
   "outputs": [],
   "source": [
    "Indoor & Outdoor\n",
    "n/a\n",
    "Outdoor"
   ]
  },
  {
   "cell_type": "markdown",
   "metadata": {},
   "source": [
    "#### Done"
   ]
  },
  {
   "cell_type": "code",
   "execution_count": null,
   "metadata": {},
   "outputs": [],
   "source": [
    "df=import_one_att('infant_car_seat_brand_model_compatibility')\n",
    "infant_car_seat_brand_model_compatibility=df.loc[(df['attribute'].astype(str)=='infant_car_seat_brand_model_compatibility')&((df['value'].astype(str)=='BOB')|(df['value'].astype(str)=='Britax')|(df['value'].astype(str)=='[]')|(df['value'].astype(str)=='gb Idan')|(df['value'].astype(str)=='Maxi Cosi')|(df['value'].astype(str)=='Nuna Pipa')|(df['value'].astype(str)=='[]')|(df['value'].astype(str)=='[]')|(df['value'].astype(str)=='[]'))]                     \n",
    "print(len(infant_car_seat_brand_model_compatibility))"
   ]
  },
  {
   "cell_type": "code",
   "execution_count": null,
   "metadata": {},
   "outputs": [],
   "source": [
    "# infant_car_seat_brand_model_compatibility\n",
    "BOB\n",
    "Britax\n",
    "gb Idan\n",
    "Maxi Cosi\n",
    "Nuna Pipa"
   ]
  },
  {
   "cell_type": "code",
   "execution_count": null,
   "metadata": {},
   "outputs": [],
   "source": [
    "Adaptors sold separately\n",
    "All Major\n",
    "Ally Infant Car Seat and Base\n",
    "Baby Jogger\n",
    "Baby Trend\n",
    "Baby Trend Ally 35\n",
    "Britax, BOB\n",
    "Britax/BOB\n",
    "Britax, BOB, BOB Gear\n",
    "Bugaboo Turtle by Nuna\n",
    "Chicco\n",
    "Click Connect\n",
    "Click Connect Infant Car Seats\n",
    "Compatible with 35+ Infant Car Seats\n",
    "Cybex\n",
    "Cybex, gb Idan\n",
    "CYBEX Infant Car Seat\n",
    "Cybex, Nuna Pipa, Maxi Cosi\n",
    "Graco\n",
    "Nuna Turtle"
   ]
  },
  {
   "cell_type": "markdown",
   "metadata": {},
   "source": [
    "#### Done"
   ]
  },
  {
   "cell_type": "code",
   "execution_count": null,
   "metadata": {},
   "outputs": [],
   "source": [
    "df=import_one_att('leg_height')\n",
    "leg_height=df.loc[(df['attribute'].astype(str)=='leg_height')&((df['value'].astype(str)=='12-18 Inches')|(df['value'].astype(str)=='[]')|(df['value'].astype(str)=='[]')|(df['value'].astype(str)=='[]')|(df['value'].astype(str)=='[]')|(df['value'].astype(str)=='[]')|(df['value'].astype(str)=='[]')|(df['value'].astype(str)=='[]')|(df['value'].astype(str)=='[]'))]                    \n",
    "print(len(leg_height))"
   ]
  },
  {
   "cell_type": "code",
   "execution_count": null,
   "metadata": {},
   "outputs": [],
   "source": [
    "# leg_height\n",
    "12-18 Inches"
   ]
  },
  {
   "cell_type": "code",
   "execution_count": null,
   "metadata": {},
   "outputs": [],
   "source": [
    "0-6 Inches\n",
    "13-18 Inches\n",
    "19-24 Inches\n",
    "7-12 Inches\n",
    "Greater than 24 Inches"
   ]
  },
  {
   "cell_type": "markdown",
   "metadata": {},
   "source": [
    "#### Done"
   ]
  },
  {
   "cell_type": "code",
   "execution_count": 17,
   "metadata": {},
   "outputs": [
    {
     "name": "stdout",
     "output_type": "stream",
     "text": [
      "14896\n",
      "0\n"
     ]
    }
   ],
   "source": [
    "df=import_one_att('lumens')\n",
    "print(len(df))\n",
    "lumens=df.loc[(df['attribute'].astype(str)=='lumens')&((df['value'].astype(str)=='[]')|(df['value'].astype(str)=='000 - 1')|(df['value'].astype(str)=='[]')|(df['value'].astype(str)=='[]')|(df['value'].astype(str)=='[]')|(df['value'].astype(str)=='[]')|(df['value'].astype(str)=='[]')|(df['value'].astype(str)=='[]')|(df['value'].astype(str)=='[]'))]    \n",
    "print(len(lumens))\n",
    "pat='''(?i)((?<!\\,)(?<! )(?<!\\d \\-)(?<!\\- \\d\\d)(?<!\\,\\d\\d)\\d(?! \\-)(?!\\,)(?!\\d))|((?<!\\d)(?<!\\,)0(?! \\-))'''\n",
    "lu=filters(df,pat)"
   ]
  },
  {
   "cell_type": "code",
   "execution_count": 18,
   "metadata": {},
   "outputs": [
    {
     "name": "stdout",
     "output_type": "stream",
     "text": [
      "1\n"
     ]
    }
   ],
   "source": [
    "lu=filters(df,pat)\n",
    "print(len(lu))\n",
    "lu['Q:lumens']=''\n",
    "match_lumens=lu[['external_id','Q:lumens']]"
   ]
  },
  {
   "cell_type": "code",
   "execution_count": 21,
   "metadata": {},
   "outputs": [],
   "source": [
    "def get_df_name(df):\n",
    "    name =[x for x in globals() if globals()[x] is df][0]\n",
    "    return name\n",
    "def looks_good(customer, matches): \n",
    "    drive_path = f'G:/Shared drives/GroupBy Public/Customer Success/.Enrich/Platform Upload Trail/{customer}/_Ready For Upload' \n",
    "    matches.to_csv(f'{drive_path}/Bed Bath & Beyond --{get_df_name(matches)}-match_lumens{today}.csv',index=False) \n",
    "looks_good('Bed Bath & Beyond',match_lumens)"
   ]
  },
  {
   "cell_type": "code",
   "execution_count": null,
   "metadata": {},
   "outputs": [],
   "source": [
    "# lumens\n",
    "0\n",
    "000 - 1\n",
    "50\n",
    "72\n",
    "1\n",
    "10\n",
    "100\n",
    "1000 - 1599\n",
    "1050\n",
    "11\n",
    "1100\n",
    "12\n",
    "120\n",
    "13\n",
    "135\n",
    "14\n",
    "15\n",
    "150\n",
    "16\n",
    "1600+\n",
    "1606\n",
    "17\n",
    "170\n",
    "19\n",
    "2\n",
    "20\n",
    "200\n",
    "21\n",
    "240\n",
    "25\n",
    "250\n",
    "28\n",
    "280\n",
    "29\n",
    "290\n",
    "3\n",
    "300\n",
    "350\n",
    "360\n",
    "380\n",
    "39\n",
    "4\n",
    "40\n",
    "400\n",
    "42\n",
    "43\n",
    "430\n",
    "44\n",
    "450\n",
    "480\n",
    "5\n",
    "50\n",
    "500\n",
    "520\n",
    "538\n",
    "54\n",
    "555\n",
    "599\n",
    "6\n",
    "600\n",
    "600+\n",
    "606\n",
    "610\n",
    "640\n",
    "7\n",
    "700\n",
    "750\n",
    "760\n",
    "8\n",
    "800\n",
    "837\n",
    "85\n",
    "850\n",
    "870\n",
    "9\n",
    "900\n",
    "957\n",
    "980\n",
    "990"
   ]
  },
  {
   "cell_type": "code",
   "execution_count": null,
   "metadata": {},
   "outputs": [],
   "source": [
    "0 - 449\n",
    "1,000 - 1,599\n",
    "1,600+\n",
    "450 - 799\n",
    "800 - 999"
   ]
  },
  {
   "cell_type": "markdown",
   "metadata": {},
   "source": [
    "# Need to do this--save till last"
   ]
  },
  {
   "cell_type": "code",
   "execution_count": 5,
   "metadata": {},
   "outputs": [
    {
     "name": "stdout",
     "output_type": "stream",
     "text": [
      "start\n",
      "continuing\n",
      "customs\n"
     ]
    },
    {
     "ename": "AttributeError",
     "evalue": "'NoneType' object has no attribute 'items'",
     "output_type": "error",
     "traceback": [
      "\u001b[1;31m---------------------------------------------------------------------------\u001b[0m",
      "\u001b[1;31mAttributeError\u001b[0m                            Traceback (most recent call last)",
      "\u001b[1;32m<ipython-input-5-321804ca0f87>\u001b[0m in \u001b[0;36m<module>\u001b[1;34m\u001b[0m\n\u001b[0;32m     17\u001b[0m \u001b[1;31m# dfz=dfz[dfz['buckets'].astype(str)=='Conduit Fittings, Replacement Parts, & Accessories']\u001b[0m\u001b[1;33m\u001b[0m\u001b[1;33m\u001b[0m\u001b[1;33m\u001b[0m\u001b[0m\n\u001b[0;32m     18\u001b[0m \u001b[0mprint\u001b[0m\u001b[1;33m(\u001b[0m\u001b[1;34m'customs'\u001b[0m\u001b[1;33m)\u001b[0m\u001b[1;33m\u001b[0m\u001b[1;33m\u001b[0m\u001b[0m\n\u001b[1;32m---> 19\u001b[1;33m \u001b[0mcustom_field_df\u001b[0m\u001b[1;33m=\u001b[0m\u001b[0mpd\u001b[0m\u001b[1;33m.\u001b[0m\u001b[0mjson_normalize\u001b[0m\u001b[1;33m(\u001b[0m\u001b[0mdfs\u001b[0m\u001b[1;33m[\u001b[0m\u001b[1;34m'custom_fields'\u001b[0m\u001b[1;33m]\u001b[0m\u001b[1;33m)\u001b[0m\u001b[1;33m\u001b[0m\u001b[1;33m\u001b[0m\u001b[0m\n\u001b[0m\u001b[0;32m     20\u001b[0m \u001b[0mdf\u001b[0m\u001b[1;33m=\u001b[0m\u001b[0mpd\u001b[0m\u001b[1;33m.\u001b[0m\u001b[0mconcat\u001b[0m\u001b[1;33m(\u001b[0m\u001b[1;33m[\u001b[0m\u001b[0mdfs\u001b[0m\u001b[1;33m.\u001b[0m\u001b[0mdrop\u001b[0m\u001b[1;33m(\u001b[0m\u001b[1;34m'custom_fields'\u001b[0m\u001b[1;33m,\u001b[0m \u001b[0maxis\u001b[0m\u001b[1;33m=\u001b[0m\u001b[1;36m1\u001b[0m\u001b[1;33m)\u001b[0m\u001b[1;33m,\u001b[0m \u001b[0mcustom_field_df\u001b[0m\u001b[1;33m]\u001b[0m\u001b[1;33m,\u001b[0m \u001b[0maxis\u001b[0m \u001b[1;33m=\u001b[0m \u001b[1;36m1\u001b[0m\u001b[1;33m)\u001b[0m\u001b[1;33m\u001b[0m\u001b[1;33m\u001b[0m\u001b[0m\n",
      "\u001b[1;32m~\\anaconda3\\lib\\site-packages\\pandas\\io\\json\\_normalize.py\u001b[0m in \u001b[0;36m_json_normalize\u001b[1;34m(data, record_path, meta, meta_prefix, record_prefix, errors, sep, max_level)\u001b[0m\n\u001b[0;32m    276\u001b[0m             \u001b[1;31m# TODO: handle record value which are lists, at least error\u001b[0m\u001b[1;33m\u001b[0m\u001b[1;33m\u001b[0m\u001b[1;33m\u001b[0m\u001b[0m\n\u001b[0;32m    277\u001b[0m             \u001b[1;31m#       reasonably\u001b[0m\u001b[1;33m\u001b[0m\u001b[1;33m\u001b[0m\u001b[1;33m\u001b[0m\u001b[0m\n\u001b[1;32m--> 278\u001b[1;33m             \u001b[0mdata\u001b[0m \u001b[1;33m=\u001b[0m \u001b[0mnested_to_record\u001b[0m\u001b[1;33m(\u001b[0m\u001b[0mdata\u001b[0m\u001b[1;33m,\u001b[0m \u001b[0msep\u001b[0m\u001b[1;33m=\u001b[0m\u001b[0msep\u001b[0m\u001b[1;33m,\u001b[0m \u001b[0mmax_level\u001b[0m\u001b[1;33m=\u001b[0m\u001b[0mmax_level\u001b[0m\u001b[1;33m)\u001b[0m\u001b[1;33m\u001b[0m\u001b[1;33m\u001b[0m\u001b[0m\n\u001b[0m\u001b[0;32m    279\u001b[0m         \u001b[1;32mreturn\u001b[0m \u001b[0mDataFrame\u001b[0m\u001b[1;33m(\u001b[0m\u001b[0mdata\u001b[0m\u001b[1;33m)\u001b[0m\u001b[1;33m\u001b[0m\u001b[1;33m\u001b[0m\u001b[0m\n\u001b[0;32m    280\u001b[0m     \u001b[1;32melif\u001b[0m \u001b[1;32mnot\u001b[0m \u001b[0misinstance\u001b[0m\u001b[1;33m(\u001b[0m\u001b[0mrecord_path\u001b[0m\u001b[1;33m,\u001b[0m \u001b[0mlist\u001b[0m\u001b[1;33m)\u001b[0m\u001b[1;33m:\u001b[0m\u001b[1;33m\u001b[0m\u001b[1;33m\u001b[0m\u001b[0m\n",
      "\u001b[1;32m~\\anaconda3\\lib\\site-packages\\pandas\\io\\json\\_normalize.py\u001b[0m in \u001b[0;36mnested_to_record\u001b[1;34m(ds, prefix, sep, level, max_level)\u001b[0m\n\u001b[0;32m     80\u001b[0m     \u001b[1;32mfor\u001b[0m \u001b[0md\u001b[0m \u001b[1;32min\u001b[0m \u001b[0mds\u001b[0m\u001b[1;33m:\u001b[0m\u001b[1;33m\u001b[0m\u001b[1;33m\u001b[0m\u001b[0m\n\u001b[0;32m     81\u001b[0m         \u001b[0mnew_d\u001b[0m \u001b[1;33m=\u001b[0m \u001b[0mcopy\u001b[0m\u001b[1;33m.\u001b[0m\u001b[0mdeepcopy\u001b[0m\u001b[1;33m(\u001b[0m\u001b[0md\u001b[0m\u001b[1;33m)\u001b[0m\u001b[1;33m\u001b[0m\u001b[1;33m\u001b[0m\u001b[0m\n\u001b[1;32m---> 82\u001b[1;33m         \u001b[1;32mfor\u001b[0m \u001b[0mk\u001b[0m\u001b[1;33m,\u001b[0m \u001b[0mv\u001b[0m \u001b[1;32min\u001b[0m \u001b[0md\u001b[0m\u001b[1;33m.\u001b[0m\u001b[0mitems\u001b[0m\u001b[1;33m(\u001b[0m\u001b[1;33m)\u001b[0m\u001b[1;33m:\u001b[0m\u001b[1;33m\u001b[0m\u001b[1;33m\u001b[0m\u001b[0m\n\u001b[0m\u001b[0;32m     83\u001b[0m             \u001b[1;31m# each key gets renamed with prefix\u001b[0m\u001b[1;33m\u001b[0m\u001b[1;33m\u001b[0m\u001b[1;33m\u001b[0m\u001b[0m\n\u001b[0;32m     84\u001b[0m             \u001b[1;32mif\u001b[0m \u001b[1;32mnot\u001b[0m \u001b[0misinstance\u001b[0m\u001b[1;33m(\u001b[0m\u001b[0mk\u001b[0m\u001b[1;33m,\u001b[0m \u001b[0mstr\u001b[0m\u001b[1;33m)\u001b[0m\u001b[1;33m:\u001b[0m\u001b[1;33m\u001b[0m\u001b[1;33m\u001b[0m\u001b[0m\n",
      "\u001b[1;31mAttributeError\u001b[0m: 'NoneType' object has no attribute 'items'"
     ]
    }
   ],
   "source": [
    "customer_id = '5'\n",
    "customer_name='%bedbathandbeyond%'\n",
    "dateszs='2001-08-11'\n",
    "attribut='material'\n",
    "\n",
    "\n",
    "params = {'customer_id': customer_id,\n",
    "          'customer_name':customer_name,\n",
    "         'dateszs':dateszs,\n",
    "         'attribute':attribut}\n",
    "print('start')\n",
    "dfs = query_from_file(file_name='../query/curated_all_attributes_date_one_attribute.sql', params=params)\n",
    "print('continuing')\n",
    "# dfs=dfs[dfs['resolution'].astype(str)!='rules']\n",
    "# print('dfs')\n",
    "# dfz=dfs[dfs['custom_fields'].astype(str)!='None']\n",
    "# dfz=dfz[dfz['buckets'].astype(str)=='Conduit Fittings, Replacement Parts, & Accessories']\n",
    "print('customs')\n",
    "custom_field_df=pd.json_normalize(dfs['custom_fields'])\n",
    "df=pd.concat([dfs.drop('custom_fields', axis=1), custom_field_df], axis = 1)"
   ]
  },
  {
   "cell_type": "code",
   "execution_count": null,
   "metadata": {},
   "outputs": [],
   "source": [
    "dfs\n",
    "dfz=dfs[dfs['custom_fields'].astype(str)!='None']"
   ]
  },
  {
   "cell_type": "code",
   "execution_count": null,
   "metadata": {},
   "outputs": [],
   "source": [
    "pat='''((?:(?<![A-z] )Blend|Cotton.?blend|Cotton\\/Cotton.?Blend|MDF|Metallic|Rayon\\/Rayon.?Blend))'''\n",
    "material=filters(dfs,pat)"
   ]
  },
  {
   "cell_type": "code",
   "execution_count": 4,
   "metadata": {},
   "outputs": [
    {
     "ename": "DatabaseError",
     "evalue": "Execution failed on sql: \nSELECT\n\tcurated_product_fields.\"name\" AS \"attribute\",\n     buckets.\"name\"  AS \"buckets\",\n     buckets.\"id\" AS \"bucket_id\",\n\tcurated_product_fields.\"value\",\n\tcustomers.\"name\"  AS \"customer_name\",\n\tproducts.\"external_id\",\n    products.name AS product_name,\n\tproducts.\"description\"  AS \"long_desc\",\n        (DATE(curated_product_fields.\"curated_at\" )) AS \"curated_date\",\n\tCASE WHEN curation_tasks.\"resolution\" IS NULL THEN 'standard' ELSE resolution END,\n    curation_tasks.\"curated_by\"  AS \"curation_tasks.curated_by\",\n    cast(products.custom_fields AS jsonb) AS \"custom_fields\"\nFROM public.curated_product_fields  AS curated_product_fields\nLEFT JOIN public.curation_tasks  AS curation_tasks ON (curated_product_fields.\"curation_task_id\") = (curation_tasks.\"id\")\nLEFT JOIN public.products  AS products ON (curated_product_fields.\"product_id\") = (products.\"id\")\nLEFT JOIN public.customers  AS customers ON (curated_product_fields.\"customer_id\") = (customers.\"id\")\nLEFT JOIN public.curation_jobs  AS curation_jobs ON (curation_tasks.\"curation_job_id\") = (curation_jobs.\"id\")\nLEFT JOIN public.strategy_buckets_attributes  AS strategy_buckets_attributes ON (curation_jobs.\"strategy_buckets_attribute_id\") = (strategy_buckets_attributes.\"id\")\nLEFT JOIN public.strategy_buckets  AS strategy_buckets ON (strategy_buckets_attributes.\"strategy_bucket_id\") = (strategy_buckets.\"id\")\nLEFT JOIN public.buckets  AS buckets ON (strategy_buckets.\"bucket_id\") = (buckets.\"id\")\nWHERE (((customers.\"id\") = '5'))\nAND ((( curated_product_fields.\"name\") LIKE 'material' ESCAPE '^')) \nAND (curated_product_fields.\"curated_at\") >= '2001-08-11'\nGROUP BY 1,2,3,4,5,6,7,8,9,10,11,12\nORDER BY 2 DESC\n\n\n\n\n\n\n\n\n\n\ncanceling statement due to conflict with recovery\nDETAIL:  User was holding shared buffer pin for too long.\n\nunable to rollback",
     "output_type": "error",
     "traceback": [
      "\u001b[1;31m---------------------------------------------------------------------------\u001b[0m",
      "\u001b[1;31mSerializationFailure\u001b[0m                      Traceback (most recent call last)",
      "\u001b[1;32m~\\anaconda3\\lib\\site-packages\\pandas\\io\\sql.py\u001b[0m in \u001b[0;36mexecute\u001b[1;34m(self, *args, **kwargs)\u001b[0m\n\u001b[0;32m   1724\u001b[0m         \u001b[1;32mtry\u001b[0m\u001b[1;33m:\u001b[0m\u001b[1;33m\u001b[0m\u001b[1;33m\u001b[0m\u001b[0m\n\u001b[1;32m-> 1725\u001b[1;33m             \u001b[0mcur\u001b[0m\u001b[1;33m.\u001b[0m\u001b[0mexecute\u001b[0m\u001b[1;33m(\u001b[0m\u001b[1;33m*\u001b[0m\u001b[0margs\u001b[0m\u001b[1;33m,\u001b[0m \u001b[1;33m**\u001b[0m\u001b[0mkwargs\u001b[0m\u001b[1;33m)\u001b[0m\u001b[1;33m\u001b[0m\u001b[1;33m\u001b[0m\u001b[0m\n\u001b[0m\u001b[0;32m   1726\u001b[0m             \u001b[1;32mreturn\u001b[0m \u001b[0mcur\u001b[0m\u001b[1;33m\u001b[0m\u001b[1;33m\u001b[0m\u001b[0m\n",
      "\u001b[1;31mSerializationFailure\u001b[0m: canceling statement due to conflict with recovery\nDETAIL:  User was holding shared buffer pin for too long.\n",
      "\nDuring handling of the above exception, another exception occurred:\n",
      "\u001b[1;31mSerializationFailure\u001b[0m                      Traceback (most recent call last)",
      "\u001b[1;32m~\\anaconda3\\lib\\site-packages\\pandas\\io\\sql.py\u001b[0m in \u001b[0;36mexecute\u001b[1;34m(self, *args, **kwargs)\u001b[0m\n\u001b[0;32m   1728\u001b[0m             \u001b[1;32mtry\u001b[0m\u001b[1;33m:\u001b[0m\u001b[1;33m\u001b[0m\u001b[1;33m\u001b[0m\u001b[0m\n\u001b[1;32m-> 1729\u001b[1;33m                 \u001b[0mself\u001b[0m\u001b[1;33m.\u001b[0m\u001b[0mcon\u001b[0m\u001b[1;33m.\u001b[0m\u001b[0mrollback\u001b[0m\u001b[1;33m(\u001b[0m\u001b[1;33m)\u001b[0m\u001b[1;33m\u001b[0m\u001b[1;33m\u001b[0m\u001b[0m\n\u001b[0m\u001b[0;32m   1730\u001b[0m             \u001b[1;32mexcept\u001b[0m \u001b[0mException\u001b[0m \u001b[1;32mas\u001b[0m \u001b[0minner_exc\u001b[0m\u001b[1;33m:\u001b[0m  \u001b[1;31m# pragma: no cover\u001b[0m\u001b[1;33m\u001b[0m\u001b[1;33m\u001b[0m\u001b[0m\n",
      "\u001b[1;31mSerializationFailure\u001b[0m: terminating connection due to conflict with recovery\nDETAIL:  User was holding shared buffer pin for too long.\nHINT:  In a moment you should be able to reconnect to the database and repeat your command.\nSSL connection has been closed unexpectedly\n",
      "\nThe above exception was the direct cause of the following exception:\n",
      "\u001b[1;31mDatabaseError\u001b[0m                             Traceback (most recent call last)",
      "\u001b[1;32m<ipython-input-4-6eecb5e23fac>\u001b[0m in \u001b[0;36m<module>\u001b[1;34m\u001b[0m\n\u001b[1;32m----> 1\u001b[1;33m \u001b[0mdf\u001b[0m\u001b[1;33m=\u001b[0m\u001b[0mimport_one_att\u001b[0m\u001b[1;33m(\u001b[0m\u001b[1;34m'material'\u001b[0m\u001b[1;33m)\u001b[0m\u001b[1;33m\u001b[0m\u001b[1;33m\u001b[0m\u001b[0m\n\u001b[0m\u001b[0;32m      2\u001b[0m \u001b[1;31m# material=df.loc[(df['attribute'].astype(str)=='material')&((df['value'].astype(str)=='Blend')|(df['value'].astype(str)=='Cotton blend')|(df['value'].astype(str)=='Cotton/Cotton Blend')|(df['value'].astype(str)=='MDF')|(df['value'].astype(str)=='Metallic')|(df['value'].astype(str)=='Rayon/Rayon Blend')|(df['value'].astype(str)=='[]')|(df['value'].astype(str)=='[]')|(df['value'].astype(str)=='[]'))]\u001b[0m\u001b[1;33m\u001b[0m\u001b[1;33m\u001b[0m\u001b[1;33m\u001b[0m\u001b[0m\n\u001b[0;32m      3\u001b[0m \u001b[1;31m# print(len(material))\u001b[0m\u001b[1;33m\u001b[0m\u001b[1;33m\u001b[0m\u001b[1;33m\u001b[0m\u001b[0m\n",
      "\u001b[1;32m<ipython-input-3-ac6dc2dbb08d>\u001b[0m in \u001b[0;36mimport_one_att\u001b[1;34m(attribut)\u001b[0m\n\u001b[0;32m     11\u001b[0m              'attribute':attribut}\n\u001b[0;32m     12\u001b[0m \u001b[1;31m#     print('start')\u001b[0m\u001b[1;33m\u001b[0m\u001b[1;33m\u001b[0m\u001b[1;33m\u001b[0m\u001b[0m\n\u001b[1;32m---> 13\u001b[1;33m     \u001b[0mdfs\u001b[0m \u001b[1;33m=\u001b[0m \u001b[0mquery_from_file\u001b[0m\u001b[1;33m(\u001b[0m\u001b[0mfile_name\u001b[0m\u001b[1;33m=\u001b[0m\u001b[1;34m'../query/curated_all_attributes_date_one_attribute.sql'\u001b[0m\u001b[1;33m,\u001b[0m \u001b[0mparams\u001b[0m\u001b[1;33m=\u001b[0m\u001b[0mparams\u001b[0m\u001b[1;33m)\u001b[0m\u001b[1;33m\u001b[0m\u001b[1;33m\u001b[0m\u001b[0m\n\u001b[0m\u001b[0;32m     14\u001b[0m \u001b[1;31m#     print('continuing')\u001b[0m\u001b[1;33m\u001b[0m\u001b[1;33m\u001b[0m\u001b[1;33m\u001b[0m\u001b[0m\n\u001b[0;32m     15\u001b[0m     \u001b[1;31m# dfs=dfs[dfs['resolution'].astype(str)!='rules']\u001b[0m\u001b[1;33m\u001b[0m\u001b[1;33m\u001b[0m\u001b[1;33m\u001b[0m\u001b[0m\n",
      "\u001b[1;32mC:/Users/groupby/Documents/GitHub/SQL Extract And Apply\\enrich_dimensions\\query_file.py\u001b[0m in \u001b[0;36mquery_from_file\u001b[1;34m(file_name, params)\u001b[0m\n\u001b[0;32m     12\u001b[0m         \u001b[0mtext\u001b[0m \u001b[1;33m=\u001b[0m \u001b[0mf\u001b[0m\u001b[1;33m.\u001b[0m\u001b[0mread\u001b[0m\u001b[1;33m(\u001b[0m\u001b[1;33m)\u001b[0m\u001b[1;33m\u001b[0m\u001b[1;33m\u001b[0m\u001b[0m\n\u001b[0;32m     13\u001b[0m         \u001b[0mquery\u001b[0m \u001b[1;33m=\u001b[0m \u001b[0mtext\u001b[0m\u001b[1;33m.\u001b[0m\u001b[0mformat\u001b[0m\u001b[1;33m(\u001b[0m\u001b[1;33m**\u001b[0m\u001b[0mparams\u001b[0m\u001b[1;33m)\u001b[0m\u001b[1;33m\u001b[0m\u001b[1;33m\u001b[0m\u001b[0m\n\u001b[1;32m---> 14\u001b[1;33m         \u001b[1;32mreturn\u001b[0m \u001b[0menrich_db\u001b[0m\u001b[1;33m(\u001b[0m\u001b[0mquery\u001b[0m\u001b[1;33m)\u001b[0m\u001b[1;33m\u001b[0m\u001b[1;33m\u001b[0m\u001b[0m\n\u001b[0m\u001b[0;32m     15\u001b[0m \u001b[1;33m\u001b[0m\u001b[0m\n\u001b[0;32m     16\u001b[0m \u001b[1;33m\u001b[0m\u001b[0m\n",
      "\u001b[1;32m~\\anaconda3\\lib\\groupby_toolz\\enrich_db\\db_config\\db_config.py\u001b[0m in \u001b[0;36menrich_db\u001b[1;34m(query)\u001b[0m\n\u001b[0;32m     25\u001b[0m \u001b[1;33m\u001b[0m\u001b[0m\n\u001b[0;32m     26\u001b[0m         \u001b[0mconn\u001b[0m \u001b[1;33m=\u001b[0m \u001b[0mpsycopg2\u001b[0m\u001b[1;33m.\u001b[0m\u001b[0mconnect\u001b[0m\u001b[1;33m(\u001b[0m\u001b[1;33m**\u001b[0m\u001b[0mfeeddata\u001b[0m\u001b[1;33m)\u001b[0m\u001b[1;33m\u001b[0m\u001b[1;33m\u001b[0m\u001b[0m\n\u001b[1;32m---> 27\u001b[1;33m         \u001b[1;32mreturn\u001b[0m \u001b[0mread_sql\u001b[0m\u001b[1;33m(\u001b[0m\u001b[0mquery\u001b[0m\u001b[1;33m,\u001b[0m\u001b[0mconn\u001b[0m\u001b[1;33m)\u001b[0m\u001b[1;33m\u001b[0m\u001b[1;33m\u001b[0m\u001b[0m\n\u001b[0m\u001b[0;32m     28\u001b[0m \u001b[1;33m\u001b[0m\u001b[0m\n\u001b[0;32m     29\u001b[0m \u001b[1;32mdef\u001b[0m \u001b[0mquery_from_file\u001b[0m\u001b[1;33m(\u001b[0m\u001b[0mfilepath\u001b[0m\u001b[1;33m,\u001b[0m \u001b[0mfilename\u001b[0m\u001b[1;33m,\u001b[0m \u001b[0mparams\u001b[0m\u001b[1;33m=\u001b[0m\u001b[1;33m{\u001b[0m\u001b[1;33m}\u001b[0m\u001b[1;33m)\u001b[0m\u001b[1;33m:\u001b[0m\u001b[1;33m\u001b[0m\u001b[1;33m\u001b[0m\u001b[0m\n",
      "\u001b[1;32m~\\anaconda3\\lib\\site-packages\\pandas\\io\\sql.py\u001b[0m in \u001b[0;36mread_sql\u001b[1;34m(sql, con, index_col, coerce_float, params, parse_dates, columns, chunksize)\u001b[0m\n\u001b[0;32m    493\u001b[0m \u001b[1;33m\u001b[0m\u001b[0m\n\u001b[0;32m    494\u001b[0m     \u001b[1;32mif\u001b[0m \u001b[0misinstance\u001b[0m\u001b[1;33m(\u001b[0m\u001b[0mpandas_sql\u001b[0m\u001b[1;33m,\u001b[0m \u001b[0mSQLiteDatabase\u001b[0m\u001b[1;33m)\u001b[0m\u001b[1;33m:\u001b[0m\u001b[1;33m\u001b[0m\u001b[1;33m\u001b[0m\u001b[0m\n\u001b[1;32m--> 495\u001b[1;33m         return pandas_sql.read_query(\n\u001b[0m\u001b[0;32m    496\u001b[0m             \u001b[0msql\u001b[0m\u001b[1;33m,\u001b[0m\u001b[1;33m\u001b[0m\u001b[1;33m\u001b[0m\u001b[0m\n\u001b[0;32m    497\u001b[0m             \u001b[0mindex_col\u001b[0m\u001b[1;33m=\u001b[0m\u001b[0mindex_col\u001b[0m\u001b[1;33m,\u001b[0m\u001b[1;33m\u001b[0m\u001b[1;33m\u001b[0m\u001b[0m\n",
      "\u001b[1;32m~\\anaconda3\\lib\\site-packages\\pandas\\io\\sql.py\u001b[0m in \u001b[0;36mread_query\u001b[1;34m(self, sql, index_col, coerce_float, params, parse_dates, chunksize)\u001b[0m\n\u001b[0;32m   1769\u001b[0m \u001b[1;33m\u001b[0m\u001b[0m\n\u001b[0;32m   1770\u001b[0m         \u001b[0margs\u001b[0m \u001b[1;33m=\u001b[0m \u001b[0m_convert_params\u001b[0m\u001b[1;33m(\u001b[0m\u001b[0msql\u001b[0m\u001b[1;33m,\u001b[0m \u001b[0mparams\u001b[0m\u001b[1;33m)\u001b[0m\u001b[1;33m\u001b[0m\u001b[1;33m\u001b[0m\u001b[0m\n\u001b[1;32m-> 1771\u001b[1;33m         \u001b[0mcursor\u001b[0m \u001b[1;33m=\u001b[0m \u001b[0mself\u001b[0m\u001b[1;33m.\u001b[0m\u001b[0mexecute\u001b[0m\u001b[1;33m(\u001b[0m\u001b[1;33m*\u001b[0m\u001b[0margs\u001b[0m\u001b[1;33m)\u001b[0m\u001b[1;33m\u001b[0m\u001b[1;33m\u001b[0m\u001b[0m\n\u001b[0m\u001b[0;32m   1772\u001b[0m         \u001b[0mcolumns\u001b[0m \u001b[1;33m=\u001b[0m \u001b[1;33m[\u001b[0m\u001b[0mcol_desc\u001b[0m\u001b[1;33m[\u001b[0m\u001b[1;36m0\u001b[0m\u001b[1;33m]\u001b[0m \u001b[1;32mfor\u001b[0m \u001b[0mcol_desc\u001b[0m \u001b[1;32min\u001b[0m \u001b[0mcursor\u001b[0m\u001b[1;33m.\u001b[0m\u001b[0mdescription\u001b[0m\u001b[1;33m]\u001b[0m\u001b[1;33m\u001b[0m\u001b[1;33m\u001b[0m\u001b[0m\n\u001b[0;32m   1773\u001b[0m \u001b[1;33m\u001b[0m\u001b[0m\n",
      "\u001b[1;32m~\\anaconda3\\lib\\site-packages\\pandas\\io\\sql.py\u001b[0m in \u001b[0;36mexecute\u001b[1;34m(self, *args, **kwargs)\u001b[0m\n\u001b[0;32m   1732\u001b[0m                     \u001b[1;34mf\"Execution failed on sql: {args[0]}\\n{exc}\\nunable to rollback\"\u001b[0m\u001b[1;33m\u001b[0m\u001b[1;33m\u001b[0m\u001b[0m\n\u001b[0;32m   1733\u001b[0m                 )\n\u001b[1;32m-> 1734\u001b[1;33m                 \u001b[1;32mraise\u001b[0m \u001b[0mex\u001b[0m \u001b[1;32mfrom\u001b[0m \u001b[0minner_exc\u001b[0m\u001b[1;33m\u001b[0m\u001b[1;33m\u001b[0m\u001b[0m\n\u001b[0m\u001b[0;32m   1735\u001b[0m \u001b[1;33m\u001b[0m\u001b[0m\n\u001b[0;32m   1736\u001b[0m             \u001b[0mex\u001b[0m \u001b[1;33m=\u001b[0m \u001b[0mDatabaseError\u001b[0m\u001b[1;33m(\u001b[0m\u001b[1;34mf\"Execution failed on sql '{args[0]}': {exc}\"\u001b[0m\u001b[1;33m)\u001b[0m\u001b[1;33m\u001b[0m\u001b[1;33m\u001b[0m\u001b[0m\n",
      "\u001b[1;31mDatabaseError\u001b[0m: Execution failed on sql: \nSELECT\n\tcurated_product_fields.\"name\" AS \"attribute\",\n     buckets.\"name\"  AS \"buckets\",\n     buckets.\"id\" AS \"bucket_id\",\n\tcurated_product_fields.\"value\",\n\tcustomers.\"name\"  AS \"customer_name\",\n\tproducts.\"external_id\",\n    products.name AS product_name,\n\tproducts.\"description\"  AS \"long_desc\",\n        (DATE(curated_product_fields.\"curated_at\" )) AS \"curated_date\",\n\tCASE WHEN curation_tasks.\"resolution\" IS NULL THEN 'standard' ELSE resolution END,\n    curation_tasks.\"curated_by\"  AS \"curation_tasks.curated_by\",\n    cast(products.custom_fields AS jsonb) AS \"custom_fields\"\nFROM public.curated_product_fields  AS curated_product_fields\nLEFT JOIN public.curation_tasks  AS curation_tasks ON (curated_product_fields.\"curation_task_id\") = (curation_tasks.\"id\")\nLEFT JOIN public.products  AS products ON (curated_product_fields.\"product_id\") = (products.\"id\")\nLEFT JOIN public.customers  AS customers ON (curated_product_fields.\"customer_id\") = (customers.\"id\")\nLEFT JOIN public.curation_jobs  AS curation_jobs ON (curation_tasks.\"curation_job_id\") = (curation_jobs.\"id\")\nLEFT JOIN public.strategy_buckets_attributes  AS strategy_buckets_attributes ON (curation_jobs.\"strategy_buckets_attribute_id\") = (strategy_buckets_attributes.\"id\")\nLEFT JOIN public.strategy_buckets  AS strategy_buckets ON (strategy_buckets_attributes.\"strategy_bucket_id\") = (strategy_buckets.\"id\")\nLEFT JOIN public.buckets  AS buckets ON (strategy_buckets.\"bucket_id\") = (buckets.\"id\")\nWHERE (((customers.\"id\") = '5'))\nAND ((( curated_product_fields.\"name\") LIKE 'material' ESCAPE '^')) \nAND (curated_product_fields.\"curated_at\") >= '2001-08-11'\nGROUP BY 1,2,3,4,5,6,7,8,9,10,11,12\nORDER BY 2 DESC\n\n\n\n\n\n\n\n\n\n\ncanceling statement due to conflict with recovery\nDETAIL:  User was holding shared buffer pin for too long.\n\nunable to rollback"
     ]
    }
   ],
   "source": [
    "df=import_one_att('material')\n",
    "# material=df.loc[(df['attribute'].astype(str)=='material')&((df['value'].astype(str)=='Blend')|(df['value'].astype(str)=='Cotton blend')|(df['value'].astype(str)=='Cotton/Cotton Blend')|(df['value'].astype(str)=='MDF')|(df['value'].astype(str)=='Metallic')|(df['value'].astype(str)=='Rayon/Rayon Blend')|(df['value'].astype(str)=='[]')|(df['value'].astype(str)=='[]')|(df['value'].astype(str)=='[]'))]                    \n",
    "# print(len(material))"
   ]
  },
  {
   "cell_type": "code",
   "execution_count": null,
   "metadata": {},
   "outputs": [],
   "source": [
    "pat='''((?:(?<![A-z] )Blend|Cotton.?blend|Cotton\\/Cotton.?Blend|MDF|Metallic|Rayon\\/Rayon.?Blend))'''\n",
    "material=filters(df,pat)"
   ]
  },
  {
   "cell_type": "code",
   "execution_count": null,
   "metadata": {},
   "outputs": [],
   "source": [
    "print(len(material))\n",
    "material['Q:material']=''\n",
    "match_material=material[['external_id','Q:material']]"
   ]
  },
  {
   "cell_type": "code",
   "execution_count": 64,
   "metadata": {},
   "outputs": [],
   "source": [
    "def get_df_name(df):\n",
    "    name =[x for x in globals() if globals()[x] is df][0]\n",
    "    return name\n",
    "def looks_good(customer, matches): \n",
    "    drive_path = f'G:/Shared drives/GroupBy Public/Customer Success/.Enrich/Platform Upload Trail/{customer}/_Ready For Upload' \n",
    "    matches.to_csv(f'{drive_path}/Bed Bath & Beyond --{get_df_name(matches)}-match_material{today}.csv',index=False) \n",
    "# looks_good('Bed Bath & Beyond',match_material)"
   ]
  },
  {
   "cell_type": "code",
   "execution_count": null,
   "metadata": {},
   "outputs": [],
   "source": [
    "# material\n",
    "Blend\n",
    "Cotton blend\n",
    "Cotton/Cotton Blend\n",
    "MDF\n",
    "Metallic\n",
    "Rayon/Rayon Blend"
   ]
  },
  {
   "cell_type": "code",
   "execution_count": null,
   "metadata": {},
   "outputs": [],
   "source": [
    "200 values"
   ]
  },
  {
   "cell_type": "markdown",
   "metadata": {},
   "source": [
    "#### Done"
   ]
  },
  {
   "cell_type": "code",
   "execution_count": null,
   "metadata": {},
   "outputs": [],
   "source": [
    "df=import_one_att('maximum_rpm')\n",
    "maximum_rpm=df.loc[(df['attribute'].astype(str)=='maximum_rpm')&((df['value'].astype(str)=='[]')|(df['value'].astype(str)=='[]')|(df['value'].astype(str)=='[]')|(df['value'].astype(str)=='[]')|(df['value'].astype(str)=='[]')|(df['value'].astype(str)=='[]')|(df['value'].astype(str)=='[]')|(df['value'].astype(str)=='[]')|(df['value'].astype(str)=='[]'))]                     \n",
    "pat='''(?i)(\\d(?!\\d)(?! RPM)(?!\\-))|((?<!under )(?<!\\-)\\d\\d\\d RPM(?! and))'''\n",
    "filters(maximum_rpm,pat,rpm)"
   ]
  },
  {
   "cell_type": "code",
   "execution_count": null,
   "metadata": {},
   "outputs": [],
   "source": [
    "# maximum_rpm\n",
    "19\n",
    "2\n",
    "500 RPM\n",
    "600 RPM\n",
    "19\n",
    "2\n",
    "500 RPM\n",
    "600 RPM"
   ]
  },
  {
   "cell_type": "code",
   "execution_count": null,
   "metadata": {},
   "outputs": [],
   "source": [
    "100-149 RPM\n",
    "150-199 RPM\n",
    "200-249 RPM\n",
    "250-299 RPM\n",
    "300 RPM and Greater\n",
    "Under 100 RPM"
   ]
  },
  {
   "cell_type": "markdown",
   "metadata": {},
   "source": [
    "#### Done"
   ]
  },
  {
   "cell_type": "code",
   "execution_count": null,
   "metadata": {},
   "outputs": [],
   "source": [
    "df=import_one_att('maximum_television_range')\n",
    "maximum_television_range=df.loc[(df['attribute'].astype(str)=='maximum_television_range')&((df['value'].astype(str)=='20-Oct')|(df['value'].astype(str)=='[]')|(df['value'].astype(str)=='[]')|(df['value'].astype(str)=='[]')|(df['value'].astype(str)=='[]')|(df['value'].astype(str)=='[]')|(df['value'].astype(str)=='[]')|(df['value'].astype(str)=='[]')|(df['value'].astype(str)=='[]'))]                     \n",
    "print(len(maximum_television_range))"
   ]
  },
  {
   "cell_type": "code",
   "execution_count": null,
   "metadata": {},
   "outputs": [],
   "source": [
    "# maximum_television_range\n",
    "20-Oct"
   ]
  },
  {
   "cell_type": "code",
   "execution_count": null,
   "metadata": {},
   "outputs": [],
   "source": [
    "10\" - 20\"\n",
    "21\" - 30\"\n",
    "31\" - 40\"\n",
    "41\" - 50\"\n",
    "51\" - 60\"\n",
    "61\" - 70\"\n",
    "Greater than 70\"\n",
    "n/a"
   ]
  },
  {
   "cell_type": "markdown",
   "metadata": {},
   "source": [
    "# Need to do this--Waiting on Jeff"
   ]
  },
  {
   "cell_type": "code",
   "execution_count": 7,
   "metadata": {},
   "outputs": [],
   "source": [
    "df=import_one_att('memory')\n",
    "memory=df.loc[(df['attribute'].astype(str)=='memory')&((df['value'].astype(str)=='[]')|(df['value'].astype(str)=='[]')|(df['value'].astype(str)=='[]')|(df['value'].astype(str)=='[]')|(df['value'].astype(str)=='[]')|(df['value'].astype(str)=='[]')|(df['value'].astype(str)=='[]')|(df['value'].astype(str)=='[]')|(df['value'].astype(str)=='[]'))]                    \n",
    "pat='''(?i)( GB)'''\n",
    "mem=filters(memory,pat)\n",
    "print(len(mem))"
   ]
  },
  {
   "cell_type": "code",
   "execution_count": null,
   "metadata": {},
   "outputs": [],
   "source": [
    "mem['Q:memory']=''\n",
    "match_memory=mem[['external_id','Q:memory']]"
   ]
  },
  {
   "cell_type": "code",
   "execution_count": null,
   "metadata": {},
   "outputs": [],
   "source": [
    "def get_df_name(df):\n",
    "    name =[x for x in globals() if globals()[x] is df][0]\n",
    "    return name\n",
    "def looks_good(customer, matches): \n",
    "    drive_path = f'G:/Shared drives/GroupBy Public/Customer Success/.Enrich/Platform Upload Trail/{customer}/_Ready For Upload' \n",
    "    matches.to_csv(f'{drive_path}/Bed Bath & Beyond --{get_df_name(matches)}-match_memory{today}.csv',index=False) \n",
    "# looks_good('Bed Bath & Beyond',match_memory)"
   ]
  },
  {
   "cell_type": "code",
   "execution_count": null,
   "metadata": {},
   "outputs": [],
   "source": [
    "# memory\n",
    "128 GB\n",
    "256 GB\n",
    "4 GB\n",
    "512 GB\n",
    "8 GB"
   ]
  },
  {
   "cell_type": "code",
   "execution_count": null,
   "metadata": {},
   "outputs": [],
   "source": [
    "1000GB\n",
    "128GB\n",
    "16GB\n",
    "16 GB\n",
    "16TB\n",
    "1TB\n",
    "1 TB\n",
    "250GB\n",
    "256GB\n",
    "2TB\n",
    "32GB\n",
    "32 GB\n",
    "3TB\n",
    "400GB\n",
    "4GB\n",
    "4TB\n",
    "500GB\n",
    "512GB\n",
    "5TB\n",
    "600GB\n",
    "64GB\n",
    "64 GB\n",
    "6TB\n",
    "7TB\n",
    "825 GB\n",
    "8GB\n",
    "8TB"
   ]
  },
  {
   "cell_type": "markdown",
   "metadata": {},
   "source": [
    "#### Done"
   ]
  },
  {
   "cell_type": "code",
   "execution_count": null,
   "metadata": {},
   "outputs": [],
   "source": [
    "df=import_one_att('metal_finish')\n",
    "metal_finish=df.loc[(df['attribute'].astype(str)=='metal_finish')&((df['value'].astype(str)=='Matted')|(df['value'].astype(str)=='Powder Coated')|(df['value'].astype(str)=='[]')|(df['value'].astype(str)=='[]')|(df['value'].astype(str)=='[]')|(df['value'].astype(str)=='[]')|(df['value'].astype(str)=='[]')|(df['value'].astype(str)=='[]')|(df['value'].astype(str)=='[]'))]                     \n",
    "print(len(metal_finish))"
   ]
  },
  {
   "cell_type": "code",
   "execution_count": null,
   "metadata": {},
   "outputs": [],
   "source": [
    "# metal_finish\n",
    "Matted\n",
    "Powder Coated"
   ]
  },
  {
   "cell_type": "code",
   "execution_count": null,
   "metadata": {},
   "outputs": [],
   "source": [
    "Antique\n",
    "Brass\n",
    "Bronze\n",
    "Brushed\n",
    "Chrome\n",
    "Copper\n",
    "Gold\n",
    "Gunmetal\n",
    "Matte\n",
    "Mirror\n",
    "n/a\n",
    "Nickel\n",
    "Nickel Chrome Plated\n",
    "Oil Rubbed\n",
    "Pewter\n",
    "Polished\n",
    "Powder Coat\n",
    "Satin\n",
    "Weathered"
   ]
  },
  {
   "cell_type": "markdown",
   "metadata": {},
   "source": [
    "# Need to do this"
   ]
  },
  {
   "cell_type": "code",
   "execution_count": null,
   "metadata": {},
   "outputs": [],
   "source": [
    "df=import_one_att('minimum_recommended_age')\n",
    "print(len(df))\n",
    "minimum_recommended_age=df.loc[(df['attribute'].astype(str)=='minimum_recommended_age')&((df['value'].astype(str)=='[]')|(df['value'].astype(str)=='[]')|(df['value'].astype(str)=='[]')|(df['value'].astype(str)=='[]')|(df['value'].astype(str)=='[]')|(df['value'].astype(str)=='[]')|(df['value'].astype(str)=='[]')|(df['value'].astype(str)=='[]')|(df['value'].astype(str)=='[]'))]                     \n",
    "print(len(minimum_recommended_age))"
   ]
  },
  {
   "cell_type": "code",
   "execution_count": null,
   "metadata": {},
   "outputs": [],
   "source": [
    "pat='''(?i)'''\n",
    "minimum=filters(pat,df)"
   ]
  },
  {
   "cell_type": "code",
   "execution_count": null,
   "metadata": {},
   "outputs": [],
   "source": [
    "# something is wrong here--go back and look it up"
   ]
  },
  {
   "cell_type": "code",
   "execution_count": null,
   "metadata": {},
   "outputs": [],
   "source": [
    "# minimum_recommended_age\n",
    "0 Month\n",
    "0 Year\n",
    "10 Months\n",
    "11 Years\n",
    "13 Years\n",
    "15 Years\n",
    "16 Years\n",
    "1 Month\n",
    "2 Months\n",
    "36 Months\n",
    "4 Months\n",
    "5 Months\n",
    "5 Years\n",
    "9 Years\n",
    "0 Month\n",
    "0 Year\n",
    "10 Months\n",
    "11 Years\n",
    "13 Years\n",
    "15 Years\n",
    "16 Years\n",
    "1 Month\n",
    "2 Months\n",
    "36 Months\n",
    "4 Months\n",
    "5 Months\n",
    "5 Years\n",
    "9 Years"
   ]
  },
  {
   "cell_type": "code",
   "execution_count": null,
   "metadata": {},
   "outputs": [],
   "source": [
    "0 Months\n",
    "10 Months\n",
    "10 Years\n",
    "11 Years\n",
    "12 Months\n",
    "12 Years\n",
    "13 Years\n",
    "14 Years\n",
    "1.5 Years\n",
    "15 Years\n",
    "18 Months\n",
    "18 Years\n",
    "1 Month\n",
    "1 Year\n",
    "24 Months\n",
    "2 Months\n",
    "2 Years\n",
    "36 Months\n",
    "3 Months\n",
    "3 Years\n",
    "4 Months\n",
    "4 Years\n",
    "5 Months\n",
    "5 Years\n",
    "6 Months\n",
    "6 Years\n",
    "7 Years\n",
    "8 Years\n",
    "9 Months\n",
    "9 Years\n",
    "Newborn"
   ]
  },
  {
   "cell_type": "markdown",
   "metadata": {},
   "source": [
    "#### Done"
   ]
  },
  {
   "cell_type": "code",
   "execution_count": 3,
   "metadata": {},
   "outputs": [
    {
     "name": "stdout",
     "output_type": "stream",
     "text": [
      "15\n"
     ]
    }
   ],
   "source": [
    "df=import_one_att('mount_type')\n",
    "print(len(df))\n",
    "mount_type=df.loc[(df['attribute'].astype(str)=='mount_type')&((df['value'].astype(str)=='[]')|(df['value'].astype(str)=='Close to Ceiling')|(df['value'].astype(str)=='Downrod')|(df['value'].astype(str)=='Magnetic')|(df['value'].astype(str)=='[]')|(df['value'].astype(str)=='[]')|(df['value'].astype(str)=='[]')|(df['value'].astype(str)=='[]')|(df['value'].astype(str)=='[]'))]                    \n",
    "print(len(mount_type))"
   ]
  },
  {
   "cell_type": "code",
   "execution_count": 10,
   "metadata": {},
   "outputs": [
    {
     "name": "stdout",
     "output_type": "stream",
     "text": [
      "15\n"
     ]
    }
   ],
   "source": [
    "print(len(mount_type))\n",
    "mount_type['Q:mount_type']=''\n",
    "match_mount_type=mount_type[['external_id','Q:mount_type']]"
   ]
  },
  {
   "cell_type": "code",
   "execution_count": 11,
   "metadata": {},
   "outputs": [],
   "source": [
    "def get_df_name(df):\n",
    "    name =[x for x in globals() if globals()[x] is df][0]\n",
    "    return name\n",
    "def looks_good(customer, matches): \n",
    "    drive_path = f'G:/Shared drives/GroupBy Public/Customer Success/.Enrich/Platform Upload Trail/{customer}/_Ready For Upload' \n",
    "    matches.to_csv(f'{drive_path}/Bed Bath & Beyond --{get_df_name(matches)}-match_mount_type{today}.csv',index=False) \n",
    "# looks_good('Bed Bath & Beyond',match_mount_type)"
   ]
  },
  {
   "cell_type": "code",
   "execution_count": null,
   "metadata": {},
   "outputs": [],
   "source": [
    "# mount_type\n",
    "Close to Ceiling\n",
    "Downrod\n",
    "Magnetic"
   ]
  },
  {
   "cell_type": "code",
   "execution_count": null,
   "metadata": {},
   "outputs": [],
   "source": [
    "Adhesive Mount\n",
    "Ceiling Mount\n",
    "Concealed Mount\n",
    "Corner Mount\n",
    "Cupboard Mount\n",
    "Deck Mount\n",
    "Door Mount\n",
    "Floor Mount\n",
    "Flush Mount\n",
    "Frame Mount\n",
    "Freestanding\n",
    "Hanging\n",
    "Hinge Mount\n",
    "Inside Mount\n",
    "Leaning\n",
    "Magnetic Mount\n",
    "n/a\n",
    "Outside Mount\n",
    "Pole Mount\n",
    "Post Mount\n",
    "Pre-Drilled Mounting Holes\n",
    "Pressure Mount\n",
    "Recessed Mount\n",
    "Roof Mount\n",
    "Screw Fittings\n",
    "Semi-Flush Mount\n",
    "Stand Mountable\n",
    "Suction Mount\n",
    "Surface Mount\n",
    "Tension Mount\n",
    "Top Mount\n",
    "Under Cabinet Mount\n",
    "Undermount\n",
    "Wall Mount\n",
    "Wall Mountable\n",
    "Window Mount"
   ]
  },
  {
   "cell_type": "markdown",
   "metadata": {},
   "source": [
    "#### Done"
   ]
  },
  {
   "cell_type": "code",
   "execution_count": null,
   "metadata": {},
   "outputs": [],
   "source": [
    "df=import_one_att('product_form')\n",
    "product_form=df.loc[(df['attribute'].astype(str)=='product_form')&((df['value'].astype(str)=='& Caplets')|(df['value'].astype(str)=='Capsules')|(df['value'].astype(str)=='Tablets')|(df['value'].astype(str)=='[]')|(df['value'].astype(str)=='[]')|(df['value'].astype(str)=='[]')|(df['value'].astype(str)=='[]')|(df['value'].astype(str)=='[]')|(df['value'].astype(str)=='[]'))]                    \n",
    "print(len(product_form))"
   ]
  },
  {
   "cell_type": "code",
   "execution_count": null,
   "metadata": {},
   "outputs": [],
   "source": [
    "# product_form\n",
    "& Caplets\n",
    "Capsules\n",
    "Tablets"
   ]
  },
  {
   "cell_type": "code",
   "execution_count": null,
   "metadata": {},
   "outputs": [],
   "source": [
    "Balm\n",
    "Bar\n",
    "Bars\n",
    "Chewable\n",
    "Clay\n",
    "Concentrate\n",
    "Cream\n",
    "Dissolving Solids\n",
    "Exfoliator\n",
    "Foam\n",
    "Gel\n",
    "Gummy\n",
    "Liquid\n",
    "Loose Powder\n",
    "Lotion\n",
    "n/a\n",
    "Oil\n",
    "Ointment\n",
    "Pad\n",
    "Pads\n",
    "Paste\n",
    "Patch\n",
    "Pen\n",
    "Pencil\n",
    "Powder\n",
    "Pressed Powder\n",
    "Roll-On\n",
    "Scrub\n",
    "Serum\n",
    "Sheets\n",
    "Solvent\n",
    "Spray\n",
    "Stick\n",
    "Suspension\n",
    "Tablets, Capsules, & Caplets\n",
    "Wax\n",
    "Wipes"
   ]
  },
  {
   "cell_type": "markdown",
   "metadata": {},
   "source": [
    "#### Done"
   ]
  },
  {
   "cell_type": "code",
   "execution_count": null,
   "metadata": {},
   "outputs": [],
   "source": [
    "df=import_one_att('serving_cart_width')\n",
    "serving_cart_width=df.loc[(df['attribute'].astype(str)=='serving_cart_width')&((df['value'].astype(str)=='Large (Over 34)')|(df['value'].astype(str)=='Medium (25 - 34)')|(df['value'].astype(str)=='Small (Under 24)')|(df['value'].astype(str)=='[]')|(df['value'].astype(str)=='[]')|(df['value'].astype(str)=='[]')|(df['value'].astype(str)=='[]')|(df['value'].astype(str)=='[]')|(df['value'].astype(str)=='[]'))]                    \n",
    "print(len(serving_cart_width))"
   ]
  },
  {
   "cell_type": "code",
   "execution_count": null,
   "metadata": {},
   "outputs": [],
   "source": [
    "# serving_cart_width\n",
    "Large (Over 34)\n",
    "Medium (25 - 34)\n",
    "Small (Under 24)"
   ]
  },
  {
   "cell_type": "code",
   "execution_count": null,
   "metadata": {},
   "outputs": [],
   "source": [
    "Large (Over 34\")\n",
    "Medium (25\" - 34\")\n",
    "Small (Under 24\")"
   ]
  },
  {
   "cell_type": "markdown",
   "metadata": {},
   "source": [
    "# Need to do this"
   ]
  },
  {
   "cell_type": "code",
   "execution_count": null,
   "metadata": {},
   "outputs": [],
   "source": [
    "df=import_one_att('set_size')\n",
    "# set_size=df.loc[(df['attribute'].astype(str)=='set_size')&((df['value'].astype(str)=='[]')|(df['value'].astype(str)=='[]')|(df['value'].astype(str)=='[]')|(df['value'].astype(str)=='[]')|(df['value'].astype(str)=='[]')|(df['value'].astype(str)=='[]')|(df['value'].astype(str)=='[]')|(df['value'].astype(str)=='[]')|(df['value'].astype(str)=='[]'))]                    \n",
    "pat='''(?i)(((?<!1 )piece)(?! set))|((?<!\\d)1(?!\\d)(?! piece))|(000)'''\n",
    "sets=filters(set_size,pat)"
   ]
  },
  {
   "cell_type": "code",
   "execution_count": null,
   "metadata": {},
   "outputs": [],
   "source": [
    "print(len(sets))"
   ]
  },
  {
   "cell_type": "code",
   "execution_count": null,
   "metadata": {},
   "outputs": [],
   "source": [
    "sets['Q:set_size']=''\n",
    "match_set_size=sets[['external_id','Q:set_size']]"
   ]
  },
  {
   "cell_type": "code",
   "execution_count": null,
   "metadata": {},
   "outputs": [],
   "source": [
    "def get_df_name(df):\n",
    "    name =[x for x in globals() if globals()[x] is df][0]\n",
    "    return name\n",
    "def looks_good(customer, matches): \n",
    "    drive_path = f'G:/Shared drives/GroupBy Public/Customer Success/.Enrich/Platform Upload Trail/{customer}/_Ready For Upload' \n",
    "    matches.to_csv(f'{drive_path}/Bed Bath & Beyond --{get_df_name(matches)}-match_set_size{today}.csv',index=False) \n",
    "# looks_good('Bed Bath & Beyond',match_set_size)"
   ]
  },
  {
   "cell_type": "code",
   "execution_count": null,
   "metadata": {},
   "outputs": [],
   "source": [
    "# set_size\n",
    "000 Piece Set\n",
    "1\n",
    "100-Piece\n",
    "101-Piece\n",
    "10-Piece\n",
    "12-Piece\n",
    "13-Piece\n",
    "15-Piece\n",
    "16-Piece\n",
    "17-Piece\n",
    "18-Piece\n",
    "1-piece\n",
    "1-Piece\n",
    "1- Piece\n",
    "20-Piece\n",
    "22-Piece\n",
    "23-Piece\n",
    "24-Piece\n",
    "25-Piece\n",
    "280-Piece\n",
    "2-Piece\n",
    "30-Piece\n",
    "32-Piece\n",
    "360-Piece\n",
    "36-Piece\n",
    "38-Piece\n",
    "3-Piece\n",
    "400-Piece\n",
    "40-Piece\n",
    "42-Piece\n",
    "44-Piece\n",
    "45-Piece\n",
    "46-Piece\n",
    "48-Piece\n",
    "4-Piece\n",
    "500-Piece\n",
    "50-Piece\n",
    "51-Piece\n",
    "53-Piece\n",
    "54-Piece\n",
    "55-Piece\n",
    "58-Piece\n",
    "5-Piece\n",
    "600-Piece\n",
    "60-Piece\n",
    "61-Piece\n",
    "62-Piece\n",
    "63-Piece\n",
    "64-Piece\n",
    "65-Piece\n",
    "6-Piece\n",
    "72-Piece\n",
    "75-Piece\n",
    "77-Piece\n",
    "7-Piece\n",
    "800-Piece\n",
    "80-Piece\n",
    "84-Piece\n",
    "86-Piece\n",
    "89-Piece\n",
    "8-Piece\n",
    "90-Piece\n",
    "9-Piece"
   ]
  },
  {
   "cell_type": "code",
   "execution_count": null,
   "metadata": {},
   "outputs": [],
   "source": [
    "10 Piece Set\n",
    "11 Piece Set\n",
    "12 Piece Set\n",
    "13 Piece Set\n",
    "14 Piece Set\n",
    "15 Piece Set\n",
    "16 Piece Set\n",
    "17 Piece Set\n",
    "18 Piece Set\n",
    "19 Piece Set\n",
    "1 Piece\n",
    "20+ Piece Set\n",
    "2 Piece Set\n",
    "3 Piece Set\n",
    "4 Piece Set\n",
    "5 Piece Set\n",
    "6 Piece Set\n",
    "7 Piece Set\n",
    "8 Piece Set\n",
    "9 Piece Set\n",
    "n/a"
   ]
  },
  {
   "cell_type": "markdown",
   "metadata": {},
   "source": [
    "# Need to do this"
   ]
  },
  {
   "cell_type": "code",
   "execution_count": 6,
   "metadata": {},
   "outputs": [
    {
     "name": "stdout",
     "output_type": "stream",
     "text": [
      "18\n"
     ]
    }
   ],
   "source": [
    "df=import_one_att('shape')\n",
    "shape=df.loc[(df['attribute'].astype(str)=='shape')&((df['value'].astype(str)=='Oblong')|(df['value'].astype(str)=='Rectangle')|(df['value'].astype(str)=='Traditional')|(df['value'].astype(str)=='[]')|(df['value'].astype(str)=='[]')|(df['value'].astype(str)=='[]')|(df['value'].astype(str)=='[]')|(df['value'].astype(str)=='[]')|(df['value'].astype(str)=='[]'))]                    \n",
    "print(len(shape))"
   ]
  },
  {
   "cell_type": "code",
   "execution_count": 14,
   "metadata": {},
   "outputs": [],
   "source": [
    "shape['Q:shape']=''\n",
    "match_shape=shape[['external_id','Q:shape']]"
   ]
  },
  {
   "cell_type": "code",
   "execution_count": 15,
   "metadata": {},
   "outputs": [],
   "source": [
    "def get_df_name(df):\n",
    "    name =[x for x in globals() if globals()[x] is df][0]\n",
    "    return name\n",
    "def looks_good(customer, matches): \n",
    "    drive_path = f'G:/Shared drives/GroupBy Public/Customer Success/.Enrich/Platform Upload Trail/{customer}/_Ready For Upload' \n",
    "    matches.to_csv(f'{drive_path}/Bed Bath & Beyond --{get_df_name(matches)}-match_shape{today}.csv',index=False) \n",
    "# looks_good('Bed Bath & Beyond',match_shape)"
   ]
  },
  {
   "cell_type": "code",
   "execution_count": null,
   "metadata": {},
   "outputs": [],
   "source": [
    "# shape\n",
    "Oblong\n",
    "Rectangle\n",
    "Traditional"
   ]
  },
  {
   "cell_type": "code",
   "execution_count": null,
   "metadata": {},
   "outputs": [],
   "source": [
    "Backrest\n",
    "Bolster\n",
    "Novelty\n",
    "Oval\n",
    "Rectangular\n",
    "Round\n",
    "Square"
   ]
  },
  {
   "cell_type": "markdown",
   "metadata": {},
   "source": [
    "# Need to do this"
   ]
  },
  {
   "cell_type": "code",
   "execution_count": 3,
   "metadata": {},
   "outputs": [
    {
     "name": "stdout",
     "output_type": "stream",
     "text": [
      "40195\n"
     ]
    }
   ],
   "source": [
    "df=import_one_att('shelf_weight_capacity')\n",
    "# shelf_weight_capacity=df.loc[(df['attribute'].astype(str)=='shelf_weight_capacity')&((df['value'].astype(str)=='11 lb')|(df['value'].astype(str)=='26.5 lb')|(df['value'].astype(str)=='44 lb')|(df['value'].astype(str)=='5 lb')|(df['value'].astype(str)=='[]')|(df['value'].astype(str)=='[]')|(df['value'].astype(str)=='[]')|(df['value'].astype(str)=='[]')|(df['value'].astype(str)=='[]'))]                     \n",
    "print(len(df))"
   ]
  },
  {
   "cell_type": "code",
   "execution_count": 4,
   "metadata": {},
   "outputs": [
    {
     "name": "stdout",
     "output_type": "stream",
     "text": [
      "417\n"
     ]
    }
   ],
   "source": [
    "pat='''(?i)(lb(?!s))'''\n",
    "shelf=filters(df,pat)\n",
    "print(len(shelf))"
   ]
  },
  {
   "cell_type": "code",
   "execution_count": null,
   "metadata": {},
   "outputs": [],
   "source": [
    "100 lbs and Greater\n",
    "1 - 24 lbs\n",
    "25 - 49 lbs\n",
    "50 - 74 lbs\n",
    "75 - 99 lbs"
   ]
  },
  {
   "cell_type": "code",
   "execution_count": 11,
   "metadata": {},
   "outputs": [],
   "source": [
    "shelf['Q:shelf_weight_capacity']=shelf['value'].apply(lambda x: re.sub(r'((?:\\d+\\,?)?\\d\\d\\d+(?:\\.\\d+)?\\s?lbs?)','100 lbs and Greater',str(x)))\n",
    "shelf['Q:shelf_weight_capacity']=shelf['Q:shelf_weight_capacity'].apply(lambda x: re.sub(r'((?<!\\d)(?<!\\,)(?<!\\.)(?:1[0-9]|[0-9]|2[0-4])(?:\\.\\d+)?\\s?lbs?)','1 - 24 lbs',str(x)))\n",
    "shelf['Q:shelf_weight_capacity']=shelf['Q:shelf_weight_capacity'].apply(lambda x: re.sub(r'((?<!\\d)(?<!\\,)(?<!\\.)(?:2[5-9]|3[0-9]|4[0-9])(?:\\.\\d+)?\\s?lbs?)','25 - 49 lbs',str(x)))\n",
    "shelf['Q:shelf_weight_capacity']=shelf['Q:shelf_weight_capacity'].apply(lambda x: re.sub(r'((?<!\\d)(?<!\\,)(?<!\\.)(?:5[0-9]|6[0-9]|7[0-4])(?:\\.\\d+)?\\s?lbs?)','50 - 74 lbs',str(x)))\n",
    "shelf['Q:shelf_weight_capacity']=shelf['Q:shelf_weight_capacity'].apply(lambda x: re.sub(r'((?<!\\d)(?<!\\,)(?<!\\.)(?:7[5-9]|8[0-9]|9[0-9])(?:\\.\\d+)?\\s?lbs?)','75 - 99 lbs',str(x)))\n",
    "shelf['Q:shelf_weight_capacity']=shelf['Q:shelf_weight_capacity'].apply(lambda x: re.sub(r'\\[\"25 \\- 49 lbs\",\"25 - 49 lbs\"\\]','25 - 49 lbs',str(x)))\n",
    "\n",
    "\n",
    "# ((?:\\d+\\,?)?\\d\\d\\d+(?:\\.\\d+)?\\s?lbs?)|\n",
    "# ((?<!\\d)(?<!\\,)(?<!\\.)(?:1[0-9]|[0-9]|2[0-4])(?:\\.\\d+)?\\s?lbs?)|\n",
    "# ((?<!\\d)(?<!\\,)(?<!\\.)(?:2[5-9]|3[0-9]|4[0-9])(?:\\.\\d+)?\\s?lbs?)|\n",
    "# ((?<!\\d)(?<!\\,)(?<!\\.)(?:5[0-9]|6[0-9]|7[0-4])(?:\\.\\d+)?\\s?lbs?)|\n",
    "# ((?<!\\d)(?<!\\,)(?<!\\.)(?:7[5-9]|8[0-9]|9[0-9])(?:\\.\\d+)?\\s?lbs?)"
   ]
  },
  {
   "cell_type": "code",
   "execution_count": 12,
   "metadata": {},
   "outputs": [
    {
     "data": {
      "text/plain": [
       "1 - 24 lbs             167\n",
       "50 - 74 lbs            107\n",
       "25 - 49 lbs             72\n",
       "100 lbs and Greater     56\n",
       "75 - 99 lbs             15\n",
       "Name: Q:shelf_weight_capacity, dtype: int64"
      ]
     },
     "execution_count": 12,
     "metadata": {},
     "output_type": "execute_result"
    }
   ],
   "source": [
    "shelf['Q:shelf_weight_capacity'].explode().value_counts()"
   ]
  },
  {
   "cell_type": "code",
   "execution_count": 13,
   "metadata": {},
   "outputs": [],
   "source": [
    "# shelf['Q:shelf_weight_capacity']=''\n",
    "match_shelf_weight_capacity=shelf[['external_id','Q:shelf_weight_capacity']]"
   ]
  },
  {
   "cell_type": "code",
   "execution_count": 14,
   "metadata": {},
   "outputs": [],
   "source": [
    "def get_df_name(df):\n",
    "    name =[x for x in globals() if globals()[x] is df][0]\n",
    "    return name\n",
    "def looks_good(customer, matches): \n",
    "    drive_path = f'G:/Shared drives/GroupBy Public/Customer Success/.Enrich/Platform Upload Trail/{customer}/_Ready For Upload' \n",
    "    matches.to_csv(f'{drive_path}/Bed Bath & Beyond --{get_df_name(matches)}-match_shelf_weight_capacity{today}.csv',index=False) \n",
    "# looks_good('Bed Bath & Beyond',match_shelf_weight_capacity)"
   ]
  },
  {
   "cell_type": "code",
   "execution_count": null,
   "metadata": {},
   "outputs": [],
   "source": [
    "# shelf_weight_capacity\n",
    "11 lb\n",
    "26.5 lb\n",
    "44 lb\n",
    "5 lb"
   ]
  },
  {
   "cell_type": "code",
   "execution_count": null,
   "metadata": {},
   "outputs": [],
   "source": [
    "100 lbs and Greater\n",
    "1 - 24 lbs\n",
    "25 - 49 lbs\n",
    "50 - 74 lbs\n",
    "75 - 99 lbs"
   ]
  },
  {
   "cell_type": "markdown",
   "metadata": {},
   "source": [
    "# Need to do this"
   ]
  },
  {
   "cell_type": "code",
   "execution_count": 15,
   "metadata": {},
   "outputs": [
    {
     "name": "stdout",
     "output_type": "stream",
     "text": [
      "221\n"
     ]
    }
   ],
   "source": [
    "df=import_one_att('size')\n",
    "size=df.loc[(df['attribute'].astype(str)=='[]')&((df['value'].astype(str)=='[]')|(df['value'].astype(str)=='[]')|(df['value'].astype(str)=='[]')|(df['value'].astype(str)=='[]')|(df['value'].astype(str)=='[]')|(df['value'].astype(str)=='[]')|(df['value'].astype(str)=='[]')|(df['value'].astype(str)=='[]')|(df['value'].astype(str)=='[]'))]                     \n",
    "pat='''(?i)((?:year|16 to 20|one(?! size)|over 25))'''\n",
    "size_df=filters(df,pat)\n",
    "print(len(size_df))"
   ]
  },
  {
   "cell_type": "code",
   "execution_count": 19,
   "metadata": {},
   "outputs": [],
   "source": [
    "size_df['Q:size']=''\n",
    "match_size_df=size_df[['external_id','Q:size']]"
   ]
  },
  {
   "cell_type": "code",
   "execution_count": 20,
   "metadata": {},
   "outputs": [],
   "source": [
    "def get_df_name(df):\n",
    "    name =[x for x in globals() if globals()[x] is df][0]\n",
    "    return name\n",
    "def looks_good(customer, matches): \n",
    "    drive_path = f'G:/Shared drives/GroupBy Public/Customer Success/.Enrich/Platform Upload Trail/{customer}/_Ready For Upload' \n",
    "    matches.to_csv(f'{drive_path}/Bed Bath & Beyond --{get_df_name(matches)}-match_size_df{today}.csv',index=False) \n",
    "# looks_good('Bed Bath & Beyond',match_size_df)"
   ]
  },
  {
   "cell_type": "code",
   "execution_count": null,
   "metadata": {},
   "outputs": [],
   "source": [
    "# size\n",
    "10 Years\n",
    "12 Years\n",
    "14 Years\n",
    "16 to 20\n",
    "1 to 2 Years\n",
    "2 Years\n",
    "3 Years\n",
    "4 Years\n",
    "5 Years\n",
    "6 Years\n",
    "7 Years\n",
    "8 Years\n",
    "9 to 10 Years\n",
    "One\n",
    "Over 25"
   ]
  },
  {
   "cell_type": "code",
   "execution_count": null,
   "metadata": {},
   "outputs": [],
   "source": [
    "0-3 Months\n",
    "0-6 Months\n",
    "12-18 Months\n",
    "12-24 Months\n",
    "18-24 Months\n",
    "2T\n",
    "2X-Large\n",
    "3-6 Months\n",
    "3T\n",
    "3X-Large\n",
    "4T\n",
    "5T\n",
    "6-12 Months\n",
    "6-9 Months\n",
    "6T\n",
    "9-12 Months\n",
    "Infant\n",
    "Large\n",
    "Large (10-12)\n",
    "Medium\n",
    "Medium (8)\n",
    "Newborn\n",
    "One Size\n",
    "Preemie\n",
    "Size 1\n",
    "Size 10\n",
    "Size 11\n",
    "Size 12\n",
    "Size 13\n",
    "Size 2\n",
    "Size 3\n",
    "Size 4\n",
    "Size 5\n",
    "Size 6\n",
    "Size 7\n",
    "Size 8\n",
    "Size 9\n",
    "Small\n",
    "Small\n",
    "Small (6/7)\n",
    "Toddler\n",
    "X-Large\n",
    "X-Large (14-16)\n",
    "X-Small\n",
    "X-Small (4/5)"
   ]
  },
  {
   "cell_type": "code",
   "execution_count": null,
   "metadata": {},
   "outputs": [],
   "source": []
  },
  {
   "cell_type": "code",
   "execution_count": null,
   "metadata": {},
   "outputs": [],
   "source": []
  },
  {
   "cell_type": "code",
   "execution_count": null,
   "metadata": {},
   "outputs": [],
   "source": []
  },
  {
   "cell_type": "code",
   "execution_count": null,
   "metadata": {},
   "outputs": [],
   "source": []
  },
  {
   "cell_type": "code",
   "execution_count": null,
   "metadata": {},
   "outputs": [],
   "source": []
  },
  {
   "cell_type": "code",
   "execution_count": null,
   "metadata": {},
   "outputs": [],
   "source": []
  },
  {
   "cell_type": "code",
   "execution_count": null,
   "metadata": {},
   "outputs": [],
   "source": []
  },
  {
   "cell_type": "code",
   "execution_count": null,
   "metadata": {},
   "outputs": [],
   "source": []
  },
  {
   "cell_type": "code",
   "execution_count": null,
   "metadata": {},
   "outputs": [],
   "source": []
  },
  {
   "cell_type": "code",
   "execution_count": null,
   "metadata": {},
   "outputs": [],
   "source": []
  },
  {
   "cell_type": "code",
   "execution_count": null,
   "metadata": {},
   "outputs": [],
   "source": []
  },
  {
   "cell_type": "code",
   "execution_count": null,
   "metadata": {},
   "outputs": [],
   "source": []
  },
  {
   "cell_type": "code",
   "execution_count": null,
   "metadata": {},
   "outputs": [],
   "source": []
  },
  {
   "cell_type": "code",
   "execution_count": null,
   "metadata": {},
   "outputs": [],
   "source": []
  },
  {
   "cell_type": "code",
   "execution_count": null,
   "metadata": {},
   "outputs": [],
   "source": []
  },
  {
   "cell_type": "code",
   "execution_count": null,
   "metadata": {},
   "outputs": [],
   "source": []
  },
  {
   "cell_type": "code",
   "execution_count": null,
   "metadata": {},
   "outputs": [],
   "source": []
  },
  {
   "cell_type": "code",
   "execution_count": null,
   "metadata": {},
   "outputs": [],
   "source": []
  },
  {
   "cell_type": "code",
   "execution_count": null,
   "metadata": {},
   "outputs": [],
   "source": []
  },
  {
   "cell_type": "code",
   "execution_count": null,
   "metadata": {},
   "outputs": [],
   "source": []
  }
 ],
 "metadata": {
  "kernelspec": {
   "display_name": "PythonData",
   "language": "python",
   "name": "pythondata"
  },
  "language_info": {
   "codemirror_mode": {
    "name": "ipython",
    "version": 3
   },
   "file_extension": ".py",
   "mimetype": "text/x-python",
   "name": "python",
   "nbconvert_exporter": "python",
   "pygments_lexer": "ipython3",
   "version": "3.8.5"
  }
 },
 "nbformat": 4,
 "nbformat_minor": 4
}

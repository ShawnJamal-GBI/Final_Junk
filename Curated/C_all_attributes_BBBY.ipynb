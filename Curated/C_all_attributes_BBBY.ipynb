{
 "cells": [
  {
   "cell_type": "code",
   "execution_count": 1,
   "metadata": {},
   "outputs": [
    {
     "name": "stdout",
     "output_type": "stream",
     "text": [
      "Done\n"
     ]
    }
   ],
   "source": [
    "import pandas as pd\n",
    "import re\n",
    "from ast import literal_eval\n",
    "from tqdm import tqdm\n",
    "from ftfy import fix_text\n",
    "# from util import UnitConversion, mapping_list_values, perl_to_posix\n",
    "from groupby_toolz import enrich_db, gcloud\n",
    "pd.set_option('display.max_colwidth', None)\n",
    "pd.options.display.max_rows = 500\n",
    "from flashtext import KeywordProcessor\n",
    "from groupby_toolz import enrich_db, gcloud\n",
    "pd.set_option('display.max_colwidth', None)\n",
    "pd.options.display.max_columns = None\n",
    "pd.options.display.max_rows = 500\n",
    "import ast\n",
    "import warnings\n",
    "warnings.filterwarnings('ignore')\n",
    "from natsort import natsorted\n",
    "def query_from_file(file_name, params):\n",
    "    with open(f'{file_name}', mode='r') as f:\n",
    "        text = f.read()\n",
    "        query = text.format(**params)\n",
    "        return enrich_db(query)\n",
    "def re_extract(pattern, txt):\n",
    "    matches = re.findall(pattern, txt)\n",
    "    tmp_matches = []\n",
    "    for match in matches:\n",
    "        for tup in match:\n",
    "            if tup != '':\n",
    "                tmp_matches.append(tup)\n",
    "    return list(set(tmp_matches))\n",
    "import time\n",
    "today = time.strftime(\"%Y_%m_%d\")\n",
    "\n",
    "import ast\n",
    "def remove_duplicates(A):\n",
    "    [A.pop(count) for count,elem in enumerate(A) if A.count(elem)!=1]\n",
    "    return A\n",
    "\n",
    "# importing the sys module\n",
    "import sys        \n",
    " \n",
    "# appending the directory of mod.py\n",
    "# in the sys.path list\n",
    "sys.path.append('C:/Users/groupby/Documents/GitHub/SQL Extract And Apply') \n",
    "from enrich_dimensions.rounds import rounds, rounding_inch_feet,rounding_lbs,rounding_w,rounding_oz, rounding_lb,rounding_gal, re_extract, curate, round_string_float, clean_data,reg_ex,rounding_period_after_unit \n",
    "from enrich_dimensions.params import parameters, query_from_file\n",
    "from enrich_dimensions.query_file import query_from_file \n",
    "from enrich_dimensions.custom import custom_field \n",
    "\n",
    "def three(usa,reg):\n",
    "    trip=fr'''(?i){reg}|()''' \n",
    "    usa['m_name']=usa['product_name'].apply(lambda x: re_extract(trip,str(x)))\n",
    "    usa['m_desc']=usa['long_desc'].apply(lambda x: re_extract(trip,str(x)))\n",
    "    usa['m_custom']=usa['custom_fields'].apply(lambda x: re_extract(trip,str(x)))\n",
    "    imported=usa[(usa['m_name'].astype(str)!='[]')|(usa['m_desc'].astype(str)!='[]')|(usa['m_custom'].astype(str)!='[]')]\n",
    "    impor=usa[(usa['m_name'].astype(str)=='[]')&(usa['m_desc'].astype(str)=='[]')&(usa['m_custom'].astype(str)=='[]')]\n",
    "    print('values: '+str(len(imported)))\n",
    "    print('no values: '+str(len(impor)))\n",
    "    return imported,impor\n",
    "\n",
    "print('Done')\n",
    "# rounding(inside, 'Q:inside_diameter','a-eghj-lo-su-z*')\n",
    "\n",
    "# .apply(lambda x: re.sub(r'(\\s?(?<!\")(?=\\]))|(\"\")','\"',str(x))).apply(lambda x: re.sub(r'(\"\")','\"',str(x))).apply(lambda x: remove_duplicates([n.strip() for n in ast.literal_eval(x)])).apply(lambda x: natsorted(x)).apply(lambda x: re.sub(r'''(((?:\"|')?\\s?\\,\\s?(?!\")(?:')?))''','\",\"',str(x))).apply(lambda x: re.sub(r'''((?<=\\[)\\s?'\\s?)|(\\s?'\\s?(?=\\]))|(\\s?'\\s?(?=\\,))|((?<=\\,)\\s?'\\s?)''','\"',str(x)))"
   ]
  },
  {
   "cell_type": "code",
   "execution_count": 2,
   "metadata": {},
   "outputs": [
    {
     "name": "stdout",
     "output_type": "stream",
     "text": [
      "start\n"
     ]
    }
   ],
   "source": [
    "customer_id = '26'\n",
    "customer_name='%discountschoolsupply%'\n",
    "dateszs='2002-08-11'\n",
    "attribut='size'\n",
    "curation_col = f'Q:{attribut}'\n",
    "params = {'customer_id': customer_id,\n",
    "          'customer_name':customer_name,\n",
    "         'dateszs':dateszs,\n",
    "         'attribut':attribut}\n",
    "\n",
    "print('start')\n",
    "bucket_value = query_from_file(file_name='../query/Bucket_Value_Strategy.sql', params=params)\n",
    "\n",
    "# lst=bucket_value['buckets'].explode().value_counts().reset_index()['index'].to_list()#.sort()\n",
    "# lst.sort()\n",
    "# lst"
   ]
  },
  {
   "cell_type": "code",
   "execution_count": 3,
   "metadata": {},
   "outputs": [],
   "source": [
    "# customer_id = '5'\n",
    "# customer_name='%size%'\n",
    "# dateszs='2020-11-01'\n",
    "# dateszsz='2022-11-30'\n",
    "# params = {'customer_id': customer_id,\n",
    "#           'customer_name':customer_name,\n",
    "#          'dateszs':dateszs,\n",
    "#          'dateszsz':dateszsz}\n",
    "# print('start')\n",
    "# # dfs = query_from_file(file_name='../query/curated_all_attributes_date.sql', params=params)\n",
    "# dfs = query_from_file(file_name='../query/curated_all_attributes_date_dates.sql', params=params)\n",
    "# print(len(dfs))\n",
    "\n",
    "# # custom_field_df=pd.json_normalize(dfs['custom_fields'])\n",
    "# # df=pd.concat([dfs.drop('custom_fields', axis=1), custom_field_df], axis = 1)\n",
    "# # print(len(df))"
   ]
  },
  {
   "cell_type": "code",
   "execution_count": 4,
   "metadata": {},
   "outputs": [
    {
     "ename": "NameError",
     "evalue": "name 'dfs' is not defined",
     "output_type": "error",
     "traceback": [
      "\u001b[1;31m---------------------------------------------------------------------------\u001b[0m",
      "\u001b[1;31mNameError\u001b[0m                                 Traceback (most recent call last)",
      "\u001b[1;32m<ipython-input-4-dc2cd4191e45>\u001b[0m in \u001b[0;36m<module>\u001b[1;34m\u001b[0m\n\u001b[1;32m----> 1\u001b[1;33m \u001b[0msize\u001b[0m\u001b[1;33m=\u001b[0m\u001b[0mdfs\u001b[0m\u001b[1;33m[\u001b[0m\u001b[0mdfs\u001b[0m\u001b[1;33m[\u001b[0m\u001b[1;34m'attribute'\u001b[0m\u001b[1;33m]\u001b[0m\u001b[1;33m.\u001b[0m\u001b[0mastype\u001b[0m\u001b[1;33m(\u001b[0m\u001b[0mstr\u001b[0m\u001b[1;33m)\u001b[0m\u001b[1;33m==\u001b[0m\u001b[1;34m'size'\u001b[0m\u001b[1;33m]\u001b[0m\u001b[1;33m\u001b[0m\u001b[1;33m\u001b[0m\u001b[0m\n\u001b[0m\u001b[0;32m      2\u001b[0m \u001b[0msize\u001b[0m\u001b[1;33m[\u001b[0m\u001b[1;34m'value'\u001b[0m\u001b[1;33m]\u001b[0m\u001b[1;33m.\u001b[0m\u001b[0mexplode\u001b[0m\u001b[1;33m(\u001b[0m\u001b[1;33m)\u001b[0m\u001b[1;33m.\u001b[0m\u001b[0mvalue_counts\u001b[0m\u001b[1;33m(\u001b[0m\u001b[1;33m)\u001b[0m\u001b[1;33m\u001b[0m\u001b[1;33m\u001b[0m\u001b[0m\n",
      "\u001b[1;31mNameError\u001b[0m: name 'dfs' is not defined"
     ]
    }
   ],
   "source": [
    "size=dfs[dfs['attribute'].astype(str)=='size']\n",
    "size['value'].explode().value_counts()"
   ]
  },
  {
   "cell_type": "code",
   "execution_count": null,
   "metadata": {},
   "outputs": [],
   "source": [
    "years=dfs[(dfs['value'].astype(str)=='7 Years')|(dfs['value'].astype(str)=='8 Years')]\n",
    "years['value'].explode().value_counts()"
   ]
  },
  {
   "cell_type": "code",
   "execution_count": null,
   "metadata": {},
   "outputs": [],
   "source": [
    "pack=dfs[dfs['attribute'].astype(str)=='package_quantity']\n",
    "pack['value'].explode().value_counts()\n",
    "pat='''(?i)((?<!\\d)\\d?\\d(?!\\d)(?!\\-[A-z]))'''\n",
    "pack['match']=pack['value'].apply(lambda x: re_extract(pat,str(x)))\n",
    "packs=pack[pack['match'].astype(str)!='[]']\n",
    "print(len(packs))"
   ]
  },
  {
   "cell_type": "markdown",
   "metadata": {},
   "source": [
    "# BBBY Bed Bath and Beyond"
   ]
  },
  {
   "cell_type": "code",
   "execution_count": null,
   "metadata": {},
   "outputs": [],
   "source": [
    "print('bbby')"
   ]
  },
  {
   "cell_type": "code",
   "execution_count": null,
   "metadata": {},
   "outputs": [],
   "source": [
    "customer_id = '5'\n",
    "customer_name='%bedbathandbeyond%'\n",
    "dateszs='2002-08-11'\n",
    "attribut='size'\n",
    "curation_col = f'Q:{attribut}'\n",
    "params = {'customer_id': customer_id,\n",
    "          'customer_name':customer_name,\n",
    "         'dateszs':dateszs,\n",
    "         'attribut':attribut}\n",
    "\n",
    "print('start')\n",
    "bucket_value = query_from_file(file_name='../query/Bucket_Value_Strategy.sql', params=params)\n",
    "\n",
    "lst=bucket_value['buckets'].explode().value_counts().reset_index()['index'].to_list()#.sort()\n",
    "# lst.sort()\n",
    "# lst"
   ]
  },
  {
   "cell_type": "code",
   "execution_count": null,
   "metadata": {},
   "outputs": [],
   "source": [
    "bucket_value[bucket_value['buckets'].astype(str)=='Accessories Variety Packs']"
   ]
  },
  {
   "cell_type": "code",
   "execution_count": null,
   "metadata": {},
   "outputs": [],
   "source": []
  },
  {
   "cell_type": "code",
   "execution_count": null,
   "metadata": {},
   "outputs": [],
   "source": [
    "capacity (qt)\n",
    "Room Coverage\n",
    "Baby Food Volume\n",
    "Daily Ice Production"
   ]
  },
  {
   "cell_type": "code",
   "execution_count": null,
   "metadata": {},
   "outputs": [],
   "source": [
    "x='capacity (qt)'\n",
    "x.replace(' ','_').replace('(','_').replace(')','')"
   ]
  },
  {
   "cell_type": "code",
   "execution_count": null,
   "metadata": {},
   "outputs": [],
   "source": [
    "\n",
    "\n"
   ]
  },
  {
   "cell_type": "code",
   "execution_count": null,
   "metadata": {},
   "outputs": [],
   "source": [
    "customer_id = '5'\n",
    "customer_name='%bedbathandbeyond%'\n",
    "dateszs='2002-08-11'\n",
    "attribut='set_size'\n",
    "curation_col = f'Q:{attribut}'\n",
    "params = {'customer_id': customer_id,\n",
    "          'customer_name':customer_name,\n",
    "         'dateszs':dateszs,\n",
    "         'attribute':attribut}\n",
    "\n",
    "print('start')\n",
    "dfs = query_from_file(file_name='../query/curated_all_attributes_date_one_attribute.sql', params=params)\n",
    "print(len(dfs))\n",
    "# dfz=dfs[dfs['resolution'].astype(str)!='rules']\n",
    "# print(len(dfz))\n",
    "# dfh=dfz[dfz['custom_fields'].astype(str)!='None']\n",
    "# # dfz=dfz[dfz['buckets'].astype(str)=='Conduit Fittings, Replacement Parts, & Accessories']\n",
    "# print(len(dfh))\n",
    "# dfh=dfs[dfs['custom_fields'].astype(str)!=['None']]\n",
    "# custom_field_df=pd.json_normalize(dfs['custom_fields'])\n",
    "# fields=['Set_Size']\n",
    "# df = pd.concat([dfs.drop('custom_fields', axis=1), custom_field_df[fields]], axis = 1)\n",
    "# # print(len(df))"
   ]
  },
  {
   "cell_type": "code",
   "execution_count": null,
   "metadata": {},
   "outputs": [],
   "source": [
    "dfs['value'].explode().value_counts()\n",
    "pat='''(\\d(?! Piece)(?!\\d)(?!\\+))|(000)|(\\d\\d\\d)|()'''\n",
    "dfs['match']=dfs['value'].apply(lambda x: re_extract(pat,str(x)))\n",
    "x=dfs[dfs['match'].astype(str)!='[]']"
   ]
  },
  {
   "cell_type": "code",
   "execution_count": null,
   "metadata": {},
   "outputs": [],
   "source": [
    "print(len(x))\n",
    "x['value'].explode().value_counts()\n",
    "x['buckets'].explode().value_counts()"
   ]
  },
  {
   "cell_type": "code",
   "execution_count": null,
   "metadata": {},
   "outputs": [],
   "source": [
    "x['value'].explode().value_counts()"
   ]
  },
  {
   "cell_type": "code",
   "execution_count": null,
   "metadata": {},
   "outputs": [],
   "source": [
    "pat='''((?:\\d|\\,)?\\d\\d\\d)'''\n",
    "x['junk']=x['value'].apply(lambda x: re_extract(pat,str(x)))\n",
    "wipe=x[x['junk'].astype(str)!='[]']"
   ]
  },
  {
   "cell_type": "code",
   "execution_count": null,
   "metadata": {},
   "outputs": [],
   "source": [
    "a=x[x['junk'].astype(str)=='[]']\n",
    "print(len(a))"
   ]
  },
  {
   "cell_type": "code",
   "execution_count": null,
   "metadata": {},
   "outputs": [],
   "source": [
    "a['match']=a['value'].apply(lambda x: re.sub(r'(\\-)',' ',str(x))).apply(lambda x: re.sub(r'((?<!(?<!\\d)1 )Piece(?! Set))','Piece Set',str(x))).apply(lambda x: re.sub(r'(p)','P',str(x))).apply(lambda x: re.sub(r'(\\s\\s)',' ',str(x))).apply(lambda x: re.sub(r'(\\,)','',str(x))).apply(lambda x: re.sub(r'([2-9][0-9]\\d*(?!\\+))|(1\\d{2,}(?!\\+))','20+',str(x))).apply(lambda x: re.sub(r'(\"000\\sPiece Set\"\\,?)','',str(x))).apply(lambda x: re.sub(r'((?<!\\d)1 Piece Set)','1 Piece',str(x)))                         \n",
    "a['match'].explode().value_counts()"
   ]
  },
  {
   "cell_type": "code",
   "execution_count": null,
   "metadata": {},
   "outputs": [],
   "source": [
    "a['Q:set_size']=a['match']\n",
    "match_set_size=a[['external_id','Q:set_size']]\n",
    "\n",
    "def get_df_name(df):\n",
    "    name =[x for x in globals() if globals()[x] is df][0]\n",
    "    return name\n",
    "def looks_good(customer, matches): \n",
    "    drive_path = f'G:/Shared drives/GroupBy Public/Customer Success/.Enrich/Platform Upload Trail/{customer}/_Ready For Upload' \n",
    "    matches.to_csv(f'{drive_path}/Bed Bath & Beyond --{get_df_name(matches)}-match_set_size-{today}.csv',index=False) \n",
    "looks_good('Bed Bath & Beyond',match_set_size) "
   ]
  },
  {
   "cell_type": "code",
   "execution_count": null,
   "metadata": {},
   "outputs": [],
   "source": [
    "wipe['Q:set_size']='[]'\n",
    "match_puzzle_piece=wipe[['external_id','Q:set_size']]\n",
    "\n",
    "def get_df_name(df):\n",
    "    name =[x for x in globals() if globals()[x] is df][0]\n",
    "    return name\n",
    "def looks_good(customer, matches): \n",
    "    drive_path = f'G:/Shared drives/GroupBy Public/Customer Success/.Enrich/Platform Upload Trail/{customer}/_Ready For Upload' \n",
    "    matches.to_csv(f'{drive_path}/Bed Bath & Beyond --{get_df_name(matches)}-match_puzzle_piece-{today}.csv',index=False) \n",
    "looks_good('Bed Bath & Beyond',match_puzzle_piece) "
   ]
  },
  {
   "cell_type": "code",
   "execution_count": null,
   "metadata": {},
   "outputs": [],
   "source": [
    "x['match']=x['value'].apply(lambda x: re.sub(r'(\\-)',' ',str(x))).apply(lambda x: re.sub(r'((?<!(?<!\\d)1 )Piece(?! Set))','Piece Set',str(x))).apply(lambda x: re.sub(r'(p)','P',str(x))).apply(lambda x: re.sub(r'(\\s\\s)',' ',str(x))).apply(lambda x: re.sub(r'(\\,)','',str(x))).apply(lambda x: re.sub(r'([2-9][0-9]\\d*(?!\\+))|(1\\d{2,}(?!\\+))','20+',str(x))).apply(lambda x: re.sub(r'(\"000\\sPiece Set\"\\,?)','',str(x)))                         \n",
    "x['match'].explode().value_counts()"
   ]
  },
  {
   "cell_type": "code",
   "execution_count": null,
   "metadata": {},
   "outputs": [],
   "source": [
    "not_zero=x[x['value'].astype(str)!='000 Piece Set']\n",
    "# not_zero[0:500]"
   ]
  },
  {
   "cell_type": "code",
   "execution_count": null,
   "metadata": {},
   "outputs": [],
   "source": [
    "zeros=x[x['match'].astype(str)=='000 Piece Set']\n",
    "zeros['Q:set_size']='[]'\n",
    "match_zeros=zeros[['external_id','Q:set_size']]\n",
    "\n",
    "def get_df_name(df):\n",
    "    name =[x for x in globals() if globals()[x] is df][0]\n",
    "    return name\n",
    "def looks_good(customer, matches): \n",
    "    drive_path = f'G:/Shared drives/GroupBy Public/Customer Success/.Enrich/Platform Upload Trail/{customer}/_Ready For Upload' \n",
    "    matches.to_csv(f'{drive_path}/Bed Bath & Beyond --{get_df_name(matches)}-match_zeros-{today}.csv',index=False) \n",
    "looks_good('Bed Bath & Beyond',match_zeros) "
   ]
  },
  {
   "cell_type": "code",
   "execution_count": null,
   "metadata": {},
   "outputs": [],
   "source": []
  },
  {
   "cell_type": "code",
   "execution_count": null,
   "metadata": {},
   "outputs": [],
   "source": []
  },
  {
   "cell_type": "code",
   "execution_count": null,
   "metadata": {},
   "outputs": [],
   "source": []
  },
  {
   "cell_type": "code",
   "execution_count": null,
   "metadata": {},
   "outputs": [],
   "source": [
    "tues=dfs[dfs['curated_date'].astype(str)=='2023-01-17']\n",
    "tues['value'].explode().value_counts()"
   ]
  },
  {
   "cell_type": "code",
   "execution_count": null,
   "metadata": {},
   "outputs": [],
   "source": [
    "x=dfs[(dfs['external_id'].astype(str)!='69404047')&(dfs['external_id'].astype(str)!='200352842')&(dfs['value'].astype(str)=='n/a')]\n",
    "custom_field_df=pd.json_normalize(x['custom_fields'])\n",
    "fields = ['Set_Size']\n",
    "df = pd.concat([x,custom_field_df], axis = 1)\n",
    "df.drop_duplicates(subset='external_id', inplace=True)\n",
    "y=df[['value','external_id','product_name','long_desc','LONG_DESCRIPTION','DESCRIPTION','s_f_binSet_Size','s_f_binSize','Set_Size','SKU_SIZE_s','SKU_SIZE','gbi_syn_size','VDC_SKU_TYPE']]"
   ]
  },
  {
   "cell_type": "code",
   "execution_count": null,
   "metadata": {},
   "outputs": [],
   "source": []
  },
  {
   "cell_type": "code",
   "execution_count": null,
   "metadata": {},
   "outputs": [],
   "source": [
    "na=tues\n",
    "pat='''(?i)((?:\\d{1,2}(?!\\d).?piece.?set|(?<!near.)set.?of.?\\d{1,2}(?!\\d)(?:.?or.?\\d{1,2}(?!\\d))?|set.?size.?'\\:\\s?'\\d{1,2}(?!\\d)))|()'''\n",
    "na['m_cus']=na['Set_Size'].apply(lambda x: re_extract(pat,str(x)))\n",
    "na['m_name']=na['s_f_binSet_Size'].apply(lambda x: re_extract(pat,str(x)))\n",
    "na['m_long']=na['s_f_binSize'].apply(lambda x: re_extract(pat,str(x)))\n",
    "na['m_custom']=na['SKU_SIZE'].apply(lambda x: re_extract(pat,str(x)))\n",
    "\n",
    "na['set_name']=na['Set_Size'].apply(lambda x: re_extract(pat,str(x)))\n",
    "na['sku_name']=na['SKU_SIZE_s'].apply(lambda x: re_extract(pat,str(x)))\n",
    "na['gbi_name']=na['gbi_syn_size'].apply(lambda x: re_extract(pat,str(x)))\n",
    "na['vdc_name']=na['VDC_SKU_TYPE'].apply(lambda x: re_extract(pat,str(x)))"
   ]
  },
  {
   "cell_type": "code",
   "execution_count": null,
   "metadata": {},
   "outputs": [],
   "source": [
    "na[na['m_cus'].astype(str)!='[]']"
   ]
  },
  {
   "cell_type": "code",
   "execution_count": null,
   "metadata": {},
   "outputs": [],
   "source": []
  },
  {
   "cell_type": "code",
   "execution_count": null,
   "metadata": {},
   "outputs": [],
   "source": []
  },
  {
   "cell_type": "code",
   "execution_count": null,
   "metadata": {},
   "outputs": [],
   "source": []
  },
  {
   "cell_type": "code",
   "execution_count": null,
   "metadata": {},
   "outputs": [],
   "source": []
  },
  {
   "cell_type": "code",
   "execution_count": null,
   "metadata": {},
   "outputs": [],
   "source": [
    "na=y[y['value'].astype(str)=='n/a']\n",
    "na['value'].explode().value_counts()\n",
    "# del na['Set_Size']"
   ]
  },
  {
   "cell_type": "code",
   "execution_count": null,
   "metadata": {},
   "outputs": [],
   "source": [
    "pat='''(?i)((?:\\d{1,2}(?!\\d).?piece.?set|(?<!near.)set.?of.?\\d{1,2}(?!\\d)(?:.?or.?\\d{1,2}(?!\\d))?|set.?size.?'\\:\\s?'\\d{1,2}(?!\\d)))|()'''\n",
    "na['m_name']=na['s_f_binSet_Size'].apply(lambda x: re_extract(pat,str(x)))\n",
    "na['m_long']=na['s_f_binSize'].apply(lambda x: re_extract(pat,str(x)))\n",
    "na['m_custom']=na['SKU_SIZE'].apply(lambda x: re_extract(pat,str(x)))\n",
    "\n",
    "na['set_name']=na['Set_Size'].apply(lambda x: re_extract(pat,str(x)))\n",
    "na['sku_name']=na['SKU_SIZE_s'].apply(lambda x: re_extract(pat,str(x)))\n",
    "na['gbi_name']=na['gbi_syn_size'].apply(lambda x: re_extract(pat,str(x)))\n",
    "na['vdc_name']=na['VDC_SKU_TYPE'].apply(lambda x: re_extract(pat,str(x)))\n",
    "\n",
    "set_size_all=na[(na['m_name'].astype(str)!='[]')|(na['m_long'].astype(str)!='[]')|(na['m_custom'].astype(str)!='[]')]\n",
    "print(len(set_size_all))\n",
    "set_size_custom=na[(na['m_custom'].astype(str)!='[]')]\n",
    "print(len(set_size_custom))\n",
    "set_size=na[((na['m_name'].astype(str)!='[]')|(na['m_long'].astype(str)!='[]'))&(na['m_custom'].astype(str)!='[]')]\n",
    "print(len(set_size))"
   ]
  },
  {
   "cell_type": "code",
   "execution_count": null,
   "metadata": {},
   "outputs": [],
   "source": [
    "binz=set_size_all[(set_size_all['s_f_binSize'].astype(str)!='nan')&(set_size_all['s_f_binSet_Size'].astype(str)=='nan')&(set_size_all['SKU_SIZE_s'].astype(str)=='nan')]\n",
    "print(len(binz))"
   ]
  },
  {
   "cell_type": "code",
   "execution_count": null,
   "metadata": {},
   "outputs": [],
   "source": [
    "binz=set_size_all[(set_size_all['s_f_binSize'].astype(str)=='nan')&(set_size_all['s_f_binSet_Size'].astype(str)=='nan')]\n",
    "print(len(binz))\n",
    "pat='(?i)(\\d+\\s?pack)|(set\\s?of\\s?\\d+)|(Single)|()'\n",
    "binz['match']=binz['SKU_SIZE_s'].apply(lambda x: re_extract(pat,str(x)))\n",
    "\n",
    "binz=binz[binz['match'].astype(str)!='[]']\n",
    "binz[curation_col]=bins['match'].apply(lambda x: re.sub(r'(?i)(Set of\\s)','',str(x))).apply(lambda x: re.sub(r'(?i)(Single)|(1 Piece Set)','1 Piece',str(x))).apply(lambda x: re.sub(r'(?i)(\\s?pack)',' Piece Set',str(x))).apply(lambda x: re.sub(r'(?i)(piece)','Piece',str(x))).apply(lambda x: re.sub(r'(?i)(set)','Set',str(x))).apply(lambda x: re.sub(r'([2-9]\\d(?:\\+)?)|(\\d\\d\\d+(?:\\s?\\+)?)','20+',str(x))).apply(lambda x: re.sub(r\"'\",'\"',str(x))).apply(lambda x: remove_duplicates([n.strip() for n in ast.literal_eval(x)])).apply(lambda x: natsorted(x)).apply(lambda x: re.sub(r\"(\\s?'\\s?(?=\\]))|((?<=\\[)\\s?'\\s?)|((?<=\\,)\\s?'\\s?)|(\\s?'\\s?(?=\\,))|(\\s?'\\s?(?=\\]))\",'\"',str(x))).apply(lambda x: re.sub(r'(?i)(?<=\\d)(?! Piece)(?!\\d)',' Piece Set',str(x))).apply(lambda x: re.sub(r'(?i)(\\s?Piece Set\\+)','+ Piece Set',str(x))).apply(lambda x: re.sub(r'(\\s?Piece Set Piece Set)',' Piece Set',str(x))).apply(lambda x: remove_duplicates([n.strip() for n in ast.literal_eval(x)])).apply(lambda x: re.sub(r\"(\\s?'\\s?(?=\\]))|((?<=\\[)\\s?'\\s?)|((?<=\\,)\\s?'\\s?)|(\\s?'\\s?(?=\\,))|(\\s?'\\s?(?=\\]))\",'\"',str(x))).apply(lambda x: remove_duplicates([n.strip() for n in ast.literal_eval(x)])).apply(lambda x: re.sub(r\"(\\s?'\\s?(?=\\]))|((?<=\\[)\\s?'\\s?)|((?<=\\,)\\s?'\\s?)|(\\s?'\\s?(?=\\,))|(\\s?'\\s?(?=\\]))\",'\"',str(x)))        \n",
    "print(len(binz))\n",
    "binz[curation_col].explode().value_counts()\n",
    "# bins"
   ]
  },
  {
   "cell_type": "code",
   "execution_count": null,
   "metadata": {},
   "outputs": [],
   "source": [
    "match_sku_set_size=binz[['external_id',curation_col]]\n",
    "match_sku_set_size[curation_col].explode().value_counts()"
   ]
  },
  {
   "cell_type": "code",
   "execution_count": null,
   "metadata": {},
   "outputs": [],
   "source": [
    "def get_df_name(df):\n",
    "    name =[x for x in globals() if globals()[x] is df][0]\n",
    "    return name\n",
    "def looks_good(customer, matches): \n",
    "    drive_path = f'G:/Shared drives/GroupBy Public/Customer Success/.Enrich/Platform Upload Trail/{customer}/_Ready For Upload' \n",
    "    matches.to_csv(f'{drive_path}/Bed Bath & Beyond --{get_df_name(matches)}-match_sku_set_size-{today}.csv',index=False) \n",
    "looks_good('Bed Bath & Beyond',match_sku_set_size) "
   ]
  },
  {
   "cell_type": "code",
   "execution_count": null,
   "metadata": {},
   "outputs": [],
   "source": [
    "binz[binz[curation_col].astype(str)=='[\"1 Piece\",\"2 Piece Set\",\"4 Piece Set\"]']"
   ]
  },
  {
   "cell_type": "code",
   "execution_count": null,
   "metadata": {},
   "outputs": [],
   "source": []
  },
  {
   "cell_type": "code",
   "execution_count": null,
   "metadata": {},
   "outputs": [],
   "source": [
    "bins=set_size_all[(set_size_all['s_f_binSize'].astype(str)!='nan')&(set_size_all['s_f_binSet_Size'].astype(str)=='nan')]\n",
    "print(len(bins))\n",
    "pat='(?i)(\\d+\\s?pack)|(set\\s?of\\s?\\d+)|(Single)|()'\n",
    "bins['match']=bins['s_f_binSize'].apply(lambda x: re_extract(pat,str(x)))\n",
    "\n",
    "bins=bins[bins['match'].astype(str)!='[]']\n",
    "bins[curation_col]=bins['match'].apply(lambda x: re.sub(r'(?i)(Set of\\s)','',str(x))).apply(lambda x: re.sub(r'(?i)(Single)|(1 Piece Set)','1 Piece',str(x))).apply(lambda x: re.sub(r'(?i)(\\s?pack)',' Piece Set',str(x))).apply(lambda x: re.sub(r'(?i)(piece)','Piece',str(x))).apply(lambda x: re.sub(r'(?i)(set)','Set',str(x))).apply(lambda x: re.sub(r'([2-9]\\d(?:\\+)?)|(\\d\\d\\d+(?:\\s?\\+)?)','20+',str(x))).apply(lambda x: re.sub(r\"'\",'\"',str(x))).apply(lambda x: remove_duplicates([n.strip() for n in ast.literal_eval(x)])).apply(lambda x: natsorted(x)).apply(lambda x: re.sub(r\"(\\s?'\\s?(?=\\]))|((?<=\\[)\\s?'\\s?)|((?<=\\,)\\s?'\\s?)|(\\s?'\\s?(?=\\,))|(\\s?'\\s?(?=\\]))\",'\"',str(x))).apply(lambda x: re.sub(r'(?i)(?<=\\d)(?! Piece)(?!\\d)',' Piece Set',str(x))).apply(lambda x: remove_duplicates([n.strip() for n in ast.literal_eval(x)])).apply(lambda x: re.sub(r\"(\\s?'\\s?(?=\\]))|((?<=\\[)\\s?'\\s?)|((?<=\\,)\\s?'\\s?)|(\\s?'\\s?(?=\\,))|(\\s?'\\s?(?=\\]))\",'\"',str(x))).apply(lambda x: remove_duplicates([n.strip() for n in ast.literal_eval(x)])).apply(lambda x: re.sub(r\"(\\s?'\\s?(?=\\]))|((?<=\\[)\\s?'\\s?)|((?<=\\,)\\s?'\\s?)|(\\s?'\\s?(?=\\,))|(\\s?'\\s?(?=\\]))\",'\"',str(x)))        \n",
    "print(len(bins))\n",
    "bins[curation_col].explode().value_counts()"
   ]
  },
  {
   "cell_type": "code",
   "execution_count": null,
   "metadata": {},
   "outputs": [],
   "source": [
    "match_bin=bins[['external_id',curation_col]]\n",
    "match_bin[curation_col].explode().value_counts()"
   ]
  },
  {
   "cell_type": "code",
   "execution_count": null,
   "metadata": {},
   "outputs": [],
   "source": [
    "# bins[bins[curation_col].astype(str)=='[\"1 Piece\",\"2 Piece Set\"]']"
   ]
  },
  {
   "cell_type": "code",
   "execution_count": null,
   "metadata": {},
   "outputs": [],
   "source": []
  },
  {
   "cell_type": "code",
   "execution_count": null,
   "metadata": {},
   "outputs": [],
   "source": [
    "bins=set_size_all[(set_size_all['s_f_binSet_Size'].astype(str)!='nan')]\n",
    "print(len(bins))\n",
    "bins[curation_col]=bins['s_f_binSet_Size'].apply(lambda x: re.sub(r'(?i)(piece)','Piece',str(x))).apply(lambda x: re.sub(r'(?i)(set)','Set',str(x))).apply(lambda x: re.sub(r'([2-9]\\d(?:\\+)?)|(\\d\\d\\d+(?:\\s?\\+)?)','20+',str(x))).apply(lambda x: re.sub(r\"'\",'\"',str(x))).apply(lambda x: remove_duplicates([n.strip() for n in ast.literal_eval(x)])).apply(lambda x: natsorted(x)).apply(lambda x: re.sub(r\"(\\s?'\\s?(?=\\]))|((?<=\\[)\\s?'\\s?)|((?<=\\,)\\s?'\\s?)|(\\s?'\\s?(?=\\,))|(\\s?'\\s?(?=\\]))\",'\"',str(x))).apply(lambda x: remove_duplicates([n.strip() for n in ast.literal_eval(x)])).apply(lambda x: re.sub(r\"(\\s?'\\s?(?=\\]))|((?<=\\[)\\s?'\\s?)|((?<=\\,)\\s?'\\s?)|(\\s?'\\s?(?=\\,))|(\\s?'\\s?(?=\\]))\",'\"',str(x))).apply(lambda x: remove_duplicates([n.strip() for n in ast.literal_eval(x)])).apply(lambda x: re.sub(r\"(\\s?'\\s?(?=\\]))|((?<=\\[)\\s?'\\s?)|((?<=\\,)\\s?'\\s?)|(\\s?'\\s?(?=\\,))|(\\s?'\\s?(?=\\]))\",'\"',str(x)))        \n",
    "print(len(bins))\n",
    "bins[curation_col].explode().value_counts()"
   ]
  },
  {
   "cell_type": "code",
   "execution_count": null,
   "metadata": {},
   "outputs": [],
   "source": [
    "match_binz=bins[['external_id',curation_col]]"
   ]
  },
  {
   "cell_type": "code",
   "execution_count": null,
   "metadata": {},
   "outputs": [],
   "source": [
    "def get_df_name(df):\n",
    "    name =[x for x in globals() if globals()[x] is df][0]\n",
    "    return name\n",
    "def looks_good(customer, matches): \n",
    "    drive_path = f'G:/Shared drives/GroupBy Public/Customer Success/.Enrich/Platform Upload Trail/{customer}/_Ready For Upload' \n",
    "    matches.to_csv(f'{drive_path}/Bed Bath & Beyond --{get_df_name(matches)}-match_bin-{today}.csv',index=False) \n",
    "looks_good('Bed Bath & Beyond',match_bin) \n",
    "\n",
    "\n",
    "def get_df_name(df):\n",
    "    name =[x for x in globals() if globals()[x] is df][0]\n",
    "    return name\n",
    "def looks_good(customer, matches): \n",
    "    drive_path = f'G:/Shared drives/GroupBy Public/Customer Success/.Enrich/Platform Upload Trail/{customer}/_Ready For Upload' \n",
    "    matches.to_csv(f'{drive_path}/Bed Bath & Beyond --{get_df_name(matches)}-match_binz-{today}.csv',index=False) \n",
    "looks_good('Bed Bath & Beyond',match_binz) "
   ]
  },
  {
   "cell_type": "code",
   "execution_count": null,
   "metadata": {},
   "outputs": [],
   "source": []
  },
  {
   "cell_type": "code",
   "execution_count": null,
   "metadata": {},
   "outputs": [],
   "source": []
  },
  {
   "cell_type": "code",
   "execution_count": null,
   "metadata": {},
   "outputs": [],
   "source": []
  },
  {
   "cell_type": "code",
   "execution_count": null,
   "metadata": {},
   "outputs": [],
   "source": [
    "bins[bins[curation_col].astype(str)=='[\"2 Piece Set\",\"3 Piece Set\",\"4 Piece Set\"]']"
   ]
  },
  {
   "cell_type": "code",
   "execution_count": null,
   "metadata": {},
   "outputs": [],
   "source": []
  },
  {
   "cell_type": "code",
   "execution_count": null,
   "metadata": {},
   "outputs": [],
   "source": []
  },
  {
   "cell_type": "code",
   "execution_count": null,
   "metadata": {},
   "outputs": [],
   "source": [
    "set_names=na[(na['set_name'].astype(str)=='[]')&(na['m_name'].astype(str)!='[]')]\n",
    "print(len(set_names))\n",
    "# set_name"
   ]
  },
  {
   "cell_type": "code",
   "execution_count": null,
   "metadata": {},
   "outputs": [],
   "source": [
    "set_names[curation_col]=set_names['m_name'].apply(lambda x: re.sub(r\"(or)\",'\",\"',str(x))).apply(lambda x: re.sub(r\"((?<!\\[)(?<!\\,)(?<!\\,\\s)'(?!\\,)(?!\\s\\,)(?!\\]))\",'',str(x))).apply(lambda x: re.sub(r'''(?i)((?:set|size|\\_|of|piece|\\:|\\s?|\\-))''','',str(x))).apply(lambda x: re.sub(r\"((?<=\\[)\\s?')|('\\s?(?=\\,))|((?<=\\,)\\s?')|('\\s?(?=\\]))\",'\"',str(x))).apply(lambda x: remove_duplicates([n.strip() for n in ast.literal_eval(x)])).apply(lambda x: re.sub(r\"((?<=\\[)\\s?')|('\\s?(?=\\,))|((?<=\\,)\\s?')|('\\s?(?=\\]))\",'\"',str(x))).apply(lambda x: remove_duplicates([n.strip() for n in ast.literal_eval(x)])).apply(lambda x: re.sub(r\"((?<=\\[)\\s?')|('\\s?(?=\\,))|((?<=\\,)\\s?')|('\\s?(?=\\]))\",'\"',str(x)))\n",
    "set_names[curation_col]=set_names[curation_col].apply(lambda x: remove_duplicates([n.strip() for n in ast.literal_eval(x)])).apply(lambda x: re.sub(r\"((?<!\\[)(?<!\\,)(?<!\\,\\s)'(?!\\,)(?!\\s\\,)(?!\\]))\",'',str(x)))\n",
    "set_names[curation_col]=set_names[curation_col].apply(lambda x: remove_duplicates([n.strip() for n in ast.literal_eval(x)])).apply(lambda x: re.sub(r\"((?<!\\[)(?<!\\,)(?<!\\,\\s)'(?!\\,)(?!\\s\\,)(?!\\]))\",'',str(x))).apply(lambda x: remove_duplicates([n.strip() for n in ast.literal_eval(x)]))\n",
    "set_names[curation_col]=set_names[curation_col].apply(lambda x: re.sub(r\"'\",'\"',str(x))).apply(lambda x: re.sub(r\"((?<!\\d)[2-9]\\d{1,2})|(1\\d\\d)\",'20+',str(x))).apply(lambda x: re.sub(r'((?<=\\d)(?=\"))|((?<=\\+)(?=\"))',' Piece',str(x))).apply(lambda x: re.sub(r\"(p)\",'P',str(x))).apply(lambda x: re.sub(r\"(s)\",'S',str(x))).apply(lambda x: re.sub(r'(?<=Piece)(?=\")',' Set',str(x))).apply(lambda x: remove_duplicates([n.strip() for n in ast.literal_eval(x)])).apply(lambda x: re.sub(r\"((?<!\\[)(?<!\\,)(?<!\\,\\s)'(?!\\,)(?!\\s\\,)(?!\\]))\",'',str(x))).apply(lambda x: remove_duplicates([n.strip() for n in ast.literal_eval(x)])).apply(lambda x: re.sub(r\"((?<!\\[)(?<!\\,)(?<!\\,\\s)'(?!\\,)(?!\\s\\,)(?!\\]))\",'',str(x)))\n",
    "\n",
    "set_names[curation_col]=set_names[curation_col].apply(lambda x: re.sub(r\"'\\s?\\,\\s?'\",'\",\"',str(x))).apply(lambda x: re.sub(r\"'\",'\"',str(x))).apply(lambda x: remove_duplicates([n.strip() for n in ast.literal_eval(x)])).apply(lambda x: natsorted(x)).apply(lambda x: re.sub(r\"((?<=\\[)\\s?')|('\\s?(?=\\,))|((?<=\\,)\\s?')|('\\s?(?=\\]))\",'\"',str(x)))\n",
    "\n",
    "set_names[curation_col].explode().value_counts()\n",
    "match_set_names=set_names[['external_id',curation_col]]\n",
    "# set_names[0:500]\n",
    "\n"
   ]
  },
  {
   "cell_type": "code",
   "execution_count": null,
   "metadata": {},
   "outputs": [],
   "source": [
    "def get_df_name(df):\n",
    "    name =[x for x in globals() if globals()[x] is df][0]\n",
    "    return name\n",
    "def looks_good(customer, matches): \n",
    "    drive_path = f'G:/Shared drives/GroupBy Public/Customer Success/.Enrich/Platform Upload Trail/{customer}/_Ready For Upload' \n",
    "    matches.to_csv(f'{drive_path}/Bed Bath & Beyond --{get_df_name(matches)}-match_set_names-{today}.csv',index=False) \n",
    "looks_good('Bed Bath & Beyond',match_set_names) "
   ]
  },
  {
   "cell_type": "code",
   "execution_count": null,
   "metadata": {},
   "outputs": [],
   "source": []
  },
  {
   "cell_type": "code",
   "execution_count": null,
   "metadata": {},
   "outputs": [],
   "source": [
    "set_name=na[na['set_name'].astype(str)!='[]']\n",
    "print(len(set_name))\n",
    "# set_name"
   ]
  },
  {
   "cell_type": "code",
   "execution_count": null,
   "metadata": {},
   "outputs": [],
   "source": []
  },
  {
   "cell_type": "code",
   "execution_count": null,
   "metadata": {},
   "outputs": [],
   "source": [
    "set_name['matches']=set_name['set_name'].apply(lambda x: re.sub(r\"(or)\",'\",\"',str(x))).apply(lambda x: re.sub(r\"((?<!\\[)(?<!\\,)(?<!\\,\\s)'(?!\\,)(?!\\s\\,)(?!\\]))\",'',str(x))).apply(lambda x: re.sub(r'''(?i)((?:set|size|\\_|of|piece|\\:|\\s?|\\-))''','',str(x))).apply(lambda x: re.sub(r\"((?<=\\[)\\s?')|('\\s?(?=\\,))|((?<=\\,)\\s?')|('\\s?(?=\\]))\",'\"',str(x))).apply(lambda x: remove_duplicates([n.strip() for n in ast.literal_eval(x)])).apply(lambda x: natsorted(x)).apply(lambda x: re.sub(r\"((?<=\\[)\\s?')|('\\s?(?=\\,))|((?<=\\,)\\s?')|('\\s?(?=\\]))\",'\"',str(x))).apply(lambda x: remove_duplicates([n.strip() for n in ast.literal_eval(x)])).apply(lambda x: re.sub(r\"((?<=\\[)\\s?')|('\\s?(?=\\,))|((?<=\\,)\\s?')|('\\s?(?=\\]))\",'\"',str(x)))\n",
    "set_name[curation_col]=set_name['matches'].apply(lambda x: remove_duplicates([n.strip() for n in ast.literal_eval(x)])).apply(lambda x: re.sub(r\"((?<!\\[)(?<!\\,)(?<!\\,\\s)'(?!\\,)(?!\\s\\,)(?!\\]))\",'',str(x)))\n",
    "set_name[curation_col]=set_name[curation_col].apply(lambda x: remove_duplicates([n.strip() for n in ast.literal_eval(x)])).apply(lambda x: re.sub(r\"((?<!\\[)(?<!\\,)(?<!\\,\\s)'(?!\\,)(?!\\s\\,)(?!\\]))\",'',str(x))).apply(lambda x: remove_duplicates([n.strip() for n in ast.literal_eval(x)]))\n",
    "set_name['matches'].explode().value_counts()\n",
    "set_name[curation_col]=set_name[curation_col].apply(lambda x: re.sub(r\"'\",'\"',str(x))).apply(lambda x: re.sub(r\"((?<!\\d)[2-9]\\d{1,2})|(1\\d\\d)\",'20+',str(x))).apply(lambda x: re.sub(r'((?<=\\d)(?=\"))|((?<=\\+)(?=\"))',' Piece',str(x))).apply(lambda x: re.sub(r\"(p)\",'P',str(x))).apply(lambda x: re.sub(r\"(s)\",'S',str(x))).apply(lambda x: re.sub(r'(?<=Piece)(?=\")',' Set',str(x)))\n",
    "set_name['matches'].explode().value_counts()\n",
    "match_set_name=set_name[['external_id',curation_col]]"
   ]
  },
  {
   "cell_type": "code",
   "execution_count": null,
   "metadata": {},
   "outputs": [],
   "source": [
    "def get_df_name(df):\n",
    "    name =[x for x in globals() if globals()[x] is df][0]\n",
    "    return name\n",
    "def looks_good(customer, matches): \n",
    "    drive_path = f'G:/Shared drives/GroupBy Public/Customer Success/.Enrich/Platform Upload Trail/{customer}/_Ready For Upload' \n",
    "    matches.to_csv(f'{drive_path}/Bed Bath & Beyond --{get_df_name(matches)}-match_set_name-{today}.csv',index=False) \n",
    "looks_good('Bed Bath & Beyond',match_set_name) "
   ]
  },
  {
   "cell_type": "code",
   "execution_count": null,
   "metadata": {},
   "outputs": [],
   "source": [
    "import re\n",
    "\n",
    "metric=' Piece Set'\n",
    "range_string = \"\"\"\n",
    "10 Piece Set\n",
    "11 Piece Set\n",
    "12 Piece Set\n",
    "13 Piece Set\n",
    "14 Piece Set\n",
    "15 Piece Set\n",
    "16 Piece Set\n",
    "17 Piece Set\n",
    "18 Piece Set\n",
    "19 Piece Set\n",
    "1 Piece\n",
    "20+ Piece Set\n",
    "2 Piece Set\n",
    "3 Piece Set\n",
    "4 Piece Set\n",
    "5 Piece Set\n",
    "6 Piece Set\n",
    "7 Piece Set\n",
    "8 Piece Set\n",
    "9 Piece Set\n",
    " \"\"\"\n",
    "\n",
    "range_params = {}\n",
    "for range_entry in range_string.split('\\n'):\n",
    "    range_nums = re.findall('\\d+', range_entry)\n",
    "    if len(range_nums) > 0: \n",
    "        range_params[tuple(map(int, range_nums))] = range_entry.strip()\n",
    "\n",
    "\n",
    "def  range_app(num_lst):\n",
    "    updated_labels = []\n",
    "    for num in num_lst:\n",
    "        num = float(num)\n",
    "        for range_param, range_label in range_params.items():\n",
    "            if len(range_param) == 1:\n",
    "                if num >= range_param[0]:\n",
    "                    updated_labels.append(range_label)\n",
    "            else:\n",
    "                if num >= range_param[0] and num <= range_param[1]:\n",
    "                    updated_labels.append(range_label)\n",
    "    return updated_labels"
   ]
  },
  {
   "cell_type": "code",
   "execution_count": null,
   "metadata": {},
   "outputs": [],
   "source": [
    "set_name[curation_col]=set_name['matches'].apply(lambda x: remove_duplicates([n.strip() for n in ast.literal_eval(x)])).apply(lambda x: re.sub(r\"((?<!\\[)(?<!\\,)(?<!\\,\\s)'(?!\\,)(?!\\s\\,)(?!\\]))\",'',str(x)))\n",
    "set_name[curation_col]=set_name[curation_col].apply(lambda x: remove_duplicates([n.strip() for n in ast.literal_eval(x)])).apply(lambda x: re.sub(r\"((?<!\\[)(?<!\\,)(?<!\\,\\s)'(?!\\,)(?!\\s\\,)(?!\\]))\",'',str(x))).apply(lambda x: remove_duplicates([n.strip() for n in ast.literal_eval(x)]))\n",
    "set_name['matches'].explode().value_counts()\n",
    "set_name[curation_col]=set_name[curation_col].apply(lambda x: re.sub(r\"'\",'\"',str(x))).apply(lambda x: re.sub(r\"((?<!\\d)[2-9]\\d{1,2})|(1\\d\\d)\",'20+',str(x))).apply(lambda x: re.sub(r'((?<=\\d)(?=\"))|((?<=\\+)(?=\"))',' Piece',str(x))).apply(lambda x: re.sub(r\"(p)\",'P',str(x))).apply(lambda x: re.sub(r\"(s)\",'S',str(x))).apply(lambda x: re.sub(r'(?<=Piece)(?=\")',' Set',str(x)))\n",
    "set_name[curation_col].explode().value_counts()\n",
    "match_set_name=set_name[['external_id',curation_col]]"
   ]
  },
  {
   "cell_type": "code",
   "execution_count": null,
   "metadata": {},
   "outputs": [],
   "source": []
  },
  {
   "cell_type": "code",
   "execution_count": null,
   "metadata": {},
   "outputs": [],
   "source": []
  },
  {
   "cell_type": "code",
   "execution_count": null,
   "metadata": {},
   "outputs": [],
   "source": []
  },
  {
   "cell_type": "code",
   "execution_count": null,
   "metadata": {},
   "outputs": [],
   "source": [
    "for i in range(len(dfz['custom_fields'])):\n",
    "    try:\n",
    "        pd.json_normalize(dfz['custom_fields'][i])\n",
    "    except:\n",
    "        print(dfs['external_id'][i])\n",
    "        \n",
    "dfs[dfs['external_id'].astype(str)=='69404047']\n",
    "dfs[dfs['external_id'].astype(str)=='200352842']"
   ]
  },
  {
   "cell_type": "code",
   "execution_count": null,
   "metadata": {},
   "outputs": [],
   "source": [
    "df_na=df\n",
    "pat='''(?i)((?:\\d{1,2}(?!\\d).?piece.?set|(?<!near.)set.?of.?\\d{1,2}(?!\\d)(?:.?or.?\\d{1,2}(?!\\d))?|set.?size.?'\\:\\s?'\\d{1,2}(?!\\d)))|()'''\n",
    "df_na['m_name']=df_na['product_name'].apply(lambda x: re_extract(pat,str(x)))\n",
    "df_na['m_long']=df_na['long_desc'].apply(lambda x: re_extract(pat,str(x)))\n",
    "df_na['m_custom']=df_na['Set_Size'].apply(lambda x: re_extract(pat,str(x)))\n",
    "\n",
    "set_size_all=df_na[(df_na['m_name'].astype(str)!='[]')|(df_na['m_long'].astype(str)!='[]')|(df_na['m_custom'].astype(str)!='[]')]\n",
    "print(len(set_size_all))\n",
    "set_size_custom=df_na[(df_na['m_custom'].astype(str)!='[]')]\n",
    "print(len(set_size_custom))\n",
    "set_size=df_na[((df_na['m_name'].astype(str)!='[]')|(df_na['m_long'].astype(str)!='[]'))&(df_na['m_custom'].astype(str)!='[]')]\n",
    "print(len(set_size))"
   ]
  },
  {
   "cell_type": "code",
   "execution_count": null,
   "metadata": {},
   "outputs": [],
   "source": [
    "set_size_custom['Set_Size'].explode().value_counts()\n",
    "set_size_custom[curation_col]=set_size_custom['Set_Size'].apply(lambda x: re.sub(r\"'\",'\"',str(x))).apply(lambda x: re.sub(r\"((?<!\\d)[2-9]\\d{1,2})|(1\\d\\d)\",'20+',str(x))).apply(lambda x: re.sub(r\"(p)\",'P',str(x))).apply(lambda x: re.sub(r\"(s)\",'S',str(x)))\n",
    "set_size_custom[curation_col].explode().value_counts()\n",
    "set_size_custom_na=set_size_custom[set_size_custom['value'].astype(str)=='n/a']"
   ]
  },
  {
   "cell_type": "code",
   "execution_count": null,
   "metadata": {},
   "outputs": [],
   "source": [
    "# match_set_size=set_size_custom_na[['external_id',curation_col]]\n",
    "def get_df_name(df):\n",
    "    name =[x for x in globals() if globals()[x] is df][0]\n",
    "    return name\n",
    "def looks_good(customer, matches): \n",
    "    drive_path = f'G:/Shared drives/GroupBy Public/Customer Success/.Enrich/Platform Upload Trail/{customer}/_Ready For Upload' \n",
    "    matches.to_csv(f'{drive_path}/Bed Bath & Beyond --{get_df_name(matches)}-match_set_name-{today}.csv',index=False) \n",
    "looks_good('Bed Bath & Beyond',match_set_name) "
   ]
  },
  {
   "cell_type": "code",
   "execution_count": null,
   "metadata": {},
   "outputs": [],
   "source": []
  },
  {
   "cell_type": "code",
   "execution_count": null,
   "metadata": {},
   "outputs": [],
   "source": [
    "set_size_custom['matches']=set_size_custom['m_custom'].apply(lambda x: re.sub(r\"(or)\",'\",\"',str(x))).apply(lambda x: re.sub(r\"((?<!\\[)(?<!\\,)(?<!\\,\\s)'(?!\\,)(?!\\s\\,)(?!\\]))\",'',str(x))).apply(lambda x: re.sub(r'''(?i)((?:set|size|\\_|of|piece|\\:|\\s?|\\-))''','',str(x))).apply(lambda x: re.sub(r\"((?<=\\[)\\s?')|('\\s?(?=\\,))|((?<=\\,)\\s?')|('\\s?(?=\\]))\",'\"',str(x))).apply(lambda x: remove_duplicates([n.strip() for n in ast.literal_eval(x)])).apply(lambda x: re.sub(r\"((?<=\\[)\\s?')|('\\s?(?=\\,))|((?<=\\,)\\s?')|('\\s?(?=\\]))\",'\"',str(x))).apply(lambda x: remove_duplicates([n.strip() for n in ast.literal_eval(x)])).apply(lambda x: re.sub(r\"((?<=\\[)\\s?')|('\\s?(?=\\,))|((?<=\\,)\\s?')|('\\s?(?=\\]))\",'\"',str(x)))\n",
    "# set_size_custom['matches'].explode().value_counts()\n",
    "# set_size_custom[set_size_custom['matches'].astype(str)=='[\"3\",\"1\",\"2\",\"3\"]']"
   ]
  },
  {
   "cell_type": "code",
   "execution_count": null,
   "metadata": {},
   "outputs": [],
   "source": [
    "import re\n",
    "\n",
    "metric=' Piece Set'\n",
    "range_string = \"\"\"\n",
    "10 Piece Set\n",
    "11 Piece Set\n",
    "12 Piece Set\n",
    "13 Piece Set\n",
    "14 Piece Set\n",
    "15 Piece Set\n",
    "16 Piece Set\n",
    "17 Piece Set\n",
    "18 Piece Set\n",
    "19 Piece Set\n",
    "1 Piece\n",
    "20+ Piece Set\n",
    "2 Piece Set\n",
    "3 Piece Set\n",
    "4 Piece Set\n",
    "5 Piece Set\n",
    "6 Piece Set\n",
    "7 Piece Set\n",
    "8 Piece Set\n",
    "9 Piece Set\n",
    " \"\"\"\n",
    "\n",
    "range_params = {}\n",
    "for range_entry in range_string.split('\\n'):\n",
    "    range_nums = re.findall('\\d+', range_entry)\n",
    "    if len(range_nums) > 0: \n",
    "        range_params[tuple(map(int, range_nums))] = range_entry.strip()\n",
    "\n",
    "\n",
    "def  range_app(num_lst):\n",
    "    updated_labels = []\n",
    "    for num in num_lst:\n",
    "        num = float(num)\n",
    "        for range_param, range_label in range_params.items():\n",
    "            if len(range_param) == 1:\n",
    "                if num >= range_param[0]:\n",
    "                    updated_labels.append(range_label)\n",
    "            else:\n",
    "                if num >= range_param[0] and num <= range_param[1]:\n",
    "                    updated_labels.append(range_label)\n",
    "    return updated_labels"
   ]
  },
  {
   "cell_type": "code",
   "execution_count": null,
   "metadata": {},
   "outputs": [],
   "source": [
    "set_size_custom[curation_col]=set_size_custom['matches'].apply(lambda x: remove_duplicates([n.strip() for n in ast.literal_eval(x)])).apply(range_app).apply(lambda x: re.sub(r\"((?<!\\[)(?<!\\,)(?<!\\,\\s)'(?!\\,)(?!\\s\\,)(?!\\]))\",'',str(x)))\n",
    "set_size_custom[curation_col]=set_size_custom[curation_col].apply(lambda x: remove_duplicates([n.strip() for n in ast.literal_eval(x)])).apply(lambda x: re.sub(r\"((?<!\\[)(?<!\\,)(?<!\\,\\s)'(?!\\,)(?!\\s\\,)(?!\\]))\",'',str(x))).apply(lambda x: remove_duplicates([n.strip() for n in ast.literal_eval(x)]))\n",
    "set_size_custom['matches'].explode().value_counts()\n",
    "# set_size_custom[0:500]"
   ]
  },
  {
   "cell_type": "code",
   "execution_count": null,
   "metadata": {},
   "outputs": [],
   "source": [
    "set_size_custom[set_size_custom['matches'].astype(str)=='[\"12\",\"16\",\"24\"]']"
   ]
  },
  {
   "cell_type": "code",
   "execution_count": null,
   "metadata": {},
   "outputs": [],
   "source": [
    "# set_size_custom[curation_col]=set_size_custom[curation_col].apply(lambda x: remove_duplicates([n.strip() for n in ast.literal_eval(x)])).apply(lambda x: re.sub(r\"((?<!\\[)(?<!\\,)(?<!\\,\\s)'(?!\\,)(?!\\s\\,)(?!\\]))\",'',str(x)))\n",
    "# set_size_custom[curation_col].explode().value_counts()"
   ]
  },
  {
   "cell_type": "code",
   "execution_count": null,
   "metadata": {},
   "outputs": [],
   "source": [
    "custom_na=set_size_custom[set_size_custom['value'].astype(str)=='n/a']\n",
    "print(len(custom_na))"
   ]
  },
  {
   "cell_type": "code",
   "execution_count": null,
   "metadata": {},
   "outputs": [],
   "source": []
  },
  {
   "cell_type": "code",
   "execution_count": null,
   "metadata": {},
   "outputs": [],
   "source": []
  },
  {
   "cell_type": "code",
   "execution_count": null,
   "metadata": {},
   "outputs": [],
   "source": [
    "set_size[curation_col]=set_size['']\n",
    "match_set_size=set_size[['external_id',curation_col]]\n",
    "match_set_size"
   ]
  },
  {
   "cell_type": "code",
   "execution_count": null,
   "metadata": {},
   "outputs": [],
   "source": [
    "# imported['Q:origin']=''\n",
    "# match_na_re_curates=imported[['external_id','Q:origin']]\n",
    "\n",
    "def get_df_name(df):\n",
    "    name =[x for x in globals() if globals()[x] is df][0]\n",
    "    return name\n",
    "def looks_good(customer, matches): \n",
    "    drive_path = f'G:/Shared drives/GroupBy Public/Customer Success/.Enrich/Platform Upload Trail/{customer}/_Ready For Upload' \n",
    "    matches.to_csv(f'{drive_path}/Bed Bath & Beyond --{get_df_name(matches)}-match_set_size-{today}.csv',index=False) \n",
    "looks_good('Bed Bath & Beyond',match_set_size) "
   ]
  },
  {
   "cell_type": "code",
   "execution_count": null,
   "metadata": {},
   "outputs": [],
   "source": []
  },
  {
   "cell_type": "code",
   "execution_count": null,
   "metadata": {},
   "outputs": [],
   "source": []
  },
  {
   "cell_type": "code",
   "execution_count": null,
   "metadata": {},
   "outputs": [],
   "source": []
  },
  {
   "cell_type": "code",
   "execution_count": null,
   "metadata": {},
   "outputs": [],
   "source": [
    "customer_id = '5'\n",
    "customer_name='%bedbathandbeyond%'\n",
    "dateszs='2002-08-11'\n",
    "attribut='length'\n",
    "curation_col = f'Q:{attribut}'\n",
    "params = {'customer_id': customer_id,\n",
    "          'customer_name':customer_name,\n",
    "         'dateszs':dateszs,\n",
    "         'attribute':attribut}\n",
    "\n",
    "print('start')\n",
    "dfs = query_from_file(file_name='../query/curated_all_attributes_date_one_attribute.sql', params=params)\n",
    "print(len(dfs))\n",
    "# dfz=dfs[dfs['resolution'].astype(str)!='rules']\n",
    "# print(len(dfz))\n",
    "# dfh=dfz[dfz['custom_fields'].astype(str)!='None']\n",
    "# # dfz=dfz[dfz['buckets'].astype(str)=='Conduit Fittings, Replacement Parts, & Accessories']\n",
    "# print(len(dfh))\n",
    "# custom_field_df=pd.json_normalize(dfh['custom_fields'])\n",
    "# df=pd.concat([dfs.drop('custom_fields', axis=1), custom_field_df], axis = 1)\n",
    "# print(len(df))"
   ]
  },
  {
   "cell_type": "code",
   "execution_count": null,
   "metadata": {},
   "outputs": [],
   "source": [
    "pat='''(?i)'''\n",
    "dfs['match']=dfs['value'].apply(lambda x: re_extract(pat,str(x)))\n",
    "length=dfs[dfs['match'].astype(str)!='[]']\n",
    "print(len(dfs))\n",
    "print(len(length))"
   ]
  },
  {
   "cell_type": "code",
   "execution_count": null,
   "metadata": {},
   "outputs": [],
   "source": [
    "length[curation_col]=length['value'].apply(lambda x: re.sub(r'''()''','',str(x))).apply(lambda x: re.sub(r'''()''','',str(x))).apply(lambda x: re.sub(r'''()''','',str(x))).apply(lambda x: re.sub(r'''()''','',str(x))).apply(lambda x: re.sub(r'''()''','',str(x)))\n",
    "length[curation_col]"
   ]
  },
  {
   "cell_type": "code",
   "execution_count": null,
   "metadata": {},
   "outputs": [],
   "source": [
    "match_length=length[['external_id',curation_col]]"
   ]
  },
  {
   "cell_type": "code",
   "execution_count": null,
   "metadata": {},
   "outputs": [],
   "source": [
    "# imported['Q:origin']=''\n",
    "# match_na_re_curates=imported[['external_id','Q:origin']]\n",
    "\n",
    "def get_df_name(df):\n",
    "    name =[x for x in globals() if globals()[x] is df][0]\n",
    "    return name\n",
    "def looks_good(customer, matches): \n",
    "    drive_path = f'G:/Shared drives/GroupBy Public/Customer Success/.Enrich/Platform Upload Trail/{customer}/_Ready For Upload' \n",
    "    matches.to_csv(f'{drive_path}/Bed Bath & Beyond --{get_df_name(matches)}-match_set_size-{today}.csv',index=False) \n",
    "looks_good('Bed Bath & Beyond',match_set_size) "
   ]
  },
  {
   "cell_type": "code",
   "execution_count": null,
   "metadata": {},
   "outputs": [],
   "source": []
  },
  {
   "cell_type": "code",
   "execution_count": null,
   "metadata": {},
   "outputs": [],
   "source": []
  },
  {
   "cell_type": "code",
   "execution_count": null,
   "metadata": {},
   "outputs": [],
   "source": []
  },
  {
   "cell_type": "code",
   "execution_count": null,
   "metadata": {},
   "outputs": [],
   "source": [
    "df['value'].explode().value_counts()\n",
    "# print(len(df[df['value'].astype(str)!='n/a']))"
   ]
  },
  {
   "cell_type": "code",
   "execution_count": null,
   "metadata": {},
   "outputs": [],
   "source": [
    "print(len(df))\n",
    "pat='''(?i)((?<=\\w)(?<!st)(?<!\\d)\\.)'''\n",
    "df['match']=df['value'].apply(lambda x: re_extract(pat,str(x)))\n",
    "qt=df[df['match'].astype(str)!='[]']\n",
    "print(len(qt))"
   ]
  },
  {
   "cell_type": "code",
   "execution_count": null,
   "metadata": {},
   "outputs": [],
   "source": [
    "qt['value'].explode().value_counts()\n",
    "df[curation_col]=df['value'].apply(lambda x: re.sub(r'(?i)((?<=\\w)(?<!st)(?<!\\d)\\.)','',str(x)))\n",
    "df[curation_col].explode().value_counts()"
   ]
  },
  {
   "cell_type": "code",
   "execution_count": null,
   "metadata": {},
   "outputs": [],
   "source": [
    "match=df[(df['value'].astype(str)!='nan')&(df['value'].astype(str)!='n/a')]\n",
    "match[curation_col].explode().value_counts()\n",
    "match_qt=match[['external_id',curation_col]]\n",
    "match_qt"
   ]
  },
  {
   "cell_type": "code",
   "execution_count": null,
   "metadata": {},
   "outputs": [],
   "source": [
    "# imported['Q:origin']=''\n",
    "# match_na_re_curates=imported[['external_id','Q:origin']]\n",
    "\n",
    "def get_df_name(df):\n",
    "    name =[x for x in globals() if globals()[x] is df][0]\n",
    "    return name\n",
    "def looks_good(customer, matches): \n",
    "    drive_path = f'G:/Shared drives/GroupBy Public/Customer Success/.Enrich/Platform Upload Trail/{customer}/_Ready For Upload' \n",
    "    matches.to_csv(f'{drive_path}/Bed Bath & Beyond --{get_df_name(matches)}-match_qt-{today}.csv',index=False) \n",
    "looks_good('Bed Bath & Beyond',match_qt) "
   ]
  },
  {
   "cell_type": "code",
   "execution_count": null,
   "metadata": {},
   "outputs": [],
   "source": []
  },
  {
   "cell_type": "code",
   "execution_count": null,
   "metadata": {},
   "outputs": [],
   "source": []
  },
  {
   "cell_type": "code",
   "execution_count": null,
   "metadata": {},
   "outputs": [],
   "source": []
  },
  {
   "cell_type": "code",
   "execution_count": null,
   "metadata": {},
   "outputs": [],
   "source": [
    "customer_id = '5'\n",
    "customer_name='%bedbathandbeyond%'\n",
    "dateszs='2022-11-01'\n",
    "dateszsz='2022-11-30'\n",
    "params = {'customer_id': customer_id,\n",
    "          'customer_name':customer_name,\n",
    "         'dateszs':dateszs,\n",
    "         'dateszsz':dateszsz}\n",
    "print('start')\n",
    "# dfs = query_from_file(file_name='../query/curated_all_attributes_date.sql', params=params)\n",
    "dfs = query_from_file(file_name='../query/curated_all_attributes_date_dates.sql', params=params)\n",
    "print(len(dfs))\n",
    "\n",
    "# custom_field_df=pd.json_normalize(dfs['custom_fields'])\n",
    "# df=pd.concat([dfs.drop('custom_fields', axis=1), custom_field_df], axis = 1)\n",
    "# print(len(df))"
   ]
  },
  {
   "cell_type": "code",
   "execution_count": null,
   "metadata": {},
   "outputs": [],
   "source": [
    "df=dfs[dfs['resolution'].astype(str)=='standard']\n",
    "\n",
    "def three(usa,reg):\n",
    "    print('Start')\n",
    "    trip=fr'''(?i){reg}|()''' \n",
    "    \n",
    "    usa['m_name']=usa['product_name'].apply(lambda x: re_extract(trip,str(x)))\n",
    "    usa['m_desc']=usa['long_desc'].apply(lambda x: re_extract(trip,str(x)))\n",
    "    usa['m_custom']=usa['custom_fields'].apply(lambda x: re_extract(trip,str(x)))\n",
    "    main=usa[(usa['m_name'].astype(str)!='[]')]\n",
    "    middle=usa[(usa['m_name'].astype(str)=='[]')&((usa['m_desc'].astype(str)!='[]')|(usa['m_custom'].astype(str)!='[]'))]\n",
    "    na=usa[(usa['m_name'].astype(str)=='[]')&(usa['m_desc'].astype(str)=='[]')&(usa['m_custom'].astype(str)=='[]')]\n",
    "    \n",
    "    print('')\n",
    "    print('values: '+str(len(main)))\n",
    "    print('No name but call outs: '+str(len(middle)))\n",
    "    print('no values: '+str(len(na)))\n",
    "    print('')\n",
    "    return main,middle,na"
   ]
  },
  {
   "cell_type": "code",
   "execution_count": null,
   "metadata": {},
   "outputs": [],
   "source": [
    "# not indoor/outdoor, occasion, setsize, size, \n",
    "df=dfs[(dfs['attribute'].astype(str)!='keywords')&(dfs['resolution'].astype(str)!='rules')]\n",
    "print(len(df))\n",
    "df['attribute'].explode().value_counts()"
   ]
  },
  {
   "cell_type": "code",
   "execution_count": null,
   "metadata": {},
   "outputs": [],
   "source": [
    "sets=df[df['attribute'].astype(str)=='drop_length']\n",
    "na=sets[sets['value'].astype(str)=='n/a']\n",
    "print(len(sets))\n",
    "print(len(na))\n",
    "size=sets[sets['value'].astype(str)!='n/a']\n",
    "print(len(size))"
   ]
  },
  {
   "cell_type": "code",
   "execution_count": null,
   "metadata": {},
   "outputs": [],
   "source": [
    "sets['value'].explode().value_counts()"
   ]
  },
  {
   "cell_type": "code",
   "execution_count": null,
   "metadata": {},
   "outputs": [],
   "source": [
    "pat='''(?i)(drop)'''\n",
    "x,y,z=three(sets,pat)"
   ]
  },
  {
   "cell_type": "code",
   "execution_count": null,
   "metadata": {},
   "outputs": [],
   "source": [
    "print(z['value'].explode().value_counts())"
   ]
  },
  {
   "cell_type": "code",
   "execution_count": null,
   "metadata": {},
   "outputs": [],
   "source": [
    "# print(len(sets[sets['value'].astype(str)!='n/a']))\n",
    "# sets[sets['value'].astype(str)!='n/a']"
   ]
  },
  {
   "cell_type": "code",
   "execution_count": null,
   "metadata": {},
   "outputs": [],
   "source": []
  },
  {
   "cell_type": "code",
   "execution_count": null,
   "metadata": {},
   "outputs": [],
   "source": [
    "customer_id = '5'\n",
    "customer_name='%bedbathandbeyond%'\n",
    "dateszs='2002-08-11'\n",
    "attribut='shelf_weight_capacity'\n",
    "curation_col = f'Q:{attribut}'\n",
    "params = {'customer_id': customer_id,\n",
    "          'customer_name':customer_name,\n",
    "         'dateszs':dateszs,\n",
    "         'attribute':attribut}\n",
    "\n",
    "print('start')\n",
    "dfs = query_from_file(file_name='../query/curated_all_attributes_date_one_attribute.sql', params=params)\n",
    "print(len(dfs))\n",
    "dfz=dfs[dfs['resolution'].astype(str)!='rules']\n",
    "print(len(dfz))\n",
    "dfh=dfz[dfz['custom_fields'].astype(str)!='None']\n",
    "# dfz=dfz[dfz['buckets'].astype(str)=='Conduit Fittings, Replacement Parts, & Accessories']\n",
    "print(len(dfh))\n",
    "custom_field_df=pd.json_normalize(dfh['custom_fields'])\n",
    "df=pd.concat([dfh.drop('custom_fields', axis=1), custom_field_df], axis = 1)\n",
    "print(len(df))"
   ]
  },
  {
   "cell_type": "code",
   "execution_count": null,
   "metadata": {},
   "outputs": [],
   "source": [
    "print(len(dfs))\n",
    "na=df[df['value'].astype(str)=='n/a']\n",
    "print(len(na))\n",
    "df=df[df['value'].astype(str)!='n/a']\n",
    "print(len(df))"
   ]
  },
  {
   "cell_type": "code",
   "execution_count": null,
   "metadata": {},
   "outputs": [],
   "source": [
    "pat='''(?i)(\\-)|(and)'''\n",
    "df['match']=df['value'].apply(lambda x: re_extract(pat,str(x)))\n",
    "val=df[(df['match'].astype(str)=='[]')&(df['external_id'].astype(str)!='nan')]\n",
    "val['val']=val['value'].apply(lambda x: re.sub(r'(?i)(\\s?lb)|(\\,)|(\\s?in)|(\\.\\d+)','',str(x)))\n",
    "print(len(val))"
   ]
  },
  {
   "cell_type": "code",
   "execution_count": null,
   "metadata": {},
   "outputs": [],
   "source": [
    "import re\n",
    "\n",
    "metric='lbs'\n",
    "range_string = \"\"\"\n",
    "100 lbs and Greater\n",
    "1 - 24 lbs\n",
    "25 - 49 lbs\n",
    "50 - 74 lbs\n",
    "75 - 99 lbs\n",
    " \"\"\"\n",
    "\n",
    "range_params = {}\n",
    "for range_entry in range_string.split('\\n'):\n",
    "    range_nums = re.findall('\\d+', range_entry)\n",
    "    if len(range_nums) > 0: \n",
    "        range_params[tuple(map(int, range_nums))] = range_entry.strip()\n",
    "\n",
    "\n",
    "def  range_app(num_lst):\n",
    "    updated_labels = []\n",
    "    for num in num_lst:\n",
    "        num = float(num)\n",
    "        for range_param, range_label in range_params.items():\n",
    "            if len(range_param) == 1:\n",
    "                if num >= range_param[0]:\n",
    "                    updated_labels.append(range_label)\n",
    "            else:\n",
    "                if num >= range_param[0] and num <= range_param[1]:\n",
    "                    updated_labels.append(range_label)\n",
    "    return updated_labels"
   ]
  },
  {
   "cell_type": "code",
   "execution_count": null,
   "metadata": {},
   "outputs": [],
   "source": [
    "val[curation_col]=val['val'].apply(lambda x: f\"['{x}']\").apply(lambda x: re.sub(r'\\[','[\"',str(x))).apply(lambda x: re.sub(r'\\]','\"]',str(x))).apply(lambda x: re.sub(r',','\",\"',str(x))).apply(lambda x: re.sub(r'\"\"','\"',str(x))).apply(lambda x: re.sub(r\"'\",'',str(x))).apply(lambda x: remove_duplicates([n.strip() for n in ast.literal_eval(x)])).apply(range_app).apply(lambda x: re.sub(r\"\\['\",'[\"',str(x))).apply(lambda x: re.sub(r\"'\\]\",'\"]',str(x))).apply(lambda x: re.sub(r\"'\\s?,\\s?'\",'\",\"',str(x))).apply(lambda x: re.sub(r\"'\\[\",'[',str(x))).apply(lambda x: re.sub(r\"\\]'\",']',str(x))).apply(lambda x: re.sub(r'\\,\\s',',',str(x))).apply(lambda x: remove_duplicates([n.strip() for n in ast.literal_eval(x)])) .apply(lambda x: re.sub(r\"\\['\",'[\"',str(x))).apply(lambda x: re.sub(r\"'\\]\",'\"]',str(x))).apply(lambda x: re.sub(r\"'\\s?,\\s?'\",'\",\"',str(x))).apply(lambda x: re.sub(r\"'\\[\",'[',str(x))).apply(lambda x: re.sub(r\"\\]'\",']',str(x)))\n",
    "val[['external_id','value',curation_col]]"
   ]
  },
  {
   "cell_type": "code",
   "execution_count": null,
   "metadata": {},
   "outputs": [],
   "source": [
    "match_shelf=val[['external_id',curation_col]]"
   ]
  },
  {
   "cell_type": "code",
   "execution_count": null,
   "metadata": {},
   "outputs": [],
   "source": [
    "def get_df_name(df):\n",
    "    name =[x for x in globals() if globals()[x] is df][0]\n",
    "    return name\n",
    "def looks_good(customer, matches): \n",
    "    drive_path = f'G:/Shared drives/GroupBy Public/Customer Success/.Enrich/Platform Upload Trail/{customer}/_Ready For Upload' \n",
    "    matches.to_csv(f'{drive_path}/Bed Bath & Beyond --{get_df_name(matches)}-match_shelf{today}.csv',index=False) \n",
    "looks_good('Bed Bath & Beyond',match_shelf)"
   ]
  },
  {
   "cell_type": "code",
   "execution_count": null,
   "metadata": {},
   "outputs": [],
   "source": []
  },
  {
   "cell_type": "code",
   "execution_count": null,
   "metadata": {},
   "outputs": [],
   "source": [
    "shelf=df[df['attribute'].astype(str)=='shelf_weight_capacity']\n",
    "print(len(shelf))\n",
    "na=shelf[shelf['value'].astype(str)=='n/a']\n",
    "print(len(na))\n",
    "val=shelf[shelf['value'].astype(str)!='n/a']\n",
    "print(len(val))"
   ]
  },
  {
   "cell_type": "code",
   "execution_count": null,
   "metadata": {},
   "outputs": [],
   "source": []
  },
  {
   "cell_type": "code",
   "execution_count": null,
   "metadata": {},
   "outputs": [],
   "source": []
  },
  {
   "cell_type": "code",
   "execution_count": null,
   "metadata": {},
   "outputs": [],
   "source": []
  },
  {
   "cell_type": "code",
   "execution_count": null,
   "metadata": {},
   "outputs": [],
   "source": []
  },
  {
   "cell_type": "code",
   "execution_count": null,
   "metadata": {},
   "outputs": [],
   "source": []
  },
  {
   "cell_type": "code",
   "execution_count": null,
   "metadata": {},
   "outputs": [],
   "source": []
  },
  {
   "cell_type": "code",
   "execution_count": null,
   "metadata": {},
   "outputs": [],
   "source": []
  },
  {
   "cell_type": "code",
   "execution_count": null,
   "metadata": {},
   "outputs": [],
   "source": []
  },
  {
   "cell_type": "code",
   "execution_count": null,
   "metadata": {},
   "outputs": [],
   "source": []
  },
  {
   "cell_type": "code",
   "execution_count": null,
   "metadata": {},
   "outputs": [],
   "source": []
  },
  {
   "cell_type": "code",
   "execution_count": null,
   "metadata": {},
   "outputs": [],
   "source": []
  },
  {
   "cell_type": "code",
   "execution_count": null,
   "metadata": {},
   "outputs": [],
   "source": []
  },
  {
   "cell_type": "code",
   "execution_count": null,
   "metadata": {},
   "outputs": [],
   "source": []
  },
  {
   "cell_type": "code",
   "execution_count": null,
   "metadata": {},
   "outputs": [],
   "source": []
  },
  {
   "cell_type": "code",
   "execution_count": null,
   "metadata": {},
   "outputs": [],
   "source": []
  },
  {
   "cell_type": "code",
   "execution_count": null,
   "metadata": {},
   "outputs": [],
   "source": [
    "care=df[(df['attribute'].astype(str)=='rug_size')]\n",
    "print(len(care))\n",
    "print(len(care[care['value'].astype(str)=='n/a']))\n",
    "# pat='''(.{0,10}(?:\\d\\'\\s?x\\s?\\d+\\'|\\d+\\'\\s?round|\\d+\\'\\s?rug.?runner|\\d+\\'\\s?square|\\d+\\'\\s?runner).{0,10})'''\n",
    "# x,y=three(care,pat)"
   ]
  },
  {
   "cell_type": "code",
   "execution_count": null,
   "metadata": {},
   "outputs": [],
   "source": [
    "# by\n",
    "((?<!\\d)(?:2)(?:\\\\?'|\\s?ft\\.?|\\\\?\"|[^\\w]foot)?(?:\\s)?(?:[0-6])?\\s?x\\s?(?:3)(?:\\\\?'|\\s?ft\\.?|\\\\?\"|[^\\w]foot)?(?:\\s)?(?:2)?)|((?:18|24)(?:\\\\?\")?[^\\w]x[^\\w](?:36)(?:\\\\?\")?)|\n",
    "((?<!\\d)(?:3)(?:\\\\?'|\\s?ft\\.?|\\\\?\"|[^\\w]foot)?(?:\\s)?(?:[0-6])?(?:\\d)?\\s?x\\s?(?:[45])(?:\\\\?'|\\s?ft\\.?|\\\\?\"|[^\\w]foot)?(?:\\s)?(?:6)?)|((?<!\\d)42\\\\?\"\\s?x\\s?66\\\\?\")|\n",
    "((?<!\\d)(?:[7])(?:\\\\?'|\\s?ft\\.?|\\\\?\"|[^\\w]foot)?(?:\\s)?(?:[6-9]|1[0-1])?(?:\\d)?\\s?x\\s?(?:9)(?:\\\\?'|\\s?ft\\.?|\\\\?\"|[^\\w]foot)?(?:\\s)?(?:[6-9])?)|((?<!\\d)(?:[8])(?:\\\\?'|\\s?ft\\.?|\\\\?\"|[^\\w]foot)?(?:\\s)?(?:0)?(?:\\d)?\\s?x\\s?(?:1[0-1])(?:\\\\?'|\\s?ft\\.?|\\\\?\"|[^\\w]foot)?(?:\\s)?(?:0)?)|((?<!\\d)(?:[7])(?:\\\\?'|\\s?ft\\.?|\\\\?\"|[^\\w]foot)?(?:\\s)?(?:[6-9]|1[0-1])?(?:\\d)?\\s?x\\s?(?:1[0-1])(?:\\\\?'|\\s?ft\\.?|\\\\?\"|[^\\w]foot)?(?:\\s)?(?:0)?)|((?<!\\d)(?:[8])(?:\\\\?'|\\s?ft\\.?|\\\\?\"|[^\\w]foot)?(?:\\s)?(?:0)?(?:\\d)?\\s?x\\s?(?:9)(?:\\\\?'|\\s?ft\\.?|\\\\?\"|[^\\w]foot)?(?:\\s)?(?:[6-9])?)|                      \n",
    "((?<!\\d)(?:5)(?:\\\\?'|\\s?ft\\.?|\\\\?\"|[^\\w]foot)?(?:\\s)?(?:[0-6])?(?:\\d)?\\s?x\\s?(?:7)(?:\\\\?'|\\s?ft\\.?|\\\\?\"|[^\\w]foot)?(?:\\s)?(?:6|9)?)|((?<!\\d)(?:5)(?:\\\\?'|\\s?ft\\.?|\\\\?\"|[^\\w]foot)?(?:\\s)?(?:[0-6])?(?:\\d)?\\s?x\\s?(?:8)(?:\\\\?'|\\s?ft\\.?|\\\\?\"|[^\\w]foot)?(?:\\s)?(?:0)?)|\n",
    "((?<!\\d)(?:4)(?:\\\\?'|\\s?ft\\.?|\\\\?\"|[^\\w]foot)?(?:\\s)?(?:[0-6])?(?:\\d)?\\s?x\\s?(?:5|6)(?:\\\\?'|\\s?ft\\.?|\\\\?\"|[^\\w]foot)?(?:\\s)?(?:[6-9])?)|((?<!\\d)(?:3)(?:\\\\?'|\\s?ft\\.?|\\\\?\"|[^\\w]foot)?(?:\\s)?(?:6)?(?:\\d)?\\s?x\\s?(?:5)(?:\\\\?'|\\s?ft\\.?|\\\\?\"|[^\\w]foot)?(?:\\s)?(?:6)?)|((?<!\\d)(?:3)(?:\\\\?'|\\s?ft\\.?|\\\\?\"|[^\\w]foot)?(?:\\s)?(?:11)?(?:\\d)?\\s?x\\s?(?:5)(?:\\\\?'|\\s?ft\\.?|\\\\?\"|[^\\w]foot)?(?:\\s)?(?:11|7)?)|    \n",
    "((?<!\\d)(?:6)(?:\\\\?'|\\s?ft\\.?|\\\\?\"|[^\\w]foot)?(?:\\s)?(?:[0-6])?(?:\\d)?\\s?x\\s?(?:9|8)(?:\\\\?'|\\s?ft\\.?|\\\\?\"|[^\\w]foot)?(?:\\s)?(?:0)?)|\n",
    "((?<!\\d)(?:7)(?:\\\\?'|\\s?ft\\.?|\\\\?\"|[^\\w]foot)?(?:\\s)?(?:[0-6])?(?:\\d)?\\s?x\\s?(?:9)(?:\\\\?'|\\s?ft\\.?|\\\\?\"|[^\\w]foot)?(?:\\s)?(?:0)?)|\n",
    "((?<!\\d)(?:10)(?:\\\\?'|\\s?ft\\.?|\\\\?\"|[^\\w]foot)?(?:\\s)?(?:[0-6])?(?:\\d)?\\s?x\\s?(?:14|13)(?:\\\\?'|\\s?ft\\.?|\\\\?\"|[^\\w]foot)?(?:\\s)?(?:[0-5])?)|\n",
    "((?<!\\d)(?:12)(?:\\\\?'|\\s?ft\\.?|\\\\?\"|[^\\w]foot)?(?:\\s)?(?:[0-6])?(?:\\d)?\\s?x\\s?(?:15)(?:\\\\?'|\\s?ft\\.?|\\\\?\"|[^\\w]foot)?(?:\\s)?(?:[0-5])?)|"
   ]
  },
  {
   "cell_type": "code",
   "execution_count": null,
   "metadata": {},
   "outputs": [],
   "source": [
    "# round\n",
    "((?<!\\d)(?:3)\\'?[^\\w]?x[^\\w]?(?:3)\\'?)|((?:3)\\'?\\s?(?:[0-7])?[^\\w]?(?:\\s?half\\s?)?round)|((?<!\\d)3'?\\s?[0-7][^\\w]?x[^\\w]?3'?\\s?[0-7])|(3'?\\s?x\\s?(?:round|square))|\n",
    "((?<!\\d)(?:4)\\'?[^\\w]?x[^\\w]?(?:4)\\'?)|((?:4)\\'?\\s?(?:[0-7])?[^\\w]?(?:\\s?half\\s?)?round)|((?<!\\d)4'?\\s?[0-7][^\\w]?x[^\\w]?4'?\\s?[0-7])|(4'?\\s?x\\s?(?:round|square))|(sku.?size\\'\\:\\s?\\'4'')|\n",
    "((?<!\\d)(?:5)\\'?[^\\w]?x[^\\w]?(?:5)\\'?)|((?:5)\\'?\\s?(?:[0-7])?[^\\w]?(?:\\s?half\\s?)?round)|((?<!\\d)5'?\\s?[0-7][^\\w]?x[^\\w]?5'?\\s?[0-7])|(5'?\\s?x\\s?(?:round|square))|(sku.?size\\'\\:\\s?\\'5'')|\n",
    "((?<!\\d)(?:6)\\'?[^\\w]?x[^\\w]?(?:6)\\'?)|((?:6)\\'?\\s?(?:[0-7])?[^\\w]?(?:\\s?half\\s?)?round)|((?<!\\d)6'?\\s?[0-7][^\\w]?x[^\\w]?6'?\\s?[0-7])|(6'?\\s?x\\s?(?:round|square))|(sku.?size\\'\\:\\s?\\'6'')|\n",
    "((?<!\\d)(?:7)\\'?[^\\w]?x[^\\w]?(?:7)\\'?)|((?:7)\\'?\\s?(?:[0-7])?[^\\w]?(?:\\s?half\\s?)?round)|((?<!\\d)7'?\\s?[0-7][^\\w]?x[^\\w]?7'?\\s?[0-7])|(7'?\\s?x\\s?(?:round|square))(sku.?size\\'\\:\\s?\\'7'')|\n",
    "((?<!\\d)(?:8)\\'?[^\\w]?x[^\\w]?(?:8)\\'?)|((?:8)\\'?\\s?(?:[0-7])?[^\\w]?(?:\\s?half\\s?)?round)|((?<!\\d)8'?\\s?[0-7][^\\w]?x[^\\w]?8'?\\s?[0-7])|(8'?\\s?x\\s?(?:round|square))|(sku.?size\\'\\:\\s?\\'8'')|\n",
    "((?<!\\d)(?:9)\\'?[^\\w]?x[^\\w]?(?:9)\\'?)|((?:9)\\'?\\s?(?:[0-7])?[^\\w]?(?:\\s?half\\s?)?round)|((?<!\\d)9'?\\s?[0-7][^\\w]?x[^\\w]?9'?\\s?[0-7])|(9'?\\s?x\\s?(?:round|square))|(sku.?size\\'\\:\\s?\\'9'')|"
   ]
  },
  {
   "cell_type": "code",
   "execution_count": null,
   "metadata": {},
   "outputs": [],
   "source": [
    "# runner\n",
    "((?<!\\d)(?:4)\\'\\s?\\d{0,2}\\s?(?:indoor\\/outdoor|hand.?crafted|hand.?woven|rag|Multicolor.?Rag|rug)?\\s?[^\\w]Runner)|((?:2)\\'?[^\\w]?x[^\\w]?(?:4)\\'?(?:.{0,10}\\s?[A-z\\/\\s]{0,20}\\s?(?:indoor)?\\s?rug)?)|((?:2)\\'?\\s?(?:7)?[^\\w]?x[^\\w]?(?:4)\\'?\\s?(?:2)?)|\n",
    "((?<!\\d)(?:5)\\'\\s?\\d{0,2}\\s?(?:indoor\\/outdoor|hand.?crafted|hand.?woven|rag|Multicolor.?Rag|rug)?\\s?[^\\w]Runner)|((?:2)\\'?[^\\w]?x[^\\w]?(?:5)\\'?(?:.{0,10}\\s?[A-z\\/\\s]{0,20}\\s?(?:indoor)?\\s?rug)?)|((?:2)\\'?\\s?(?:7)?[^\\w]?x[^\\w]?(?:5)\\'?\\s?(?:2)?)|\n",
    "((?<!\\d)(?:6)\\'\\s?\\d{0,2}\\s?(?:indoor\\/outdoor|hand.?crafted|hand.?woven|rag|Multicolor.?Rag|rug)?\\s?[^\\w]Runner)|((?:2)\\'?[^\\w]?x[^\\w]?(?:6)\\'?(?:.{0,10}\\s?[A-z\\/\\s]{0,20}\\s?(?:indoor)?\\s?rug)?)|((?:2)\\'?\\s?(?:7)?[^\\w]?x[^\\w]?(?:6)\\'?\\s?(?:2)?)|\n",
    "((?<!\\d)(?:7)\\'\\s?\\d{0,2}\\s?(?:indoor\\/outdoor|hand.?crafted|hand.?woven|rag|Multicolor.?Rag|rug)?\\s?[^\\w]Runner)|((?:2)\\'?[^\\w]?x[^\\w]?(?:7)\\'?(?:.{0,10}\\s?[A-z\\/\\s]{0,20}\\s?(?:indoor)?\\s?rug)?)|((?:2)\\'?\\s?(?:7)?[^\\w]?x[^\\w]?(?:7)\\'?\\s?(?:2)?)|\n",
    "((?<!\\d)(?:8)\\'\\s?\\d{0,2}\\s?(?:indoor\\/outdoor|hand.?crafted|hand.?woven|rag|Multicolor.?Rag|rug)?\\s?[^\\w]Runner)|((?:2)\\'?[^\\w]?x[^\\w]?(?:8)\\'?(?:.{0,10}\\s?[A-z\\/\\s]{0,20}\\s?(?:indoor)?\\s?rug)?)|((?:2)\\'?\\s?(?:7)?[^\\w]?x[^\\w]?(?:8)\\'?\\s?(?:2)?)|\n",
    "((?<!\\d)(?:9)\\'\\s?\\d{0,2}\\s?(?:indoor\\/outdoor|hand.?crafted|hand.?woven|rag|Multicolor.?Rag|rug)?\\s?[^\\w]Runner)|((?:2)\\'?[^\\w]?x[^\\w]?(?:9)\\'?(?:.{0,10}\\s?[A-z\\/\\s]{0,20}\\s?(?:indoor)?\\s?rug)?)|((?:2)\\'?\\s?(?:7)?[^\\w]?x[^\\w]?(?:9)\\'?\\s?(?:2)?)|\n",
    "((?<!\\d)(?:10)\\'\\s?\\d{0,2}\\s?(?:indoor\\/outdoor|hand.?crafted|hand.?woven|rag|Multicolor.?Rag|rug)?\\s?[^\\w]Runner)|((?:2)\\'?[^\\w]?x[^\\w]?(?:10)\\'?(?:.{0,10}\\s?[A-z\\/\\s]{0,20}\\s?(?:indoor)?\\s?rug)?)|((?:2)\\'?\\s?(?:7)?[^\\w]?x[^\\w]?(?:10)\\'?\\s?(?:2)?)|\n",
    "((?<!\\d)(?:11)\\'\\s?\\d{0,2}\\s?(?:indoor\\/outdoor|hand.?crafted|hand.?woven|rag|Multicolor.?Rag|rug)?\\s?[^\\w]Runner)|((?:2)\\'?[^\\w]?x[^\\w]?(?:11)\\'?(?:.{0,10}\\s?[A-z\\/\\s]{0,20}\\s?(?:indoor)?\\s?rug)?)|((?:2)\\'?\\s?(?:7)?[^\\w]?x[^\\w]?(?:11)\\'?\\s?(?:2)?)|\n",
    "((?<!\\d)(?:12)\\'\\s?\\d{0,2}\\s?(?:indoor\\/outdoor|hand.?crafted|hand.?woven|rag|Multicolor.?Rag|rug)?\\s?[^\\w]Runner)|((?:2)\\'?[^\\w]?x[^\\w]?(?:12)\\'?(?:.{0,10}\\s?[A-z\\/\\s]{0,20}\\s?(?:indoor)?\\s?rug)?)|((?:2)\\'?\\s?(?:7)?[^\\w]?x[^\\w]?(?:12)\\'?\\s?(?:2)?)|\n",
    "((?<!\\d)(?:1[3-9])\\'\\s?\\d{0,2}\\s?(?:indoor\\/outdoor|hand.?crafted|hand.?woven|rag|Multicolor.?Rag|rug)?\\s?[^\\w]Runner)|((?:2)\\'?[^\\w]?x[^\\w]?(?:1[3-9])\\'?(?:.{0,10}\\s?[A-z\\/\\s]{0,20}\\s?(?:indoor)?\\s?rug)?)|((?:2)\\'?\\s?(?:7)?[^\\w]?x[^\\w]?(?:1[3-9])\\'?\\s?(?:2)?)|  "
   ]
  },
  {
   "cell_type": "markdown",
   "metadata": {},
   "source": [
    "# N/A "
   ]
  },
  {
   "cell_type": "code",
   "execution_count": null,
   "metadata": {},
   "outputs": [],
   "source": [
    "# (?i)((?<!\\d)(?:3)\\'?[^\\w]?x[^\\w]?(?:3)\\'?)|((?:3)\\'?\\s?(?:[0-7])?[^\\w]?(?:\\s?half\\s?)?round)|((?<!\\d)3'?\\s?[0-7][^\\w]?x[^\\w]?3'?\\s?[0-7])|(3'?\\s?x\\s?(?:round|square))|((?<!\\d)(?:4)\\'?[^\\w]?x[^\\w]?(?:4)\\'?)|((?:4)\\'?\\s?(?:[0-7])?[^\\w]?(?:\\s?half\\s?)?round)|((?<!\\d)4'?\\s?[0-7][^\\w]?x[^\\w]?4'?\\s?[0-7])|(4'?\\s?x\\s?(?:round|square))((?<!\\d)(?:5)\\'?[^\\w]?x[^\\w]?(?:5)\\'?)|((?:5)\\'?\\s?(?:[0-7])?[^\\w]?(?:\\s?half\\s?)?round)|((?<!\\d)5'?\\s?[0-7][^\\w]?x[^\\w]?5'?\\s?[0-7])|(5'?\\s?x\\s?(?:round|square))|((?<!\\d)(?:6)\\'?[^\\w]?x[^\\w]?(?:6)\\'?)|((?:6)\\'?\\s?(?:[0-7])?[^\\w]?(?:\\s?half\\s?)?round)|((?<!\\d)6'?\\s?[0-7][^\\w]?x[^\\w]?6'?\\s?[0-7])|(6'?\\s?x\\s?(?:round|square))|((?<!\\d)(?:7)\\'?[^\\w]?x[^\\w]?(?:7)\\'?)|((?:7)\\'?\\s?(?:[0-7])?[^\\w]?(?:\\s?half\\s?)?round)|((?<!\\d)7'?\\s?[0-7][^\\w]?x[^\\w]?7'?\\s?[0-7])|(7'?\\s?x\\s?(?:round|square))|((?<!\\d)(?:8)\\'?[^\\w]?x[^\\w]?(?:8)\\'?)|((?:8)\\'?\\s?(?:[0-7])?[^\\w]?(?:\\s?half\\s?)?round)|((?<!\\d)8'?\\s?[0-7][^\\w]?x[^\\w]?8'?\\s?[0-7])|(8'?\\s?x\\s?(?:round|square))|((?<!\\d)(?:9)\\'?[^\\w]?x[^\\w]?(?:9)\\'?)|((?:9)\\'?\\s?(?:[0-7])?[^\\w]?(?:\\s?half\\s?)?round)|((?<!\\d)9'?\\s?[0-7][^\\w]?x[^\\w]?9'?\\s?[0-7])|(9'?\\s?x\\s?(?:round|square))|((?<!\\d)(?:2)\\'?(?:\\s)?(?:[0-6])?\\s?x\\s?(?:3)\\'?(?:\\s)?(?:2)?)|((?<!\\d)(?:3)\\'?(?:\\s)?(?:[0-6])?(?:\\d)?\\s?x\\s?(?:[45])\\'?(?:\\s)?(?:6)?)|((?<!\\d)42\\\\?\"\\s?x\\s?66\\\\?\")|((?<!\\d)(?:[7])\\'?(?:\\s)?(?:[6-9]|1[0-1])?(?:\\d)?\\s?x\\s?(?:9)\\'?(?:\\s)?(?:[6-9])?)|((?<!\\d)(?:[8])\\'?(?:\\s)?(?:0)?(?:\\d)?\\s?x\\s?(?:1[0-1])\\'?(?:\\s)?(?:0)?)|((?<!\\d)(?:[7])\\'?(?:\\s)?(?:[6-9]|1[0-1])?(?:\\d)?\\s?x\\s?(?:1[0-1])\\'?(?:\\s)?(?:0)?)|((?<!\\d)(?:[8])\\'?(?:\\s)?(?:0)?(?:\\d)?\\s?x\\s?(?:9)\\'?(?:\\s)?(?:[6-9])?)|((?<!\\d)(?:5)\\'?(?:\\s)?(?:[0-6])?(?:\\d)?\\s?x\\s?(?:7)\\'?(?:\\s)?(?:6|9)?)|((?<!\\d)(?:5)\\'?(?:\\s)?(?:[0-6])?(?:\\d)?\\s?x\\s?(?:8)\\'?(?:\\s)?(?:0)?)|((?<!\\d)(?:4)\\'?(?:\\s)?(?:[0-6])?(?:\\d)?\\s?x\\s?(?:5|6)\\'?(?:\\s)?(?:[6-9])?)|((?<!\\d)(?:3)\\'?(?:\\s)?(?:6)?(?:\\d)?\\s?x\\s?(?:5)\\'?(?:\\s)?(?:6)?)|((?<!\\d)(?:3)\\'?(?:\\s)?(?:11)?(?:\\d)?\\s?x\\s?(?:5)\\'?(?:\\s)?(?:11|7)?)|((?<!\\d)(?:6)\\'?(?:\\s)?(?:[0-6])?(?:\\d)?\\s?x\\s?(?:9|8)\\'?(?:\\s)?(?:0)?)|((?<!\\d)(?:5)\\'?(?:\\s)?(?:[0-6])?(?:\\d)?\\s?x\\s?(?:7)\\'?(?:\\s)?(?:0|10)?)|((?<!\\d)(?:4)\\'?(?:\\s)?(?:11)?(?:\\d)?\\s?x\\s?(?:7)\\'?(?:\\s)?(?:0|10)?)|((?<!\\d)(?:7)\\'?(?:\\s)?(?:[0-6])?(?:\\d)?\\s?x\\s?(?:9)\\'?(?:\\s)?(?:0)?)|((?<!\\d)(?:9)\\'?(?:\\s)?(?:[0-6])?(?:\\d)?\\s?x\\s?(?:12|13)\\'?(?:\\s)?(?:[0-5])?)|((?<!\\d)(?:10)\\'?(?:\\s)?(?:[0-6])?(?:\\d)?\\s?x\\s?(?:14|13)\\'?(?:\\s)?(?:[0-5])?)|((?<!\\d)(?:12)\\'?(?:\\s)?(?:[0-6])?(?:\\d)?\\s?x\\s?(?:15)\\'?(?:\\s)?(?:[0-5])?)|((?<!\\d)(?:4)\\'\\s?\\d{0,2}\\s?(?:indoor\\/outdoor|hand.?crafted|hand.?woven|rag|Multicolor.?Rag|rug)?\\s?[^\\w]Runner)|((?:2)\\'?[^\\w]?x[^\\w]?(?:4)\\'?(?:.{0,10}\\s?[A-z\\/\\s]{0,20}\\s?(?:indoor)?\\s?rug)?)|((?:2)\\'?\\s?(?:7)?[^\\w]?x[^\\w]?(?:4)\\'?\\s?(?:2)?)|((?<!\\d)(?:5)\\'\\s?\\d{0,2}\\s?(?:indoor\\/outdoor|hand.?crafted|hand.?woven|rag|Multicolor.?Rag|rug)?\\s?[^\\w]Runner)|((?:2)\\'?[^\\w]?x[^\\w]?(?:5)\\'?(?:.{0,10}\\s?[A-z\\/\\s]{0,20}\\s?(?:indoor)?\\s?rug)?)|((?:2)\\'?\\s?(?:7)?[^\\w]?x[^\\w]?(?:5)\\'?\\s?(?:2)?)|((?<!\\d)(?:6)\\'\\s?\\d{0,2}\\s?(?:indoor\\/outdoor|hand.?crafted|hand.?woven|rag|Multicolor.?Rag|rug)?\\s?[^\\w]Runner)|((?:2)\\'?[^\\w]?x[^\\w]?(?:6)\\'?(?:.{0,10}\\s?[A-z\\/\\s]{0,20}\\s?(?:indoor)?\\s?rug)?)|((?:2)\\'?\\s?(?:7)?[^\\w]?x[^\\w]?(?:6)\\'?\\s?(?:2)?)|((?<!\\d)(?:7)\\'\\s?\\d{0,2}\\s?(?:indoor\\/outdoor|hand.?crafted|hand.?woven|rag|Multicolor.?Rag|rug)?\\s?[^\\w]Runner)|((?:2)\\'?[^\\w]?x[^\\w]?(?:7)\\'?(?:.{0,10}\\s?[A-z\\/\\s]{0,20}\\s?(?:indoor)?\\s?rug)?)|((?:2)\\'?\\s?(?:7)?[^\\w]?x[^\\w]?(?:7)\\'?\\s?(?:2)?)|((?<!\\d)(?:8)\\'\\s?\\d{0,2}\\s?(?:indoor\\/outdoor|hand.?crafted|hand.?woven|rag|Multicolor.?Rag|rug)?\\s?[^\\w]Runner)|((?:2)\\'?[^\\w]?x[^\\w]?(?:8)\\'?(?:.{0,10}\\s?[A-z\\/\\s]{0,20}\\s?(?:indoor)?\\s?rug)?)|((?:2)\\'?\\s?(?:7)?[^\\w]?x[^\\w]?(?:8)\\'?\\s?(?:2)?)|((?<!\\d)(?:9)\\'\\s?\\d{0,2}\\s?(?:indoor\\/outdoor|hand.?crafted|hand.?woven|rag|Multicolor.?Rag|rug)?\\s?[^\\w]Runner)|((?:2)\\'?[^\\w]?x[^\\w]?(?:9)\\'?(?:.{0,10}\\s?[A-z\\/\\s]{0,20}\\s?(?:indoor)?\\s?rug)?)|((?:2)\\'?\\s?(?:7)?[^\\w]?x[^\\w]?(?:9)\\'?\\s?(?:2)?)|((?<!\\d)(?:10)\\'\\s?\\d{0,2}\\s?(?:indoor\\/outdoor|hand.?crafted|hand.?woven|rag|Multicolor.?Rag|rug)?\\s?[^\\w]Runner)|((?:2)\\'?[^\\w]?x[^\\w]?(?:10)\\'?(?:.{0,10}\\s?[A-z\\/\\s]{0,20}\\s?(?:indoor)?\\s?rug)?)|((?:2)\\'?\\s?(?:7)?[^\\w]?x[^\\w]?(?:10)\\'?\\s?(?:2)?)|((?<!\\d)(?:11)\\'\\s?\\d{0,2}\\s?(?:indoor\\/outdoor|hand.?crafted|hand.?woven|rag|Multicolor.?Rag|rug)?\\s?[^\\w]Runner)|((?:2)\\'?[^\\w]?x[^\\w]?(?:11)\\'?(?:.{0,10}\\s?[A-z\\/\\s]{0,20}\\s?(?:indoor)?\\s?rug)?)|((?:2)\\'?\\s?(?:7)?[^\\w]?x[^\\w]?(?:11)\\'?\\s?(?:2)?)|((?<!\\d)(?:12)\\'\\s?\\d{0,2}\\s?(?:indoor\\/outdoor|hand.?crafted|hand.?woven|rag|Multicolor.?Rag|rug)?\\s?[^\\w]Runner)|((?:2)\\'?[^\\w]?x[^\\w]?(?:12)\\'?(?:.{0,10}\\s?[A-z\\/\\s]{0,20}\\s?(?:indoor)?\\s?rug)?)|((?:2)\\'?\\s?(?:7)?[^\\w]?x[^\\w]?(?:12)\\'?\\s?(?:2)?)|((?<!\\d)(?:1[3-9])\\'\\s?\\d{0,2}\\s?(?:indoor\\/outdoor|hand.?crafted|hand.?woven|rag|Multicolor.?Rag|rug)?\\s?[^\\w]Runner)|((?:2)\\'?[^\\w]?x[^\\w]?(?:1[3-9])\\'?(?:.{0,10}\\s?[A-z\\/\\s]{0,20}\\s?(?:indoor)?\\s?rug)?)|((?:2)\\'?\\s?(?:7)?[^\\w]?x[^\\w]?(?:1[3-9])\\'?\\s?(?:2)?)   \n",
    "trip=r'''(?i)((?<!\\d)(?:4)\\'\\s?\\d{0,2}\\s?(?:indoor\\/outdoor|hand.?crafted|hand.?woven|rag|Multicolor.?Rag|rug)?\\s?[^\\w]Runner)|((?:2)\\'?[^\\w]?x[^\\w]?(?:4)\\'?(?:.{0,10}\\s?[A-z\\/\\s]{0,20}\\s?(?:indoor)?\\s?rug)?)|((?:2)\\'?\\s?(?:7)?[^\\w]?x[^\\w]?(?:4)\\'?\\s?(?:2)?)|((?<!\\d)(?:5)\\'\\s?\\d{0,2}\\s?(?:indoor\\/outdoor|hand.?crafted|hand.?woven|rag|Multicolor.?Rag|rug)?\\s?[^\\w]Runner)|((?:2)\\'?[^\\w]?x[^\\w]?(?:5)\\'?(?:.{0,10}\\s?[A-z\\/\\s]{0,20}\\s?(?:indoor)?\\s?rug)?)|((?:2)\\'?\\s?(?:7)?[^\\w]?x[^\\w]?(?:5)\\'?\\s?(?:2)?)|((?<!\\d)(?:6)\\'\\s?\\d{0,2}\\s?(?:indoor\\/outdoor|hand.?crafted|hand.?woven|rag|Multicolor.?Rag|rug)?\\s?[^\\w]Runner)|((?:2)\\'?[^\\w]?x[^\\w]?(?:6)\\'?(?:.{0,10}\\s?[A-z\\/\\s]{0,20}\\s?(?:indoor)?\\s?rug)?)|((?:2)\\'?\\s?(?:7)?[^\\w]?x[^\\w]?(?:6)\\'?\\s?(?:2)?)|((?<!\\d)(?:7)\\'\\s?\\d{0,2}\\s?(?:indoor\\/outdoor|hand.?crafted|hand.?woven|rag|Multicolor.?Rag|rug)?\\s?[^\\w]Runner)|((?:2)\\'?[^\\w]?x[^\\w]?(?:7)\\'?(?:.{0,10}\\s?[A-z\\/\\s]{0,20}\\s?(?:indoor)?\\s?rug)?)|((?:2)\\'?\\s?(?:7)?[^\\w]?x[^\\w]?(?:7)\\'?\\s?(?:2)?)|((?<!\\d)(?:8)\\'\\s?\\d{0,2}\\s?(?:indoor\\/outdoor|hand.?crafted|hand.?woven|rag|Multicolor.?Rag|rug)?\\s?[^\\w]Runner)|((?:2)\\'?[^\\w]?x[^\\w]?(?:8)\\'?(?:.{0,10}\\s?[A-z\\/\\s]{0,20}\\s?(?:indoor)?\\s?rug)?)|((?:2)\\'?\\s?(?:7)?[^\\w]?x[^\\w]?(?:8)\\'?\\s?(?:2)?)|((?<!\\d)(?:9)\\'\\s?\\d{0,2}\\s?(?:indoor\\/outdoor|hand.?crafted|hand.?woven|rag|Multicolor.?Rag|rug)?\\s?[^\\w]Runner)|((?:2)\\'?[^\\w]?x[^\\w]?(?:9)\\'?(?:.{0,10}\\s?[A-z\\/\\s]{0,20}\\s?(?:indoor)?\\s?rug)?)|((?:2)\\'?\\s?(?:7)?[^\\w]?x[^\\w]?(?:9)\\'?\\s?(?:2)?)|((?<!\\d)(?:10)\\'\\s?\\d{0,2}\\s?(?:indoor\\/outdoor|hand.?crafted|hand.?woven|rag|Multicolor.?Rag|rug)?\\s?[^\\w]Runner)|((?:2)\\'?[^\\w]?x[^\\w]?(?:10)\\'?(?:.{0,10}\\s?[A-z\\/\\s]{0,20}\\s?(?:indoor)?\\s?rug)?)|((?:2)\\'?\\s?(?:7)?[^\\w]?x[^\\w]?(?:10)\\'?\\s?(?:2)?)|((?<!\\d)(?:11)\\'\\s?\\d{0,2}\\s?(?:indoor\\/outdoor|hand.?crafted|hand.?woven|rag|Multicolor.?Rag|rug)?\\s?[^\\w]Runner)|((?:2)\\'?[^\\w]?x[^\\w]?(?:11)\\'?(?:.{0,10}\\s?[A-z\\/\\s]{0,20}\\s?(?:indoor)?\\s?rug)?)|((?:2)\\'?\\s?(?:7)?[^\\w]?x[^\\w]?(?:11)\\'?\\s?(?:2)?)|((?<!\\d)(?:12)\\'\\s?\\d{0,2}\\s?(?:indoor\\/outdoor|hand.?crafted|hand.?woven|rag|Multicolor.?Rag|rug)?\\s?[^\\w]Runner)|((?:2)\\'?[^\\w]?x[^\\w]?(?:12)\\'?(?:.{0,10}\\s?[A-z\\/\\s]{0,20}\\s?(?:indoor)?\\s?rug)?)|((?:2)\\'?\\s?(?:7)?[^\\w]?x[^\\w]?(?:12)\\'?\\s?(?:2)?)|((?<!\\d)(?:1[3-9])\\'\\s?\\d{0,2}\\s?(?:indoor\\/outdoor|hand.?crafted|hand.?woven|rag|Multicolor.?Rag|rug)?\\s?[^\\w]Runner)|((?:2)\\'?[^\\w]?x[^\\w]?(?:1[3-9])\\'?(?:.{0,10}\\s?[A-z\\/\\s]{0,20}\\s?(?:indoor)?\\s?rug)?)|((?:2)\\'?\\s?(?:7)?[^\\w]?x[^\\w]?(?:1[3-9])\\'?\\s?(?:2)?)|((?<!\\d)(?:3)\\'?[^\\w]?x[^\\w]?(?:3)\\'?)|((?:3)\\'?\\s?(?:[0-7])?[^\\w]?(?:\\s?half\\s?)?round)|((?<!\\d)3'?\\s?[0-7][^\\w]?x[^\\w]?3'?\\s?[0-7])|(3'?\\s?x\\s?(?:round|square))|((?<!\\d)(?:4)\\'?[^\\w]?x[^\\w]?(?:4)\\'?)|((?:4)\\'?\\s?(?:[0-7])?[^\\w]?(?:\\s?half\\s?)?round)|((?<!\\d)4'?\\s?[0-7][^\\w]?x[^\\w]?4'?\\s?[0-7])|(4'?\\s?x\\s?(?:round|square))|(sku.?size\\'\\:\\s?\\'4'')|((?<!\\d)(?:5)\\'?[^\\w]?x[^\\w]?(?:5)\\'?)|((?:5)\\'?\\s?(?:[0-7])?[^\\w]?(?:\\s?half\\s?)?round)|((?<!\\d)5'?\\s?[0-7][^\\w]?x[^\\w]?5'?\\s?[0-7])|(5'?\\s?x\\s?(?:round|square))|(sku.?size\\'\\:\\s?\\'5'')|((?<!\\d)(?:6)\\'?[^\\w]?x[^\\w]?(?:6)\\'?)|((?:6)\\'?\\s?(?:[0-7])?[^\\w]?(?:\\s?half\\s?)?round)|((?<!\\d)6'?\\s?[0-7][^\\w]?x[^\\w]?6'?\\s?[0-7])|(6'?\\s?x\\s?(?:round|square))|(sku.?size\\'\\:\\s?\\'6'')|((?<!\\d)(?:7)\\'?[^\\w]?x[^\\w]?(?:7)\\'?)|((?:7)\\'?\\s?(?:[0-7])?[^\\w]?(?:\\s?half\\s?)?round)|((?<!\\d)7'?\\s?[0-7][^\\w]?x[^\\w]?7'?\\s?[0-7])|(7'?\\s?x\\s?(?:round|square))(sku.?size\\'\\:\\s?\\'7'')|((?<!\\d)(?:8)\\'?[^\\w]?x[^\\w]?(?:8)\\'?)|((?:8)\\'?\\s?(?:[0-7])?[^\\w]?(?:\\s?half\\s?)?round)|((?<!\\d)8'?\\s?[0-7][^\\w]?x[^\\w]?8'?\\s?[0-7])|(8'?\\s?x\\s?(?:round|square))|(sku.?size\\'\\:\\s?\\'8'')|((?<!\\d)(?:9)\\'?[^\\w]?x[^\\w]?(?:9)\\'?)|((?:9)\\'?\\s?(?:[0-7])?[^\\w]?(?:\\s?half\\s?)?round)|((?<!\\d)9'?\\s?[0-7][^\\w]?x[^\\w]?9'?\\s?[0-7])|(9'?\\s?x\\s?(?:round|square))|(sku.?size\\'\\:\\s?\\'9'')|((?<!\\d)(?:2)(?:\\\\?'|\\s?ft\\.?|\\\\?\"|[^\\w]foot)?(?:\\s)?(?:[0-6])?\\s?x\\s?(?:3)(?:\\\\?'|\\s?ft\\.?|\\\\?\"|[^\\w]foot)?(?:\\s)?(?:2)?)|((?:18|24)(?:\\\\?\")?[^\\w]x[^\\w](?:36)(?:\\\\?\")?)|((?<!\\d)(?:3)(?:\\\\?'|\\s?ft\\.?|\\\\?\"|[^\\w]foot)?(?:\\s)?(?:[0-6])?(?:\\d)?\\s?x\\s?(?:[45])(?:\\\\?'|\\s?ft\\.?|\\\\?\"|[^\\w]foot)?(?:\\s)?(?:6)?)|((?<!\\d)42\\\\?\"\\s?x\\s?66\\\\?\")|((?<!\\d)(?:[7])(?:\\\\?'|\\s?ft\\.?|\\\\?\"|[^\\w]foot)?(?:\\s)?(?:[6-9]|1[0-1])?(?:\\d)?\\s?x\\s?(?:9)(?:\\\\?'|\\s?ft\\.?|\\\\?\"|[^\\w]foot)?(?:\\s)?(?:[6-9])?)|((?<!\\d)(?:[8])(?:\\\\?'|\\s?ft\\.?|\\\\?\"|[^\\w]foot)?(?:\\s)?(?:0)?(?:\\d)?\\s?x\\s?(?:1[0-1])(?:\\\\?'|\\s?ft\\.?|\\\\?\"|[^\\w]foot)?(?:\\s)?(?:0)?)|((?<!\\d)(?:[7])(?:\\\\?'|\\s?ft\\.?|\\\\?\"|[^\\w]foot)?(?:\\s)?(?:[6-9]|1[0-1])?(?:\\d)?\\s?x\\s?(?:1[0-1])(?:\\\\?'|\\s?ft\\.?|\\\\?\"|[^\\w]foot)?(?:\\s)?(?:0)?)|((?<!\\d)(?:[8])(?:\\\\?'|\\s?ft\\.?|\\\\?\"|[^\\w]foot)?(?:\\s)?(?:0)?(?:\\d)?\\s?x\\s?(?:9)(?:\\\\?'|\\s?ft\\.?|\\\\?\"|[^\\w]foot)?(?:\\s)?(?:[6-9])?)|((?<!\\d)(?:5)(?:\\\\?'|\\s?ft\\.?|\\\\?\"|[^\\w]foot)?(?:\\s)?(?:[0-6])?(?:\\d)?\\s?x\\s?(?:7)(?:\\\\?'|\\s?ft\\.?|\\\\?\"|[^\\w]foot)?(?:\\s)?(?:6|9)?)|((?<!\\d)(?:5)(?:\\\\?'|\\s?ft\\.?|\\\\?\"|[^\\w]foot)?(?:\\s)?(?:[0-6])?(?:\\d)?\\s?x\\s?(?:8)(?:\\\\?'|\\s?ft\\.?|\\\\?\"|[^\\w]foot)?(?:\\s)?(?:0)?)|((?<!\\d)(?:4)(?:\\\\?'|\\s?ft\\.?|\\\\?\"|[^\\w]foot)?(?:\\s)?(?:[0-6])?(?:\\d)?\\s?x\\s?(?:5|6)(?:\\\\?'|\\s?ft\\.?|\\\\?\"|[^\\w]foot)?(?:\\s)?(?:[6-9])?)|((?<!\\d)(?:3)(?:\\\\?'|\\s?ft\\.?|\\\\?\"|[^\\w]foot)?(?:\\s)?(?:6)?(?:\\d)?\\s?x\\s?(?:5)(?:\\\\?'|\\s?ft\\.?|\\\\?\"|[^\\w]foot)?(?:\\s)?(?:6)?)|((?<!\\d)(?:3)(?:\\\\?'|\\s?ft\\.?|\\\\?\"|[^\\w]foot)?(?:\\s)?(?:11)?(?:\\d)?\\s?x\\s?(?:5)(?:\\\\?'|\\s?ft\\.?|\\\\?\"|[^\\w]foot)?(?:\\s)?(?:11|7)?)|((?<!\\d)(?:6)(?:\\\\?'|\\s?ft\\.?|\\\\?\"|[^\\w]foot)?(?:\\s)?(?:[0-6])?(?:\\d)?\\s?x\\s?(?:9|8)(?:\\\\?'|\\s?ft\\.?|\\\\?\"|[^\\w]foot)?(?:\\s)?(?:0)?)|((?<!\\d)(?:7)(?:\\\\?'|\\s?ft\\.?|\\\\?\"|[^\\w]foot)?(?:\\s)?(?:[0-6])?(?:\\d)?\\s?x\\s?(?:9)(?:\\\\?'|\\s?ft\\.?|\\\\?\"|[^\\w]foot)?(?:\\s)?(?:0)?)|((?<!\\d)(?:10)(?:\\\\?'|\\s?ft\\.?|\\\\?\"|[^\\w]foot)?(?:\\s)?(?:[0-6])?(?:\\d)?\\s?x\\s?(?:14|13)(?:\\\\?'|\\s?ft\\.?|\\\\?\"|[^\\w]foot)?(?:\\s)?(?:[0-5])?)|((?<!\\d)(?:12)(?:\\\\?'|\\s?ft\\.?|\\\\?\"|[^\\w]foot)?(?:\\s)?(?:[0-6])?(?:\\d)?\\s?x\\s?(?:15)(?:\\\\?'|\\s?ft\\.?|\\\\?\"|[^\\w]foot)?(?:\\s)?(?:[0-5])?)|()'''\n",
    "x,y,na=three(care,trip)"
   ]
  },
  {
   "cell_type": "code",
   "execution_count": null,
   "metadata": {},
   "outputs": [],
   "source": [
    "val=x[x['value'].astype(str)=='n/a']\n",
    "print(len(val))\n",
    "na=y[y['value'].astype(str)!='n/a']\n",
    "print(len(na))"
   ]
  },
  {
   "cell_type": "code",
   "execution_count": null,
   "metadata": {},
   "outputs": [],
   "source": [
    "na['value'].value_counts()"
   ]
  },
  {
   "cell_type": "code",
   "execution_count": null,
   "metadata": {},
   "outputs": [],
   "source": []
  },
  {
   "cell_type": "code",
   "execution_count": null,
   "metadata": {},
   "outputs": [],
   "source": [
    "# na[(na['value'].astype(str)!=\"5' Round/Square\")]['product_name'].value_counts()"
   ]
  },
  {
   "cell_type": "markdown",
   "metadata": {},
   "source": [
    "# runners"
   ]
  },
  {
   "cell_type": "code",
   "execution_count": null,
   "metadata": {},
   "outputs": [],
   "source": [
    "# eight_by_ten=care[care['value'].astype(str)==\"4' Runner\"]\n",
    "pat='''((?<!\\.)(?<!\\d)(?:7)(?:(?:\\\\?'|\\s?ft\\.?|\\\\?\"|[^\\w]foot)?\\s?\\d(0, 2))?\\s?(?:indoor\\/outdoor|hand.?crafted|hand.?woven|rag|Multicolor.?Rag|rug)?\\s?[^\\w]Runner)|((?<!\\.)(?<!\\d)(?:2|2\\.25)(?:(?:\\\\?'|\\s?ft\\.?|\\\\?\"|[^\\w]foot))?[^\\w]?x[^\\w]?(?<!\\d)(?:7)(?:(?:\\\\?'|\\s?ft\\.?|\\\\?\"|[^\\w]foot))?(?:.(0, 10)\\s?[A-z\\/\\s](0, 20)\\s?(?:indoor)?\\s?rug)?)|((?<!\\.)(?<!\\d)(?:2|2\\.25)(?:(?:\\\\?'|\\s?ft\\.?|\\\\?\"|[^\\w]foot)\\s?(?:7)|(?:\\\\?'|\\s?ft\\.?|\\\\?\"|[^\\w]foot))?[^\\w]?x[^\\w]?(?:(?<!\\d)7)(?:(?:\\\\?'|\\s?ft\\.?|\\\\?\"|[^\\w]foot)\\s?(?:2))?)|((?<!\\.)(?<!\\d)(?:7)(?:(?:\\\\?'|\\s?ft\\.?|\\\\?\"|[^\\w]foot)\\s?(?:7)|(?:\\\\?'|\\s?ft\\.?|\\\\?\"|[^\\w]foot)?)?[^\\w]?x[^\\w]?(?<!\\d)(?:2|2\\.25)(?:(?:\\\\?'|\\s?ft\\.?|\\\\?\"|[^\\w]foot)\\s?(?:2)|(?:\\\\?'|\\s?ft\\.?|\\\\?\"|[^\\w]foot))?)|(2\\'\\s?x\\s?7\\')'''                            \n",
    "four_runner,middle,na=three(care,pat)"
   ]
  },
  {
   "cell_type": "code",
   "execution_count": null,
   "metadata": {},
   "outputs": [],
   "source": [
    "# print(len(care[care['value'].astype(str)==\"4' Runner\"]))\n",
    "# print(na['value'].value_counts())\n",
    "print(len(na[(na['value'].astype(str)=='n/a')]))\n",
    "na[(na['value'].astype(str)=='n/a')&((na['m_name'].astype(str)!='''[]''')|(na['m_desc'].astype(str)!='''[]''')|(na['m_custom'].astype(str)!='''[]'''))]"
   ]
  },
  {
   "cell_type": "code",
   "execution_count": null,
   "metadata": {},
   "outputs": [],
   "source": [
    "# print(len(care[care['value'].astype(str)==\"4' Runner\"]))\n",
    "# print(middle['value'].value_counts())\n",
    "# middle[(middle['value'].astype(str)=='n/a')]"
   ]
  },
  {
   "cell_type": "code",
   "execution_count": null,
   "metadata": {},
   "outputs": [],
   "source": [
    "# print(len(care[care['value'].astype(str)==\"4' Runner\"]))\n",
    "# print(four_runner['value'].value_counts())\n",
    "# four_runner[(four_runner['value'].astype(str)=='n/a')&(four_runner['value'].astype(str)!='''6' Runner''')]['product_name'].value_counts()\n",
    "# four_runner"
   ]
  },
  {
   "cell_type": "code",
   "execution_count": null,
   "metadata": {},
   "outputs": [],
   "source": []
  },
  {
   "cell_type": "code",
   "execution_count": null,
   "metadata": {},
   "outputs": [],
   "source": []
  },
  {
   "cell_type": "code",
   "execution_count": null,
   "metadata": {},
   "outputs": [],
   "source": []
  },
  {
   "cell_type": "code",
   "execution_count": null,
   "metadata": {},
   "outputs": [],
   "source": []
  },
  {
   "cell_type": "code",
   "execution_count": null,
   "metadata": {},
   "outputs": [],
   "source": []
  },
  {
   "cell_type": "code",
   "execution_count": null,
   "metadata": {},
   "outputs": [],
   "source": []
  },
  {
   "cell_type": "code",
   "execution_count": null,
   "metadata": {},
   "outputs": [],
   "source": []
  },
  {
   "cell_type": "code",
   "execution_count": null,
   "metadata": {},
   "outputs": [],
   "source": [
    "def run(num_one,num_two):        \n",
    "    pat=fr'''((?<!\\.)(?<!\\')(?<!\\' )(?<!\\d)(?:{num_one})(?:(?:\\\\?'|\\s?ft\\.?|\\\\?\"|[^\\w]foot|'\\s?0\"?)?\\s?\\d(0, 2))?\\s?(?:indoor\\/outdoor|hand.?crafted|hand.?woven|rag|Multicolor.?Rag|rug)?\\s?[^\\w]Runner)|((?<!\\.)(?<!\\')(?<!\\' )(?<!\\d)(?:{num_two})(?:(?:\\\\?'|\\s?ft\\.?|\\\\?\"|[^\\w]foot))?[^\\w]?x[^\\w]?(?<!\\d)(?<!\\')(?<!\\' )(?:{num_one})(?:(?:\\\\?'|\\s?ft\\.?|'[^\\w]foot|'\\s?0\"?))?(?:.(0, 10)\\s?[A-z\\/\\s](0, 20)\\s?(?:indoor)?\\s?rug)?)|((?<!\\.)(?<!\\d)(?<!\\')(?<!\\' )(?:{num_two})(?:(?:\\\\?'|\\s?ft\\.?|\\\\?\"|[^\\w]foot)\\s?(?:7)|(?:\\\\?'|\\s?ft\\.?|\\\\?\"|[^\\w]foot))?[^\\w]?x[^\\w]?(?:(?<!\\')(?<!\\' )(?<!\\d)10)(?:(?:\\\\?'|\\s?ft\\.?|\\\\?\"|[^\\w]foot|'\\s?0\"?)\\s?(?:{num_two}))?)|((?<!\\.)(?<!\\')(?<!\\d)(?<!\\' )(?:{num_one})(?:(?:\\\\?'|\\s?ft\\.?|\\\\?\"|[^\\w]foot|'\\s?0\"?)\\s?(?:7)|(?:\\\\?'|\\s?ft\\.?|\\\\?\"|[^\\w]foot|'\\s?0\"?)?)?[^\\w]?x[^\\w]?(?<!\\d)(?<!\\')(?<!\\' )(?:{num_two})(?:(?:\\\\?'|\\s?ft\\.?|\\\\?\"|[^\\w]foot)\\s?(?:{num_two})|(?:\\\\?'|\\s?ft\\.?|\\\\?\"|[^\\w]foot))?)|((?<!\\.)(?<!\\d)(?<!\\')(?<!\\' )(?:{num_two})'?\\s?x\\s?{num_one}\\'?)'''                        \n",
    "    print(pat)\n",
    "\n",
    "run('4','''2|2\\.25|2'?\\s?0\"?''')"
   ]
  },
  {
   "cell_type": "code",
   "execution_count": null,
   "metadata": {},
   "outputs": [],
   "source": [
    "#run('4',2)\n",
    "print(\"4' Runner\")\n",
    "eight_by_ten=x[x['value'].astype(str)==\"4' Runner\"]\n",
    "pat='''((?<!\\.)(?<!\\')(?<!\\' )(?<!\\d)(?:4)(?:(?:\\\\?'|\\s?ft\\.?|\\\\?\"|[^\\w]foot|'\\s?0\"?)?\\s?\\d(0, 2))?\\s?(?:indoor\\/outdoor|hand.?crafted|hand.?woven|rag|Multicolor.?Rag|rug)?\\s?[^\\w]Runner)|((?<!\\.)(?<!\\')(?<!\\' )(?<!\\d)(?:2|2\\.25|2'?\\s?0\"?)(?:(?:\\\\?'|\\s?ft\\.?|\\\\?\"|[^\\w]foot))?[^\\w]?x[^\\w]?(?<!\\d)(?<!\\')(?<!\\' )(?:4)(?:(?:\\\\?'|\\s?ft\\.?|'[^\\w]foot|'\\s?0\"?))?(?:.(0, 10)\\s?[A-z\\/\\s](0, 20)\\s?(?:indoor)?\\s?rug)?)|((?<!\\.)(?<!\\d)(?<!\\')(?<!\\' )(?:2|2\\.25|2'?\\s?0\"?)(?:(?:\\\\?'|\\s?ft\\.?|\\\\?\"|[^\\w]foot)\\s?(?:7)|(?:\\\\?'|\\s?ft\\.?|\\\\?\"|[^\\w]foot))?[^\\w]?x[^\\w]?(?:(?<!\\')(?<!\\' )(?<!\\d)10)(?:(?:\\\\?'|\\s?ft\\.?|\\\\?\"|[^\\w]foot|'\\s?0\"?)\\s?(?:2|2\\.25|2'?\\s?0\"?))?)|((?<!\\.)(?<!\\')(?<!\\d)(?<!\\' )(?:4)(?:(?:\\\\?'|\\s?ft\\.?|\\\\?\"|[^\\w]foot|'\\s?0\"?)\\s?(?:7)|(?:\\\\?'|\\s?ft\\.?|\\\\?\"|[^\\w]foot|'\\s?0\"?)?)?[^\\w]?x[^\\w]?(?<!\\d)(?<!\\')(?<!\\' )(?:2|2\\.25|2'?\\s?0\"?)(?:(?:\\\\?'|\\s?ft\\.?|\\\\?\"|[^\\w]foot)\\s?(?:2|2\\.25|2'?\\s?0\"?)|(?:\\\\?'|\\s?ft\\.?|\\\\?\"|[^\\w]foot))?)|((?<!\\.)(?<!\\d)(?<!\\')(?<!\\' )(?:2|2\\.25|2'?\\s?0\"?)'?\\s?x\\s?4\\'?)'''                            \n",
    "four_first,four_mid,four_na=three(care,pat)\n",
    "\n",
    "print(\"5' Runner\")\n",
    "eight_by_ten=x[x['value'].astype(str)==\"5' Runner\"]\n",
    "pat='''((?<!\\.)(?<!\\')(?<!\\' )(?<!\\d)(?:5)(?:(?:\\\\?'|\\s?ft\\.?|\\\\?\"|[^\\w]foot|'\\s?0\"?)?\\s?\\d(0, 2))?\\s?(?:indoor\\/outdoor|hand.?crafted|hand.?woven|rag|Multicolor.?Rag|rug)?\\s?[^\\w]Runner)|((?<!\\.)(?<!\\')(?<!\\' )(?<!\\d)(?:2|2\\.25|2'?\\s?0\"?)(?:(?:\\\\?'|\\s?ft\\.?|\\\\?\"|[^\\w]foot))?[^\\w]?x[^\\w]?(?<!\\d)(?<!\\')(?<!\\' )(?:5)(?:(?:\\\\?'|\\s?ft\\.?|'[^\\w]foot|'\\s?0\"?))?(?:.(0, 10)\\s?[A-z\\/\\s](0, 20)\\s?(?:indoor)?\\s?rug)?)|((?<!\\.)(?<!\\d)(?<!\\')(?<!\\' )(?:2|2\\.25|2'?\\s?0\"?)(?:(?:\\\\?'|\\s?ft\\.?|\\\\?\"|[^\\w]foot)\\s?(?:7)|(?:\\\\?'|\\s?ft\\.?|\\\\?\"|[^\\w]foot))?[^\\w]?x[^\\w]?(?:(?<!\\')(?<!\\' )(?<!\\d)10)(?:(?:\\\\?'|\\s?ft\\.?|\\\\?\"|[^\\w]foot|'\\s?0\"?)\\s?(?:2|2\\.25|2'?\\s?0\"?))?)|((?<!\\.)(?<!\\')(?<!\\d)(?<!\\' )(?:5)(?:(?:\\\\?'|\\s?ft\\.?|\\\\?\"|[^\\w]foot|'\\s?0\"?)\\s?(?:7)|(?:\\\\?'|\\s?ft\\.?|\\\\?\"|[^\\w]foot|'\\s?0\"?)?)?[^\\w]?x[^\\w]?(?<!\\d)(?<!\\')(?<!\\' )(?:2|2\\.25|2'?\\s?0\"?)(?:(?:\\\\?'|\\s?ft\\.?|\\\\?\"|[^\\w]foot)\\s?(?:2|2\\.25|2'?\\s?0\"?)|(?:\\\\?'|\\s?ft\\.?|\\\\?\"|[^\\w]foot))?)|((?<!\\.)(?<!\\d)(?<!\\')(?<!\\' )(?:2|2\\.25|2'?\\s?0\"?)'?\\s?x\\s?5\\'?)'''                            \n",
    "five_first,five_mid,five_na=three(care,pat)\n",
    "\n",
    "print(\"6' Runner\")\n",
    "eight_by_ten=x[x['value'].astype(str)==\"6' Runner\"]\n",
    "pat='''((?<!\\.)(?<!\\')(?<!\\' )(?<!\\d)(?:6)(?:(?:\\\\?'|\\s?ft\\.?|\\\\?\"|[^\\w]foot|'\\s?0\"?)?\\s?\\d(0, 2))?\\s?(?:indoor\\/outdoor|hand.?crafted|hand.?woven|rag|Multicolor.?Rag|rug)?\\s?[^\\w]Runner)|((?<!\\.)(?<!\\')(?<!\\' )(?<!\\d)(?:2|2\\.25|2'?\\s?0\"?)(?:(?:\\\\?'|\\s?ft\\.?|\\\\?\"|[^\\w]foot))?[^\\w]?x[^\\w]?(?<!\\d)(?<!\\')(?<!\\' )(?:6)(?:(?:\\\\?'|\\s?ft\\.?|'[^\\w]foot|'\\s?0\"?))?(?:.(0, 10)\\s?[A-z\\/\\s](0, 20)\\s?(?:indoor)?\\s?rug)?)|((?<!\\.)(?<!\\d)(?<!\\')(?<!\\' )(?:2|2\\.25|2'?\\s?0\"?)(?:(?:\\\\?'|\\s?ft\\.?|\\\\?\"|[^\\w]foot)\\s?(?:7)|(?:\\\\?'|\\s?ft\\.?|\\\\?\"|[^\\w]foot))?[^\\w]?x[^\\w]?(?:(?<!\\')(?<!\\' )(?<!\\d)10)(?:(?:\\\\?'|\\s?ft\\.?|\\\\?\"|[^\\w]foot|'\\s?0\"?)\\s?(?:2|2\\.25|2'?\\s?0\"?))?)|((?<!\\.)(?<!\\')(?<!\\d)(?<!\\' )(?:6)(?:(?:\\\\?'|\\s?ft\\.?|\\\\?\"|[^\\w]foot|'\\s?0\"?)\\s?(?:7)|(?:\\\\?'|\\s?ft\\.?|\\\\?\"|[^\\w]foot|'\\s?0\"?)?)?[^\\w]?x[^\\w]?(?<!\\d)(?<!\\')(?<!\\' )(?:2|2\\.25|2'?\\s?0\"?)(?:(?:\\\\?'|\\s?ft\\.?|\\\\?\"|[^\\w]foot)\\s?(?:2|2\\.25|2'?\\s?0\"?)|(?:\\\\?'|\\s?ft\\.?|\\\\?\"|[^\\w]foot))?)|((?<!\\.)(?<!\\d)(?<!\\')(?<!\\' )(?:2|2\\.25|2'?\\s?0\"?)'?\\s?x\\s?6\\'?)'''                            \n",
    "six_first,six_mid,six_na=three(care,pat)\n",
    "\n",
    "print(\"7' Runner\")\n",
    "eight_by_ten=x[x['value'].astype(str)==\"7' Runner\"]\n",
    "pat='''((?<!\\.)(?<!\\')(?<!\\' )(?<!\\d)(?:7)(?:(?:\\\\?'|\\s?ft\\.?|\\\\?\"|[^\\w]foot|'\\s?0\"?)?\\s?\\d(0, 2))?\\s?(?:indoor\\/outdoor|hand.?crafted|hand.?woven|rag|Multicolor.?Rag|rug)?\\s?[^\\w]Runner)|((?<!\\.)(?<!\\')(?<!\\' )(?<!\\d)(?:2|2\\.25|2'?\\s?0\"?)(?:(?:\\\\?'|\\s?ft\\.?|\\\\?\"|[^\\w]foot))?[^\\w]?x[^\\w]?(?<!\\d)(?<!\\')(?<!\\' )(?:7)(?:(?:\\\\?'|\\s?ft\\.?|'[^\\w]foot|'\\s?0\"?))?(?:.(0, 10)\\s?[A-z\\/\\s](0, 20)\\s?(?:indoor)?\\s?rug)?)|((?<!\\.)(?<!\\d)(?<!\\')(?<!\\' )(?:2|2\\.25|2'?\\s?0\"?)(?:(?:\\\\?'|\\s?ft\\.?|\\\\?\"|[^\\w]foot)\\s?(?:7)|(?:\\\\?'|\\s?ft\\.?|\\\\?\"|[^\\w]foot))?[^\\w]?x[^\\w]?(?:(?<!\\')(?<!\\' )(?<!\\d)10)(?:(?:\\\\?'|\\s?ft\\.?|\\\\?\"|[^\\w]foot|'\\s?0\"?)\\s?(?:2|2\\.25|2'?\\s?0\"?))?)|((?<!\\.)(?<!\\')(?<!\\d)(?<!\\' )(?:7)(?:(?:\\\\?'|\\s?ft\\.?|\\\\?\"|[^\\w]foot|'\\s?0\"?)\\s?(?:7)|(?:\\\\?'|\\s?ft\\.?|\\\\?\"|[^\\w]foot|'\\s?0\"?)?)?[^\\w]?x[^\\w]?(?<!\\d)(?<!\\')(?<!\\' )(?:2|2\\.25|2'?\\s?0\"?)(?:(?:\\\\?'|\\s?ft\\.?|\\\\?\"|[^\\w]foot)\\s?(?:2|2\\.25|2'?\\s?0\"?)|(?:\\\\?'|\\s?ft\\.?|\\\\?\"|[^\\w]foot))?)|((?<!\\.)(?<!\\d)(?<!\\')(?<!\\' )(?:2|2\\.25|2'?\\s?0\"?)'?\\s?x\\s?7\\'?)'''                            \n",
    "seven_first,seven_mid,seven_na=three(care,pat)\n",
    "\n",
    "print(\"8' Runner\")\n",
    "eight_by_ten=x[x['value'].astype(str)==\"8' Runner\"]\n",
    "pat='''((?<!\\.)(?<!\\')(?<!\\' )(?<!\\d)(?:8)(?:(?:\\\\?'|\\s?ft\\.?|\\\\?\"|[^\\w]foot|'\\s?0\"?)?\\s?\\d(0, 2))?\\s?(?:indoor\\/outdoor|hand.?crafted|hand.?woven|rag|Multicolor.?Rag|rug)?\\s?[^\\w]Runner)|((?<!\\.)(?<!\\')(?<!\\' )(?<!\\d)(?:2|2\\.25|2'?\\s?0\"?)(?:(?:\\\\?'|\\s?ft\\.?|\\\\?\"|[^\\w]foot))?[^\\w]?x[^\\w]?(?<!\\d)(?<!\\')(?<!\\' )(?:8)(?:(?:\\\\?'|\\s?ft\\.?|'[^\\w]foot|'\\s?0\"?))?(?:.(0, 10)\\s?[A-z\\/\\s](0, 20)\\s?(?:indoor)?\\s?rug)?)|((?<!\\.)(?<!\\d)(?<!\\')(?<!\\' )(?:2|2\\.25|2'?\\s?0\"?)(?:(?:\\\\?'|\\s?ft\\.?|\\\\?\"|[^\\w]foot)\\s?(?:7)|(?:\\\\?'|\\s?ft\\.?|\\\\?\"|[^\\w]foot))?[^\\w]?x[^\\w]?(?:(?<!\\')(?<!\\' )(?<!\\d)10)(?:(?:\\\\?'|\\s?ft\\.?|\\\\?\"|[^\\w]foot|'\\s?0\"?)\\s?(?:2|2\\.25|2'?\\s?0\"?))?)|((?<!\\.)(?<!\\')(?<!\\d)(?<!\\' )(?:8)(?:(?:\\\\?'|\\s?ft\\.?|\\\\?\"|[^\\w]foot|'\\s?0\"?)\\s?(?:7)|(?:\\\\?'|\\s?ft\\.?|\\\\?\"|[^\\w]foot|'\\s?0\"?)?)?[^\\w]?x[^\\w]?(?<!\\d)(?<!\\')(?<!\\' )(?:2|2\\.25|2'?\\s?0\"?)(?:(?:\\\\?'|\\s?ft\\.?|\\\\?\"|[^\\w]foot)\\s?(?:2|2\\.25|2'?\\s?0\"?)|(?:\\\\?'|\\s?ft\\.?|\\\\?\"|[^\\w]foot))?)|((?<!\\.)(?<!\\d)(?<!\\')(?<!\\' )(?:2|2\\.25|2'?\\s?0\"?)'?\\s?x\\s?8\\'?)'''\n",
    "eight_first,eight_mid,eight_na=three(care,pat)\n",
    "\n",
    "print(\"9' Runner\")\n",
    "eight_by_ten=x[x['value'].astype(str)==\"9' Runner\"]\n",
    "pat='''((?<!\\.)(?<!\\')(?<!\\' )(?<!\\d)(?:9)(?:(?:\\\\?'|\\s?ft\\.?|\\\\?\"|[^\\w]foot|'\\s?0\"?)?\\s?\\d(0, 2))?\\s?(?:indoor\\/outdoor|hand.?crafted|hand.?woven|rag|Multicolor.?Rag|rug)?\\s?[^\\w]Runner)|((?<!\\.)(?<!\\')(?<!\\' )(?<!\\d)(?:2|2\\.25|2'?\\s?0\"?)(?:(?:\\\\?'|\\s?ft\\.?|\\\\?\"|[^\\w]foot))?[^\\w]?x[^\\w]?(?<!\\d)(?<!\\')(?<!\\' )(?:9)(?:(?:\\\\?'|\\s?ft\\.?|'[^\\w]foot|'\\s?0\"?))?(?:.(0, 10)\\s?[A-z\\/\\s](0, 20)\\s?(?:indoor)?\\s?rug)?)|((?<!\\.)(?<!\\d)(?<!\\')(?<!\\' )(?:2|2\\.25|2'?\\s?0\"?)(?:(?:\\\\?'|\\s?ft\\.?|\\\\?\"|[^\\w]foot)\\s?(?:7)|(?:\\\\?'|\\s?ft\\.?|\\\\?\"|[^\\w]foot))?[^\\w]?x[^\\w]?(?:(?<!\\')(?<!\\' )(?<!\\d)10)(?:(?:\\\\?'|\\s?ft\\.?|\\\\?\"|[^\\w]foot|'\\s?0\"?)\\s?(?:2|2\\.25|2'?\\s?0\"?))?)|((?<!\\.)(?<!\\')(?<!\\d)(?<!\\' )(?:9)(?:(?:\\\\?'|\\s?ft\\.?|\\\\?\"|[^\\w]foot|'\\s?0\"?)\\s?(?:7)|(?:\\\\?'|\\s?ft\\.?|\\\\?\"|[^\\w]foot|'\\s?0\"?)?)?[^\\w]?x[^\\w]?(?<!\\d)(?<!\\')(?<!\\' )(?:2|2\\.25|2'?\\s?0\"?)(?:(?:\\\\?'|\\s?ft\\.?|\\\\?\"|[^\\w]foot)\\s?(?:2|2\\.25|2'?\\s?0\"?)|(?:\\\\?'|\\s?ft\\.?|\\\\?\"|[^\\w]foot))?)|((?<!\\.)(?<!\\d)(?<!\\')(?<!\\' )(?:2|2\\.25|2'?\\s?0\"?)'?\\s?x\\s?9\\'?)'''                            \n",
    "nine_first,nine_mid,nine_na=three(care,pat)\n",
    "\n",
    "print(\"10' Runner\")\n",
    "eight_by_ten=x[x['value'].astype(str)==\"10' Runner\"]\n",
    "pat='''((?<!\\.)(?<!\\')(?<!\\' )(?<!\\d)(?:10)(?:(?:\\\\?'|\\s?ft\\.?|\\\\?\"|[^\\w]foot|'\\s?0\"?)?\\s?\\d(0, 2))?\\s?(?:indoor\\/outdoor|hand.?crafted|hand.?woven|rag|Multicolor.?Rag|rug)?\\s?[^\\w]Runner)|((?<!\\.)(?<!\\')(?<!\\' )(?<!\\d)(?:2|2\\.25|2'?\\s?0\"?)(?:(?:\\\\?'|\\s?ft\\.?|\\\\?\"|[^\\w]foot))?[^\\w]?x[^\\w]?(?<!\\d)(?<!\\')(?<!\\' )(?:10)(?:(?:\\\\?'|\\s?ft\\.?|'[^\\w]foot|'\\s?0\"?))?(?:.(0, 10)\\s?[A-z\\/\\s](0, 20)\\s?(?:indoor)?\\s?rug)?)|((?<!\\.)(?<!\\d)(?<!\\')(?<!\\' )(?:2|2\\.25|2'?\\s?0\"?)(?:(?:\\\\?'|\\s?ft\\.?|\\\\?\"|[^\\w]foot)\\s?(?:7)|(?:\\\\?'|\\s?ft\\.?|\\\\?\"|[^\\w]foot))?[^\\w]?x[^\\w]?(?:(?<!\\')(?<!\\' )(?<!\\d)10)(?:(?:\\\\?'|\\s?ft\\.?|\\\\?\"|[^\\w]foot|'\\s?0\"?)\\s?(?:2|2\\.25|2'?\\s?0\"?))?)|((?<!\\.)(?<!\\')(?<!\\d)(?<!\\' )(?:10)(?:(?:\\\\?'|\\s?ft\\.?|\\\\?\"|[^\\w]foot|'\\s?0\"?)\\s?(?:7)|(?:\\\\?'|\\s?ft\\.?|\\\\?\"|[^\\w]foot|'\\s?0\"?)?)?[^\\w]?x[^\\w]?(?<!\\d)(?<!\\')(?<!\\' )(?:2|2\\.25|2'?\\s?0\"?)(?:(?:\\\\?'|\\s?ft\\.?|\\\\?\"|[^\\w]foot)\\s?(?:2|2\\.25|2'?\\s?0\"?)|(?:\\\\?'|\\s?ft\\.?|\\\\?\"|[^\\w]foot))?)|((?<!\\.)(?<!\\d)(?<!\\')(?<!\\' )(?:2|2\\.25|2'?\\s?0\"?)'?\\s?x\\s?10\\'?)'''                            \n",
    "ten_first,ten_mid,ten_na=three(care,pat)\n",
    "\n",
    "print(\"11' Runner\")\n",
    "eight_by_ten=x[x['value'].astype(str)==\"11' Runner\"]\n",
    "pat='''((?<!\\.)(?<!\\')(?<!\\' )(?<!\\d)(?:11)(?:(?:\\\\?'|\\s?ft\\.?|\\\\?\"|[^\\w]foot|'\\s?0\"?)?\\s?\\d(0, 2))?\\s?(?:indoor\\/outdoor|hand.?crafted|hand.?woven|rag|Multicolor.?Rag|rug)?\\s?[^\\w]Runner)|((?<!\\.)(?<!\\')(?<!\\' )(?<!\\d)(?:2|2\\.25|2'?\\s?0\"?)(?:(?:\\\\?'|\\s?ft\\.?|\\\\?\"|[^\\w]foot))?[^\\w]?x[^\\w]?(?<!\\d)(?<!\\')(?<!\\' )(?:11)(?:(?:\\\\?'|\\s?ft\\.?|'[^\\w]foot|'\\s?0\"?))?(?:.(0, 10)\\s?[A-z\\/\\s](0, 20)\\s?(?:indoor)?\\s?rug)?)|((?<!\\.)(?<!\\d)(?<!\\')(?<!\\' )(?:2|2\\.25|2'?\\s?0\"?)(?:(?:\\\\?'|\\s?ft\\.?|\\\\?\"|[^\\w]foot)\\s?(?:7)|(?:\\\\?'|\\s?ft\\.?|\\\\?\"|[^\\w]foot))?[^\\w]?x[^\\w]?(?:(?<!\\')(?<!\\' )(?<!\\d)10)(?:(?:\\\\?'|\\s?ft\\.?|\\\\?\"|[^\\w]foot|'\\s?0\"?)\\s?(?:2|2\\.25|2'?\\s?0\"?))?)|((?<!\\.)(?<!\\')(?<!\\d)(?<!\\' )(?:11)(?:(?:\\\\?'|\\s?ft\\.?|\\\\?\"|[^\\w]foot|'\\s?0\"?)\\s?(?:7)|(?:\\\\?'|\\s?ft\\.?|\\\\?\"|[^\\w]foot|'\\s?0\"?)?)?[^\\w]?x[^\\w]?(?<!\\d)(?<!\\')(?<!\\' )(?:2|2\\.25|2'?\\s?0\"?)(?:(?:\\\\?'|\\s?ft\\.?|\\\\?\"|[^\\w]foot)\\s?(?:2|2\\.25|2'?\\s?0\"?)|(?:\\\\?'|\\s?ft\\.?|\\\\?\"|[^\\w]foot))?)|((?<!\\.)(?<!\\d)(?<!\\')(?<!\\' )(?:2|2\\.25|2'?\\s?0\"?)'?\\s?x\\s?11\\'?)'''                            \n",
    "el_first,el_mid,el_na=three(care,pat)\n",
    "\n",
    "print(\"12' Runner\")\n",
    "eight_by_ten=x[x['value'].astype(str)==\"12' Runner\"]\n",
    "pat='''((?<!\\.)(?<!\\')(?<!\\' )(?<!\\d)(?:12)(?:(?:\\\\?'|\\s?ft\\.?|\\\\?\"|[^\\w]foot|'\\s?0\"?)?\\s?\\d(0, 2))?\\s?(?:indoor\\/outdoor|hand.?crafted|hand.?woven|rag|Multicolor.?Rag|rug)?\\s?[^\\w]Runner)|((?<!\\.)(?<!\\')(?<!\\' )(?<!\\d)(?:2|2\\.25|2'?\\s?0\"?)(?:(?:\\\\?'|\\s?ft\\.?|\\\\?\"|[^\\w]foot))?[^\\w]?x[^\\w]?(?<!\\d)(?<!\\')(?<!\\' )(?:12)(?:(?:\\\\?'|\\s?ft\\.?|'[^\\w]foot|'\\s?0\"?))?(?:.(0, 10)\\s?[A-z\\/\\s](0, 20)\\s?(?:indoor)?\\s?rug)?)|((?<!\\.)(?<!\\d)(?<!\\')(?<!\\' )(?:2|2\\.25|2'?\\s?0\"?)(?:(?:\\\\?'|\\s?ft\\.?|\\\\?\"|[^\\w]foot)\\s?(?:7)|(?:\\\\?'|\\s?ft\\.?|\\\\?\"|[^\\w]foot))?[^\\w]?x[^\\w]?(?:(?<!\\')(?<!\\' )(?<!\\d)10)(?:(?:\\\\?'|\\s?ft\\.?|\\\\?\"|[^\\w]foot|'\\s?0\"?)\\s?(?:2|2\\.25|2'?\\s?0\"?))?)|((?<!\\.)(?<!\\')(?<!\\d)(?<!\\' )(?:12)(?:(?:\\\\?'|\\s?ft\\.?|\\\\?\"|[^\\w]foot|'\\s?0\"?)\\s?(?:7)|(?:\\\\?'|\\s?ft\\.?|\\\\?\"|[^\\w]foot|'\\s?0\"?)?)?[^\\w]?x[^\\w]?(?<!\\d)(?<!\\')(?<!\\' )(?:2|2\\.25|2'?\\s?0\"?)(?:(?:\\\\?'|\\s?ft\\.?|\\\\?\"|[^\\w]foot)\\s?(?:2|2\\.25|2'?\\s?0\"?)|(?:\\\\?'|\\s?ft\\.?|\\\\?\"|[^\\w]foot))?)|((?<!\\.)(?<!\\d)(?<!\\')(?<!\\' )(?:2|2\\.25|2'?\\s?0\"?)'?\\s?x\\s?12\\'?)'''                            \n",
    "tw_first,tw_mid,tw_na=three(care,pat)\n",
    "\n",
    "print(\"13' Runner\")\n",
    "eight_by_ten=x[x['value'].astype(str)==\"13' Runner\"]\n",
    "pat='''((?<!\\.)(?<!\\')(?<!\\' )(?<!\\d)(?:1[3-9])(?:(?:\\\\?'|\\s?ft\\.?|\\\\?\"|[^\\w]foot|'\\s?0\"?)?\\s?\\d(0, 2))?\\s?(?:indoor\\/outdoor|hand.?crafted|hand.?woven|rag|Multicolor.?Rag|rug)?\\s?[^\\w]Runner)|((?<!\\.)(?<!\\')(?<!\\' )(?<!\\d)(?:2|2\\.25|2'?\\s?0\"?)(?:(?:\\\\?'|\\s?ft\\.?|\\\\?\"|[^\\w]foot))?[^\\w]?x[^\\w]?(?<!\\d)(?<!\\')(?<!\\' )(?:1[3-9])(?:(?:\\\\?'|\\s?ft\\.?|'[^\\w]foot|'\\s?0\"?))?(?:.(0, 10)\\s?[A-z\\/\\s](0, 20)\\s?(?:indoor)?\\s?rug)?)|((?<!\\.)(?<!\\d)(?<!\\')(?<!\\' )(?:2|2\\.25|2'?\\s?0\"?)(?:(?:\\\\?'|\\s?ft\\.?|\\\\?\"|[^\\w]foot)\\s?(?:7)|(?:\\\\?'|\\s?ft\\.?|\\\\?\"|[^\\w]foot))?[^\\w]?x[^\\w]?(?:(?<!\\')(?<!\\' )(?<!\\d)10)(?:(?:\\\\?'|\\s?ft\\.?|\\\\?\"|[^\\w]foot|'\\s?0\"?)\\s?(?:2|2\\.25|2'?\\s?0\"?))?)|((?<!\\.)(?<!\\')(?<!\\d)(?<!\\' )(?:1[3-9])(?:(?:\\\\?'|\\s?ft\\.?|\\\\?\"|[^\\w]foot|'\\s?0\"?)\\s?(?:7)|(?:\\\\?'|\\s?ft\\.?|\\\\?\"|[^\\w]foot|'\\s?0\"?)?)?[^\\w]?x[^\\w]?(?<!\\d)(?<!\\')(?<!\\' )(?:2|2\\.25|2'?\\s?0\"?)(?:(?:\\\\?'|\\s?ft\\.?|\\\\?\"|[^\\w]foot)\\s?(?:2|2\\.25|2'?\\s?0\"?)|(?:\\\\?'|\\s?ft\\.?|\\\\?\"|[^\\w]foot))?)|((?<!\\.)(?<!\\d)(?<!\\')(?<!\\' )(?:2|2\\.25|2'?\\s?0\"?)'?\\s?x\\s?1[3-9]\\'?)'''                            \n",
    "th_first,th_mid,th_na=three(care,pat)"
   ]
  },
  {
   "cell_type": "code",
   "execution_count": null,
   "metadata": {},
   "outputs": [],
   "source": [
    "# four_mid#['m_name'].explode().value_counts()\n"
   ]
  },
  {
   "cell_type": "markdown",
   "metadata": {},
   "source": [
    "# by"
   ]
  },
  {
   "cell_type": "code",
   "execution_count": null,
   "metadata": {},
   "outputs": [],
   "source": [
    "def un(num_one,num_two,num_three,num_four):\n",
    "    pat=f'''(?i)((?<!\\d)(?<!\\')(?<!'\\s)(?<!\\.)(?:{num_one})((?:\\\\?\\s?'|\\s?ft\\.?|\\\\?\\s?\"|[^\\w]foot)\\s?(?:{num_two}))?\\[^\\w\\]?x[^\\w]?(?:{num_three}((?:\\\\?\\s?'|\\s?ft\\.?|\\\\?\\s?\"|[^\\w]foot)\\s?(?:{num_four}))?)|()'''\n",
    "    print(pat)\n",
    "    \n",
    "un(2,'[0-6]',3,2)"
   ]
  },
  {
   "cell_type": "code",
   "execution_count": null,
   "metadata": {},
   "outputs": [],
   "source": []
  },
  {
   "cell_type": "code",
   "execution_count": null,
   "metadata": {},
   "outputs": [],
   "source": [
    "print(\"2x3\")\n",
    "#un(2,'[0-6]',3,2)\n",
    "eight_by_ten=x[x['value'].astype(str)==\"2' x 3'\"]\n",
    "pat='''((?<!\\d)(?<!\\')(?<!'\\s)(?<!\\.)(?:{num_one})(?:\\\\?\\s?'|\\s?ft\\.?|\\\\?\\s?\"|[^\\w]foot)?\\s?(?:[6-9]|1[0-1])?[^\\w]?x[^\\w]?(?:{num_two})(?:\\\\?\\s?'|\\s?ft\\.?|\\\\?\\s?\"|[^\\w]foot)?\\s?(?:[6-9])?)|((?<!\\d)(?<!\\')(?<!'\\s)(?<!\\.)(?:{num_one})(?:\\\\?\\s?'|\\s?ft\\.?|\\\\?\\s?\"|[^\\w]foot)?\\s?(?:0)?[^\\w]?x[^\\w]?(?:{num_two})(?:\\\\?\\s?'|\\s?ft\\.?|\\\\?\\s?\"|[^\\w]foot)?\\s?(?:0)?)|((?<!\\d)(?<!\\')(?<!'\\s)(?<!\\.)(?:{num_one})(?:\\\\?\\s?'|\\s?ft\\.?|\\\\?\\s?\"|[^\\w]foot)?\\s?(?:[6-9]|1[0-1])?[^\\w]?x[^\\w]?(?:{num_two})(?:\\\\?\\s?'|\\s?ft\\.?|\\\\?\\s?\"|[^\\w]foot)?\\s?(?:0)?)|((?<!\\d)(?<!\\')(?<!'\\s)(?<!\\.)(?:{num_one})(?:\\\\?\\s?'|\\s?ft\\.?|\\\\?\\s?\"|[^\\w]foot)?\\s?(?:0)?[^\\w]?x[^\\w]?(?:{num_two})(?:\\\\?\\s?'|\\s?ft\\.?|\\\\?\\s?\"|[^\\w]foot)?\\s?(?:[6-9])?)'''                            \n",
    "by_tt_first,by_tt_mid,by_tt_na=three(care,pat)"
   ]
  },
  {
   "cell_type": "code",
   "execution_count": null,
   "metadata": {},
   "outputs": [],
   "source": [
    "by_tt_mid['value'].value_counts()"
   ]
  },
  {
   "cell_type": "code",
   "execution_count": null,
   "metadata": {},
   "outputs": [],
   "source": [
    "# by_tt_mid[by_tt_mid['value'].astype(str)==\"3' x 5'\"]"
   ]
  },
  {
   "cell_type": "code",
   "execution_count": null,
   "metadata": {},
   "outputs": [],
   "source": []
  },
  {
   "cell_type": "code",
   "execution_count": null,
   "metadata": {},
   "outputs": [],
   "source": [
    "print(\"2x3\")\n",
    "# good\n",
    "eight_by_ten=x[x['value'].astype(str)==\"2' x 3'\"]\n",
    "pat='''((?<!\\d)(?<!\\')(?<!'\\s)(?<!\\.)(?:2)((?:\\\\?'|\\s?ft\\.?|\\\\?\"|[^\\w]foot|'\\s?0\"?)\\s?(?:[0-6]))?\\s?x\\s?(?:3)(?:\\\\?'|\\s?ft\\.?|\\\\?\"|[^\\w]foot|'\\s?0\"?)?\\s?)|((?<!\\d)(?<!\\')(?<!'\\s)(?<!\\.)(?:18|24)(?:\\\\?\\s?\"|\"|.?inch)?[^\\w]?x[^\\w]?(?:36)(?:\\\\?\\s?\"|\".?inch)?)|((?<!\\d)(?<!\\')(?<!'\\s)(?<!\\.)(?:36)(?:\\\\?\\s?\"|\".?inch)?[^\\w]?x[^\\w]?(?:18|24)(?:\\\\?\"|\"|.?inch)?[^\\w])|((?<!\\d)(?<!\\')(?<!'\\s)(?<!\\.)2\\s?(?:\\'|\\\\?\")?\\s?x\\s?3\\s?(?:\\'|\\\\?\")?)'''                            \n",
    "by_tt_first,by_tt_mid,by_tt_na=three(care,pat)\n",
    "\n",
    "print(\"3x5\")\n",
    "#un(3,'[0-6]','[45]',6)\n",
    "eight_by_ten=x[x['value'].astype(str)==\"3' x 5'\"]\n",
    "pat='''((?<!\\d)(?<!\\')(?<!'\\s)(?<!\\.)(?:3)(?:(?:\\\\?\\s?'|\\s?ft\\.?|\\\\?\\s?\"|[^\\w]foot)?(?:\\s[0-6])?)?[^\\w]?x[^\\w]?(?:[45])(?:(?:\\\\?'|\\s?ft\\.?|\\\\?\"|[^\\w]foot)?(?:\\s?[0-6])?))|((?<!\\d)(?<!\\')(?<!'\\s)(?<!\\.)3\\s?(?:\\'|\\\\?\")?\\s?x\\s?5\\s?(?:\\'|\\\\?\")?)|((?:42)(?:\\\\?\\s?\"|\"|.?inch)?[^\\w]?x[^\\w]?(?:66)(?:\\\\?\\s?\"|\".?inch)?)|([^\\w](?:66)(?:\\\\?\\s?\"|\".?inch)?^\\w]?x[^\\w]?(?:42)(?:\\\\?\\s?\"|\"|.?inch)?[^\\w])'''                            \n",
    "by_tf_first,by_tf_mid,by_tf_na=three(care,pat)\n",
    "\n",
    "print(\"4x6\")\n",
    "# un(4,'[0-6]','5|6','[6-9]')\n",
    "# un(3,'6','5','6')\n",
    "# un(3,'11','5','11|7')\n",
    "eight_by_ten=x[x['value'].astype(str)==\"4' x 6'\"]\n",
    "pat='''((?<!\\d)(?<!\\')(?<!'\\s)(?<!\\.)(?:4)(?:\\\\?'|\\s?ft\\.?|\\\\?\"|[^\\w]foot)?(?:\\s)?(?:[0-6])?(?:\\d)?\\s?x\\s?(?:5|6)(?:\\\\?'|\\s?ft\\.?|\\\\?\"|[^\\w]foot)?(?:\\s)?(?:[6-9])?)|((?<!\\d)(?<!\\')(?<!'\\s)(?<!\\.)(?:3)(?:\\\\?'|\\s?ft\\.?|\\\\?\"|[^\\w]foot)?\\s?(?:6)\\s?x\\s?(?:5)(?:\\\\?'|\\s?ft\\.?|\\\\?\"|[^\\w]foot)?\\s?(?:[6-9|1[0-6]]))|((?<!\\d)(?<!\\')(?<!'\\s)(?<!\\.)(?:3)(?:\\\\?'|\\s?ft\\.?|\\\\?\"|[^\\w]foot)?\\s?(?:11)(?:\\d)?\\s?x\\s?(?:5)(?:\\\\?'|\\s?ft\\.?|\\\\?\"|[^\\w]foot)?\\s?(?:11|7))'''                            \n",
    "by_fx_first,by_fx_mid,by_fx_na=three(care,pat)\n",
    "\n",
    "\n",
    "# print(\"5x7\")\n",
    "# # un(5,'[0-6]','7','6|9')\n",
    "# eight_by_ten=x[x['value'].astype(str)==\"5' x 8'\"]\n",
    "# pat='''((?<!\\d)(?<!\\')(?<!'\\s)(?<!\\.)(?:5)(?:\\\\?'|\\s?ft\\.?|\\\\?\"|[^\\w]foot)?(?:\\s)?(?:[0-6])?(?:\\d)?\\s?x\\s?(?:7)(?:\\\\?'|\\s?ft\\.?|\\\\?\"|[^\\w]foot)?(?:\\s)?(?:6|9)?)'''                            \n",
    "# by_fe_first,by_two_mid,by_two_na=three(care,pat)\n",
    "\n",
    "print(\"5x7\")\n",
    "#un('5','[0-6]','7','0|10')\n",
    "# un('4','11','7','0|10')\n",
    "eight_by_ten=x[x['value'].astype(str)==\"5' x 7'\"]\n",
    "pat='''((?<!\\d)(?<!\\')(?<!'\\s)(?<!\\.)(?:5)(?:\\\\?'|\\s?ft\\.?|\\\\?\"|[^\\w]foot)?(?:\\s)?(?:[0-6])?(?:\\d)?\\s?x\\s?(?:7)(?:\\\\?'|\\s?ft\\.?|\\\\?\"|[^\\w]foot)?(?:\\s)?(?:0|10)?)|((?<!\\d)(?:4)(?:\\\\?'|\\s?ft\\.?|\\\\?\"|[^\\w]foot)?(?:\\s)?(?:11)?(?:\\d)?\\s?x\\s?(?:7)(?:\\\\?'|\\s?ft\\.?|\\\\?\"|[^\\w]foot)?(?:\\s)?(?:0|10)?)'''                            \n",
    "by_fs_first,by_fs_mid,by_fs_na=three(care,pat)\n",
    "\n",
    "\n",
    "print(\"5x8\")\n",
    "# un(5,'[0-6]','8','0')\n",
    "eight_by_ten=x[x['value'].astype(str)==\"5' x 8'\"]\n",
    "pat='''((?<!\\d)(?:5)(?:\\\\?'|\\s?ft\\.?|\\\\?\"|[^\\w]foot)?(?:\\s)?(?:[0-6])?(?:\\d)?\\s?x\\s?(?:8)(?:\\\\?'|\\s?ft\\.?|\\\\?\"|[^\\w]foot)?(?:\\s)?(?:0)?)'''                            \n",
    "by_fe_first,by_two_mid,by_two_na=three(care,pat)\n",
    "\n",
    "\n",
    "print(\"6x9\")\n",
    "# un(6,'[0-6]','9|8','0')\n",
    "eight_by_ten=x[x['value'].astype(str)==\"6' x 9'\"]\n",
    "pat='''((?<!\\d)(?<!\\')(?<!'\\s)(?<!\\.)(?:6)(?:\\\\?'|\\s?ft\\.?|\\\\?\"|[^\\w]foot)?(?:\\s)?(?:[0-6])?(?:\\d)?\\s?x\\s?(?:9|8)(?:\\\\?'|\\s?ft\\.?|\\\\?\"|[^\\w]foot)?(?:\\s)?(?:0)?)'''                            \n",
    "by_xn_first,by_xn_mid,by_xn_na=three(care,pat)\n",
    "\n",
    "# print(\"7x9\")\n",
    "# #un('[7]','[6-9]|1[0-1]','9','[6-9]')\n",
    "# # un('[7]','[6-9]|1[0-1]','1[0-1]','0')\n",
    "# eight_by_ten=x[x['value'].astype(str)==\"8' x 10'\"]\n",
    "# pat='''((?<!\\d)(?<!\\')(?<!'\\s)(?<!\\.)(?:[7])(?:\\\\?\\s?'|\\s?ft\\.?|\\\\?\\s?\"|[^\\w]foot)?\\s?(?:[6-9]|1[0-1])?[^\\w]?x[^\\w]?(?:9)(?:\\\\?\\s?'|\\s?ft\\.?|\\\\?\\s?\"|[^\\w]foot)?\\s?(?:[6-9])?)|((?<!\\d)(?<!\\')(?<!'\\s)(?<!\\.)(?:[7])(?:\\\\?\\s?'|\\s?ft\\.?|\\\\?\\s?\"|[^\\w]foot)?\\s?(?:[6-9]|1[0-1])?[^\\w]?x[^\\w]?(?:1[0-1])(?:\\\\?\\s?'|\\s?ft\\.?|\\\\?\\s?\"|[^\\w]foot)?\\s?(?:0)?)'''                                \n",
    "# by_et_first,by_et_mid,by_et_na=three(care,pat)\n",
    "\n",
    "print(\"7x9\")\n",
    "#un('7','[0-6]','9','0')\n",
    "eight_by_ten=x[x['value'].astype(str)==\"7' x 9'\"]\n",
    "pat='''((?<!\\d)(?<!\\')(?<!'\\s)(?<!\\.)(?:7)(?:\\\\?'|\\s?ft\\.?|\\\\?\"|[^\\w]foot)?(?:\\s)?(?:[0-6])?(?:\\d)?\\s?x\\s?(?:9)(?:\\\\?'|\\s?ft\\.?|\\\\?\"|[^\\w]foot)?(?:\\s)?(?:0)?)'''                            \n",
    "by_sn_first,by_sn_mid,by_sn_na=three(care,pat)\n",
    "\n",
    "print(\"8x10\")\n",
    "# un('[8]','0','1[0-1]','0')\n",
    "# un('[8]','0','9','[6-9]')\n",
    "eight_by_ten=x[x['value'].astype(str)==\"8' x 10'\"]\n",
    "pat='''((?<!\\d)(?<!\\')(?<!'\\s)(?<!\\.)(?:[8])(?:\\\\?\\s?'|\\s?ft\\.?|\\\\?\\s?\"|[^\\w]foot)?\\s?(?:0)?[^\\w]?x[^\\w]?(?:1[0-1])(?:\\\\?\\s?'|\\s?ft\\.?|\\\\?\\s?\"|[^\\w]foot)?\\s?(?:0)?)|((?<!\\d)(?<!\\')(?<!'\\s)(?<!\\.)(?:[8])(?:\\\\?\\s?'|\\s?ft\\.?|\\\\?\\s?\"|[^\\w]foot)?\\s?(?:0)?[^\\w]?x[^\\w]?(?:9)(?:\\\\?\\s?'|\\s?ft\\.?|\\\\?\\s?\"|[^\\w]foot)?\\s?(?:[6-9])?)'''                                \n",
    "by_et_first,by_et_mid,by_et_na=three(care,pat)\n",
    "\n",
    "print(\"9x12\")\n",
    "# un('9','[0-6]','12|13','[0-5]')\n",
    "eight_by_ten=x[x['value'].astype(str)==\"9' x 12'\"]\n",
    "pat='''((?<!\\d)(?<!\\')(?<!'\\s)(?<!\\.)(?:9)(?:\\\\?'|\\s?ft\\.?|\\\\?\"|[^\\w]foot)?(?:\\s)?(?:[0-6])?(?:\\d)?\\s?x\\s?(?:12)(?:\\\\?'|\\s?ft\\.?|\\\\?\"|[^\\w]foot)?(?:\\s)?(?:0)?)'''                            \n",
    "by_nt_first,by_nt_mid,by_nt_na=three(care,pat)\n",
    "\n",
    "print(\"10x14\")\n",
    "#un('10','[0-6]','14|13','[0-5]')\n",
    "eight_by_ten=x[x['value'].astype(str)==\"10' x 14'\"]\n",
    "pat='''((?<!\\d)(?<!\\')(?<!'\\s)(?<!\\.)(?:10)(?:\\\\?'|\\s?ft\\.?|\\\\?\"|[^\\w]foot)?(?:\\s)?(?:[0-6])?(?:\\d)?\\s?x\\s?(?:14|13)(?:\\\\?'|\\s?ft\\.?|\\\\?\"|[^\\w]foot)?(?:\\s)?(?:[0-5])?)'''                            \n",
    "by_tfou_first,by_tfou_mid,by_tfou_na=three(care,pat)\n",
    "\n",
    "print(\"12x15\")\n",
    "#un('12','[0-6]','15','[0-5]')\n",
    "eight_by_ten=x[x['value'].astype(str)==\"12' x 15'\"]\n",
    "pat='''((?<!\\d)(?<!\\')(?<!'\\s)(?<!\\.)(?:12)(?:\\\\?'|\\s?ft\\.?|\\\\?\"|[^\\w]foot)?(?:\\s)?(?:[0-6])?(?:\\d)?\\s?x\\s?(?:15)(?:\\\\?'|\\s?ft\\.?|\\\\?\"|[^\\w]foot)?(?:\\s)?(?:[0-5])?)'''                            \n",
    "by_twfif_first,by_twfif_mid,by_twfif_na=three(care,pat)"
   ]
  },
  {
   "cell_type": "code",
   "execution_count": null,
   "metadata": {},
   "outputs": [],
   "source": [
    "by_tfou_first['value'].value_counts()"
   ]
  },
  {
   "cell_type": "code",
   "execution_count": null,
   "metadata": {},
   "outputs": [],
   "source": [
    "by_et_first[by_et_first['value'].astype(str)==\"3' x 5'\"]"
   ]
  },
  {
   "cell_type": "markdown",
   "metadata": {},
   "source": [
    "# Round/Square"
   ]
  },
  {
   "cell_type": "code",
   "execution_count": null,
   "metadata": {},
   "outputs": [],
   "source": [
    "def roun(num_one,num_two):\n",
    "    pat=f'''((?<!\\d)(?<!\\')(?<!'\\s)(?<!\\.)(?:{num_one})\\s?\\'?[^\\w]?x[^\\w]?(?:{num_one})\\s?\\'?)|((?<!\\d)(?<!\\')(?<!'\\s)(?<!\\.)(?:{num_one})\\s?\\'?\\s?(?:{num_two})?[^\\w]?(?:\\s?half\\s?)?round)|((?<!\\d)(?<!\\')(?<!'\\s)(?<!\\.)(?:{num_one})\\s?\\'?\\s?{num_two}[^\\w]?x[^\\w]?(?:{num_one})\\s?'?\\s?{num_two})|((?<!\\d)(?<!\\')(?<!'\\s)(?<!\\.)(?:{num_one})\\s?'?\\s?x\\s?(?:round|square))|(sku.?size\\'\\:\\s?\\'(?:{num_one})'')|(SKU_SIZE[^\\w]{0,4}(?:{num_one})\\s?\\'?(?:{num_two})?\"?\\s?(?:round|square)'''       \n",
    "    print(pat)\n",
    "    \n",
    "roun(8,'[0-7]')"
   ]
  },
  {
   "cell_type": "code",
   "execution_count": null,
   "metadata": {},
   "outputs": [],
   "source": []
  },
  {
   "cell_type": "code",
   "execution_count": null,
   "metadata": {},
   "outputs": [],
   "source": [
    "print('three')\n",
    "eight_by_ten=x[x['value'].astype(str)==\"3' Round/Square\"]\n",
    "pat='''(?i)((?<!\\d)(?:3)\\'?[^\\w]?x[^\\w]?(?:3)\\'?)|((?:3)\\'?\\s?(?:[0-7])?[^\\w]?(?:\\s?half\\s?)?round)|((?<!\\d)3'?\\s?[0-7][^\\w]?x[^\\w]?3'?\\s?[0-7])|(3'?\\s?x\\s?(?:round|square))|(sku.?size\\'\\:\\s?\\'3'')|()'''                            \n",
    "three_round,na_three=three(eight_by_ten,pat)"
   ]
  },
  {
   "cell_type": "code",
   "execution_count": null,
   "metadata": {},
   "outputs": [],
   "source": [
    "print('three')\n",
    "eight_by_ten=x[x['value'].astype(str)==\"3' Round/Square\"]\n",
    "pat='''((?<!\\d)(?<!')(?<!'\\s)(?<!\\.)(?:3)\\s?'?[^\\w]?x[^\\w]?(?:3)\\s?'?)|((?<!\\d)(?<!')(?<!'\\s)(?<!\\.)(?:3)\\s?'?\\s?(?:[0-7])?[^\\w]?(?:\\s?half\\s?)?round)|((?<!\\d)(?<!')(?<!'\\s)(?<!\\.)(?:3)\\s?'?\\s?[0-7][^\\w]?x[^\\w]?(?:3)\\s?'?\\s?[0-7])|((?<!\\d)(?<!')(?<!'\\s)(?<!\\.)(?:3)\\s?'?\\s?x\\s?(?:round|square))|(sku.?size'\\:\\s?'(?:3)'')|(SKU_SIZE[^\\w](0, 4)(?:3)\\s?'?(?:[0-7])?\"?\\s?(?:round|square))'''                            \n",
    "three_round_first,three_round_mid,na_three=three(care,pat)\n",
    "\n",
    "print('four')\n",
    "eight_by_ten=x[x['value'].astype(str)==\"4' Round/Square\"]\n",
    "pat='''((?<!\\d)(?<!')(?<!'\\s)(?<!\\.)(?:4)\\s?'?[^\\w]?x[^\\w]?(?:4)\\s?'?)|((?<!\\d)(?<!')(?<!'\\s)(?<!\\.)(?:4)\\s?'?\\s?(?:[0-7])?[^\\w]?(?:\\s?half\\s?)?round)|((?<!\\d)(?<!')(?<!'\\s)(?<!\\.)(?:4)\\s?'?\\s?[0-7][^\\w]?x[^\\w]?(?:4)\\s?'?\\s?[0-7])|((?<!\\d)(?<!')(?<!'\\s)(?<!\\.)(?:4)\\s?'?\\s?x\\s?(?:round|square))|(sku.?size'\\:\\s?'(?:4)'')|(SKU_SIZE[^\\w](0, 4)(?:4)\\s?'?(?:[0-7])?\"?\\s?(?:round|square))'''                            \n",
    "four_round,four_round_mid,na_four=three(care,pat)\n",
    "\n",
    "print('five')\n",
    "eight_by_ten=x[x['value'].astype(str)==\"5' Round/Square\"]\n",
    "pat='''((?<!\\d)(?<!')(?<!'\\s)(?<!\\.)(?:5)\\s?'?[^\\w]?x[^\\w]?(?:5)\\s?'?)|((?<!\\d)(?<!')(?<!'\\s)(?<!\\.)(?:5)\\s?'?\\s?(?:[0-7])?[^\\w]?(?:\\s?half\\s?)?round)|((?<!\\d)(?<!')(?<!'\\s)(?<!\\.)(?:5)\\s?'?\\s?[0-7][^\\w]?x[^\\w]?(?:5)\\s?'?\\s?[0-7])|((?<!\\d)(?<!')(?<!'\\s)(?<!\\.)(?:5)\\s?'?\\s?x\\s?(?:round|square))|(sku.?size'\\:\\s?'(?:5)'')|(SKU_SIZE[^\\w](0, 4)(?:5)\\s?'?(?:[0-7])?\"?\\s?(?:round|square))'''                            \n",
    "five_round,five_round_mid,na_five=three(care,pat)\n",
    "\n",
    "print('six')\n",
    "eight_by_ten=x[x['value'].astype(str)==\"6' Round/Square\"]\n",
    "pat='''((?<!\\d)(?<!')(?<!'\\s)(?<!\\.)(?:6)\\s?'?[^\\w]?x[^\\w]?(?:6)\\s?'?)|((?<!\\d)(?<!')(?<!'\\s)(?<!\\.)(?:6)\\s?'?\\s?(?:[0-7])?[^\\w]?(?:\\s?half\\s?)?round)|((?<!\\d)(?<!')(?<!'\\s)(?<!\\.)(?:6)\\s?'?\\s?[0-7][^\\w]?x[^\\w]?(?:6)\\s?'?\\s?[0-7])|((?<!\\d)(?<!')(?<!'\\s)(?<!\\.)(?:6)\\s?'?\\s?x\\s?(?:round|square))|(sku.?size'\\:\\s?'(?:6)'')|(SKU_SIZE[^\\w](0, 4)(?:6)\\s?'?(?:[0-7])?\"?\\s?(?:round|square))'''                            \n",
    "six_round,six_round_mid,na_six=three(care,pat)\n",
    "\n",
    "print('seven')\n",
    "eight_by_ten=x[x['value'].astype(str)==\"7' Round/Square\"]\n",
    "pat='''((?<!\\d)(?<!')(?<!'\\s)(?<!\\.)(?:7)\\s?'?[^\\w]?x[^\\w]?(?:7)\\s?'?)|((?<!\\d)(?<!')(?<!'\\s)(?<!\\.)(?:7)\\s?'?\\s?(?:[0-7])?[^\\w]?(?:\\s?half\\s?)?round)|((?<!\\d)(?<!')(?<!'\\s)(?<!\\.)(?:7)\\s?'?\\s?[0-7][^\\w]?x[^\\w]?(?:7)\\s?'?\\s?[0-7])|((?<!\\d)(?<!')(?<!'\\s)(?<!\\.)(?:7)\\s?'?\\s?x\\s?(?:round|square))|(sku.?size'\\:\\s?'(?:7)'')|(SKU_SIZE[^\\w](0, 4)(?:7)\\s?'?(?:[0-7])?\"?\\s?(?:round|square))'''                            \n",
    "seven_round,seven_round_mid,na_seven=three(care,pat)\n",
    "\n",
    "print('eight')\n",
    "eight_by_ten=x[x['value'].astype(str)==\"8' Round/Square\"]\n",
    "pat='''((?<!\\d)(?<!')(?<!'\\s)(?<!\\.)(?:8)\\s?'?[^\\w]?x[^\\w]?(?:8)\\s?'?)|((?<!\\d)(?<!')(?<!'\\s)(?<!\\.)(?:8)\\s?'?\\s?(?:[0-7])?[^\\w]?(?:\\s?half\\s?)?round)|((?<!\\d)(?<!')(?<!'\\s)(?<!\\.)(?:8)\\s?'?\\s?[0-7][^\\w]?x[^\\w]?(?:8)\\s?'?\\s?[0-7])|((?<!\\d)(?<!')(?<!'\\s)(?<!\\.)(?:8)\\s?'?\\s?x\\s?(?:round|square))|(sku.?size'\\:\\s?'(?:8)'')|(SKU_SIZE[^\\w](0, 4)(?:8)\\s?'?(?:[0-7])?\"?\\s?(?:round|square))'''                            \n",
    "eight_round,eight_round_mid,na_eight=three(care,pat)\n",
    "\n",
    "print('nine')\n",
    "eight_by_ten=x[x['value'].astype(str)==\"9' Round/Square\"]\n",
    "pat='''((?<!\\d)(?:9)\\'?[^\\w]?x[^\\w]?(?:9)\\'?)|((?:9)\\'?\\s?(?:[0-7])?[^\\w]?(?:\\s?half\\s?)?round)|((?<!\\d)9'?\\s?[0-7][^\\w]?x[^\\w]?9'?\\s?[0-7])|(9'?\\s?x\\s?(?:round|square))|(sku.?size\\'\\:\\s?\\'9'')'''                            \n",
    "nine_round,nine_round_mid,na_nine=three(care,pat)"
   ]
  },
  {
   "cell_type": "code",
   "execution_count": null,
   "metadata": {},
   "outputs": [],
   "source": []
  },
  {
   "cell_type": "code",
   "execution_count": null,
   "metadata": {},
   "outputs": [],
   "source": []
  },
  {
   "cell_type": "code",
   "execution_count": null,
   "metadata": {},
   "outputs": [],
   "source": []
  },
  {
   "cell_type": "code",
   "execution_count": null,
   "metadata": {},
   "outputs": [],
   "source": []
  },
  {
   "cell_type": "code",
   "execution_count": null,
   "metadata": {},
   "outputs": [],
   "source": []
  },
  {
   "cell_type": "code",
   "execution_count": null,
   "metadata": {},
   "outputs": [],
   "source": []
  },
  {
   "cell_type": "code",
   "execution_count": null,
   "metadata": {},
   "outputs": [],
   "source": []
  },
  {
   "cell_type": "code",
   "execution_count": null,
   "metadata": {},
   "outputs": [],
   "source": []
  },
  {
   "cell_type": "code",
   "execution_count": null,
   "metadata": {},
   "outputs": [],
   "source": []
  },
  {
   "cell_type": "code",
   "execution_count": null,
   "metadata": {},
   "outputs": [],
   "source": [
    "origin=df[df['attribute'].astype(str)=='origin']\n",
    "print(len(origin))\n",
    "origin['curated_date']=pd.to_datetime(origin['curated_date'])\n",
    "no=origin[(origin['curated_date']>='11-01-2022')&(origin['curated_date']<='11-30-2022')]\n",
    "nov=no[no['resolution'].astype(str)=='standard']\n",
    "print(len(nov))"
   ]
  },
  {
   "cell_type": "code",
   "execution_count": null,
   "metadata": {},
   "outputs": [],
   "source": [
    "origin['value'].value_counts()"
   ]
  },
  {
   "cell_type": "code",
   "execution_count": null,
   "metadata": {},
   "outputs": [],
   "source": [
    "trip=r'''(?i)(n\\/a)|()''' \n",
    "nov['values']=nov['value'].apply(lambda x: re_extract(trip,str(x)))\n",
    "mach=nov[nov['values'].astype(str)!='[]']\n",
    "print(len(mach))"
   ]
  },
  {
   "cell_type": "code",
   "execution_count": null,
   "metadata": {},
   "outputs": [],
   "source": []
  },
  {
   "cell_type": "code",
   "execution_count": null,
   "metadata": {},
   "outputs": [],
   "source": [
    "x,y=three(mach,'''(\\b(?:united.?states|united.?states.?of.?america|USA(?!.glass)(?!opoly)|AMerica|made.?in.?(?:us|u\\.s\\.))\\b)|(imported)|(made.?in.?(?:canada|turkey|china|france|india|germany|italy|the.?uk|poland|malaysia|belgium|vienna|pakistan))|(.{0,10}(?<!hand.)(?<!hand)made(?!.for)(?!.out)(?!.by)(?!.of)(?!.with)(?!.from).{0,10})|(.{0,10}\\busa(?!.glass)\\b.{0,10})''')\n"
   ]
  },
  {
   "cell_type": "code",
   "execution_count": null,
   "metadata": {},
   "outputs": [],
   "source": [
    "x"
   ]
  },
  {
   "cell_type": "code",
   "execution_count": null,
   "metadata": {},
   "outputs": [],
   "source": []
  },
  {
   "cell_type": "code",
   "execution_count": null,
   "metadata": {},
   "outputs": [],
   "source": []
  },
  {
   "cell_type": "code",
   "execution_count": null,
   "metadata": {},
   "outputs": [],
   "source": [
    "imp=nov[nov['value'].astype(str)=='Imported']\n",
    "print(len(imp))\n",
    "na=nov[nov['value'].astype(str)=='n/a']\n",
    "print(len(na))\n",
    "usa=nov[nov['value'].astype(str)=='Made in the USA']\n",
    "print(len(usa))"
   ]
  },
  {
   "cell_type": "code",
   "execution_count": null,
   "metadata": {},
   "outputs": [],
   "source": [
    "nov['value'].value_counts()"
   ]
  },
  {
   "cell_type": "code",
   "execution_count": null,
   "metadata": {},
   "outputs": [],
   "source": [
    "# trip=r'''(?i)(imported)|(made in Canada)|(euro.?sham)|(made.?in)|()''' \n",
    "trip=r'''(?i)(\\b(?:united.?states|united.?states.?of.?america|USA(?!.glass)(?!opoly)|AMerica|made.?in.?(?:us|u\\.s\\.))\\b)|(imported)|(made.?in.?(?:canada|turkey|china|france|india|germany|italy|the.?uk|poland|malaysia|belgium|vienna|pakistan))|(.{0,10}(?<!hand.)(?<!hand)made(?!.for)(?!.out)(?!.by)(?!.of)(?!.with)(?!.from).{0,10})|(.{0,10}\\busa(?!.glass)\\b.{0,10})|()''' \n",
    "usa['m_name']=usa['product_name'].apply(lambda x: re_extract(trip,str(x)))\n",
    "usa['m_desc']=usa['long_desc'].apply(lambda x: re_extract(trip,str(x)))\n",
    "usa['m_custom']=usa['custom_fields'].apply(lambda x: re_extract(trip,str(x)))\n",
    "imported=usa[(usa['m_name'].astype(str)!='[]')|(usa['m_desc'].astype(str)!='[]')|(usa['m_custom'].astype(str)!='[]')]\n",
    "print(len(imported))"
   ]
  },
  {
   "cell_type": "code",
   "execution_count": null,
   "metadata": {},
   "outputs": [],
   "source": [
    "# imported#[['external_id','m_name','m_desc','m_custom']][0:500]"
   ]
  },
  {
   "cell_type": "code",
   "execution_count": null,
   "metadata": {},
   "outputs": [],
   "source": [
    "impor=na[(na['m_name'].astype(str)=='[]')&(na['m_desc'].astype(str)=='[]')&(na['m_custom'].astype(str)=='[]')]\n",
    "print(len(impor))\n"
   ]
  },
  {
   "cell_type": "code",
   "execution_count": null,
   "metadata": {},
   "outputs": [],
   "source": [
    "impor['value'].explode().value_counts()"
   ]
  },
  {
   "cell_type": "code",
   "execution_count": null,
   "metadata": {},
   "outputs": [],
   "source": [
    "\n",
    "trip=r'''(?i)((.{0,10}(?<!hand.)(?<!hand)made(?!.for)(?!.out)(?!.by)(?!.of)(?!.with)(?!.from).{0,10})|(.{0,10}\\busa(?!.glass)\\b.{0,10}))|()''' \n",
    "impor['m_name']=impor['product_name'].apply(lambda x: re_extract(trip,str(x)))\n",
    "print('one')\n",
    "impor['m_desc']=impor['long_desc'].apply(lambda x: re_extract(trip,str(x)))\n",
    "print('two')\n",
    "impor['m_custom']=impor['custom_fields'].apply(lambda x: re_extract(trip,str(x)))\n",
    "print('three')\n",
    "im=impor[(impor['m_name'].astype(str)!='[]')|(impor['m_desc'].astype(str)!='[]')|(impor['m_custom'].astype(str)!='[]')]\n",
    "print(len(im))"
   ]
  },
  {
   "cell_type": "code",
   "execution_count": null,
   "metadata": {},
   "outputs": [],
   "source": [
    "print(len(im))\n",
    "im[['external_id','m_name','m_desc','m_custom']][0:500]"
   ]
  },
  {
   "cell_type": "code",
   "execution_count": null,
   "metadata": {},
   "outputs": [],
   "source": []
  },
  {
   "cell_type": "code",
   "execution_count": null,
   "metadata": {},
   "outputs": [],
   "source": [
    "imported['Q:origin']=''\n",
    "match_na_re_curates=imported[['external_id','Q:origin']]\n",
    "\n",
    "def get_df_name(df):\n",
    "    name =[x for x in globals() if globals()[x] is df][0]\n",
    "    return name\n",
    "def looks_good(customer, matches): \n",
    "    drive_path = f'G:/Shared drives/GroupBy Public/Customer Success/.Enrich/Platform Upload Trail/{customer}/_Ready For Upload' \n",
    "    matches.to_csv(f'{drive_path}/Bed Bath & Beyond --{get_df_name(matches)}-match_na_re_curates{today}.csv',index=False) \n",
    "looks_good('Bed Bath & Beyond',match_na_re_curates) "
   ]
  },
  {
   "cell_type": "code",
   "execution_count": null,
   "metadata": {},
   "outputs": [],
   "source": []
  },
  {
   "cell_type": "code",
   "execution_count": null,
   "metadata": {},
   "outputs": [],
   "source": []
  },
  {
   "cell_type": "code",
   "execution_count": null,
   "metadata": {},
   "outputs": [],
   "source": []
  },
  {
   "cell_type": "code",
   "execution_count": null,
   "metadata": {},
   "outputs": [],
   "source": []
  },
  {
   "cell_type": "code",
   "execution_count": null,
   "metadata": {},
   "outputs": [],
   "source": []
  },
  {
   "cell_type": "code",
   "execution_count": null,
   "metadata": {},
   "outputs": [],
   "source": []
  },
  {
   "cell_type": "code",
   "execution_count": null,
   "metadata": {},
   "outputs": [],
   "source": []
  },
  {
   "cell_type": "code",
   "execution_count": null,
   "metadata": {},
   "outputs": [],
   "source": []
  },
  {
   "cell_type": "code",
   "execution_count": null,
   "metadata": {},
   "outputs": [],
   "source": [
    "na=dfs[(dfs['attribute'].astype(str)=='nan')|(dfs['attribute'].astype(str)=='None')]\n",
    "print(len(na))"
   ]
  },
  {
   "cell_type": "code",
   "execution_count": null,
   "metadata": {},
   "outputs": [],
   "source": [
    "customer_id = '5'\n",
    "customer_name='%bedbathandbeyond%'\n",
    "dateszs='2022-08-11'\n",
    "attribut='size'\n",
    "params = {'customer_id': customer_id,\n",
    "          'customer_name':customer_name,\n",
    "         'dateszs':dateszs,\n",
    "         'attribute':attribut}\n",
    "print('start')\n",
    "dfs = query_from_file(file_name='../query/curated_all_attributes_date_one_attribute.sql', params=params)\n",
    "print('continuing')\n",
    "dfs=dfs[dfs['resolution'].astype(str)!='rules']\n",
    "print('dfs')\n",
    "dfz=dfs[dfs['custom_fields'].astype(str)!='None']\n",
    "# dfz=dfz[dfz['buckets'].astype(str)=='Conduit Fittings, Replacement Parts, & Accessories']\n",
    "print('customs')\n",
    "custom_field_df=pd.json_normalize(dfz['custom_fields'])\n",
    "df=pd.concat([dfz.drop('custom_fields', axis=1), custom_field_df], axis = 1)\n",
    "print(len(df))"
   ]
  },
  {
   "cell_type": "code",
   "execution_count": null,
   "metadata": {},
   "outputs": [],
   "source": []
  },
  {
   "cell_type": "code",
   "execution_count": null,
   "metadata": {},
   "outputs": [],
   "source": []
  },
  {
   "cell_type": "code",
   "execution_count": null,
   "metadata": {},
   "outputs": [],
   "source": []
  },
  {
   "cell_type": "code",
   "execution_count": null,
   "metadata": {},
   "outputs": [],
   "source": [
    "material=df[['attribute','buckets','value','external_id','product_name','long_desc','LONG_DESCRIPTION','gbi_exp_product_type','gbi_syn_product_type','gbi_syn_size','gbi_product_type_affinity','Fill_Material','s_f_Fill_Material','s_f_binFill_Material']]\n",
    "print(len(material))"
   ]
  },
  {
   "cell_type": "code",
   "execution_count": null,
   "metadata": {},
   "outputs": [],
   "source": [
    "trips=\"(?i)(duvet)|()\"\n",
    "material['d']=material['gbi_exp_product_type'].apply(lambda x: re_extract(trips,str(x)))\n",
    "material['u']=material['gbi_syn_product_type'].apply(lambda x: re_extract(trips,str(x)))\n",
    "material['v']=material['gbi_syn_size'].apply(lambda x: re_extract(trips,str(x)))\n",
    "material['match']=material['long_desc'].apply(lambda x: re_extract(trips,str(x)))\n",
    "material['matches']=material['LONG_DESCRIPTION'].apply(lambda x: re_extract(trips,str(x)))\n",
    "\n",
    "\n",
    "duvet=material[(material['d'].astype(str)!='[]')|(material['u'].astype(str)!='[]')|(material['v'].astype(str)!='[]')|(material['match'].astype(str)!='[]')|(material['matches'].astype(str)!='[]')]\n",
    "print(len(duvet))\n",
    "print(duvet['buckets'].explode().value_counts().reset_index()['index'].to_list())"
   ]
  },
  {
   "cell_type": "code",
   "execution_count": null,
   "metadata": {},
   "outputs": [],
   "source": [
    "del duvet['d']\n",
    "del duvet['u']\n",
    "del duvet['v']\n",
    "# del duvet['e']"
   ]
  },
  {
   "cell_type": "code",
   "execution_count": null,
   "metadata": {},
   "outputs": [],
   "source": [
    "fill=duvet[(duvet['external_id'].astype(str)!='nan')&((duvet['Fill_Material'].astype(str)!='nan')|(duvet['s_f_Fill_Material'].astype(str)!='nan')|(duvet['s_f_binFill_Material'].astype(str)!='nan'))]"
   ]
  },
  {
   "cell_type": "code",
   "execution_count": null,
   "metadata": {},
   "outputs": [],
   "source": [
    "trips=\"(?i)(.{0,10}fill.?material.{0,10})|()\"\n",
    "duvet['fill']=duvet['long_desc'].apply(lambda x: re_extract(trips,str(x)f))\n",
    "duvet['fills']=duvet['LONG_DESCRIPTION'].apply(lambda x: re_extract(trips,str(x)))\n",
    "x=duvet[(duvet['fill'].astype(str)!='[]')|(duvet['fills'].astype(str)!='[]')]"
   ]
  },
  {
   "cell_type": "code",
   "execution_count": null,
   "metadata": {},
   "outputs": [],
   "source": [
    "x"
   ]
  },
  {
   "cell_type": "code",
   "execution_count": null,
   "metadata": {},
   "outputs": [],
   "source": []
  },
  {
   "cell_type": "code",
   "execution_count": null,
   "metadata": {},
   "outputs": [],
   "source": []
  },
  {
   "cell_type": "code",
   "execution_count": null,
   "metadata": {},
   "outputs": [],
   "source": []
  },
  {
   "cell_type": "code",
   "execution_count": null,
   "metadata": {},
   "outputs": [],
   "source": []
  },
  {
   "cell_type": "code",
   "execution_count": null,
   "metadata": {},
   "outputs": [],
   "source": [
    "trips=\"(?i)(.{0,10}(?:duvet).{0,10})|()\"\n",
    "mat['match']=mat['long_desc'].apply(lambda x: re_extract(trips,str(x)))\n",
    "mat['matches']=mat['product_name'].apply(lambda x: re_extract(trips,str(x)))\n",
    "duvet=mat[(mat['match'].astype(str)!='[]')|(mat['matches'].astype(str)!='[]')]\n",
    "duvet=duvet[duvet['value'].astype(str)=='n/a']\n",
    "print(len(duvet))"
   ]
  },
  {
   "cell_type": "code",
   "execution_count": null,
   "metadata": {},
   "outputs": [],
   "source": []
  },
  {
   "cell_type": "code",
   "execution_count": null,
   "metadata": {},
   "outputs": [],
   "source": []
  },
  {
   "cell_type": "code",
   "execution_count": null,
   "metadata": {},
   "outputs": [],
   "source": [
    "# customer_id = '5'\n",
    "# customer_name='%bedbathandbeyond%'\n",
    "# dateszs='2022-08-11'\n",
    "# params = {'customer_id': customer_id,\n",
    "#           'customer_name':customer_name,\n",
    "#          'dateszs':dateszs}\n",
    "# print('start')\n",
    "# dfs = query_from_file(file_name='../query/curated_all_attributes_date.sql', params=params)\n",
    "# print('continuing')\n",
    "# dfs=dfs[dfs['resolution'].astype(str)!='rules']\n",
    "# print('dfs')\n",
    "# dfz=dfs[dfs['custom_fields'].astype(str)!='None']\n",
    "# # dfz=dfz[dfz['buckets'].astype(str)=='Conduit Fittings, Replacement Parts, & Accessories']\n",
    "# print('customs')\n",
    "# custom_field_df=pd.json_normalize(dfz['custom_fields'])\n",
    "# # dfz=dfs[dfs['custom_fields'].astype(str)!='None']\n",
    "# # # dfz=dfz[dfz['buckets'].astype(str)=='Conduit Fittings, Replacement Parts, & Accessories']\n",
    "# # custom_field_df=pd.json_normalize(dfz['custom_fields'])\n",
    "# # fields = ['Set_Size']\n",
    "# # df = pd.concat([dfz.drop('custom_fields', axis=1), custom_field_df[fields]], axis = 1)\n",
    "# # print(len(df))"
   ]
  },
  {
   "cell_type": "code",
   "execution_count": null,
   "metadata": {},
   "outputs": [],
   "source": [
    "trips=\"(?i)(.{0,10}(?:comforter|duvet|sheets).{0,10})|()\"\n",
    "df['match']=df['long_desc'].apply(lambda x: re_extract(trips,str(x)))\n",
    "df['matches']=df['product_name'].apply(lambda x: re_extract(trips,str(x)))\n",
    "duvet=df[(df['match'].astype(str)!='[]')|(df['matches'].astype(str)!='[]')]"
   ]
  },
  {
   "cell_type": "code",
   "execution_count": null,
   "metadata": {},
   "outputs": [],
   "source": [
    "print(len(duvet))\n",
    "duvet_na=duvet[duvet['value'].astype(str)=='n/a']\n",
    "print(len(duvet_na))"
   ]
  },
  {
   "cell_type": "code",
   "execution_count": null,
   "metadata": {},
   "outputs": [],
   "source": [
    "x=duvet_na[(duvet_na['Fill_Material'].astype(str)!='nan')|(duvet_na['s_f_Fill_Material'].astype(str)!='nan')|(duvet_na['s_f_binFill_Material'].astype(str)!='nan')|(duvet_na['s_f_binMaterial'].astype(str)!='nan')]\n",
    "print(len(x))\n",
    "x"
   ]
  },
  {
   "cell_type": "code",
   "execution_count": null,
   "metadata": {},
   "outputs": [],
   "source": []
  },
  {
   "cell_type": "code",
   "execution_count": null,
   "metadata": {},
   "outputs": [],
   "source": []
  },
  {
   "cell_type": "code",
   "execution_count": null,
   "metadata": {},
   "outputs": [],
   "source": []
  },
  {
   "cell_type": "code",
   "execution_count": null,
   "metadata": {},
   "outputs": [],
   "source": []
  },
  {
   "cell_type": "code",
   "execution_count": null,
   "metadata": {},
   "outputs": [],
   "source": []
  },
  {
   "cell_type": "code",
   "execution_count": null,
   "metadata": {},
   "outputs": [],
   "source": [
    "fields = ['Fill_Material','s_f_Fill_Material','s_f_binFill_Material','s_f_binMaterial']\n",
    "df = pd.concat([dfz.drop('custom_fields', axis=1), custom_field_df[fields]], axis = 1)\n",
    "print(len(df))"
   ]
  },
  {
   "cell_type": "code",
   "execution_count": null,
   "metadata": {},
   "outputs": [],
   "source": [
    "fill=df[(df['Fill_Material'].astype(str)!='nan')&(df['s_f_Fill_Material'].astype(str)=='nan')&(df['s_f_binFill_Material'].astype(str)=='nan')&(df['s_f_binMaterial'].astype(str)=='nan')]\n",
    "print(len(fill))\n",
    "\n",
    "fills=df[(df['Fill_Material'].astype(str)=='nan')&(df['s_f_Fill_Material'].astype(str)!='nan')&(df['s_f_binFill_Material'].astype(str)=='nan')&(df['s_f_binMaterial'].astype(str)=='nan')]\n",
    "print(len(fills))\n",
    "\n",
    "fillz=df[(df['Fill_Material'].astype(str)=='nan')&(df['s_f_Fill_Material'].astype(str)=='nan')&(df['s_f_binFill_Material'].astype(str)!='nan')&(df['s_f_binMaterial'].astype(str)=='nan')]\n",
    "print(len(fillz))\n",
    "\n",
    "filling=df[(df['Fill_Material'].astype(str)=='nan')&(df['s_f_Fill_Material'].astype(str)=='nan')&(df['s_f_binFill_Material'].astype(str)=='nan')&(df['s_f_binMaterial'].astype(str)!='nan')]\n",
    "print(len(filling))"
   ]
  },
  {
   "cell_type": "code",
   "execution_count": null,
   "metadata": {},
   "outputs": [],
   "source": [
    "# fillings=df[((df['Fill_Material'].astype(str)!='nan')|(df['s_f_Fill_Material'].astype(str)!='nan')|(df['s_f_binFill_Material'].astype(str)!='nan'))&(df['s_f_binMaterial'].astype(str)=='nan')&(df['external_id'].astype(str)!='nan')]\n",
    "# print(len(fillings))\n",
    "# fillings\n",
    "# filling"
   ]
  },
  {
   "cell_type": "code",
   "execution_count": null,
   "metadata": {},
   "outputs": [],
   "source": [
    "# filling['buckets'].explode().value_counts()\n",
    "# x=filling[filling['buckets'].astype(str)!='nan']\n",
    "# print(len(x))\n",
    "# x"
   ]
  },
  {
   "cell_type": "code",
   "execution_count": null,
   "metadata": {},
   "outputs": [],
   "source": []
  },
  {
   "cell_type": "code",
   "execution_count": null,
   "metadata": {},
   "outputs": [],
   "source": []
  },
  {
   "cell_type": "code",
   "execution_count": null,
   "metadata": {},
   "outputs": [],
   "source": []
  },
  {
   "cell_type": "code",
   "execution_count": null,
   "metadata": {},
   "outputs": [],
   "source": []
  },
  {
   "cell_type": "code",
   "execution_count": null,
   "metadata": {},
   "outputs": [],
   "source": []
  },
  {
   "cell_type": "code",
   "execution_count": null,
   "metadata": {},
   "outputs": [],
   "source": []
  },
  {
   "cell_type": "code",
   "execution_count": null,
   "metadata": {},
   "outputs": [],
   "source": [
    "trip=r'''(?i)(.{0,20}duvet.{0,20})|(.{0,20}fill.{0,20})|()'''                                                              \n",
    "fill['matches']=fill['long_desc'].apply(lambda x: re_extract(trip,str(x)))\n",
    "duvet=fill[fill['matches'].astype(str)!='[]']\n",
    "duvet#[duvet['s_f_binMaterial'].astype(str)=='''['Cotton Blend']''']\n",
    "print(len(duvet))"
   ]
  },
  {
   "cell_type": "code",
   "execution_count": null,
   "metadata": {},
   "outputs": [],
   "source": [
    "duvet[duvet['value'].astype(str)=='n/a']"
   ]
  },
  {
   "cell_type": "code",
   "execution_count": null,
   "metadata": {},
   "outputs": [],
   "source": []
  },
  {
   "cell_type": "code",
   "execution_count": null,
   "metadata": {},
   "outputs": [],
   "source": [
    "fill_material=df[(df['attribute'].astype(str)=='fill_material')]\n"
   ]
  },
  {
   "cell_type": "code",
   "execution_count": null,
   "metadata": {},
   "outputs": [],
   "source": [
    "fill_materials=fill_material[(fill_material['Fill_Material'].astype(str)!='nan')|(fill_material['s_f_Fill_Material'].astype(str)!='nan')|(fill_material['s_f_binFill_Material'].astype(str)!='nan')|(fill_material['s_f_binMaterial'].astype(str)!='nan')|(fill_material['Fill_Material'].astype(str)!='nan')]\n",
    "# del fill_materials ['buckets']\n",
    "# del fill_materials ['bucket_id']\n",
    "del fill_materials ['customer_name']\n",
    "del fill_materials ['curated_date']\n",
    "del fill_materials ['resolution']\n",
    "del fill_materials ['curation_tasks.curated_by']\n",
    "\n",
    "fill_materials#['value'].explode().value_counts()\n",
    "\n",
    "trip=r'''(?i)(duvet)|()'''                                                              \n",
    "fill_materials['matches']=fill_materials['product_name'].apply(lambda x: re_extract(trip,str(x)))\n",
    "duvet=fill_materials[fill_materials['matches'].astype(str)!='[]']\n",
    "duvet#[duvet['s_f_binMaterial'].astype(str)=='''['Cotton Blend']''']\n",
    "\n",
    "duvets=duvet[(duvet['s_f_binMaterial'].astype(str)!='nan')&(duvet['s_f_binMaterial'].astype(str)!=\"['Other']\")&(duvet['s_f_binMaterial'].astype(str)!=\"['Modal']\")&(duvet['s_f_binMaterial'].astype(str)!=\"['Cotton Blend']\")]\n",
    "duvets['Q:fill_material']=duvets['s_f_binMaterial']\n",
    "\n",
    "match_duvets=duvets[['external_id','Q:fill_material']]\n",
    "\n",
    "def get_df_name(df):\n",
    "    name =[x for x in globals() if globals()[x] is df][0]\n",
    "    return name\n",
    "def looks_good(customer, matches): \n",
    "    drive_path = f'G:/Shared drives/GroupBy Public/Customer Success/.Enrich/Platform Upload Trail/{customer}/_Ready For Upload' \n",
    "    matches.to_csv(f'{drive_path}/Bed Bath & Beyond --{get_df_name(matches)}-match_duvets{today}.csv',index=False) \n",
    "looks_good('Bed Bath & Beyond',match_duvets) "
   ]
  },
  {
   "cell_type": "code",
   "execution_count": null,
   "metadata": {},
   "outputs": [],
   "source": []
  }
 ],
 "metadata": {
  "kernelspec": {
   "display_name": "PythonData",
   "language": "python",
   "name": "pythondata"
  },
  "language_info": {
   "codemirror_mode": {
    "name": "ipython",
    "version": 3
   },
   "file_extension": ".py",
   "mimetype": "text/x-python",
   "name": "python",
   "nbconvert_exporter": "python",
   "pygments_lexer": "ipython3",
   "version": "3.8.5"
  }
 },
 "nbformat": 4,
 "nbformat_minor": 4
}
